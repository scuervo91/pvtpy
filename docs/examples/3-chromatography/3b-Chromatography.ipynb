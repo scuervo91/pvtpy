{
 "cells": [
  {
   "cell_type": "markdown",
   "metadata": {},
   "source": [
    "# Chromatography Object \n",
    "\n",
    "You can define a Chromatography object by providing a tabulated data indexed by pressure. "
   ]
  },
  {
   "cell_type": "code",
   "execution_count": 1,
   "metadata": {},
   "outputs": [],
   "source": [
    "from pvtpy.compositional import Chromatography, properties_df, Component\n",
    "from pvtpy.units import Pressure, Temperature\n",
    "import numpy as np\n",
    "import pandas as pd"
   ]
  },
  {
   "cell_type": "markdown",
   "metadata": {},
   "source": [
    "Pvtpy has built-in a dataframe with 64 components and its critical values. You can display the properties values with the `properties_df` object which is a simple dataframe."
   ]
  },
  {
   "cell_type": "code",
   "execution_count": 2,
   "metadata": {},
   "outputs": [
    {
     "name": "stdout",
     "output_type": "stream",
     "text": [
      "               id                    iupac_key  \\\n",
      "name                                             \n",
      "ammonia        53  QGZKDVFQNNGYKY-UHFFFAOYSA-N   \n",
      "hydrogen       54  UFHFLCQGNIYNRP-UHFFFAOYSA-N   \n",
      "oxygen         55  MYMOFIZGZYHOMD-UHFFFAOYSA-N   \n",
      "nitrogen       56  IJGRMHOSHXDMSA-UHFFFAOYSA-N   \n",
      "chlorine       57  KZBUYRJDOAKODT-UHFFFAOYSA-N   \n",
      "water          58  XLYOFNOQVPJJNP-UHFFFAOYSA-N   \n",
      "n-undecane     59  RSJKGSCJYJTIGS-UHFFFAOYSA-N   \n",
      "n-dodecane     60  SNRUBQQJIBEYMU-UHFFFAOYSA-N   \n",
      "n-tridecane    61  IIYFAKIEWZDVMP-UHFFFAOYSA-N   \n",
      "n-tetradecane  62  BGHCVCJVXZWKCC-UHFFFAOYSA-N   \n",
      "n-pentadecane  63  YCOZIPAWZNQLMR-UHFFFAOYSA-N   \n",
      "n-hexadecane   64  DCAYPVUWAIABOU-UHFFFAOYSA-N   \n",
      "n-heptadecane  65  NDJKXXJCMXVBJW-UHFFFAOYSA-N   \n",
      "n-octadecane   66  RZJRJXONCZWCBN-UHFFFAOYSA-N   \n",
      "n-nonadecane   67  LQERIDTXQFOHKA-UHFFFAOYSA-N   \n",
      "n-eicosane     68  CBFCDTFDPHXCNY-UHFFFAOYSA-N   \n",
      "n-heneicosane  69  FNAZRRHPUDJQCJ-UHFFFAOYSA-N   \n",
      "n-docosane     70  HOWGUJZVBDQJKV-UHFFFAOYSA-N   \n",
      "n-tricosane    71  FIGVVZUWCLSUEI-UHFFFAOYSA-N   \n",
      "n-tetracosane  72  POOSGDOYLQNASK-UHFFFAOYSA-N   \n",
      "\n",
      "                                                           iupac        cas  \\\n",
      "name                                                                          \n",
      "ammonia                                              1S/H3N/h1H3  7664-41-7   \n",
      "hydrogen                                               1S/H2/h1H  1333-74-0   \n",
      "oxygen                                                1S/O2/c1-2  7782-44-7   \n",
      "nitrogen                                              1S/N2/c1-2  7727-37-9   \n",
      "chlorine                                             1S/Cl2/c1-2  7782-50-5   \n",
      "water                                                1S/H2O/h1H2  7732-18-5   \n",
      "n-undecane      1S/C11H24/c1-3-5-7-9-11-10-8-6-4-2/h3-11H2;1-2H3  1120-21-4   \n",
      "n-dodecane     1S/C12H26/c1-3-5-7-9-11-12-10-8-6-4-2/h3-12H2;...   112-40-3   \n",
      "n-tridecane    1S/C13H28/c1-3-5-7-9-11-13-12-10-8-6-4-2/h3-13...   629-50-5   \n",
      "n-tetradecane  1S/C14H30/c1-3-5-7-9-11-13-14-12-10-8-6-4-2/h3...   629-59-4   \n",
      "n-pentadecane  1S/C15H32/c1-3-5-7-9-11-13-15-14-12-10-8-6-4-2...   629-62-9   \n",
      "n-hexadecane   1S/C16H34/c1-3-5-7-9-11-13-15-16-14-12-10-8-6-...   544-76-3   \n",
      "n-heptadecane  1S/C17H36/c1-3-5-7-9-11-13-15-17-16-14-12-10-8...   629-78-7   \n",
      "n-octadecane   1S/C18H38/c1-3-5-7-9-11-13-15-17-18-16-14-12-1...   593-45-3   \n",
      "n-nonadecane   1S/C19H40/c1-3-5-7-9-11-13-15-17-19-18-16-14-1...   629-92-5   \n",
      "n-eicosane     1S/C20H42/c1-3-5-7-9-11-13-15-17-19-20-18-16-1...   112-95-8   \n",
      "n-heneicosane  1S/C21H44/c1-3-5-7-9-11-13-15-17-19-21-20-18-1...   629-94-7   \n",
      "n-docosane     1S/C22H46/c1-3-5-7-9-11-13-15-17-19-21-22-20-1...   629-97-0   \n",
      "n-tricosane    1S/C23H48/c1-3-5-7-9-11-13-15-17-19-21-23-22-2...   638-67-5   \n",
      "n-tetracosane  1S/C24H50/c1-3-5-7-9-11-13-15-17-19-21-23-24-2...   646-31-1   \n",
      "\n",
      "               acentric_factor formula  molecular_weight  critical_pressure  \\\n",
      "name                                                                          \n",
      "ammonia                    NaN     NH3           17.0305             1646.0   \n",
      "hydrogen               -0.2150      H2            2.0159              188.1   \n",
      "oxygen                  0.0218      O2           31.9988              731.4   \n",
      "nitrogen                0.0403      N2           28.0134              493.1   \n",
      "chlorine                   NaN     CL2           70.9060             1157.0   \n",
      "water                   0.3449     H2O           18.0153             3198.8   \n",
      "n-undecane              0.5303  C11H24          146.3120             1949.0   \n",
      "n-dodecane              0.5764  C12H26          170.3380             1820.0   \n",
      "n-tridecane             0.6174  C13H28          184.3650             1680.0   \n",
      "n-tetradecane           0.6430  C14H30          198.3920             1570.0   \n",
      "n-pentadecane           0.6863  C15H32          212.4190             1480.0   \n",
      "n-hexadecane            0.7174  C16H34          226.4460             1400.0   \n",
      "n-heptadecane           0.7697  C17H36          240.4730             1340.0   \n",
      "n-octadecane            0.8114  C18H38          254.5000             1270.0   \n",
      "n-nonadecane            0.8522  C19H40          268.5270             1210.0   \n",
      "n-eicosane              0.9069  C20H42          282.5530             1160.0   \n",
      "n-heneicosane           0.9220  C21H44          296.5800             1147.0   \n",
      "n-docosane              0.9550  C22H46          310.6100             1101.0   \n",
      "n-tricosane             0.9890  C23H48          324.6300             1059.0   \n",
      "n-tetracosane           1.0190  C24H50          338.6800             1019.0   \n",
      "\n",
      "              critical_pressure_unit  critical_temperature  \\\n",
      "name                                                         \n",
      "ammonia                          psi                270.20   \n",
      "hydrogen                         psi               -399.90   \n",
      "oxygen                           psi               -181.43   \n",
      "nitrogen                         psi               -232.51   \n",
      "chlorine                         psi                290.75   \n",
      "water                            psi                705.16   \n",
      "n-undecane                       kpa                639.00   \n",
      "n-dodecane                       kpa                658.00   \n",
      "n-tridecane                      kpa                675.00   \n",
      "n-tetradecane                    kpa                693.00   \n",
      "n-pentadecane                    kpa                708.00   \n",
      "n-hexadecane                     kpa                723.00   \n",
      "n-heptadecane                    kpa                736.00   \n",
      "n-octadecane                     kpa                747.00   \n",
      "n-nonadecane                     kpa                758.00   \n",
      "n-eicosane                       kpa                768.00   \n",
      "n-heneicosane                    kpa                781.70   \n",
      "n-docosane                       kpa                791.80   \n",
      "n-tricosane                      kpa                801.30   \n",
      "n-tetracosane                    kpa                810.40   \n",
      "\n",
      "              critical_temperature_unit  antoine_a  antoine_b  antoine_c  \n",
      "name                                                                      \n",
      "ammonia                       farenheit   4.868860    113.928    -10.409  \n",
      "hydrogen                      farenheit   3.543140     99.395      7.726  \n",
      "oxygen                        farenheit   3.952300    340.024     -4.144  \n",
      "nitrogen                      farenheit   3.736200    264.651     -6.788  \n",
      "chlorine                      farenheit   4.288140    969.992    -12.791  \n",
      "water                         farenheit   5.402210   1838.675    -31.737  \n",
      "n-undecane                       kelvin   4.101640   1572.477    -85.128  \n",
      "n-dodecane                       kelvin   4.105490   1625.928    -92.839  \n",
      "n-tridecane                      kelvin   4.128290   1689.093    -98.866  \n",
      "n-tetradecane                    kelvin   4.137350   1739.623   -105.616  \n",
      "n-pentadecane                    kelvin   4.149350   1789.658   -111.859  \n",
      "n-hexadecane                     kelvin   4.173120   1845.672   -117.054  \n",
      "n-heptadecane                    kelvin   3.927300   1718.004   -138.126  \n",
      "n-octadecane                     kelvin   4.332090   2068.963   -111.927  \n",
      "n-nonadecane                     kelvin  30.428160  28197.488    452.785  \n",
      "n-eicosane                       kelvin        NaN        NaN        NaN  \n",
      "n-heneicosane                    kelvin   5.920730   3571.218    -19.953  \n",
      "n-docosane                       kelvin        NaN        NaN        NaN  \n",
      "n-tricosane                      kelvin   6.557006   4200.069      1.864  \n",
      "n-tetracosane                    kelvin   5.738300   3464.273    -55.121  \n"
     ]
    }
   ],
   "source": [
    "print(properties_df.tail(20))"
   ]
  },
  {
   "cell_type": "markdown",
   "metadata": {},
   "source": [
    "Having the properties table, you can build a custom Chromatography table by providing the componets id, name or symbol and the mole fraction"
   ]
  },
  {
   "cell_type": "markdown",
   "metadata": {},
   "source": [
    "Construct by its name"
   ]
  },
  {
   "cell_type": "code",
   "execution_count": 3,
   "metadata": {},
   "outputs": [],
   "source": [
    "d = {\n",
    "    'comp': ['methane','ethane','propane','isobutane'],\n",
    "    'mole_fraction':[0.90,0.07,0.02,0.06]\n",
    "}\n",
    "cc = pd.DataFrame(d)\n",
    "\n",
    "ch = Chromatography()\n",
    "ch.from_df(cc,name='comp')\n",
    "\n"
   ]
  },
  {
   "cell_type": "code",
   "execution_count": 4,
   "metadata": {},
   "outputs": [
    {
     "data": {
      "text/html": [
       "<div>\n",
       "<style scoped>\n",
       "    .dataframe tbody tr th:only-of-type {\n",
       "        vertical-align: middle;\n",
       "    }\n",
       "\n",
       "    .dataframe tbody tr th {\n",
       "        vertical-align: top;\n",
       "    }\n",
       "\n",
       "    .dataframe thead th {\n",
       "        text-align: right;\n",
       "    }\n",
       "</style>\n",
       "<table border=\"1\" class=\"dataframe\">\n",
       "  <thead>\n",
       "    <tr style=\"text-align: right;\">\n",
       "      <th></th>\n",
       "      <th>acentric_factor</th>\n",
       "      <th>cas</th>\n",
       "      <th>critical_pressure</th>\n",
       "      <th>critical_temperature</th>\n",
       "      <th>formula</th>\n",
       "      <th>id</th>\n",
       "      <th>iupac</th>\n",
       "      <th>iupac_key</th>\n",
       "      <th>mole_fraction</th>\n",
       "      <th>molecular_weight</th>\n",
       "      <th>peng_robinson</th>\n",
       "      <th>redlich_kwong</th>\n",
       "      <th>soave_redlich_kwong</th>\n",
       "      <th>van_der_walls</th>\n",
       "    </tr>\n",
       "  </thead>\n",
       "  <tbody>\n",
       "    <tr>\n",
       "      <th>methane</th>\n",
       "      <td>0.0115</td>\n",
       "      <td>74-82-8</td>\n",
       "      <td>666.4</td>\n",
       "      <td>-116.67</td>\n",
       "      <td>CH4</td>\n",
       "      <td>1.0</td>\n",
       "      <td>1S/CH4/h1H4</td>\n",
       "      <td>VNWKTOKETHGBQD-UHFFFAOYSA-N</td>\n",
       "      <td>0.857143</td>\n",
       "      <td>16.0425</td>\n",
       "      <td>{}</td>\n",
       "      <td>{}</td>\n",
       "      <td>{}</td>\n",
       "      <td>{}</td>\n",
       "    </tr>\n",
       "    <tr>\n",
       "      <th>ethane</th>\n",
       "      <td>0.0995</td>\n",
       "      <td>74-84-0</td>\n",
       "      <td>706.5</td>\n",
       "      <td>89.92</td>\n",
       "      <td>C2H6</td>\n",
       "      <td>2.0</td>\n",
       "      <td>1S/C2H6/c1-2/h1-2H3</td>\n",
       "      <td>OTMSDBZUPAUEDD-UHFFFAOYSA-N</td>\n",
       "      <td>0.066667</td>\n",
       "      <td>30.0700</td>\n",
       "      <td>{}</td>\n",
       "      <td>{}</td>\n",
       "      <td>{}</td>\n",
       "      <td>{}</td>\n",
       "    </tr>\n",
       "    <tr>\n",
       "      <th>propane</th>\n",
       "      <td>0.1523</td>\n",
       "      <td>74-98-6</td>\n",
       "      <td>616.0</td>\n",
       "      <td>206.06</td>\n",
       "      <td>C3H8</td>\n",
       "      <td>3.0</td>\n",
       "      <td>1S/C3H8/c1-3-2/h3H2;1-2H3</td>\n",
       "      <td>ATUOYWHBWRKTHZ-UHFFFAOYSA-N</td>\n",
       "      <td>0.019048</td>\n",
       "      <td>44.0970</td>\n",
       "      <td>{}</td>\n",
       "      <td>{}</td>\n",
       "      <td>{}</td>\n",
       "      <td>{}</td>\n",
       "    </tr>\n",
       "    <tr>\n",
       "      <th>isobutane</th>\n",
       "      <td>0.1770</td>\n",
       "      <td>75-28-5</td>\n",
       "      <td>527.9</td>\n",
       "      <td>274.46</td>\n",
       "      <td>C4H10</td>\n",
       "      <td>4.0</td>\n",
       "      <td>1S/C4H10/c1-4(2)3/h4H;1-3H3</td>\n",
       "      <td>NNPPMTNAJDCUHE-UHFFFAOYSA-N</td>\n",
       "      <td>0.057143</td>\n",
       "      <td>58.1230</td>\n",
       "      <td>{}</td>\n",
       "      <td>{}</td>\n",
       "      <td>{}</td>\n",
       "      <td>{}</td>\n",
       "    </tr>\n",
       "  </tbody>\n",
       "</table>\n",
       "</div>"
      ],
      "text/plain": [
       "           acentric_factor      cas  critical_pressure  critical_temperature  \\\n",
       "methane             0.0115  74-82-8              666.4               -116.67   \n",
       "ethane              0.0995  74-84-0              706.5                 89.92   \n",
       "propane             0.1523  74-98-6              616.0                206.06   \n",
       "isobutane           0.1770  75-28-5              527.9                274.46   \n",
       "\n",
       "          formula   id                        iupac  \\\n",
       "methane       CH4  1.0                  1S/CH4/h1H4   \n",
       "ethane       C2H6  2.0          1S/C2H6/c1-2/h1-2H3   \n",
       "propane      C3H8  3.0    1S/C3H8/c1-3-2/h3H2;1-2H3   \n",
       "isobutane   C4H10  4.0  1S/C4H10/c1-4(2)3/h4H;1-3H3   \n",
       "\n",
       "                             iupac_key  mole_fraction  molecular_weight  \\\n",
       "methane    VNWKTOKETHGBQD-UHFFFAOYSA-N       0.857143           16.0425   \n",
       "ethane     OTMSDBZUPAUEDD-UHFFFAOYSA-N       0.066667           30.0700   \n",
       "propane    ATUOYWHBWRKTHZ-UHFFFAOYSA-N       0.019048           44.0970   \n",
       "isobutane  NNPPMTNAJDCUHE-UHFFFAOYSA-N       0.057143           58.1230   \n",
       "\n",
       "          peng_robinson redlich_kwong soave_redlich_kwong van_der_walls  \n",
       "methane              {}            {}                  {}            {}  \n",
       "ethane               {}            {}                  {}            {}  \n",
       "propane              {}            {}                  {}            {}  \n",
       "isobutane            {}            {}                  {}            {}  "
      ]
     },
     "execution_count": 4,
     "metadata": {},
     "output_type": "execute_result"
    }
   ],
   "source": [
    "ch.df()"
   ]
  },
  {
   "cell_type": "code",
   "execution_count": 5,
   "metadata": {},
   "outputs": [
    {
     "data": {
      "text/plain": [
       "formula                                       C4H10\n",
       "iupac_key               NNPPMTNAJDCUHE-UHFFFAOYSA-N\n",
       "iupac                   1S/C4H10/c1-4(2)3/h4H;1-3H3\n",
       "cas                                         75-28-5\n",
       "molecular_weight                             58.123\n",
       "van_der_walls                                    {}\n",
       "redlich_kwong                                    {}\n",
       "soave_redlich_kwong                              {}\n",
       "peng_robinson                                    {}\n",
       "mole_fraction                                  0.06\n",
       "critical_pressure                             527.9\n",
       "critical_temperature                         274.46\n",
       "id                                              4.0\n",
       "acentric_factor                               0.177\n",
       "Name: isobutane, dtype: object"
      ]
     },
     "execution_count": 5,
     "metadata": {},
     "output_type": "execute_result"
    }
   ],
   "source": [
    "ch.components[3].df()"
   ]
  },
  {
   "cell_type": "markdown",
   "metadata": {},
   "source": [
    "By default, the mole_fraction provided is normalized to sum 1. "
   ]
  },
  {
   "cell_type": "code",
   "execution_count": 6,
   "metadata": {},
   "outputs": [
    {
     "data": {
      "text/plain": [
       "19.916638095238095"
      ]
     },
     "execution_count": 6,
     "metadata": {},
     "output_type": "execute_result"
    }
   ],
   "source": [
    "ch.apparent_molecular_weight()"
   ]
  },
  {
   "cell_type": "markdown",
   "metadata": {},
   "source": [
    "### Example 5-1 - Ahmed Tarek, Equation of State and PVT Analysis"
   ]
  },
  {
   "cell_type": "code",
   "execution_count": 7,
   "metadata": {},
   "outputs": [],
   "source": [
    "d1 = {\n",
    "    'comp': ['propane','isobutane','butane','isopentane','pentane','n-hexane'],\n",
    "    'mole_fraction':[0.2,0.1,0.1,0.2,0.2,0.2]\n",
    "}\n",
    "\n",
    "ch1 = Chromatography()\n",
    "ch1.from_df(pd.DataFrame(d1),name='comp')"
   ]
  },
  {
   "cell_type": "code",
   "execution_count": 8,
   "metadata": {},
   "outputs": [
    {
     "data": {
      "text/html": [
       "<div>\n",
       "<style scoped>\n",
       "    .dataframe tbody tr th:only-of-type {\n",
       "        vertical-align: middle;\n",
       "    }\n",
       "\n",
       "    .dataframe tbody tr th {\n",
       "        vertical-align: top;\n",
       "    }\n",
       "\n",
       "    .dataframe thead th {\n",
       "        text-align: right;\n",
       "    }\n",
       "</style>\n",
       "<table border=\"1\" class=\"dataframe\">\n",
       "  <thead>\n",
       "    <tr style=\"text-align: right;\">\n",
       "      <th></th>\n",
       "      <th>vapor_pressure</th>\n",
       "      <th>vapor_pressure_unit</th>\n",
       "    </tr>\n",
       "  </thead>\n",
       "  <tbody>\n",
       "    <tr>\n",
       "      <th>propane</th>\n",
       "      <td>188.735859</td>\n",
       "      <td>psi</td>\n",
       "    </tr>\n",
       "    <tr>\n",
       "      <th>isobutane</th>\n",
       "      <td>72.316273</td>\n",
       "      <td>psi</td>\n",
       "    </tr>\n",
       "    <tr>\n",
       "      <th>butane</th>\n",
       "      <td>51.405353</td>\n",
       "      <td>psi</td>\n",
       "    </tr>\n",
       "    <tr>\n",
       "      <th>isopentane</th>\n",
       "      <td>20.704631</td>\n",
       "      <td>psi</td>\n",
       "    </tr>\n",
       "    <tr>\n",
       "      <th>pentane</th>\n",
       "      <td>15.573256</td>\n",
       "      <td>psi</td>\n",
       "    </tr>\n",
       "    <tr>\n",
       "      <th>n-hexane</th>\n",
       "      <td>4.955708</td>\n",
       "      <td>psi</td>\n",
       "    </tr>\n",
       "  </tbody>\n",
       "</table>\n",
       "</div>"
      ],
      "text/plain": [
       "            vapor_pressure vapor_pressure_unit\n",
       "propane         188.735859                 psi\n",
       "isobutane        72.316273                 psi\n",
       "butane           51.405353                 psi\n",
       "isopentane       20.704631                 psi\n",
       "pentane          15.573256                 psi\n",
       "n-hexane          4.955708                 psi"
      ]
     },
     "execution_count": 8,
     "metadata": {},
     "output_type": "execute_result"
    }
   ],
   "source": [
    "ch1.vapor_pressure(Temperature(value=100, unit='farenheit'))"
   ]
  },
  {
   "cell_type": "code",
   "execution_count": 11,
   "metadata": {},
   "outputs": [
    {
     "data": {
      "text/html": [
       "<div>\n",
       "<style scoped>\n",
       "    .dataframe tbody tr th:only-of-type {\n",
       "        vertical-align: middle;\n",
       "    }\n",
       "\n",
       "    .dataframe tbody tr th {\n",
       "        vertical-align: top;\n",
       "    }\n",
       "\n",
       "    .dataframe thead th {\n",
       "        text-align: right;\n",
       "    }\n",
       "</style>\n",
       "<table border=\"1\" class=\"dataframe\">\n",
       "  <thead>\n",
       "    <tr style=\"text-align: right;\">\n",
       "      <th></th>\n",
       "      <th>mole_fraction</th>\n",
       "      <th>xi</th>\n",
       "      <th>yi</th>\n",
       "      <th>k</th>\n",
       "    </tr>\n",
       "  </thead>\n",
       "  <tbody>\n",
       "    <tr>\n",
       "      <th>propane</th>\n",
       "      <td>0.2</td>\n",
       "      <td>0.154158</td>\n",
       "      <td>0.581903</td>\n",
       "      <td>3.774717</td>\n",
       "    </tr>\n",
       "    <tr>\n",
       "      <th>isobutane</th>\n",
       "      <td>0.1</td>\n",
       "      <td>0.095435</td>\n",
       "      <td>0.138030</td>\n",
       "      <td>1.446325</td>\n",
       "    </tr>\n",
       "    <tr>\n",
       "      <th>butane</th>\n",
       "      <td>0.1</td>\n",
       "      <td>0.099700</td>\n",
       "      <td>0.102502</td>\n",
       "      <td>1.028107</td>\n",
       "    </tr>\n",
       "    <tr>\n",
       "      <th>isopentane</th>\n",
       "      <td>0.2</td>\n",
       "      <td>0.213400</td>\n",
       "      <td>0.088367</td>\n",
       "      <td>0.414093</td>\n",
       "    </tr>\n",
       "    <tr>\n",
       "      <th>pentane</th>\n",
       "      <td>0.2</td>\n",
       "      <td>0.215934</td>\n",
       "      <td>0.067256</td>\n",
       "      <td>0.311465</td>\n",
       "    </tr>\n",
       "    <tr>\n",
       "      <th>n-hexane</th>\n",
       "      <td>0.2</td>\n",
       "      <td>0.221373</td>\n",
       "      <td>0.021941</td>\n",
       "      <td>0.099114</td>\n",
       "    </tr>\n",
       "  </tbody>\n",
       "</table>\n",
       "</div>"
      ],
      "text/plain": [
       "            mole_fraction        xi        yi         k\n",
       "propane               0.2  0.154158  0.581903  3.774717\n",
       "isobutane             0.1  0.095435  0.138030  1.446325\n",
       "butane                0.1  0.099700  0.102502  1.028107\n",
       "isopentane            0.2  0.213400  0.088367  0.414093\n",
       "pentane               0.2  0.215934  0.067256  0.311465\n",
       "n-hexane              0.2  0.221373  0.021941  0.099114"
      ]
     },
     "execution_count": 11,
     "metadata": {},
     "output_type": "execute_result"
    }
   ],
   "source": [
    "p1 = Pressure(value=50, unit='psi')\n",
    "t1 = Temperature(value=100, unit='farenheit')\n",
    "\n",
    "flash_df,moles = ch1.flash_calculations(p1,t1, k_method='ideal')\n",
    "\n",
    "flash_df"
   ]
  },
  {
   "cell_type": "code",
   "execution_count": 12,
   "metadata": {},
   "outputs": [
    {
     "data": {
      "text/plain": [
       "xi    1.0\n",
       "yi    1.0\n",
       "dtype: float64"
      ]
     },
     "execution_count": 12,
     "metadata": {},
     "output_type": "execute_result"
    }
   ],
   "source": [
    "flash_df[['xi','yi']].sum()"
   ]
  },
  {
   "cell_type": "markdown",
   "metadata": {},
   "source": [
    "#### Equilibrium ratio correlation"
   ]
  },
  {
   "cell_type": "markdown",
   "metadata": {},
   "source": [
    "## Component Class\n",
    "\n",
    "Pvtpy provides a class for each Component storing their attritutes and applying some methods."
   ]
  },
  {
   "cell_type": "markdown",
   "metadata": {},
   "source": [
    "### Example 5-2 - Ahmed Tarek, Equation of State and PVT Analysis"
   ]
  },
  {
   "cell_type": "code",
   "execution_count": null,
   "metadata": {},
   "outputs": [],
   "source": [
    "d2 = {\n",
    "    'comp': ['carbon-dioxide','nitrogen','methane','ethane','propane','isobutane','butane','isopentane','pentane','n-hexane'],\n",
    "    'mole_fraction':[0.009,0.003,0.535,0.115,0.088,0.023,0.023,0.015,0.015,0.015]\n",
    "}\n",
    "\n",
    "c7_plus = Component(\n",
    "    name = 'C7+', \n",
    "    molecular_weight=150.0,\n",
    "    specific_gravity = 0.78,\n",
    "    critical_temperature = 1139.4,\n",
    "    critical_temperature_unit = 'rankine',\n",
    "    critical_pressure = 320.3,\n",
    "    critical_pressure_unit = 'psi',\n",
    "    mole_fraction=0.005,\n",
    "    params = {'acentric_factor':0.5067}\n",
    "    \n",
    ")\n",
    "\n",
    "ch2 = Chromatography()\n",
    "ch2.from_df(pd.DataFrame(d2),name='comp')\n",
    "ch2.plus_fraction = c7_plus\n"
   ]
  },
  {
   "cell_type": "code",
   "execution_count": null,
   "metadata": {},
   "outputs": [],
   "source": [
    "ch2.df(temperature_unit='rankine')"
   ]
  },
  {
   "cell_type": "code",
   "execution_count": null,
   "metadata": {},
   "outputs": [],
   "source": [
    "t2 = Temperature(value=150, unit='farenheit')\n",
    "p2 = Pressure(value=1000, unit='psi')"
   ]
  },
  {
   "cell_type": "code",
   "execution_count": null,
   "metadata": {},
   "outputs": [],
   "source": [
    "ch2.equilibrium_ratios(p2,t2)"
   ]
  },
  {
   "cell_type": "code",
   "execution_count": null,
   "metadata": {},
   "outputs": [],
   "source": [
    "f2 = ch2.flash_calculations(p2,t2,k_method='wilson')\n",
    "f2"
   ]
  },
  {
   "cell_type": "markdown",
   "metadata": {},
   "source": [
    "#### Convergence Pressure"
   ]
  },
  {
   "cell_type": "code",
   "execution_count": null,
   "metadata": {},
   "outputs": [],
   "source": [
    "ch2.convergence_pressure(t2.convert_to('rankine'), method='rzasa')"
   ]
  },
  {
   "cell_type": "code",
   "execution_count": null,
   "metadata": {},
   "outputs": [],
   "source": [
    "ch2.equilibrium_ratios(p2,t2,method='whitson', pk_method='rzasa')"
   ]
  },
  {
   "cell_type": "markdown",
   "metadata": {},
   "source": [
    "# Dew point example\n",
    "\n",
    "Example 5-4 - Ahmed Tarek, Equation of State and PVT Analysis"
   ]
  },
  {
   "cell_type": "code",
   "execution_count": null,
   "metadata": {},
   "outputs": [],
   "source": [
    "d3 = {\n",
    "    'comp': ['methane','ethane','propane','isobutane','butane','isopentane','pentane','n-hexane'],\n",
    "    'mole_fraction':[0.8,0.05,0.04,0.03,0.02,0.03,0.02,0.005]\n",
    "}\n",
    "\n",
    "c7_plus1 = Component(\n",
    "    name = 'C7+', \n",
    "    molecular_weight=140.0,\n",
    "    specific_gravity = 0.8,\n",
    "    mole_fraction=0.005,   \n",
    ")\n",
    "\n",
    "ch3 = Chromatography()\n",
    "ch3.from_df(pd.DataFrame(d3),name='comp')\n",
    "ch3.plus_fraction = c7_plus1\n",
    "\n",
    "ch3.df()['mole_fraction']"
   ]
  },
  {
   "cell_type": "code",
   "execution_count": null,
   "metadata": {},
   "outputs": [],
   "source": [
    "t3 = Temperature(value=250, unit='farenheit')"
   ]
  },
  {
   "cell_type": "code",
   "execution_count": null,
   "metadata": {},
   "outputs": [],
   "source": [
    "ch3.vapor_pressure(t3)"
   ]
  },
  {
   "cell_type": "code",
   "execution_count": null,
   "metadata": {},
   "outputs": [],
   "source": [
    "ch3.convergence_pressure(t3, method='rzasa')"
   ]
  },
  {
   "cell_type": "code",
   "execution_count": null,
   "metadata": {},
   "outputs": [],
   "source": [
    "ch2.dew_point(t3)"
   ]
  },
  {
   "cell_type": "markdown",
   "metadata": {},
   "source": [
    "# Bubble Point Example\n",
    "\n",
    "Example 5-4 - Ahmed Tarek, Equation of State and PVT Analysis"
   ]
  },
  {
   "cell_type": "code",
   "execution_count": null,
   "metadata": {},
   "outputs": [],
   "source": [
    "d4 = {\n",
    "    'comp': ['methane','ethane','propane','isobutane','butane','isopentane','pentane','n-hexane'],\n",
    "    'mole_fraction':[0.8,0.05,0.04,0.03,0.02,0.03,0.02,0.005]\n",
    "}\n",
    "\n",
    "c7_plus4 = Component(\n",
    "    name = 'C7+', \n",
    "    molecular_weight=216.0,\n",
    "    specific_gravity = 0.8605,\n",
    "    mole_fraction=0.005,   \n",
    "    critical_pressure=140,\n",
    "    critical_pressure_unit='psi',\n",
    "    critical_temperature=1279.8,\n",
    "    critical_temperature_unit='rankine',\n",
    "    params = {'acentric_factor':0.6353}\n",
    ")\n",
    "\n",
    "ch4 = Chromatography()\n",
    "ch4.from_df(pd.DataFrame(d4),name='comp')\n",
    "ch4.plus_fraction = c7_plus4\n",
    "\n",
    "ch4.df()['mole_fraction']"
   ]
  },
  {
   "cell_type": "code",
   "execution_count": null,
   "metadata": {},
   "outputs": [],
   "source": [
    "t4 = Temperature(value=200, unit='farenheit')"
   ]
  },
  {
   "cell_type": "code",
   "execution_count": null,
   "metadata": {},
   "outputs": [],
   "source": [
    "ch4.convergence_pressure(t4)"
   ]
  },
  {
   "cell_type": "code",
   "execution_count": null,
   "metadata": {},
   "outputs": [],
   "source": [
    "ch4.bubble_point(t4, k_method='wilson', pk_method='rzasa', method='brentq',bracket=[10,10100])"
   ]
  },
  {
   "cell_type": "code",
   "execution_count": null,
   "metadata": {},
   "outputs": [],
   "source": [
    "df4 = ch4.df()\n",
    "df4['k'] = ch4.equilibrium_ratios(\n",
    "    Pressure(value=7365.58783690, unit='psi'),\n",
    "    Temperature(value=200, unit='farenheit'),\n",
    "    method='whitson',\n",
    "    pk_method='rzasa'\n",
    ")\n",
    "df4['k']"
   ]
  },
  {
   "cell_type": "code",
   "execution_count": null,
   "metadata": {},
   "outputs": [],
   "source": [
    "np.sum(df4['mole_fraction']*df4['k'])-1"
   ]
  },
  {
   "cell_type": "code",
   "execution_count": null,
   "metadata": {},
   "outputs": [],
   "source": []
  },
  {
   "cell_type": "code",
   "execution_count": null,
   "metadata": {},
   "outputs": [],
   "source": []
  }
 ],
 "metadata": {
  "interpreter": {
   "hash": "372bbe80e8e5f52caf70b607bc2a566f3c8d0912b9dd67ebdb62a91dc247847c"
  },
  "kernelspec": {
   "display_name": "Python 3.8.12 64-bit ('pvtpy': conda)",
   "name": "python3"
  },
  "language_info": {
   "codemirror_mode": {
    "name": "ipython",
    "version": 3
   },
   "file_extension": ".py",
   "mimetype": "text/x-python",
   "name": "python",
   "nbconvert_exporter": "python",
   "pygments_lexer": "ipython3",
   "version": "3.8.12"
  },
  "orig_nbformat": 4
 },
 "nbformat": 4,
 "nbformat_minor": 2
}
