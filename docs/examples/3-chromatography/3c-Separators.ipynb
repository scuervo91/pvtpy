{
    "cells": [
        {
            "cell_type": "markdown",
            "metadata": {},
            "source": [
                "# Separator Calculations"
            ]
        },
        {
            "cell_type": "code",
            "execution_count": 30,
            "metadata": {},
            "outputs": [],
            "source": [
                "import pandas as pd\n",
                "import numpy as np\n",
                "from pvtpy.compositional import Chromatography, Component, properties_df\n",
                "from pvtpy.units import Pressure, Temperature"
            ]
        },
        {
            "cell_type": "code",
            "execution_count": 31,
            "metadata": {},
            "outputs": [
                {
                    "data": {
                        "text/plain": [
                            "Index(['methane', 'ethane', 'propane', 'isobutane', 'butane', 'isopentane',\n",
                            "       'pentane', 'neopentane', 'n-hexane', '2-methyl-pentane',\n",
                            "       '3-methyl-penthane', 'neohexane', '2-3-dimethyl-butane', 'n-heptane',\n",
                            "       '2-methyl-hexane', '3-methyl-hexane', '3-ethylpentane',\n",
                            "       '2-2-dimethyl-pentane', '2-4-dimethyl-pentane', '3-3-dimethyl-pentane',\n",
                            "       'triptane', 'n-octane', 'isooctane', 'n-nonane', 'n-decane',\n",
                            "       'cyclopentane', 'methylcyclopentane', 'cyclohexane',\n",
                            "       'methylcyclohexane', 'ethylene', 'propylene', 'cis-2-butene',\n",
                            "       'trans-2-butene', 'isobutene', '1-pentene', '1-2-butadiene',\n",
                            "       '1-3-butadiene', 'isoprene', 'benzene', 'toluene', 'ethylbenzene',\n",
                            "       'o-xylene', 'm-xylene', 'p-xylene', 'styrene', 'isopropylbenzene',\n",
                            "       'methyl-alcohol', 'ethyl-alcohol', 'carbon-monixide', 'carbon-dioxide',\n",
                            "       'hydrogen-sulfide', 'sulfur-dioxide', 'ammonia', 'hydrogen', 'oxygen',\n",
                            "       'nitrogen', 'chlorine', 'water', 'n-undecane', 'n-dodecane',\n",
                            "       'n-tridecane', 'n-tetradecane', 'n-pentadecane', 'n-hexadecane',\n",
                            "       'n-heptadecane', 'n-octadecane', 'n-nonadecane', 'n-eicosane',\n",
                            "       'n-heneicosane', 'n-docosane', 'n-tricosane', 'n-tetracosane'],\n",
                            "      dtype='object', name='name')"
                        ]
                    },
                    "execution_count": 31,
                    "metadata": {},
                    "output_type": "execute_result"
                }
            ],
            "source": [
                "properties_df.index"
            ]
        },
        {
            "cell_type": "code",
            "execution_count": 32,
            "metadata": {},
            "outputs": [
                {
                    "data": {
                        "text/plain": [
                            "carbon-dioxide    0.000800\n",
                            "nitrogen          0.016400\n",
                            "methane           0.283994\n",
                            "ethane            0.071599\n",
                            "propane           0.104798\n",
                            "isobutane         0.041999\n",
                            "butane            0.041999\n",
                            "isopentane        0.019100\n",
                            "pentane           0.019120\n",
                            "n-hexane          0.040499\n",
                            "C7+               0.359693\n",
                            "Name: mole_fraction, dtype: float64"
                        ]
                    },
                    "execution_count": 32,
                    "metadata": {},
                    "output_type": "execute_result"
                }
            ],
            "source": [
                "d1 = {\n",
                "    'comp': ['carbon-dioxide','nitrogen','methane','ethane','propane','isobutane','butane','isopentane','pentane','n-hexane'],\n",
                "    'mole_fraction':[0.0008,0.0164,0.2840,0.0716,0.1048,0.042,0.042,0.0191,0.01912,0.0405]\n",
                "}\n",
                "\n",
                "c7_plus = Component(\n",
                "    name = 'C7+', \n",
                "    molecular_weight=252,\n",
                "    specific_gravity = 0.8429,\n",
                "    mole_fraction=0.3597,   \n",
                "    critical_pressure=140,\n",
                "    critical_pressure_unit='psi',\n",
                "    critical_temperature=1279.8,\n",
                "    critical_temperature_unit='rankine',\n",
                "    params = {'acentric_factor':0.5067}\n",
                ")\n",
                "\n",
                "ch1 = Chromatography()\n",
                "ch1.from_df(pd.DataFrame(d1),name='comp')\n",
                "ch1.plus_fraction = c7_plus\n",
                "\n",
                "ch1.df()['mole_fraction']"
            ]
        },
        {
            "cell_type": "code",
            "execution_count": 33,
            "metadata": {},
            "outputs": [
                {
                    "name": "stdout",
                    "output_type": "stream",
                    "text": [
                        "Aparent Molecular weight 113.61639653206936\n"
                    ]
                }
            ],
            "source": [
                "ma = ch1.apparent_molecular_weight()\n",
                "print(f'Aparent Molecular weight {ma}')"
            ]
        },
        {
            "cell_type": "code",
            "execution_count": 34,
            "metadata": {},
            "outputs": [],
            "source": [
                "rho = 44.794"
            ]
        },
        {
            "cell_type": "markdown",
            "metadata": {},
            "source": [
                "## Stage 1"
            ]
        },
        {
            "cell_type": "code",
            "execution_count": 35,
            "metadata": {},
            "outputs": [
                {
                    "data": {
                        "text/plain": [
                            "carbon-dioxide     2.794898\n",
                            "nitrogen          30.262636\n",
                            "methane           12.523440\n",
                            "ethane             1.911981\n",
                            "propane            0.489915\n",
                            "isobutane          0.197277\n",
                            "butane             0.139279\n",
                            "isopentane         0.057828\n",
                            "pentane            0.044560\n",
                            "n-hexane           0.015517\n",
                            "C7+                0.000017\n",
                            "Name: k, dtype: float64"
                        ]
                    },
                    "execution_count": 35,
                    "metadata": {},
                    "output_type": "execute_result"
                }
            ],
            "source": [
                "p1 = Pressure(value=400, unit='psi')\n",
                "t1 = Temperature(value=72, unit='farenheit')\n",
                "\n",
                "ch1.equilibrium_ratios(p1,t1,method='whitson')"
            ]
        },
        {
            "cell_type": "code",
            "execution_count": 36,
            "metadata": {},
            "outputs": [
                {
                    "name": "stdout",
                    "output_type": "stream",
                    "text": [
                        "                mole_fraction        xi        yi          k\n",
                        "component                                                   \n",
                        "carbon-dioxide       0.000800  0.000592  0.001301   2.198146\n",
                        "nitrogen             0.016400  0.001713  0.051773  30.229625\n",
                        "methane              0.283994  0.069850  0.799758  11.449594\n",
                        "ethane               0.071599  0.063289  0.091612   1.447522\n",
                        "propane              0.104798  0.130747  0.042300   0.323526\n",
                        "isobutane            0.041999  0.056641  0.006735   0.118908\n",
                        "butane               0.041999  0.057502  0.004662   0.081068\n",
                        "isopentane           0.019100  0.026688  0.000822   0.030816\n",
                        "pentane              0.019120  0.026801  0.000620   0.023133\n",
                        "n-hexane             0.040499  0.057142  0.000414   0.007246\n",
                        "C7+                  0.359693  0.509035  0.000002   0.000004\n",
                        "xi    1.0\n",
                        "yi    1.0\n",
                        "dtype: float64\n"
                    ]
                }
            ],
            "source": [
                "fsh1, phase1 = ch1.flash_calculations(p1,t1)\n",
                "fsh1.index.name = 'component'\n",
                "print(fsh1)\n",
                "print(fsh1[['xi','yi']].sum())"
            ]
        },
        {
            "cell_type": "code",
            "execution_count": 37,
            "metadata": {},
            "outputs": [
                {
                    "data": {
                        "text/plain": [
                            "{'liquid_moles': 0.706615190417923, 'gas_moles': 0.293384809582077}"
                        ]
                    },
                    "execution_count": 37,
                    "metadata": {},
                    "output_type": "execute_result"
                }
            ],
            "source": [
                "moles_stage1 = ch1.phase_moles(p1,t1)\n",
                "moles_stage1"
            ]
        },
        {
            "cell_type": "markdown",
            "metadata": {},
            "source": [
                "## Stage 2"
            ]
        },
        {
            "cell_type": "code",
            "execution_count": 38,
            "metadata": {},
            "outputs": [],
            "source": [
                "p2 = Pressure(value=350, unit='psi')\n",
                "t2 = Temperature(value=72, unit='farenheit')"
            ]
        },
        {
            "cell_type": "code",
            "execution_count": 39,
            "metadata": {},
            "outputs": [
                {
                    "name": "stderr",
                    "output_type": "stream",
                    "text": [
                        "/Users/scuervo91/Documents/dev/pvtpy/pvtpy/compositional/chromatography.py:48: UserWarning: DataFrame columns are not unique, some columns will be omitted.\n",
                        "  self.components = parse_obj_as(List[Component], _merged.to_dict(orient='records'))\n"
                    ]
                },
                {
                    "data": {
                        "text/plain": [
                            "carbon-dioxide    0.000592\n",
                            "nitrogen          0.001713\n",
                            "methane           0.069850\n",
                            "ethane            0.063289\n",
                            "propane           0.130747\n",
                            "isobutane         0.056641\n",
                            "butane            0.057502\n",
                            "isopentane        0.026688\n",
                            "pentane           0.026801\n",
                            "n-hexane          0.057142\n",
                            "C7+               0.509035\n",
                            "Name: mole_fraction, dtype: float64"
                        ]
                    },
                    "execution_count": 39,
                    "metadata": {},
                    "output_type": "execute_result"
                }
            ],
            "source": [
                "ch2 = Chromatography()\n",
                "ch2.from_df(fsh1, mole_fraction='xi')\n",
                "\n",
                "c7_plus1 = Component(\n",
                "    name = 'C7+', \n",
                "    molecular_weight=252,\n",
                "    specific_gravity = 0.8429,\n",
                "    mole_fraction=fsh1.loc['C7+','xi'],   \n",
                "    critical_pressure=140,\n",
                "    critical_pressure_unit='psi',\n",
                "    critical_temperature=1279.8,\n",
                "    critical_temperature_unit='rankine',\n",
                "    params = {'acentric_factor':0.5067}\n",
                ")\n",
                "ch2.plus_fraction = c7_plus1\n",
                "\n",
                "\n",
                "ch2.df()['mole_fraction']"
            ]
        },
        {
            "cell_type": "code",
            "execution_count": 40,
            "metadata": {},
            "outputs": [
                {
                    "data": {
                        "text/plain": [
                            "{'liquid_moles': 0.9869509099020275, 'gas_moles': 0.013049090097972503}"
                        ]
                    },
                    "execution_count": 40,
                    "metadata": {},
                    "output_type": "execute_result"
                }
            ],
            "source": [
                "moles_stage2 = ch2.phase_moles(p2,t2)\n",
                "moles_stage2"
            ]
        },
        {
            "cell_type": "code",
            "execution_count": 41,
            "metadata": {},
            "outputs": [
                {
                    "name": "stdout",
                    "output_type": "stream",
                    "text": [
                        "                mole_fraction        xi        yi          k\n",
                        "component                                                   \n",
                        "carbon-dioxide       0.000592  0.000580  0.001458   2.512167\n",
                        "nitrogen             0.001713  0.001191  0.041154  34.548143\n",
                        "methane              0.069850  0.060335  0.789504  13.085251\n",
                        "ethane               0.063289  0.062753  0.103813   1.654311\n",
                        "propane              0.130747  0.131831  0.048744   0.369743\n",
                        "isobutane            0.056641  0.057287  0.007785   0.135895\n",
                        "butane               0.057502  0.058191  0.005391   0.092649\n",
                        "isopentane           0.026688  0.027029  0.000952   0.035219\n",
                        "pentane              0.026801  0.027145  0.000718   0.026438\n",
                        "n-hexane             0.057142  0.057892  0.000479   0.008281\n",
                        "C7+                  0.509035  0.515766  0.000002   0.000005\n",
                        "xi    1.0\n",
                        "yi    1.0\n",
                        "dtype: float64\n"
                    ]
                }
            ],
            "source": [
                "fsh2, phase2 = ch2.flash_calculations(p2,t2)\n",
                "fsh2.index.name = 'component'\n",
                "print(fsh2)\n",
                "print(fsh2[['xi','yi']].sum())"
            ]
        },
        {
            "cell_type": "markdown",
            "metadata": {},
            "source": [
                "## Stage 3"
            ]
        },
        {
            "cell_type": "code",
            "execution_count": 42,
            "metadata": {},
            "outputs": [],
            "source": [
                "p3 = Pressure(value=14.7, unit='psi')\n",
                "t3 = Temperature(value=60, unit='farenheit')"
            ]
        },
        {
            "cell_type": "code",
            "execution_count": 43,
            "metadata": {},
            "outputs": [
                {
                    "name": "stderr",
                    "output_type": "stream",
                    "text": [
                        "/Users/scuervo91/Documents/dev/pvtpy/pvtpy/compositional/chromatography.py:48: UserWarning: DataFrame columns are not unique, some columns will be omitted.\n",
                        "  self.components = parse_obj_as(List[Component], _merged.to_dict(orient='records'))\n"
                    ]
                },
                {
                    "data": {
                        "text/plain": [
                            "carbon-dioxide    0.000580\n",
                            "nitrogen          0.001191\n",
                            "methane           0.060335\n",
                            "ethane            0.062753\n",
                            "propane           0.131831\n",
                            "isobutane         0.057287\n",
                            "butane            0.058191\n",
                            "isopentane        0.027029\n",
                            "pentane           0.027145\n",
                            "n-hexane          0.057892\n",
                            "C7+               0.515766\n",
                            "Name: mole_fraction, dtype: float64"
                        ]
                    },
                    "execution_count": 43,
                    "metadata": {},
                    "output_type": "execute_result"
                }
            ],
            "source": [
                "ch3 = Chromatography()\n",
                "ch3.from_df(fsh2.reset_index(),name = fsh2.index.name, mole_fraction='xi')\n",
                "\n",
                "c7_plus3 = Component(\n",
                "    name = 'C7+', \n",
                "    molecular_weight=252,\n",
                "    specific_gravity = 0.8429,\n",
                "    mole_fraction=fsh2.loc['C7+','xi'],   \n",
                "    critical_pressure=140,\n",
                "    critical_pressure_unit='psi',\n",
                "    critical_temperature=1279.8,\n",
                "    critical_temperature_unit='rankine',\n",
                "    params = {'acentric_factor':0.5067}\n",
                ")\n",
                "ch3.plus_fraction = c7_plus3\n",
                "\n",
                "\n",
                "ch3.df()['mole_fraction']"
            ]
        },
        {
            "cell_type": "code",
            "execution_count": 44,
            "metadata": {},
            "outputs": [
                {
                    "data": {
                        "text/plain": [
                            "{'liquid_moles': 0.7146137415095994, 'gas_moles': 0.2853862584904005}"
                        ]
                    },
                    "execution_count": 44,
                    "metadata": {},
                    "output_type": "execute_result"
                }
            ],
            "source": [
                "moles_stage3 = ch3.phase_moles(p3,t3)\n",
                "moles_stage3"
            ]
        },
        {
            "cell_type": "code",
            "execution_count": 45,
            "metadata": {},
            "outputs": [
                {
                    "name": "stdout",
                    "output_type": "stream",
                    "text": [
                        "                mole_fraction        xi        yi           k\n",
                        "component                                                    \n",
                        "carbon-dioxide       0.000580  0.000038  0.001939   51.134100\n",
                        "nitrogen             0.001191  0.000005  0.004161  778.464695\n",
                        "methane              0.060335  0.000729  0.209590  287.336282\n",
                        "ethane               0.062753  0.005989  0.204892   34.210574\n",
                        "propane              0.131831  0.046825  0.344688    7.361205\n",
                        "isobutane            0.057287  0.038984  0.103116    2.645045\n",
                        "butane               0.058191  0.047590  0.084736    1.780549\n",
                        "isopentane           0.027029  0.029919  0.019790    0.661425\n",
                        "pentane              0.027145  0.031750  0.015615    0.491810\n",
                        "n-hexane             0.057892  0.076449  0.011424    0.149439\n",
                        "C7+                  0.515766  0.721721  0.000050    0.000069\n",
                        "xi    1.0\n",
                        "yi    1.0\n",
                        "dtype: float64\n"
                    ]
                }
            ],
            "source": [
                "fsh3, phase3 = ch3.flash_calculations(p3,t3)\n",
                "fsh3.index.name = 'component'\n",
                "print(fsh3)\n",
                "print(fsh3[['xi','yi']].sum())"
            ]
        },
        {
            "cell_type": "code",
            "execution_count": 46,
            "metadata": {},
            "outputs": [
                {
                    "name": "stdout",
                    "output_type": "stream",
                    "text": [
                        "liquid Moles Stock Tank 0.49836769662173136\n",
                        "Liberated Gas Moles 0.5016323033782686\n"
                    ]
                }
            ],
            "source": [
                "moles_stages = [moles_stage1,moles_stage2,moles_stage3]\n",
                "\n",
                "nl = 1\n",
                "for i in moles_stages:\n",
                "    nl *= i['liquid_moles']\n",
                "    \n",
                "nv = 1 - nl \n",
                "\n",
                "print(f'liquid Moles Stock Tank {nl}\\nLiberated Gas Moles {nv}')"
            ]
        },
        {
            "cell_type": "code",
            "execution_count": 47,
            "metadata": {},
            "outputs": [
                {
                    "name": "stderr",
                    "output_type": "stream",
                    "text": [
                        "/Users/scuervo91/Documents/dev/pvtpy/pvtpy/compositional/chromatography.py:48: UserWarning: DataFrame columns are not unique, some columns will be omitted.\n",
                        "  self.components = parse_obj_as(List[Component], _merged.to_dict(orient='records'))\n"
                    ]
                },
                {
                    "data": {
                        "text/plain": [
                            "carbon-dioxide    0.000038\n",
                            "nitrogen          0.000005\n",
                            "methane           0.000729\n",
                            "ethane            0.005989\n",
                            "propane           0.046825\n",
                            "isobutane         0.038984\n",
                            "butane            0.047590\n",
                            "isopentane        0.029919\n",
                            "pentane           0.031750\n",
                            "n-hexane          0.076449\n",
                            "C7+               0.721721\n",
                            "Name: mole_fraction, dtype: float64"
                        ]
                    },
                    "execution_count": 47,
                    "metadata": {},
                    "output_type": "execute_result"
                }
            ],
            "source": [
                "ch4 = Chromatography()\n",
                "ch4.from_df(fsh3.reset_index(),name = fsh3.index.name, mole_fraction='xi')\n",
                "\n",
                "c7_plus4 = Component(\n",
                "    name = 'C7+', \n",
                "    molecular_weight=252,\n",
                "    specific_gravity = 0.8429,\n",
                "    mole_fraction=fsh3.loc['C7+','xi'],   \n",
                "    critical_pressure=140,\n",
                "    critical_pressure_unit='psi',\n",
                "    critical_temperature=1279.8,\n",
                "    critical_temperature_unit='rankine',\n",
                "    params = {'acentric_factor':0.5067}\n",
                ")\n",
                "ch4.plus_fraction = c7_plus4\n",
                "\n",
                "\n",
                "ch4.df()['mole_fraction']"
            ]
        },
        {
            "cell_type": "code",
            "execution_count": 48,
            "metadata": {},
            "outputs": [
                {
                    "data": {
                        "text/plain": [
                            "200.23335136754622"
                        ]
                    },
                    "execution_count": 48,
                    "metadata": {},
                    "output_type": "execute_result"
                }
            ],
            "source": [
                "ch4.apparent_molecular_weight()"
            ]
        },
        {
            "cell_type": "code",
            "execution_count": 49,
            "metadata": {},
            "outputs": [],
            "source": [
                "## Separator Functions"
            ]
        },
        {
            "cell_type": "code",
            "execution_count": 50,
            "metadata": {},
            "outputs": [],
            "source": [
                "from pvtpy.compositional import Stage, SeparatorTest"
            ]
        },
        {
            "cell_type": "code",
            "execution_count": 51,
            "metadata": {},
            "outputs": [],
            "source": [
                "\n",
                "stage1 = Stage(\n",
                "    pressure=p1,\n",
                "    temperature = t1\n",
                ")\n",
                "\n",
                "stage2 = Stage(\n",
                "    pressure=p2,\n",
                "    temperature = t2\n",
                ")\n",
                "\n",
                "stage3 = Stage(\n",
                "    pressure=p3,\n",
                "    temperature = t3\n",
                ")\n",
                "\n",
                "list_stages = [stage1, stage2, stage3]\n",
                "\n",
                "sep = SeparatorTest(\n",
                "    initial_chromatography = ch1,\n",
                "    stages = list_stages\n",
                ")\n"
            ]
        },
        {
            "cell_type": "code",
            "execution_count": 52,
            "metadata": {},
            "outputs": [
                {
                    "name": "stdout",
                    "output_type": "stream",
                    "text": [
                        "Stage 0\n",
                        "Stage 1\n",
                        "Stage 2\n"
                    ]
                },
                {
                    "data": {
                        "text/plain": [
                            "True"
                        ]
                    },
                    "execution_count": 52,
                    "metadata": {},
                    "output_type": "execute_result"
                }
            ],
            "source": [
                "sep.solve()"
            ]
        },
        {
            "cell_type": "code",
            "execution_count": 53,
            "metadata": {},
            "outputs": [
                {
                    "data": {
                        "text/plain": [
                            "PhaseMoles(liquid_moles=0.7146137415095994, gas_moles=0.2853862584904005)"
                        ]
                    },
                    "execution_count": 53,
                    "metadata": {},
                    "output_type": "execute_result"
                }
            ],
            "source": [
                "sep.stages[-1].phase_moles"
            ]
        },
        {
            "cell_type": "markdown",
            "metadata": {},
            "source": [
                "Calculate apparent molecular weight of the stock-tank oil from its composition, to\n",
                "give"
            ]
        },
        {
            "cell_type": "code",
            "execution_count": 54,
            "metadata": {},
            "outputs": [
                {
                    "data": {
                        "text/plain": [
                            "200.23335136754622"
                        ]
                    },
                    "execution_count": 54,
                    "metadata": {},
                    "output_type": "execute_result"
                }
            ],
            "source": [
                "sep.stages[-1].chromatography.apparent_molecular_weight()"
            ]
        },
        {
            "cell_type": "markdown",
            "metadata": {},
            "source": [
                "Calculate the actual number of moles of the liquid phase at the stock-tank condi-\n",
                "tions\n",
                "\n",
                "Calculate the total number of moles of the liberated gas\n"
            ]
        },
        {
            "cell_type": "code",
            "execution_count": 55,
            "metadata": {},
            "outputs": [
                {
                    "data": {
                        "text/plain": [
                            "PhaseMoles(liquid_moles=0.49836769662173136, gas_moles=0.5016323033782686)"
                        ]
                    },
                    "execution_count": 55,
                    "metadata": {},
                    "output_type": "execute_result"
                }
            ],
            "source": [
                "sep.final_moles()"
            ]
        },
        {
            "cell_type": "code",
            "execution_count": 56,
            "metadata": {},
            "outputs": [
                {
                    "data": {
                        "text/plain": [
                            "200.23335136754622"
                        ]
                    },
                    "execution_count": 56,
                    "metadata": {},
                    "output_type": "execute_result"
                }
            ],
            "source": [
                "sep.final_molecular_weight()"
            ]
        },
        {
            "cell_type": "code",
            "execution_count": 57,
            "metadata": {},
            "outputs": [
                {
                    "data": {
                        "text/plain": [
                            "545.2989698764427"
                        ]
                    },
                    "execution_count": 57,
                    "metadata": {},
                    "output_type": "execute_result"
                }
            ],
            "source": [
                "rho = 50.920\n",
                "sep.gas_solubility(rho=50.920)"
            ]
        },
        {
            "cell_type": "code",
            "execution_count": 58,
            "metadata": {},
            "outputs": [
                {
                    "data": {
                        "text/plain": [
                            "1.2942651571380284"
                        ]
                    },
                    "execution_count": 58,
                    "metadata": {},
                    "output_type": "execute_result"
                }
            ],
            "source": [
                "sep.volumetric_factor(44.794,50.920)"
            ]
        }
    ],
    "metadata": {
        "interpreter": {
            "hash": "372bbe80e8e5f52caf70b607bc2a566f3c8d0912b9dd67ebdb62a91dc247847c"
        },
        "kernelspec": {
            "display_name": "Python 3.8.12 64-bit ('pvtpy': conda)",
            "name": "python3"
        },
        "language_info": {
            "codemirror_mode": {
                "name": "ipython",
                "version": 3
            },
            "file_extension": ".py",
            "mimetype": "text/x-python",
            "name": "python",
            "nbconvert_exporter": "python",
            "pygments_lexer": "ipython3",
            "version": "3.8.12"
        },
        "orig_nbformat": 4
    },
    "nbformat": 4,
    "nbformat_minor": 2
}
