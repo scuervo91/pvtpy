{
    "cells": [
        {
            "cell_type": "code",
            "execution_count": 1,
            "metadata": {},
            "outputs": [],
            "source": [
                "from pvtpy.compositional import Component, component_from_name\n",
                "from pvtpy.units import Pressure, Temperature\n",
                "import numpy as np\n",
                "import pandas as pd"
            ]
        },
        {
            "cell_type": "code",
            "execution_count": 2,
            "metadata": {},
            "outputs": [
                {
                    "data": {
                        "text/plain": [
                            "formula                                        C3H8\n",
                            "iupac_key               ATUOYWHBWRKTHZ-UHFFFAOYSA-N\n",
                            "iupac                     1S/C3H8/c1-3-2/h3H2;1-2H3\n",
                            "cas                                         74-98-6\n",
                            "molecular_weight                             44.097\n",
                            "van_der_walls                                    {}\n",
                            "redlich_kwong                                    {}\n",
                            "soave_redlich_kwong                              {}\n",
                            "peng_robinson                                    {}\n",
                            "critical_pressure                             616.0\n",
                            "critical_temperature                         206.06\n",
                            "id                                              3.0\n",
                            "acentric_factor                              0.1523\n",
                            "Name: propane, dtype: object"
                        ]
                    },
                    "execution_count": 2,
                    "metadata": {},
                    "output_type": "execute_result"
                }
            ],
            "source": [
                "prop = component_from_name('propane')\n",
                "prop.df()"
            ]
        },
        {
            "cell_type": "code",
            "execution_count": 3,
            "metadata": {},
            "outputs": [
                {
                    "data": {
                        "text/plain": [
                            "CriticalProperties(critical_pressure=Pressure(value=616.0, unit=<PressureUnits.psi: 'psi'>), critical_temperature=Temperature(value=206.06, unit=<TemperatureUnits.farenheit: 'farenheit'>))"
                        ]
                    },
                    "execution_count": 3,
                    "metadata": {},
                    "output_type": "execute_result"
                }
            ],
            "source": [
                "cp = prop.critical_properties()\n",
                "cp"
            ]
        },
        {
            "cell_type": "code",
            "execution_count": 4,
            "metadata": {},
            "outputs": [
                {
                    "data": {
                        "text/plain": [
                            "(35409.56807185824, 1.0046981013896104)"
                        ]
                    },
                    "execution_count": 4,
                    "metadata": {},
                    "output_type": "execute_result"
                }
            ],
            "source": [
                "coef = prop.soave_redlich_kwong.coef_ab(cp)\n",
                "coef"
            ]
        },
        {
            "cell_type": "code",
            "execution_count": 5,
            "metadata": {},
            "outputs": [],
            "source": [
                "p1 = Pressure(value = 185, unit='psi')\n",
                "t1 = Temperature(value = 100, unit='farenheit')"
            ]
        },
        {
            "cell_type": "code",
            "execution_count": 6,
            "metadata": {},
            "outputs": [
                {
                    "data": {
                        "text/plain": [
                            "1.1224917092791513"
                        ]
                    },
                    "execution_count": 6,
                    "metadata": {},
                    "output_type": "execute_result"
                }
            ],
            "source": [
                "omega = prop.params['acentric_factor']\n",
                "\n",
                "prop.soave_redlich_kwong.coef_alpha(t1,cp, omega)"
            ]
        },
        {
            "cell_type": "code",
            "execution_count": 7,
            "metadata": {},
            "outputs": [
                {
                    "name": "stdout",
                    "output_type": "stream",
                    "text": [
                        "0.2038975463516234 0.0309510623375231\n"
                    ]
                }
            ],
            "source": [
                "A,B = prop.soave_redlich_kwong.coef_AB(p1,t1)\n",
                "print(A,B)"
            ]
        },
        {
            "cell_type": "code",
            "execution_count": 8,
            "metadata": {},
            "outputs": [
                {
                    "data": {
                        "text/latex": [
                            "$x \\mapsto \\text{-0.006310845667597102} + \\text{0.17198851575427906}\\,x - \\text{1.0}\\,x^{2} + \\text{1.0}\\,x^{3}$"
                        ],
                        "text/plain": [
                            "Polynomial([-0.00631085,  0.17198852, -1.        ,  1.        ], domain=[-1,  1], window=[-1,  1])"
                        ]
                    },
                    "execution_count": 8,
                    "metadata": {},
                    "output_type": "execute_result"
                }
            ],
            "source": [
                "poly = prop.soave_redlich_kwong.cubic_poly(p1,t1)\n",
                "poly"
            ]
        },
        {
            "cell_type": "code",
            "execution_count": 9,
            "metadata": {},
            "outputs": [
                {
                    "data": {
                        "text/plain": [
                            "array([0.05110012, 0.15569748, 0.7932024 ])"
                        ]
                    },
                    "execution_count": 9,
                    "metadata": {},
                    "output_type": "execute_result"
                }
            ],
            "source": [
                "poly.roots()"
            ]
        },
        {
            "cell_type": "code",
            "execution_count": 10,
            "metadata": {},
            "outputs": [
                {
                    "data": {
                        "text/plain": [
                            "{'rho_gas': 1.712635751626581, 'rho_liquid': 26.584412239429383}"
                        ]
                    },
                    "execution_count": 10,
                    "metadata": {},
                    "output_type": "execute_result"
                }
            ],
            "source": [
                "ma = prop.molecular_weight\n",
                "rho = prop.soave_redlich_kwong.estimate_densities(p1,t1, molecular_weight=ma)\n",
                "rho"
            ]
        },
        {
            "cell_type": "code",
            "execution_count": null,
            "metadata": {},
            "outputs": [],
            "source": []
        }
    ],
    "metadata": {
        "interpreter": {
            "hash": "372bbe80e8e5f52caf70b607bc2a566f3c8d0912b9dd67ebdb62a91dc247847c"
        },
        "kernelspec": {
            "display_name": "Python 3.8.12 64-bit ('pvtpy': conda)",
            "name": "python3"
        },
        "language_info": {
            "codemirror_mode": {
                "name": "ipython",
                "version": 3
            },
            "file_extension": ".py",
            "mimetype": "text/x-python",
            "name": "python",
            "nbconvert_exporter": "python",
            "pygments_lexer": "ipython3",
            "version": "3.8.12"
        },
        "orig_nbformat": 4
    },
    "nbformat": 4,
    "nbformat_minor": 2
}
