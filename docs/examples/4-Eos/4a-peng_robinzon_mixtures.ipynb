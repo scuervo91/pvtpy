{
    "cells": [
        {
            "cell_type": "code",
            "execution_count": 1,
            "metadata": {},
            "outputs": [],
            "source": [
                "## Redlich_Kwong Equation - for Mixtures\n",
                "import pandas as pd\n",
                "import numpy as np\n",
                "from pvtpy.compositional import Chromatography, Component, properties_df\n",
                "from pvtpy.units import Pressure, Temperature"
            ]
        },
        {
            "cell_type": "markdown",
            "metadata": {},
            "source": [
                "## Liquid Hydrocarbon Mixture"
            ]
        },
        {
            "cell_type": "code",
            "execution_count": 2,
            "metadata": {},
            "outputs": [
                {
                    "data": {
                        "text/html": [
                            "<div>\n",
                            "<style scoped>\n",
                            "    .dataframe tbody tr th:only-of-type {\n",
                            "        vertical-align: middle;\n",
                            "    }\n",
                            "\n",
                            "    .dataframe tbody tr th {\n",
                            "        vertical-align: top;\n",
                            "    }\n",
                            "\n",
                            "    .dataframe thead th {\n",
                            "        text-align: right;\n",
                            "    }\n",
                            "</style>\n",
                            "<table border=\"1\" class=\"dataframe\">\n",
                            "  <thead>\n",
                            "    <tr style=\"text-align: right;\">\n",
                            "      <th></th>\n",
                            "      <th>mole_fraction</th>\n",
                            "      <th>acentric_factor</th>\n",
                            "    </tr>\n",
                            "  </thead>\n",
                            "  <tbody>\n",
                            "    <tr>\n",
                            "      <th>methane</th>\n",
                            "      <td>0.45</td>\n",
                            "      <td>0.0115</td>\n",
                            "    </tr>\n",
                            "    <tr>\n",
                            "      <th>ethane</th>\n",
                            "      <td>0.05</td>\n",
                            "      <td>0.0995</td>\n",
                            "    </tr>\n",
                            "    <tr>\n",
                            "      <th>propane</th>\n",
                            "      <td>0.05</td>\n",
                            "      <td>0.1523</td>\n",
                            "    </tr>\n",
                            "    <tr>\n",
                            "      <th>butane</th>\n",
                            "      <td>0.03</td>\n",
                            "      <td>0.2002</td>\n",
                            "    </tr>\n",
                            "    <tr>\n",
                            "      <th>pentane</th>\n",
                            "      <td>0.01</td>\n",
                            "      <td>0.2515</td>\n",
                            "    </tr>\n",
                            "    <tr>\n",
                            "      <th>n-hexane</th>\n",
                            "      <td>0.01</td>\n",
                            "      <td>0.3013</td>\n",
                            "    </tr>\n",
                            "    <tr>\n",
                            "      <th>C7+</th>\n",
                            "      <td>0.40</td>\n",
                            "      <td>0.5200</td>\n",
                            "    </tr>\n",
                            "  </tbody>\n",
                            "</table>\n",
                            "</div>"
                        ],
                        "text/plain": [
                            "          mole_fraction  acentric_factor\n",
                            "methane            0.45           0.0115\n",
                            "ethane             0.05           0.0995\n",
                            "propane            0.05           0.1523\n",
                            "butane             0.03           0.2002\n",
                            "pentane            0.01           0.2515\n",
                            "n-hexane           0.01           0.3013\n",
                            "C7+                0.40           0.5200"
                        ]
                    },
                    "execution_count": 2,
                    "metadata": {},
                    "output_type": "execute_result"
                }
            ],
            "source": [
                "d1 = {\n",
                "    'comp': ['methane','ethane','propane','butane','pentane','n-hexane'],\n",
                "    'mole_fraction':[0.45,0.05,0.05,0.03,0.01,0.01]\n",
                "}\n",
                "\n",
                "c7_plus = Component(\n",
                "    name = 'C7+', \n",
                "    molecular_weight=215,\n",
                "    mole_fraction=0.4,   \n",
                "    critical_pressure=285,\n",
                "    critical_pressure_unit='psi',\n",
                "    critical_temperature=700,\n",
                "    critical_temperature_unit='farenheit',\n",
                "    params={'acentric_factor':0.52}\n",
                ")\n",
                "\n",
                "ch1 = Chromatography()\n",
                "ch1.from_df(pd.DataFrame(d1),name='comp')\n",
                "ch1.plus_fraction = c7_plus\n",
                "\n",
                "ch1.df(columns=['mole_fraction','acentric_factor'])"
            ]
        },
        {
            "cell_type": "code",
            "execution_count": 3,
            "metadata": {},
            "outputs": [],
            "source": [
                "p1 = Pressure(value = 4000, unit='psi')\n",
                "t1 = Temperature(value = 160, unit='farenheit')"
            ]
        },
        {
            "cell_type": "code",
            "execution_count": 4,
            "metadata": {},
            "outputs": [
                {
                    "data": {
                        "text/html": [
                            "<div>\n",
                            "<style scoped>\n",
                            "    .dataframe tbody tr th:only-of-type {\n",
                            "        vertical-align: middle;\n",
                            "    }\n",
                            "\n",
                            "    .dataframe tbody tr th {\n",
                            "        vertical-align: top;\n",
                            "    }\n",
                            "\n",
                            "    .dataframe thead th {\n",
                            "        text-align: right;\n",
                            "    }\n",
                            "</style>\n",
                            "<table border=\"1\" class=\"dataframe\">\n",
                            "  <thead>\n",
                            "    <tr style=\"text-align: right;\">\n",
                            "      <th></th>\n",
                            "      <th>mole_fraction</th>\n",
                            "      <th>pr_a</th>\n",
                            "      <th>pr_b</th>\n",
                            "      <th>pr_alpha</th>\n",
                            "      <th>acentric_factor</th>\n",
                            "    </tr>\n",
                            "  </thead>\n",
                            "  <tbody>\n",
                            "    <tr>\n",
                            "      <th>methane</th>\n",
                            "      <td>0.45</td>\n",
                            "      <td>9293.876812</td>\n",
                            "      <td>0.429673</td>\n",
                            "      <td>0.745265</td>\n",
                            "      <td>0.0115</td>\n",
                            "    </tr>\n",
                            "    <tr>\n",
                            "      <th>ethane</th>\n",
                            "      <td>0.05</td>\n",
                            "      <td>22506.560888</td>\n",
                            "      <td>0.649391</td>\n",
                            "      <td>0.935474</td>\n",
                            "      <td>0.0995</td>\n",
                            "    </tr>\n",
                            "    <tr>\n",
                            "      <th>propane</th>\n",
                            "      <td>0.05</td>\n",
                            "      <td>37875.572333</td>\n",
                            "      <td>0.902187</td>\n",
                            "      <td>1.043294</td>\n",
                            "      <td>0.1523</td>\n",
                            "    </tr>\n",
                            "    <tr>\n",
                            "      <th>butane</th>\n",
                            "      <td>0.03</td>\n",
                            "      <td>55996.325566</td>\n",
                            "      <td>1.160297</td>\n",
                            "      <td>1.140322</td>\n",
                            "      <td>0.2002</td>\n",
                            "    </tr>\n",
                            "    <tr>\n",
                            "      <th>pentane</th>\n",
                            "      <td>0.01</td>\n",
                            "      <td>77017.000650</td>\n",
                            "      <td>1.444522</td>\n",
                            "      <td>1.227601</td>\n",
                            "      <td>0.2515</td>\n",
                            "    </tr>\n",
                            "    <tr>\n",
                            "      <th>n-hexane</th>\n",
                            "      <td>0.01</td>\n",
                            "      <td>100498.596981</td>\n",
                            "      <td>1.745004</td>\n",
                            "      <td>1.309894</td>\n",
                            "      <td>0.3013</td>\n",
                            "    </tr>\n",
                            "    <tr>\n",
                            "      <th>C7+</th>\n",
                            "      <td>0.40</td>\n",
                            "      <td>248409.182000</td>\n",
                            "      <td>3.396791</td>\n",
                            "      <td>1.429517</td>\n",
                            "      <td>0.5200</td>\n",
                            "    </tr>\n",
                            "  </tbody>\n",
                            "</table>\n",
                            "</div>"
                        ],
                        "text/plain": [
                            "          mole_fraction           pr_a      pr_b  pr_alpha  acentric_factor\n",
                            "methane            0.45    9293.876812  0.429673  0.745265           0.0115\n",
                            "ethane             0.05   22506.560888  0.649391  0.935474           0.0995\n",
                            "propane            0.05   37875.572333  0.902187  1.043294           0.1523\n",
                            "butane             0.03   55996.325566  1.160297  1.140322           0.2002\n",
                            "pentane            0.01   77017.000650  1.444522  1.227601           0.2515\n",
                            "n-hexane           0.01  100498.596981  1.745004  1.309894           0.3013\n",
                            "C7+                0.40  248409.182000  3.396791  1.429517           0.5200"
                        ]
                    },
                    "execution_count": 4,
                    "metadata": {},
                    "output_type": "execute_result"
                }
            ],
            "source": [
                "ch1.peng_robinson_components_coef(t1)\n",
                "\n",
                "\n",
                "ch1.df(columns=['mole_fraction','pr_a','pr_b','pr_alpha', 'acentric_factor'])"
            ]
        },
        {
            "cell_type": "markdown",
            "metadata": {},
            "source": []
        },
        {
            "cell_type": "code",
            "execution_count": 5,
            "metadata": {},
            "outputs": [
                {
                    "data": {
                        "text/plain": [
                            "(94428.51808291777, 1.6963526572507028)"
                        ]
                    },
                    "execution_count": 5,
                    "metadata": {},
                    "output_type": "execute_result"
                }
            ],
            "source": [
                "ch1.peng_robinson_mix_coef()\n"
            ]
        },
        {
            "cell_type": "code",
            "execution_count": 6,
            "metadata": {},
            "outputs": [
                {
                    "data": {
                        "text/plain": [
                            "100.264435"
                        ]
                    },
                    "execution_count": 6,
                    "metadata": {},
                    "output_type": "execute_result"
                }
            ],
            "source": [
                "ma = ch1.apparent_molecular_weight()\n",
                "ma"
            ]
        },
        {
            "cell_type": "code",
            "execution_count": 7,
            "metadata": {},
            "outputs": [],
            "source": [
                "ch1.peng_robinson.alpha"
            ]
        },
        {
            "cell_type": "code",
            "execution_count": 8,
            "metadata": {},
            "outputs": [
                {
                    "name": "stdout",
                    "output_type": "stream",
                    "text": [
                        "8.543636827022327 1.0205068908175008\n"
                    ]
                }
            ],
            "source": [
                "A,B = ch1.peng_robinson.coef_AB(p1,t1)\n",
                "\n",
                "print(A,B)"
            ]
        },
        {
            "cell_type": "code",
            "execution_count": null,
            "metadata": {},
            "outputs": [],
            "source": []
        },
        {
            "cell_type": "code",
            "execution_count": 9,
            "metadata": {},
            "outputs": [
                {
                    "name": "stdout",
                    "output_type": "stream",
                    "text": [
                        "<class 'numpy.polynomial.polynomial.Polynomial'>\n",
                        "-6.614615046431426 + 3.378320102769318·x¹ + 0.02050689081750079·x² +\n",
                        "1.0·x³\n"
                    ]
                }
            ],
            "source": [
                "poly = ch1.peng_robinson.cubic_poly(p1,t1)\n",
                "print(type(poly))\n",
                "print(poly)"
            ]
        },
        {
            "cell_type": "code",
            "execution_count": 10,
            "metadata": {},
            "outputs": [
                {
                    "name": "stdout",
                    "output_type": "stream",
                    "text": [
                        "[-0.65973225-2.15800879j -0.65973225+2.15800879j  1.29895761+0.j        ]\n"
                    ]
                },
                {
                    "data": {
                        "text/plain": [
                            "array([1.29895761])"
                        ]
                    },
                    "execution_count": 10,
                    "metadata": {},
                    "output_type": "execute_result"
                }
            ],
            "source": [
                "roots = poly.roots()\n",
                "print(roots)\n",
                "roots[np.isreal(roots)].real"
            ]
        },
        {
            "cell_type": "code",
            "execution_count": 11,
            "metadata": {},
            "outputs": [
                {
                    "data": {
                        "text/plain": [
                            "{'rho': array([46.43567139])}"
                        ]
                    },
                    "execution_count": 11,
                    "metadata": {},
                    "output_type": "execute_result"
                }
            ],
            "source": [
                "ch1.peng_robinson.estimate_densities(p1,t1, ma)"
            ]
        },
        {
            "cell_type": "markdown",
            "metadata": {},
            "source": [
                "## Gas Hydrocarbon Mixture"
            ]
        },
        {
            "cell_type": "code",
            "execution_count": 12,
            "metadata": {},
            "outputs": [
                {
                    "data": {
                        "text/html": [
                            "<div>\n",
                            "<style scoped>\n",
                            "    .dataframe tbody tr th:only-of-type {\n",
                            "        vertical-align: middle;\n",
                            "    }\n",
                            "\n",
                            "    .dataframe tbody tr th {\n",
                            "        vertical-align: top;\n",
                            "    }\n",
                            "\n",
                            "    .dataframe thead th {\n",
                            "        text-align: right;\n",
                            "    }\n",
                            "</style>\n",
                            "<table border=\"1\" class=\"dataframe\">\n",
                            "  <thead>\n",
                            "    <tr style=\"text-align: right;\">\n",
                            "      <th></th>\n",
                            "      <th>mole_fraction</th>\n",
                            "    </tr>\n",
                            "  </thead>\n",
                            "  <tbody>\n",
                            "    <tr>\n",
                            "      <th>methane</th>\n",
                            "      <td>0.863887</td>\n",
                            "    </tr>\n",
                            "    <tr>\n",
                            "      <th>ethane</th>\n",
                            "      <td>0.050226</td>\n",
                            "    </tr>\n",
                            "    <tr>\n",
                            "      <th>propane</th>\n",
                            "      <td>0.050226</td>\n",
                            "    </tr>\n",
                            "    <tr>\n",
                            "      <th>butane</th>\n",
                            "      <td>0.020090</td>\n",
                            "    </tr>\n",
                            "    <tr>\n",
                            "      <th>pentane</th>\n",
                            "      <td>0.010045</td>\n",
                            "    </tr>\n",
                            "    <tr>\n",
                            "      <th>n-hexane</th>\n",
                            "      <td>0.005023</td>\n",
                            "    </tr>\n",
                            "    <tr>\n",
                            "      <th>C7+</th>\n",
                            "      <td>0.000502</td>\n",
                            "    </tr>\n",
                            "  </tbody>\n",
                            "</table>\n",
                            "</div>"
                        ],
                        "text/plain": [
                            "          mole_fraction\n",
                            "methane        0.863887\n",
                            "ethane         0.050226\n",
                            "propane        0.050226\n",
                            "butane         0.020090\n",
                            "pentane        0.010045\n",
                            "n-hexane       0.005023\n",
                            "C7+            0.000502"
                        ]
                    },
                    "execution_count": 12,
                    "metadata": {},
                    "output_type": "execute_result"
                }
            ],
            "source": [
                "d2 = {\n",
                "    'comp': ['methane','ethane','propane','butane','pentane','n-hexane'],\n",
                "    'mole_fraction':[0.86,0.05,0.05,0.02,0.01,0.005]\n",
                "}\n",
                "\n",
                "c7_plus2 = Component(\n",
                "    name = 'C7+', \n",
                "    molecular_weight=215,\n",
                "    mole_fraction=0.0005,   \n",
                "    critical_pressure=285,\n",
                "    critical_pressure_unit='psi',\n",
                "    critical_temperature=700,\n",
                "    critical_temperature_unit='farenheit',\n",
                "    params={'acentric_factor':0.52}\n",
                ")\n",
                "\n",
                "ch2 = Chromatography()\n",
                "ch2.from_df(pd.DataFrame(d2),name='comp')\n",
                "ch2.plus_fraction = c7_plus2\n",
                "\n",
                "ch2.df(columns=['mole_fraction'], normalize=True)"
            ]
        },
        {
            "cell_type": "code",
            "execution_count": 13,
            "metadata": {},
            "outputs": [
                {
                    "data": {
                        "text/html": [
                            "<div>\n",
                            "<style scoped>\n",
                            "    .dataframe tbody tr th:only-of-type {\n",
                            "        vertical-align: middle;\n",
                            "    }\n",
                            "\n",
                            "    .dataframe tbody tr th {\n",
                            "        vertical-align: top;\n",
                            "    }\n",
                            "\n",
                            "    .dataframe thead th {\n",
                            "        text-align: right;\n",
                            "    }\n",
                            "</style>\n",
                            "<table border=\"1\" class=\"dataframe\">\n",
                            "  <thead>\n",
                            "    <tr style=\"text-align: right;\">\n",
                            "      <th></th>\n",
                            "      <th>mole_fraction</th>\n",
                            "      <th>pr_a</th>\n",
                            "      <th>pr_b</th>\n",
                            "    </tr>\n",
                            "  </thead>\n",
                            "  <tbody>\n",
                            "    <tr>\n",
                            "      <th>methane</th>\n",
                            "      <td>0.863887</td>\n",
                            "      <td>9293.876812</td>\n",
                            "      <td>0.429673</td>\n",
                            "    </tr>\n",
                            "    <tr>\n",
                            "      <th>ethane</th>\n",
                            "      <td>0.050226</td>\n",
                            "      <td>22506.560888</td>\n",
                            "      <td>0.649391</td>\n",
                            "    </tr>\n",
                            "    <tr>\n",
                            "      <th>propane</th>\n",
                            "      <td>0.050226</td>\n",
                            "      <td>37875.572333</td>\n",
                            "      <td>0.902187</td>\n",
                            "    </tr>\n",
                            "    <tr>\n",
                            "      <th>butane</th>\n",
                            "      <td>0.020090</td>\n",
                            "      <td>55996.325566</td>\n",
                            "      <td>1.160297</td>\n",
                            "    </tr>\n",
                            "    <tr>\n",
                            "      <th>pentane</th>\n",
                            "      <td>0.010045</td>\n",
                            "      <td>77017.000650</td>\n",
                            "      <td>1.444522</td>\n",
                            "    </tr>\n",
                            "    <tr>\n",
                            "      <th>n-hexane</th>\n",
                            "      <td>0.005023</td>\n",
                            "      <td>100498.596981</td>\n",
                            "      <td>1.745004</td>\n",
                            "    </tr>\n",
                            "    <tr>\n",
                            "      <th>C7+</th>\n",
                            "      <td>0.000502</td>\n",
                            "      <td>248409.182000</td>\n",
                            "      <td>3.396791</td>\n",
                            "    </tr>\n",
                            "  </tbody>\n",
                            "</table>\n",
                            "</div>"
                        ],
                        "text/plain": [
                            "          mole_fraction           pr_a      pr_b\n",
                            "methane        0.863887    9293.876812  0.429673\n",
                            "ethane         0.050226   22506.560888  0.649391\n",
                            "propane        0.050226   37875.572333  0.902187\n",
                            "butane         0.020090   55996.325566  1.160297\n",
                            "pentane        0.010045   77017.000650  1.444522\n",
                            "n-hexane       0.005023  100498.596981  1.745004\n",
                            "C7+            0.000502  248409.182000  3.396791"
                        ]
                    },
                    "execution_count": 13,
                    "metadata": {},
                    "output_type": "execute_result"
                }
            ],
            "source": [
                "ch2.peng_robinson_components_coef(t1)\n",
                "\n",
                "ch2.df(columns=['mole_fraction','pr_a','pr_b'])"
            ]
        },
        {
            "cell_type": "code",
            "execution_count": 14,
            "metadata": {},
            "outputs": [
                {
                    "data": {
                        "text/plain": [
                            "20.027368156705165"
                        ]
                    },
                    "execution_count": 14,
                    "metadata": {},
                    "output_type": "execute_result"
                }
            ],
            "source": [
                "ma2 = ch2.apparent_molecular_weight()\n",
                "ma2"
            ]
        },
        {
            "cell_type": "code",
            "execution_count": 15,
            "metadata": {},
            "outputs": [
                {
                    "data": {
                        "text/plain": [
                            "(9891.519125456765, 0.49741092601503156)"
                        ]
                    },
                    "execution_count": 15,
                    "metadata": {},
                    "output_type": "execute_result"
                }
            ],
            "source": [
                "ch2.peng_robinson_mix_coef()"
            ]
        },
        {
            "cell_type": "code",
            "execution_count": 16,
            "metadata": {},
            "outputs": [
                {
                    "name": "stdout",
                    "output_type": "stream",
                    "text": [
                        "0.8949578876292457 0.29923688060768266\n"
                    ]
                }
            ],
            "source": [
                "A,B = ch2.peng_robinson.coef_AB(p1,t1)\n",
                "\n",
                "print(A,B)"
            ]
        },
        {
            "cell_type": "code",
            "execution_count": 17,
            "metadata": {},
            "outputs": [
                {
                    "name": "stdout",
                    "output_type": "stream",
                    "text": [
                        "<class 'numpy.polynomial.polynomial.Polynomial'>\n",
                        "-0.15146721441784286 + 0.027855994266430817·x¹ - 0.7007631193923174·x² +\n",
                        "1.0·x³\n"
                    ]
                }
            ],
            "source": [
                "poly = ch2.peng_robinson.cubic_poly(p1,t1)\n",
                "print(type(poly))\n",
                "print(poly)"
            ]
        },
        {
            "cell_type": "code",
            "execution_count": 18,
            "metadata": {},
            "outputs": [
                {
                    "data": {
                        "text/plain": [
                            "array([-0.0842181 -0.40886175j, -0.0842181 +0.40886175j,\n",
                            "        0.86919932+0.j        ])"
                        ]
                    },
                    "execution_count": 18,
                    "metadata": {},
                    "output_type": "execute_result"
                }
            ],
            "source": [
                "poly.roots()"
            ]
        },
        {
            "cell_type": "code",
            "execution_count": 19,
            "metadata": {},
            "outputs": [
                {
                    "data": {
                        "text/plain": [
                            "{'rho': array([13.86131085])}"
                        ]
                    },
                    "execution_count": 19,
                    "metadata": {},
                    "output_type": "execute_result"
                }
            ],
            "source": [
                "p2 = Pressure(value = 4000, unit='psi')\n",
                "t2 = Temperature(value = 160, unit='farenheit')\n",
                "ch2.peng_robinson.estimate_densities(p2,t2, ma2)"
            ]
        },
        {
            "cell_type": "code",
            "execution_count": null,
            "metadata": {},
            "outputs": [],
            "source": []
        }
    ],
    "metadata": {
        "interpreter": {
            "hash": "372bbe80e8e5f52caf70b607bc2a566f3c8d0912b9dd67ebdb62a91dc247847c"
        },
        "kernelspec": {
            "display_name": "Python 3.8.12 64-bit ('pvtpy': conda)",
            "name": "python3"
        },
        "language_info": {
            "codemirror_mode": {
                "name": "ipython",
                "version": 3
            },
            "file_extension": ".py",
            "mimetype": "text/x-python",
            "name": "python",
            "nbconvert_exporter": "python",
            "pygments_lexer": "ipython3",
            "version": "3.8.12"
        },
        "orig_nbformat": 4
    },
    "nbformat": 4,
    "nbformat_minor": 2
}
