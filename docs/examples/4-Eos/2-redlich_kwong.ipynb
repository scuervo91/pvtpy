{
    "cells": [
        {
            "cell_type": "code",
            "execution_count": 1,
            "source": [
                "from pvtpy.compositional import Component, component_from_name\n",
                "from pvtpy.units import Pressure, Temperature\n",
                "import numpy as np"
            ],
            "outputs": [],
            "metadata": {}
        },
        {
            "cell_type": "code",
            "execution_count": 6,
            "source": [
                "prop = component_from_name('propane')\n",
                "prop.df()"
            ],
            "outputs": [
                {
                    "output_type": "execute_result",
                    "data": {
                        "text/plain": [
                            "formula                                        C3H8\n",
                            "iupac_key               ATUOYWHBWRKTHZ-UHFFFAOYSA-N\n",
                            "iupac                     1S/C3H8/c1-3-2/h3H2;1-2H3\n",
                            "cas                                         74-98-6\n",
                            "molecular_weight                             44.097\n",
                            "van_der_walls                                    {}\n",
                            "redlich_kwong                                    {}\n",
                            "critical_pressure                             616.0\n",
                            "critical_temperature                         206.06\n",
                            "id                                              3.0\n",
                            "acentric_factor                              0.1523\n",
                            "Name: propane, dtype: object"
                        ]
                    },
                    "metadata": {},
                    "execution_count": 6
                }
            ],
            "metadata": {}
        },
        {
            "cell_type": "code",
            "execution_count": 5,
            "source": [
                "cp = prop.critical_properties()\n",
                "cp"
            ],
            "outputs": [
                {
                    "output_type": "execute_result",
                    "data": {
                        "text/plain": [
                            "CriticalProperties(critical_pressure=Pressure(value=616.0, unit=<PressureUnits.psi: 'psi'>), critical_temperature=Temperature(value=206.06, unit=<TemperatureUnits.farenheit: 'farenheit'>))"
                        ]
                    },
                    "metadata": {},
                    "execution_count": 5
                }
            ],
            "metadata": {}
        },
        {
            "cell_type": "code",
            "execution_count": 7,
            "source": [
                "coef = prop.redlich_kwong.coef_ab(cp)\n",
                "coef"
            ],
            "outputs": [
                {
                    "output_type": "execute_result",
                    "data": {
                        "text/plain": [
                            "(913628.6150409831, 1.0046981013896104)"
                        ]
                    },
                    "metadata": {},
                    "execution_count": 7
                }
            ],
            "metadata": {}
        },
        {
            "cell_type": "code",
            "execution_count": 8,
            "source": [
                "p1 = Pressure(value = 185, unit='psi')\n",
                "t1 = Temperature(value = 100, unit='farenheit')\n",
                "\n",
                "A,B = prop.redlich_kwong.coef_AB(p1,t1)\n",
                "print(A,B)"
            ],
            "outputs": [
                {
                    "output_type": "stream",
                    "name": "stdout",
                    "text": [
                        "0.1981125133542597 0.0309510623375231\n"
                    ]
                }
            ],
            "metadata": {}
        },
        {
            "cell_type": "code",
            "execution_count": 9,
            "source": [
                "poly = prop.redlich_kwong.cubic_poly(p1,t1)\n",
                "poly"
            ],
            "outputs": [
                {
                    "output_type": "execute_result",
                    "data": {
                        "text/plain": [
                            "Polynomial([-0.00613179,  0.16620348, -1.        ,  1.        ], domain=[-1,  1], window=[-1,  1])"
                        ],
                        "text/latex": [
                            "$x \\mapsto \\text{-0.00613179275067107} + \\text{0.16620348275691535}\\,x - \\text{1.0}\\,x^{2} + \\text{1.0}\\,x^{3}$"
                        ]
                    },
                    "metadata": {},
                    "execution_count": 9
                }
            ],
            "metadata": {}
        },
        {
            "cell_type": "code",
            "execution_count": 10,
            "source": [
                "ma = prop.molecular_weight\n",
                "rho = prop.redlich_kwong.estimate_densities(p1,t1, molecular_weight=ma)\n",
                "rho"
            ],
            "outputs": [
                {
                    "output_type": "execute_result",
                    "data": {
                        "text/plain": [
                            "{'rho_gas': 1.6930299733398178, 'rho_liquid': 25.750511328486244}"
                        ]
                    },
                    "metadata": {},
                    "execution_count": 10
                }
            ],
            "metadata": {}
        },
        {
            "cell_type": "code",
            "execution_count": null,
            "source": [],
            "outputs": [],
            "metadata": {}
        }
    ],
    "metadata": {
        "orig_nbformat": 4,
        "language_info": {
            "name": "python",
            "version": "3.8.10",
            "mimetype": "text/x-python",
            "codemirror_mode": {
                "name": "ipython",
                "version": 3
            },
            "pygments_lexer": "ipython3",
            "nbconvert_exporter": "python",
            "file_extension": ".py"
        },
        "kernelspec": {
            "name": "python3",
            "display_name": "Python 3.8.10 64-bit ('pvtpy': conda)"
        },
        "interpreter": {
            "hash": "c2412f2860ef08ecfc6ffbe66d86f9328a9706bdf5bd84042edf15bb644253f5"
        }
    },
    "nbformat": 4,
    "nbformat_minor": 2
}