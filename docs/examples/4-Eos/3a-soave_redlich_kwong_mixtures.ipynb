{
    "cells": [
        {
            "cell_type": "code",
            "execution_count": 1,
            "source": [
                "## Redlich_Kwong Equation - for Mixtures\n",
                "import pandas as pd\n",
                "import numpy as np\n",
                "from pvtpy.compositional import Chromatography, Component, properties_df\n",
                "from pvtpy.units import Pressure, Temperature"
            ],
            "outputs": [],
            "metadata": {}
        },
        {
            "cell_type": "markdown",
            "source": [
                "## Liquid Hydrocarbon Mixture"
            ],
            "metadata": {}
        },
        {
            "cell_type": "code",
            "execution_count": 2,
            "source": [
                "d1 = {\n",
                "    'comp': ['methane','ethane','propane','butane','pentane','n-hexane'],\n",
                "    'mole_fraction':[0.45,0.05,0.05,0.03,0.01,0.01]\n",
                "}\n",
                "\n",
                "c7_plus = Component(\n",
                "    name = 'C7+', \n",
                "    molecular_weight=215,\n",
                "    mole_fraction=0.4,   \n",
                "    critical_pressure=285,\n",
                "    critical_pressure_unit='psi',\n",
                "    critical_temperature=700,\n",
                "    critical_temperature_unit='farenheit',\n",
                "    params={'acentric_factor':0.52}\n",
                ")\n",
                "\n",
                "ch1 = Chromatography()\n",
                "ch1.from_df(pd.DataFrame(d1),name='comp')\n",
                "ch1.plus_fraction = c7_plus\n",
                "\n",
                "ch1.df(columns=['mole_fraction','acentric_factor'])"
            ],
            "outputs": [
                {
                    "output_type": "execute_result",
                    "data": {
                        "text/plain": [
                            "          mole_fraction  acentric_factor\n",
                            "methane            0.45           0.0115\n",
                            "ethane             0.05           0.0995\n",
                            "propane            0.05           0.1523\n",
                            "butane             0.03           0.2002\n",
                            "pentane            0.01           0.2515\n",
                            "n-hexane           0.01           0.3013\n",
                            "C7+                0.40           0.5200"
                        ],
                        "text/html": [
                            "<div>\n",
                            "<style scoped>\n",
                            "    .dataframe tbody tr th:only-of-type {\n",
                            "        vertical-align: middle;\n",
                            "    }\n",
                            "\n",
                            "    .dataframe tbody tr th {\n",
                            "        vertical-align: top;\n",
                            "    }\n",
                            "\n",
                            "    .dataframe thead th {\n",
                            "        text-align: right;\n",
                            "    }\n",
                            "</style>\n",
                            "<table border=\"1\" class=\"dataframe\">\n",
                            "  <thead>\n",
                            "    <tr style=\"text-align: right;\">\n",
                            "      <th></th>\n",
                            "      <th>mole_fraction</th>\n",
                            "      <th>acentric_factor</th>\n",
                            "    </tr>\n",
                            "  </thead>\n",
                            "  <tbody>\n",
                            "    <tr>\n",
                            "      <th>methane</th>\n",
                            "      <td>0.45</td>\n",
                            "      <td>0.0115</td>\n",
                            "    </tr>\n",
                            "    <tr>\n",
                            "      <th>ethane</th>\n",
                            "      <td>0.05</td>\n",
                            "      <td>0.0995</td>\n",
                            "    </tr>\n",
                            "    <tr>\n",
                            "      <th>propane</th>\n",
                            "      <td>0.05</td>\n",
                            "      <td>0.1523</td>\n",
                            "    </tr>\n",
                            "    <tr>\n",
                            "      <th>butane</th>\n",
                            "      <td>0.03</td>\n",
                            "      <td>0.2002</td>\n",
                            "    </tr>\n",
                            "    <tr>\n",
                            "      <th>pentane</th>\n",
                            "      <td>0.01</td>\n",
                            "      <td>0.2515</td>\n",
                            "    </tr>\n",
                            "    <tr>\n",
                            "      <th>n-hexane</th>\n",
                            "      <td>0.01</td>\n",
                            "      <td>0.3013</td>\n",
                            "    </tr>\n",
                            "    <tr>\n",
                            "      <th>C7+</th>\n",
                            "      <td>0.40</td>\n",
                            "      <td>0.5200</td>\n",
                            "    </tr>\n",
                            "  </tbody>\n",
                            "</table>\n",
                            "</div>"
                        ]
                    },
                    "metadata": {},
                    "execution_count": 2
                }
            ],
            "metadata": {}
        },
        {
            "cell_type": "code",
            "execution_count": 3,
            "source": [
                "p1 = Pressure(value = 4000, unit='psi')\n",
                "t1 = Temperature(value = 160, unit='farenheit')"
            ],
            "outputs": [],
            "metadata": {}
        },
        {
            "cell_type": "code",
            "execution_count": 4,
            "source": [
                "ch1.soave_redlich_kwong_components_coef(t1)\n",
                "\n",
                "\n",
                "ch1.df(columns=['mole_fraction','srk_a','srk_b','srk_alpha', 'acentric_factor'])"
            ],
            "outputs": [
                {
                    "output_type": "execute_result",
                    "data": {
                        "text/plain": [
                            "          mole_fraction          srk_a     srk_b  srk_alpha  acentric_factor\n",
                            "methane            0.45    8688.770713  0.478495   0.686593           0.0115\n",
                            "ethane             0.05   21041.202832  0.723177   0.923015           0.0995\n",
                            "propane            0.05   35409.568072  1.004698   1.051035           0.1523\n",
                            "butane             0.03   52350.514587  1.292135   1.164088           0.2002\n",
                            "pentane            0.01   72002.574726  1.608655   1.264327           0.2515\n",
                            "n-hexane           0.01   93955.330354  1.943280   1.358148           0.3013\n",
                            "C7+                0.40  232235.747155  3.782751   1.489631           0.5200"
                        ],
                        "text/html": [
                            "<div>\n",
                            "<style scoped>\n",
                            "    .dataframe tbody tr th:only-of-type {\n",
                            "        vertical-align: middle;\n",
                            "    }\n",
                            "\n",
                            "    .dataframe tbody tr th {\n",
                            "        vertical-align: top;\n",
                            "    }\n",
                            "\n",
                            "    .dataframe thead th {\n",
                            "        text-align: right;\n",
                            "    }\n",
                            "</style>\n",
                            "<table border=\"1\" class=\"dataframe\">\n",
                            "  <thead>\n",
                            "    <tr style=\"text-align: right;\">\n",
                            "      <th></th>\n",
                            "      <th>mole_fraction</th>\n",
                            "      <th>srk_a</th>\n",
                            "      <th>srk_b</th>\n",
                            "      <th>srk_alpha</th>\n",
                            "      <th>acentric_factor</th>\n",
                            "    </tr>\n",
                            "  </thead>\n",
                            "  <tbody>\n",
                            "    <tr>\n",
                            "      <th>methane</th>\n",
                            "      <td>0.45</td>\n",
                            "      <td>8688.770713</td>\n",
                            "      <td>0.478495</td>\n",
                            "      <td>0.686593</td>\n",
                            "      <td>0.0115</td>\n",
                            "    </tr>\n",
                            "    <tr>\n",
                            "      <th>ethane</th>\n",
                            "      <td>0.05</td>\n",
                            "      <td>21041.202832</td>\n",
                            "      <td>0.723177</td>\n",
                            "      <td>0.923015</td>\n",
                            "      <td>0.0995</td>\n",
                            "    </tr>\n",
                            "    <tr>\n",
                            "      <th>propane</th>\n",
                            "      <td>0.05</td>\n",
                            "      <td>35409.568072</td>\n",
                            "      <td>1.004698</td>\n",
                            "      <td>1.051035</td>\n",
                            "      <td>0.1523</td>\n",
                            "    </tr>\n",
                            "    <tr>\n",
                            "      <th>butane</th>\n",
                            "      <td>0.03</td>\n",
                            "      <td>52350.514587</td>\n",
                            "      <td>1.292135</td>\n",
                            "      <td>1.164088</td>\n",
                            "      <td>0.2002</td>\n",
                            "    </tr>\n",
                            "    <tr>\n",
                            "      <th>pentane</th>\n",
                            "      <td>0.01</td>\n",
                            "      <td>72002.574726</td>\n",
                            "      <td>1.608655</td>\n",
                            "      <td>1.264327</td>\n",
                            "      <td>0.2515</td>\n",
                            "    </tr>\n",
                            "    <tr>\n",
                            "      <th>n-hexane</th>\n",
                            "      <td>0.01</td>\n",
                            "      <td>93955.330354</td>\n",
                            "      <td>1.943280</td>\n",
                            "      <td>1.358148</td>\n",
                            "      <td>0.3013</td>\n",
                            "    </tr>\n",
                            "    <tr>\n",
                            "      <th>C7+</th>\n",
                            "      <td>0.40</td>\n",
                            "      <td>232235.747155</td>\n",
                            "      <td>3.782751</td>\n",
                            "      <td>1.489631</td>\n",
                            "      <td>0.5200</td>\n",
                            "    </tr>\n",
                            "  </tbody>\n",
                            "</table>\n",
                            "</div>"
                        ]
                    },
                    "metadata": {},
                    "execution_count": 4
                }
            ],
            "metadata": {}
        },
        {
            "cell_type": "markdown",
            "source": [],
            "metadata": {}
        },
        {
            "cell_type": "code",
            "execution_count": 5,
            "source": [
                "ch1.soave_redlich_kwong_mix_coef()"
            ],
            "outputs": [
                {
                    "output_type": "execute_result",
                    "data": {
                        "text/plain": [
                            "(90381.12778928163, 1.8891001828303455)"
                        ]
                    },
                    "metadata": {},
                    "execution_count": 5
                }
            ],
            "metadata": {}
        },
        {
            "cell_type": "code",
            "execution_count": 6,
            "source": [
                "\n",
                "\n",
                "ma = ch1.apparent_molecular_weight()\n",
                "ma"
            ],
            "outputs": [
                {
                    "output_type": "execute_result",
                    "data": {
                        "text/plain": [
                            "100.264435"
                        ]
                    },
                    "metadata": {},
                    "execution_count": 6
                }
            ],
            "metadata": {}
        },
        {
            "cell_type": "code",
            "execution_count": 7,
            "source": [
                "ch1.soave_redlich_kwong.alpha"
            ],
            "outputs": [],
            "metadata": {}
        },
        {
            "cell_type": "code",
            "execution_count": 8,
            "source": [
                "A,B = ch1.soave_redlich_kwong.coef_AB(p1,t1)\n",
                "\n",
                "print(A,B)"
            ],
            "outputs": [
                {
                    "output_type": "stream",
                    "name": "stdout",
                    "text": [
                        "8.177439904015678 1.1364616583602605\n"
                    ]
                }
            ],
            "metadata": {}
        },
        {
            "cell_type": "code",
            "execution_count": null,
            "source": [],
            "outputs": [],
            "metadata": {}
        },
        {
            "cell_type": "code",
            "execution_count": 9,
            "source": [
                "poly = ch1.soave_redlich_kwong.cubic_poly(p1,t1)\n",
                "print(type(poly))\n",
                "print(poly)"
            ],
            "outputs": [
                {
                    "output_type": "stream",
                    "name": "stdout",
                    "text": [
                        "<class 'numpy.polynomial.polynomial.Polynomial'>\n",
                        "-9.293346914459027 + 5.749433144732464·x¹ - 1.0·x² + 1.0·x³\n"
                    ]
                }
            ],
            "metadata": {}
        },
        {
            "cell_type": "code",
            "execution_count": 10,
            "source": [
                "roots = poly.roots()\n",
                "print(roots)\n",
                "roots[np.isreal(roots)].real"
            ],
            "outputs": [
                {
                    "output_type": "stream",
                    "name": "stdout",
                    "text": [
                        "[-0.22557549-2.52056284j -0.22557549+2.52056284j  1.45115098+0.j        ]\n"
                    ]
                },
                {
                    "output_type": "execute_result",
                    "data": {
                        "text/plain": [
                            "array([1.45115098])"
                        ]
                    },
                    "metadata": {},
                    "execution_count": 10
                }
            ],
            "metadata": {}
        },
        {
            "cell_type": "code",
            "execution_count": 11,
            "source": [
                "ch1.soave_redlich_kwong.estimate_densities(p1,t1, ma)"
            ],
            "outputs": [
                {
                    "output_type": "execute_result",
                    "data": {
                        "text/plain": [
                            "{'rho': array([41.56560542])}"
                        ]
                    },
                    "metadata": {},
                    "execution_count": 11
                }
            ],
            "metadata": {}
        },
        {
            "cell_type": "markdown",
            "source": [
                "## Gas Hydrocarbon Mixture"
            ],
            "metadata": {}
        },
        {
            "cell_type": "code",
            "execution_count": 12,
            "source": [
                "d2 = {\n",
                "    'comp': ['methane','ethane','propane','butane','pentane','n-hexane'],\n",
                "    'mole_fraction':[0.86,0.05,0.05,0.02,0.01,0.005]\n",
                "}\n",
                "\n",
                "c7_plus2 = Component(\n",
                "    name = 'C7+', \n",
                "    molecular_weight=215,\n",
                "    mole_fraction=0.0005,   \n",
                "    critical_pressure=285,\n",
                "    critical_pressure_unit='psi',\n",
                "    critical_temperature=700,\n",
                "    critical_temperature_unit='farenheit',\n",
                "    params={'acentric_factor':0.52}\n",
                ")\n",
                "\n",
                "ch2 = Chromatography()\n",
                "ch2.from_df(pd.DataFrame(d2),name='comp')\n",
                "ch2.plus_fraction = c7_plus2\n",
                "\n",
                "ch2.df(columns=['mole_fraction'], normalize=True)"
            ],
            "outputs": [
                {
                    "output_type": "execute_result",
                    "data": {
                        "text/plain": [
                            "          mole_fraction\n",
                            "methane        0.863887\n",
                            "ethane         0.050226\n",
                            "propane        0.050226\n",
                            "butane         0.020090\n",
                            "pentane        0.010045\n",
                            "n-hexane       0.005023\n",
                            "C7+            0.000502"
                        ],
                        "text/html": [
                            "<div>\n",
                            "<style scoped>\n",
                            "    .dataframe tbody tr th:only-of-type {\n",
                            "        vertical-align: middle;\n",
                            "    }\n",
                            "\n",
                            "    .dataframe tbody tr th {\n",
                            "        vertical-align: top;\n",
                            "    }\n",
                            "\n",
                            "    .dataframe thead th {\n",
                            "        text-align: right;\n",
                            "    }\n",
                            "</style>\n",
                            "<table border=\"1\" class=\"dataframe\">\n",
                            "  <thead>\n",
                            "    <tr style=\"text-align: right;\">\n",
                            "      <th></th>\n",
                            "      <th>mole_fraction</th>\n",
                            "    </tr>\n",
                            "  </thead>\n",
                            "  <tbody>\n",
                            "    <tr>\n",
                            "      <th>methane</th>\n",
                            "      <td>0.863887</td>\n",
                            "    </tr>\n",
                            "    <tr>\n",
                            "      <th>ethane</th>\n",
                            "      <td>0.050226</td>\n",
                            "    </tr>\n",
                            "    <tr>\n",
                            "      <th>propane</th>\n",
                            "      <td>0.050226</td>\n",
                            "    </tr>\n",
                            "    <tr>\n",
                            "      <th>butane</th>\n",
                            "      <td>0.020090</td>\n",
                            "    </tr>\n",
                            "    <tr>\n",
                            "      <th>pentane</th>\n",
                            "      <td>0.010045</td>\n",
                            "    </tr>\n",
                            "    <tr>\n",
                            "      <th>n-hexane</th>\n",
                            "      <td>0.005023</td>\n",
                            "    </tr>\n",
                            "    <tr>\n",
                            "      <th>C7+</th>\n",
                            "      <td>0.000502</td>\n",
                            "    </tr>\n",
                            "  </tbody>\n",
                            "</table>\n",
                            "</div>"
                        ]
                    },
                    "metadata": {},
                    "execution_count": 12
                }
            ],
            "metadata": {}
        },
        {
            "cell_type": "code",
            "execution_count": 13,
            "source": [
                "ch2.soave_redlich_kwong_components_coef(t1)\n",
                "\n",
                "ch2.df(columns=['mole_fraction','srk_a','srk_b'])"
            ],
            "outputs": [
                {
                    "output_type": "execute_result",
                    "data": {
                        "text/plain": [
                            "          mole_fraction          srk_a     srk_b\n",
                            "methane        0.863887    8688.770713  0.478495\n",
                            "ethane         0.050226   21041.202832  0.723177\n",
                            "propane        0.050226   35409.568072  1.004698\n",
                            "butane         0.020090   52350.514587  1.292135\n",
                            "pentane        0.010045   72002.574726  1.608655\n",
                            "n-hexane       0.005023   93955.330354  1.943280\n",
                            "C7+            0.000502  232235.747155  3.782751"
                        ],
                        "text/html": [
                            "<div>\n",
                            "<style scoped>\n",
                            "    .dataframe tbody tr th:only-of-type {\n",
                            "        vertical-align: middle;\n",
                            "    }\n",
                            "\n",
                            "    .dataframe tbody tr th {\n",
                            "        vertical-align: top;\n",
                            "    }\n",
                            "\n",
                            "    .dataframe thead th {\n",
                            "        text-align: right;\n",
                            "    }\n",
                            "</style>\n",
                            "<table border=\"1\" class=\"dataframe\">\n",
                            "  <thead>\n",
                            "    <tr style=\"text-align: right;\">\n",
                            "      <th></th>\n",
                            "      <th>mole_fraction</th>\n",
                            "      <th>srk_a</th>\n",
                            "      <th>srk_b</th>\n",
                            "    </tr>\n",
                            "  </thead>\n",
                            "  <tbody>\n",
                            "    <tr>\n",
                            "      <th>methane</th>\n",
                            "      <td>0.863887</td>\n",
                            "      <td>8688.770713</td>\n",
                            "      <td>0.478495</td>\n",
                            "    </tr>\n",
                            "    <tr>\n",
                            "      <th>ethane</th>\n",
                            "      <td>0.050226</td>\n",
                            "      <td>21041.202832</td>\n",
                            "      <td>0.723177</td>\n",
                            "    </tr>\n",
                            "    <tr>\n",
                            "      <th>propane</th>\n",
                            "      <td>0.050226</td>\n",
                            "      <td>35409.568072</td>\n",
                            "      <td>1.004698</td>\n",
                            "    </tr>\n",
                            "    <tr>\n",
                            "      <th>butane</th>\n",
                            "      <td>0.020090</td>\n",
                            "      <td>52350.514587</td>\n",
                            "      <td>1.292135</td>\n",
                            "    </tr>\n",
                            "    <tr>\n",
                            "      <th>pentane</th>\n",
                            "      <td>0.010045</td>\n",
                            "      <td>72002.574726</td>\n",
                            "      <td>1.608655</td>\n",
                            "    </tr>\n",
                            "    <tr>\n",
                            "      <th>n-hexane</th>\n",
                            "      <td>0.005023</td>\n",
                            "      <td>93955.330354</td>\n",
                            "      <td>1.943280</td>\n",
                            "    </tr>\n",
                            "    <tr>\n",
                            "      <th>C7+</th>\n",
                            "      <td>0.000502</td>\n",
                            "      <td>232235.747155</td>\n",
                            "      <td>3.782751</td>\n",
                            "    </tr>\n",
                            "  </tbody>\n",
                            "</table>\n",
                            "</div>"
                        ]
                    },
                    "metadata": {},
                    "execution_count": 13
                }
            ],
            "metadata": {}
        },
        {
            "cell_type": "code",
            "execution_count": 14,
            "source": [
                "ma2 = ch2.apparent_molecular_weight()\n",
                "ma2"
            ],
            "outputs": [
                {
                    "output_type": "execute_result",
                    "data": {
                        "text/plain": [
                            "20.027368156705165"
                        ]
                    },
                    "metadata": {},
                    "execution_count": 14
                }
            ],
            "metadata": {}
        },
        {
            "cell_type": "code",
            "execution_count": 15,
            "source": [
                "ch2.soave_redlich_kwong_mix_coef()"
            ],
            "outputs": [
                {
                    "output_type": "execute_result",
                    "data": {
                        "text/plain": [
                            "(8741.036982505435, 0.5539290826470736)"
                        ]
                    },
                    "metadata": {},
                    "execution_count": 15
                }
            ],
            "metadata": {}
        },
        {
            "cell_type": "code",
            "execution_count": 16,
            "source": [
                "A,B = ch2.soave_redlich_kwong.coef_AB(p1,t1)\n",
                "\n",
                "print(A,B)"
            ],
            "outputs": [
                {
                    "output_type": "stream",
                    "name": "stdout",
                    "text": [
                        "0.7908653761199639 0.3332375750109206\n"
                    ]
                }
            ],
            "metadata": {}
        },
        {
            "cell_type": "code",
            "execution_count": 17,
            "source": [
                "poly = ch2.soave_redlich_kwong.cubic_poly(p1,t1)\n",
                "print(type(poly))\n",
                "print(poly)"
            ],
            "outputs": [
                {
                    "output_type": "stream",
                    "name": "stdout",
                    "text": [
                        "<class 'numpy.polynomial.polynomial.Polynomial'>\n",
                        "-0.2635460600983164 + 0.34658051970988435·x¹ - 1.0·x² + 1.0·x³\n"
                    ]
                }
            ],
            "metadata": {}
        },
        {
            "cell_type": "code",
            "execution_count": 18,
            "source": [
                "poly.roots()"
            ],
            "outputs": [
                {
                    "output_type": "execute_result",
                    "data": {
                        "text/plain": [
                            "array([0.03418411-0.53077109j, 0.03418411+0.53077109j,\n",
                            "       0.93163177+0.j        ])"
                        ]
                    },
                    "metadata": {},
                    "execution_count": 18
                }
            ],
            "metadata": {}
        },
        {
            "cell_type": "code",
            "execution_count": 19,
            "source": [
                "p2 = Pressure(value = 4000, unit='psi')\n",
                "t2 = Temperature(value = 160, unit='farenheit')\n",
                "ch2.soave_redlich_kwong.estimate_densities(p2,t2, ma2)"
            ],
            "outputs": [
                {
                    "output_type": "execute_result",
                    "data": {
                        "text/plain": [
                            "{'rho': array([12.93240769])}"
                        ]
                    },
                    "metadata": {},
                    "execution_count": 19
                }
            ],
            "metadata": {}
        },
        {
            "cell_type": "code",
            "execution_count": null,
            "source": [],
            "outputs": [],
            "metadata": {}
        }
    ],
    "metadata": {
        "orig_nbformat": 4,
        "language_info": {
            "name": "python",
            "version": "3.8.10",
            "mimetype": "text/x-python",
            "codemirror_mode": {
                "name": "ipython",
                "version": 3
            },
            "pygments_lexer": "ipython3",
            "nbconvert_exporter": "python",
            "file_extension": ".py"
        },
        "kernelspec": {
            "name": "python3",
            "display_name": "Python 3.8.10 64-bit ('pvtpy': conda)"
        },
        "interpreter": {
            "hash": "c2412f2860ef08ecfc6ffbe66d86f9328a9706bdf5bd84042edf15bb644253f5"
        }
    },
    "nbformat": 4,
    "nbformat_minor": 2
}