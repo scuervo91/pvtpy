{
    "cells": [
        {
            "cell_type": "code",
            "execution_count": 8,
            "metadata": {},
            "outputs": [],
            "source": [
                "from pvtpy.compositional import Component, component_from_name\n",
                "from pvtpy.units import Pressure, Temperature\n",
                "import numpy as np"
            ]
        },
        {
            "cell_type": "code",
            "execution_count": 9,
            "metadata": {},
            "outputs": [
                {
                    "data": {
                        "text/plain": [
                            "Component(name='propane', formula='C3H8', iupac_key='ATUOYWHBWRKTHZ-UHFFFAOYSA-N', iupac='1S/C3H8/c1-3-2/h3H2;1-2H3', cas='74-98-6', molecular_weight=44.097, specific_gravity=None, critical_pressure=Pressure(value=616.0, unit=<PressureUnits.psi: 'psi'>), critical_temperature=Temperature(value=206.06, unit=<TemperatureUnits.farenheit: 'farenheit'>), antoine_coefficients=Antoine(a=4.53678, b=1149.36, c=24.906), van_der_walls=VanDerWalls(a=None, b=None), redlich_kwong=RedlichKwong(a=None, b=None), soave_redlich_kwong=SoaveRedlichKwong(a=None, b=None, alpha=None, a_alpha=None), peng_robinson=PengRobinson(a=None, b=None, alpha=None, a_alpha=None), mole_fraction=None, params={'id': 3.0, 'acentric_factor': 0.1523})"
                        ]
                    },
                    "execution_count": 9,
                    "metadata": {},
                    "output_type": "execute_result"
                }
            ],
            "source": [
                "prop = component_from_name('propane')\n",
                "prop"
            ]
        },
        {
            "cell_type": "code",
            "execution_count": 10,
            "metadata": {},
            "outputs": [
                {
                    "data": {
                        "text/plain": [
                            "CriticalProperties(critical_pressure=Pressure(value=616.0, unit=<PressureUnits.psi: 'psi'>), critical_temperature=Temperature(value=206.06, unit=<TemperatureUnits.farenheit: 'farenheit'>))"
                        ]
                    },
                    "execution_count": 10,
                    "metadata": {},
                    "output_type": "execute_result"
                }
            ],
            "source": [
                "cp = prop.critical_properties()\n",
                "cp"
            ]
        },
        {
            "cell_type": "code",
            "execution_count": 11,
            "metadata": {},
            "outputs": [
                {
                    "data": {
                        "text/plain": [
                            "(34946.10506074155, 1.4495298092532467)"
                        ]
                    },
                    "execution_count": 11,
                    "metadata": {},
                    "output_type": "execute_result"
                }
            ],
            "source": [
                "prop.van_der_walls.coef_ab(cp)"
            ]
        },
        {
            "cell_type": "code",
            "execution_count": 12,
            "metadata": {},
            "outputs": [
                {
                    "data": {
                        "text/plain": [
                            "(0.17926974743405383, 0.04465469520072008)"
                        ]
                    },
                    "execution_count": 12,
                    "metadata": {},
                    "output_type": "execute_result"
                }
            ],
            "source": [
                "p1 = Pressure(value = 185, unit='psi')\n",
                "t1 = Temperature(value = 100, unit='farenheit')\n",
                "\n",
                "prop.van_der_walls.coef_AB(p1,t1)"
            ]
        },
        {
            "cell_type": "code",
            "execution_count": 13,
            "metadata": {},
            "outputs": [
                {
                    "data": {
                        "text/latex": [
                            "$x \\mapsto \\text{-0.008005235930377745} + \\text{0.17926974743405383}\\,x - \\text{1.04465469520072}\\,x^{2} + \\text{1.0}\\,x^{3}$"
                        ],
                        "text/plain": [
                            "Polynomial([-0.00800524,  0.17926975, -1.0446547 ,  1.        ], domain=[-1,  1], window=[-1,  1])"
                        ]
                    },
                    "execution_count": 13,
                    "metadata": {},
                    "output_type": "execute_result"
                }
            ],
            "source": [
                "poly = prop.van_der_walls.cubic_poly(p1,t1)\n",
                "poly"
            ]
        },
        {
            "cell_type": "code",
            "execution_count": null,
            "metadata": {},
            "outputs": [],
            "source": []
        },
        {
            "cell_type": "code",
            "execution_count": 14,
            "metadata": {},
            "outputs": [
                {
                    "data": {
                        "text/plain": [
                            "{'rho_gas': 1.6108195257038465, 'rho_liquid': 18.025022053627083}"
                        ]
                    },
                    "execution_count": 14,
                    "metadata": {},
                    "output_type": "execute_result"
                }
            ],
            "source": [
                "ma = prop.molecular_weight\n",
                "rho = prop.van_der_walls.estimate_densities(p1,t1, molecular_weight=ma)\n",
                "rho"
            ]
        },
        {
            "cell_type": "code",
            "execution_count": null,
            "metadata": {},
            "outputs": [],
            "source": []
        }
    ],
    "metadata": {
        "interpreter": {
            "hash": "372bbe80e8e5f52caf70b607bc2a566f3c8d0912b9dd67ebdb62a91dc247847c"
        },
        "kernelspec": {
            "display_name": "Python 3.8.12 64-bit ('pvtpy': conda)",
            "name": "python3"
        },
        "language_info": {
            "codemirror_mode": {
                "name": "ipython",
                "version": 3
            },
            "file_extension": ".py",
            "mimetype": "text/x-python",
            "name": "python",
            "nbconvert_exporter": "python",
            "pygments_lexer": "ipython3",
            "version": "3.8.12"
        },
        "orig_nbformat": 4
    },
    "nbformat": 4,
    "nbformat_minor": 2
}
