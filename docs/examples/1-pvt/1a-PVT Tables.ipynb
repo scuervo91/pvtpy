{
 "metadata": {
  "language_info": {
   "codemirror_mode": {
    "name": "ipython",
    "version": 3
   },
   "file_extension": ".py",
   "mimetype": "text/x-python",
   "name": "python",
   "nbconvert_exporter": "python",
   "pygments_lexer": "ipython3",
   "version": "3.8.10"
  },
  "orig_nbformat": 2,
  "kernelspec": {
   "name": "python3",
   "display_name": "Python 3.8.10 64-bit ('pvtpy': conda)"
  },
  "metadata": {
   "interpreter": {
    "hash": "c2412f2860ef08ecfc6ffbe66d86f9328a9706bdf5bd84042edf15bb644253f5"
   }
  },
  "interpreter": {
   "hash": "11992eb8cca72e155e0b581988b74f6e8731a06ddcbeb5d57e4fadc7d0c809f4"
  }
 },
 "nbformat": 4,
 "nbformat_minor": 2,
 "cells": [
  {
   "source": [
    "# PVT Object \n",
    "\n",
    "You can define a PVT object by providing a tabulated data indexed by pressure. "
   ],
   "cell_type": "markdown",
   "metadata": {}
  },
  {
   "cell_type": "code",
   "execution_count": 1,
   "metadata": {},
   "outputs": [],
   "source": [
    "from pvtpy.pvt import PVT\n",
    "from pvtpy.units import Pressure\n",
    "import numpy as np\n",
    "import pandas as pd"
   ]
  },
  {
   "source": [
    "## Define some properties"
   ],
   "cell_type": "markdown",
   "metadata": {}
  },
  {
   "cell_type": "code",
   "execution_count": 2,
   "metadata": {},
   "outputs": [],
   "source": [
    "p = np.linspace(10,3500,15)\n",
    "rho = np.linspace(0.8,1.3,15)\n",
    "tt = np.linspace(90,130,15)"
   ]
  },
  {
   "cell_type": "code",
   "execution_count": 3,
   "metadata": {},
   "outputs": [
    {
     "output_type": "execute_result",
     "data": {
      "text/plain": [
       "array([  10.        ,  259.28571429,  508.57142857,  757.85714286,\n",
       "       1007.14285714, 1256.42857143, 1505.71428571, 1755.        ,\n",
       "       2004.28571429, 2253.57142857, 2502.85714286, 2752.14285714,\n",
       "       3001.42857143, 3250.71428571, 3500.        ])"
      ]
     },
     "metadata": {},
     "execution_count": 3
    }
   ],
   "source": [
    "p"
   ]
  },
  {
   "source": [
    "Create the PVT Object by providing a list of ordered pressure and corresponding properties in a dictionary form "
   ],
   "cell_type": "markdown",
   "metadata": {}
  },
  {
   "cell_type": "code",
   "execution_count": 4,
   "metadata": {},
   "outputs": [
    {
     "output_type": "stream",
     "name": "stdout",
     "text": [
      "<class 'pvtpy.pvt.pvt.PVT'>\n"
     ]
    }
   ],
   "source": [
    "pvt1 = PVT(pressure=Pressure(value=p.tolist()), fields={'rho':rho.tolist(),'temp':tt.tolist()})\n",
    "\n",
    "print(type(pvt1))"
   ]
  },
  {
   "source": [
    "To export the pvt to a `pandas DataFrame` call the `df` method"
   ],
   "cell_type": "markdown",
   "metadata": {}
  },
  {
   "cell_type": "code",
   "execution_count": 5,
   "metadata": {},
   "outputs": [
    {
     "output_type": "stream",
     "name": "stdout",
     "text": [
      "                  rho        temp\npressure                         \n10.000000    0.800000   90.000000\n259.285714   0.835714   92.857143\n508.571429   0.871429   95.714286\n757.857143   0.907143   98.571429\n1007.142857  0.942857  101.428571\n1256.428571  0.978571  104.285714\n1505.714286  1.014286  107.142857\n1755.000000  1.050000  110.000000\n2004.285714  1.085714  112.857143\n2253.571429  1.121429  115.714286\n2502.857143  1.157143  118.571429\n2752.142857  1.192857  121.428571\n3001.428571  1.228571  124.285714\n3250.714286  1.264286  127.142857\n3500.000000  1.300000  130.000000\n"
     ]
    }
   ],
   "source": [
    "print(pvt1.df())"
   ]
  },
  {
   "source": [
    "### The pressure must be ordered either descending or ascending\n",
    "\n",
    "By using the syntax `[::-1]` you can reverse the order of a list"
   ],
   "cell_type": "markdown",
   "metadata": {}
  },
  {
   "cell_type": "code",
   "execution_count": 6,
   "metadata": {},
   "outputs": [
    {
     "output_type": "stream",
     "name": "stdout",
     "text": [
      "                  rho        temp\npressure                         \n3500.000000  1.300000  130.000000\n3250.714286  1.264286  127.142857\n3001.428571  1.228571  124.285714\n2752.142857  1.192857  121.428571\n2502.857143  1.157143  118.571429\n2253.571429  1.121429  115.714286\n2004.285714  1.085714  112.857143\n1755.000000  1.050000  110.000000\n1505.714286  1.014286  107.142857\n1256.428571  0.978571  104.285714\n1007.142857  0.942857  101.428571\n757.857143   0.907143   98.571429\n508.571429   0.871429   95.714286\n259.285714   0.835714   92.857143\n10.000000    0.800000   90.000000\n"
     ]
    }
   ],
   "source": [
    "pvt1_r = PVT(pressure=Pressure(value=p.tolist()[::-1]), fields={'rho':rho.tolist()[::-1],'temp':tt.tolist()[::-1]})\n",
    "\n",
    "print(pvt1_r.df())"
   ]
  },
  {
   "cell_type": "code",
   "execution_count": 7,
   "metadata": {},
   "outputs": [
    {
     "output_type": "stream",
     "name": "stdout",
     "text": [
      "'pressure'\nPressure is not sorted. It raises an error\n"
     ]
    }
   ],
   "source": [
    "try:\n",
    "    p_random = np.random.rand(15)\n",
    "    pvt_error = PVT(pressure=Pressure(value=p_random.tolist()), fields={'rho':rho.tolist(),'temp':tt.tolist()})\n",
    "except Exception as e:\n",
    "    print(e)\n",
    "    print('Pressure is not sorted. It raises an error')"
   ]
  },
  {
   "source": [
    "## Interpolate at a custom Pressure "
   ],
   "cell_type": "markdown",
   "metadata": {}
  },
  {
   "cell_type": "code",
   "execution_count": 8,
   "metadata": {},
   "outputs": [
    {
     "output_type": "execute_result",
     "data": {
      "text/plain": [
       "               rho        temp\n",
       "pressure                      \n",
       "1500      1.013467  107.077364\n",
       "2100      1.099427  113.954155"
      ],
      "text/html": "<div>\n<style scoped>\n    .dataframe tbody tr th:only-of-type {\n        vertical-align: middle;\n    }\n\n    .dataframe tbody tr th {\n        vertical-align: top;\n    }\n\n    .dataframe thead th {\n        text-align: right;\n    }\n</style>\n<table border=\"1\" class=\"dataframe\">\n  <thead>\n    <tr style=\"text-align: right;\">\n      <th></th>\n      <th>rho</th>\n      <th>temp</th>\n    </tr>\n    <tr>\n      <th>pressure</th>\n      <th></th>\n      <th></th>\n    </tr>\n  </thead>\n  <tbody>\n    <tr>\n      <th>1500</th>\n      <td>1.013467</td>\n      <td>107.077364</td>\n    </tr>\n    <tr>\n      <th>2100</th>\n      <td>1.099427</td>\n      <td>113.954155</td>\n    </tr>\n  </tbody>\n</table>\n</div>"
     },
     "metadata": {},
     "execution_count": 8
    }
   ],
   "source": [
    "pvt1.interpolate([1500,2100])"
   ]
  },
  {
   "source": [
    "### Interpolate olly certain columns"
   ],
   "cell_type": "markdown",
   "metadata": {}
  },
  {
   "cell_type": "code",
   "execution_count": 9,
   "metadata": {},
   "outputs": [
    {
     "output_type": "execute_result",
     "data": {
      "text/plain": [
       "                temp\n",
       "pressure            \n",
       "1500      107.077364\n",
       "2100      113.954155\n",
       "2500      118.538682\n",
       "2700      120.830946"
      ],
      "text/html": "<div>\n<style scoped>\n    .dataframe tbody tr th:only-of-type {\n        vertical-align: middle;\n    }\n\n    .dataframe tbody tr th {\n        vertical-align: top;\n    }\n\n    .dataframe thead th {\n        text-align: right;\n    }\n</style>\n<table border=\"1\" class=\"dataframe\">\n  <thead>\n    <tr style=\"text-align: right;\">\n      <th></th>\n      <th>temp</th>\n    </tr>\n    <tr>\n      <th>pressure</th>\n      <th></th>\n    </tr>\n  </thead>\n  <tbody>\n    <tr>\n      <th>1500</th>\n      <td>107.077364</td>\n    </tr>\n    <tr>\n      <th>2100</th>\n      <td>113.954155</td>\n    </tr>\n    <tr>\n      <th>2500</th>\n      <td>118.538682</td>\n    </tr>\n    <tr>\n      <th>2700</th>\n      <td>120.830946</td>\n    </tr>\n  </tbody>\n</table>\n</div>"
     },
     "metadata": {},
     "execution_count": 9
    }
   ],
   "source": [
    "pvt1.interpolate([1500,2100, 2500,2700],cols=['temp'])"
   ]
  },
  {
   "cell_type": "code",
   "execution_count": null,
   "metadata": {},
   "outputs": [],
   "source": []
  }
 ]
}