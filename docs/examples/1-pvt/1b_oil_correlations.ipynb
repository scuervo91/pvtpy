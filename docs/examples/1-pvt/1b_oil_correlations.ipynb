{
 "cells": [
  {
   "cell_type": "code",
   "execution_count": 14,
   "metadata": {},
   "outputs": [],
   "source": [
    "# Correlations for Oil"
   ]
  },
  {
   "cell_type": "code",
   "execution_count": 15,
   "metadata": {},
   "outputs": [],
   "source": [
    "import numpy as np\n",
    "import pandas as pd\n",
    "import pvtpy.black_oil as bk\n",
    "from pvtpy.units import Pressure, Temperature"
   ]
  },
  {
   "cell_type": "markdown",
   "metadata": {},
   "source": [
    "# Bubble Point"
   ]
  },
  {
   "cell_type": "code",
   "execution_count": 3,
   "metadata": {},
   "outputs": [
    {
     "data": {
      "text/html": [
       "<div>\n",
       "<style scoped>\n",
       "    .dataframe tbody tr th:only-of-type {\n",
       "        vertical-align: middle;\n",
       "    }\n",
       "\n",
       "    .dataframe tbody tr th {\n",
       "        vertical-align: top;\n",
       "    }\n",
       "\n",
       "    .dataframe thead th {\n",
       "        text-align: right;\n",
       "    }\n",
       "</style>\n",
       "<table border=\"1\" class=\"dataframe\">\n",
       "  <thead>\n",
       "    <tr style=\"text-align: right;\">\n",
       "      <th></th>\n",
       "      <th>pb_standing</th>\n",
       "      <th>pb_laster</th>\n",
       "      <th>pb_vazquez_beggs</th>\n",
       "      <th>pb_glaso</th>\n",
       "    </tr>\n",
       "    <tr>\n",
       "      <th>temp</th>\n",
       "      <th></th>\n",
       "      <th></th>\n",
       "      <th></th>\n",
       "      <th></th>\n",
       "    </tr>\n",
       "  </thead>\n",
       "  <tbody>\n",
       "    <tr>\n",
       "      <th>180.0</th>\n",
       "      <td>2174.376878</td>\n",
       "      <td>2189.382402</td>\n",
       "      <td>2457.616402</td>\n",
       "      <td>2535.616843</td>\n",
       "    </tr>\n",
       "  </tbody>\n",
       "</table>\n",
       "</div>"
      ],
      "text/plain": [
       "       pb_standing    pb_laster  pb_vazquez_beggs     pb_glaso\n",
       "temp                                                          \n",
       "180.0  2174.376878  2189.382402       2457.616402  2535.616843"
      ]
     },
     "execution_count": 3,
     "metadata": {},
     "output_type": "execute_result"
    }
   ],
   "source": [
    "rs1 = 675\n",
    "p1 = Pressure(value=100, unit=\"psi\")\n",
    "t1 = Temperature(value=180, unit=\"farenheit\")\n",
    "api1 = 31\n",
    "sg = 0.95\n",
    "\n",
    "bk.pb(\n",
    "    rs = rs1,\n",
    "    temperature = t1,\n",
    "    sg_gas = sg,\n",
    "    api = api1,\n",
    "    method = [\"standing\",\"laster\",'glaso','vazquez_beggs'],\n",
    "    correction = True,\n",
    "    y_co2 = 0.2,\n",
    "    y_h2s = 0.1\n",
    ")"
   ]
  },
  {
   "cell_type": "code",
   "execution_count": 4,
   "metadata": {},
   "outputs": [
    {
     "data": {
      "text/html": [
       "<div>\n",
       "<style scoped>\n",
       "    .dataframe tbody tr th:only-of-type {\n",
       "        vertical-align: middle;\n",
       "    }\n",
       "\n",
       "    .dataframe tbody tr th {\n",
       "        vertical-align: top;\n",
       "    }\n",
       "\n",
       "    .dataframe thead th {\n",
       "        text-align: right;\n",
       "    }\n",
       "</style>\n",
       "<table border=\"1\" class=\"dataframe\">\n",
       "  <thead>\n",
       "    <tr style=\"text-align: right;\">\n",
       "      <th></th>\n",
       "      <th>pb</th>\n",
       "    </tr>\n",
       "    <tr>\n",
       "      <th>temp</th>\n",
       "      <th></th>\n",
       "    </tr>\n",
       "  </thead>\n",
       "  <tbody>\n",
       "    <tr>\n",
       "      <th>180.0</th>\n",
       "      <td>2174.376878</td>\n",
       "    </tr>\n",
       "  </tbody>\n",
       "</table>\n",
       "</div>"
      ],
      "text/plain": [
       "                pb\n",
       "temp              \n",
       "180.0  2174.376878"
      ]
     },
     "execution_count": 4,
     "metadata": {},
     "output_type": "execute_result"
    }
   ],
   "source": [
    "bk.pb(\n",
    "    rs = rs1,\n",
    "    temperature = t1,\n",
    "    sg_gas = sg,\n",
    "    api = api1,\n",
    "    method = 'standing',\n",
    "    correction = True,\n",
    "    y_co2 = 0.2,\n",
    "    y_h2s = 0.1\n",
    ")"
   ]
  },
  {
   "cell_type": "markdown",
   "metadata": {},
   "source": [
    "## Rs"
   ]
  },
  {
   "cell_type": "code",
   "execution_count": 5,
   "metadata": {},
   "outputs": [
    {
     "data": {
      "text/html": [
       "<div>\n",
       "<style scoped>\n",
       "    .dataframe tbody tr th:only-of-type {\n",
       "        vertical-align: middle;\n",
       "    }\n",
       "\n",
       "    .dataframe tbody tr th {\n",
       "        vertical-align: top;\n",
       "    }\n",
       "\n",
       "    .dataframe thead th {\n",
       "        text-align: right;\n",
       "    }\n",
       "</style>\n",
       "<table border=\"1\" class=\"dataframe\">\n",
       "  <thead>\n",
       "    <tr style=\"text-align: right;\">\n",
       "      <th></th>\n",
       "      <th>rs</th>\n",
       "    </tr>\n",
       "    <tr>\n",
       "      <th>pressure</th>\n",
       "      <th></th>\n",
       "    </tr>\n",
       "  </thead>\n",
       "  <tbody>\n",
       "    <tr>\n",
       "      <th>4000.0</th>\n",
       "      <td>673.360022</td>\n",
       "    </tr>\n",
       "    <tr>\n",
       "      <th>2000.0</th>\n",
       "      <td>516.188402</td>\n",
       "    </tr>\n",
       "  </tbody>\n",
       "</table>\n",
       "</div>"
      ],
      "text/plain": [
       "                  rs\n",
       "pressure            \n",
       "4000.0    673.360022\n",
       "2000.0    516.188402"
      ]
     },
     "execution_count": 5,
     "metadata": {},
     "output_type": "execute_result"
    }
   ],
   "source": [
    "pb = Pressure(value=2500, unit=\"psi\")\n",
    "t2 = Temperature(value=180, unit=\"farenheit\")\n",
    "api2 = 31\n",
    "sg = 0.95\n",
    "pressure = Pressure(value=[4000,2000], unit=\"psi\")\n",
    "rsb = 673\n",
    "\n",
    "bk.rs(\n",
    "    pressure = pressure,\n",
    "    pb = pb,\n",
    "    temperature = t2,\n",
    "    api = api2,\n",
    "    sg_gas = sg,\n",
    "    rsb = rsb,\n",
    "    method = 'standing'\n",
    "    \n",
    ")"
   ]
  },
  {
   "cell_type": "code",
   "execution_count": 6,
   "metadata": {},
   "outputs": [
    {
     "data": {
      "text/html": [
       "<div>\n",
       "<style scoped>\n",
       "    .dataframe tbody tr th:only-of-type {\n",
       "        vertical-align: middle;\n",
       "    }\n",
       "\n",
       "    .dataframe tbody tr th {\n",
       "        vertical-align: top;\n",
       "    }\n",
       "\n",
       "    .dataframe thead th {\n",
       "        text-align: right;\n",
       "    }\n",
       "</style>\n",
       "<table border=\"1\" class=\"dataframe\">\n",
       "  <thead>\n",
       "    <tr style=\"text-align: right;\">\n",
       "      <th></th>\n",
       "      <th>rs_standing</th>\n",
       "      <th>rs_laster</th>\n",
       "      <th>rs_vazquez_begss</th>\n",
       "      <th>rs_glaso</th>\n",
       "      <th>rs_valarde</th>\n",
       "    </tr>\n",
       "    <tr>\n",
       "      <th>pressure</th>\n",
       "      <th></th>\n",
       "      <th></th>\n",
       "      <th></th>\n",
       "      <th></th>\n",
       "      <th></th>\n",
       "    </tr>\n",
       "  </thead>\n",
       "  <tbody>\n",
       "    <tr>\n",
       "      <th>4000.0</th>\n",
       "      <td>673.360022</td>\n",
       "      <td>664.351906</td>\n",
       "      <td>582.336413</td>\n",
       "      <td>559.536021</td>\n",
       "      <td>673.000000</td>\n",
       "    </tr>\n",
       "    <tr>\n",
       "      <th>2000.0</th>\n",
       "      <td>516.188402</td>\n",
       "      <td>472.933506</td>\n",
       "      <td>446.829422</td>\n",
       "      <td>432.632499</td>\n",
       "      <td>571.883767</td>\n",
       "    </tr>\n",
       "  </tbody>\n",
       "</table>\n",
       "</div>"
      ],
      "text/plain": [
       "          rs_standing   rs_laster  rs_vazquez_begss    rs_glaso  rs_valarde\n",
       "pressure                                                                   \n",
       "4000.0     673.360022  664.351906        582.336413  559.536021  673.000000\n",
       "2000.0     516.188402  472.933506        446.829422  432.632499  571.883767"
      ]
     },
     "execution_count": 6,
     "metadata": {},
     "output_type": "execute_result"
    }
   ],
   "source": [
    "bk.rs(\n",
    "    pressure = pressure,\n",
    "    pb = pb,\n",
    "    temperature = t2,\n",
    "    api = api2,\n",
    "    sg_gas = sg,\n",
    "    rsb = rsb,\n",
    "    method = ['standing','vazquez_beggs','laster','glaso','valarde']\n",
    "    \n",
    ")"
   ]
  },
  {
   "cell_type": "markdown",
   "metadata": {},
   "source": [
    "# co"
   ]
  },
  {
   "cell_type": "code",
   "execution_count": 7,
   "metadata": {},
   "outputs": [
    {
     "data": {
      "text/html": [
       "<div>\n",
       "<style scoped>\n",
       "    .dataframe tbody tr th:only-of-type {\n",
       "        vertical-align: middle;\n",
       "    }\n",
       "\n",
       "    .dataframe tbody tr th {\n",
       "        vertical-align: top;\n",
       "    }\n",
       "\n",
       "    .dataframe thead th {\n",
       "        text-align: right;\n",
       "    }\n",
       "</style>\n",
       "<table border=\"1\" class=\"dataframe\">\n",
       "  <thead>\n",
       "    <tr style=\"text-align: right;\">\n",
       "      <th></th>\n",
       "      <th>co</th>\n",
       "    </tr>\n",
       "    <tr>\n",
       "      <th>pressure</th>\n",
       "      <th></th>\n",
       "    </tr>\n",
       "  </thead>\n",
       "  <tbody>\n",
       "    <tr>\n",
       "      <th>4500.0</th>\n",
       "      <td>0.000009</td>\n",
       "    </tr>\n",
       "  </tbody>\n",
       "</table>\n",
       "</div>"
      ],
      "text/plain": [
       "                co\n",
       "pressure          \n",
       "4500.0    0.000009"
      ]
     },
     "execution_count": 7,
     "metadata": {},
     "output_type": "execute_result"
    }
   ],
   "source": [
    "pressure4 = Pressure(value=4500, unit=\"psi\")\n",
    "pb4 = Pressure(value=2500, unit=\"psi\")\n",
    "temperature4 = Temperature(value=180, unit=\"farenheit\")\n",
    "api4 = 31\n",
    "sg4 = 0.95\n",
    "rs4 = 582\n",
    "\n",
    "bk.co(\n",
    "    pressure = pressure4,\n",
    "    rs = rs4,\n",
    "    pb = pb4,\n",
    "    temperature=temperature4,\n",
    "    sg_gas = sg4,\n",
    "    api = api4\n",
    ")"
   ]
  },
  {
   "cell_type": "markdown",
   "metadata": {},
   "source": [
    "# Bo"
   ]
  },
  {
   "cell_type": "code",
   "execution_count": 8,
   "metadata": {},
   "outputs": [
    {
     "name": "stdout",
     "output_type": "stream",
     "text": [
      "                co\n",
      "pressure          \n",
      "2000.0    0.000027\n",
      "2500.0    0.000017\n",
      "3000.0    0.000014\n",
      "3500.0    0.000012\n"
     ]
    },
    {
     "data": {
      "text/plain": [
       "<AxesSubplot:xlabel='pressure'>"
      ]
     },
     "execution_count": 8,
     "metadata": {},
     "output_type": "execute_result"
    },
    {
     "data": {
      "image/png": "[encoded data removed]",
      "text/plain": [
       "<Figure size 432x288 with 1 Axes>"
      ]
     },
     "metadata": {
      "needs_background": "light"
     },
     "output_type": "display_data"
    }
   ],
   "source": [
    "pressure3 = Pressure(value=[2000,2500,3000,3500], unit=\"psi\")\n",
    "pb3 = Pressure(value=2500, unit=\"psi\")\n",
    "temperature3 = Temperature(value=180, unit=\"farenheit\")\n",
    "api3 = 31\n",
    "sg3 = 0.95\n",
    "co = 9.61e-6\n",
    "rs3 = [516,673,673,673]\n",
    "\n",
    "co = bk.co(\n",
    "    pressure = pressure3,\n",
    "    rs = rs3,\n",
    "    pb = pb3,\n",
    "    temperature=temperature3,\n",
    "    sg_gas = sg3,\n",
    "    api = api3\n",
    ")\n",
    "\n",
    "print(co)\n",
    "bk.bo(\n",
    "    pressure = pressure3,\n",
    "    rs = rs3,\n",
    "    pb = pb3,\n",
    "    temperature = temperature3,\n",
    "    api = api3,\n",
    "    sg_gas = sg3,\n",
    "    co = co['co'].values,\n",
    "    method = 'standing'\n",
    ").plot()"
   ]
  },
  {
   "cell_type": "code",
   "execution_count": 9,
   "metadata": {},
   "outputs": [
    {
     "data": {
      "text/html": [
       "<div>\n",
       "<style scoped>\n",
       "    .dataframe tbody tr th:only-of-type {\n",
       "        vertical-align: middle;\n",
       "    }\n",
       "\n",
       "    .dataframe tbody tr th {\n",
       "        vertical-align: top;\n",
       "    }\n",
       "\n",
       "    .dataframe thead th {\n",
       "        text-align: right;\n",
       "    }\n",
       "</style>\n",
       "<table border=\"1\" class=\"dataframe\">\n",
       "  <thead>\n",
       "    <tr style=\"text-align: right;\">\n",
       "      <th></th>\n",
       "      <th>bo_standing</th>\n",
       "      <th>bo_vazquez_beggs</th>\n",
       "      <th>bo_glaso</th>\n",
       "    </tr>\n",
       "    <tr>\n",
       "      <th>pressure</th>\n",
       "      <th></th>\n",
       "      <th></th>\n",
       "      <th></th>\n",
       "    </tr>\n",
       "  </thead>\n",
       "  <tbody>\n",
       "    <tr>\n",
       "      <th>2000.0</th>\n",
       "      <td>1.321735</td>\n",
       "      <td>1.286747</td>\n",
       "      <td>1.298191</td>\n",
       "    </tr>\n",
       "    <tr>\n",
       "      <th>2500.0</th>\n",
       "      <td>1.412629</td>\n",
       "      <td>1.360888</td>\n",
       "      <td>1.390969</td>\n",
       "    </tr>\n",
       "    <tr>\n",
       "      <th>3000.0</th>\n",
       "      <td>1.402546</td>\n",
       "      <td>1.351175</td>\n",
       "      <td>1.381040</td>\n",
       "    </tr>\n",
       "    <tr>\n",
       "      <th>3500.0</th>\n",
       "      <td>1.395388</td>\n",
       "      <td>1.344279</td>\n",
       "      <td>1.373992</td>\n",
       "    </tr>\n",
       "  </tbody>\n",
       "</table>\n",
       "</div>"
      ],
      "text/plain": [
       "          bo_standing  bo_vazquez_beggs  bo_glaso\n",
       "pressure                                         \n",
       "2000.0       1.321735          1.286747  1.298191\n",
       "2500.0       1.412629          1.360888  1.390969\n",
       "3000.0       1.402546          1.351175  1.381040\n",
       "3500.0       1.395388          1.344279  1.373992"
      ]
     },
     "execution_count": 9,
     "metadata": {},
     "output_type": "execute_result"
    }
   ],
   "source": [
    "bk.bo(\n",
    "    pressure = pressure3,\n",
    "    rs = rs3,\n",
    "    pb = pb3,\n",
    "    temperature = temperature3,\n",
    "    api = api3,\n",
    "    sg_gas = sg3,\n",
    "    co = co['co'].values,\n",
    "    method = ['standing','vazquez_beggs','glaso']\n",
    ")"
   ]
  },
  {
   "cell_type": "markdown",
   "metadata": {},
   "source": [
    "# Muod"
   ]
  },
  {
   "cell_type": "code",
   "execution_count": 10,
   "metadata": {},
   "outputs": [
    {
     "data": {
      "text/html": [
       "<div>\n",
       "<style scoped>\n",
       "    .dataframe tbody tr th:only-of-type {\n",
       "        vertical-align: middle;\n",
       "    }\n",
       "\n",
       "    .dataframe tbody tr th {\n",
       "        vertical-align: top;\n",
       "    }\n",
       "\n",
       "    .dataframe thead th {\n",
       "        text-align: right;\n",
       "    }\n",
       "</style>\n",
       "<table border=\"1\" class=\"dataframe\">\n",
       "  <thead>\n",
       "    <tr style=\"text-align: right;\">\n",
       "      <th></th>\n",
       "      <th>muod</th>\n",
       "    </tr>\n",
       "    <tr>\n",
       "      <th>temp</th>\n",
       "      <th></th>\n",
       "    </tr>\n",
       "  </thead>\n",
       "  <tbody>\n",
       "    <tr>\n",
       "      <th>180.0</th>\n",
       "      <td>2.654527</td>\n",
       "    </tr>\n",
       "    <tr>\n",
       "      <th>250.0</th>\n",
       "      <td>1.140414</td>\n",
       "    </tr>\n",
       "  </tbody>\n",
       "</table>\n",
       "</div>"
      ],
      "text/plain": [
       "           muod\n",
       "temp           \n",
       "180.0  2.654527\n",
       "250.0  1.140414"
      ]
     },
     "execution_count": 10,
     "metadata": {},
     "output_type": "execute_result"
    }
   ],
   "source": [
    "temperature5 = Temperature(value=[180,250], unit=\"farenheit\")\n",
    "api5 = 31\n",
    "\n",
    "bk.muod(\n",
    "    temperature = temperature5,\n",
    "    api = api5,\n",
    "    method = 'beal'\n",
    ")"
   ]
  },
  {
   "cell_type": "code",
   "execution_count": 11,
   "metadata": {},
   "outputs": [
    {
     "data": {
      "text/html": [
       "<div>\n",
       "<style scoped>\n",
       "    .dataframe tbody tr th:only-of-type {\n",
       "        vertical-align: middle;\n",
       "    }\n",
       "\n",
       "    .dataframe tbody tr th {\n",
       "        vertical-align: top;\n",
       "    }\n",
       "\n",
       "    .dataframe thead th {\n",
       "        text-align: right;\n",
       "    }\n",
       "</style>\n",
       "<table border=\"1\" class=\"dataframe\">\n",
       "  <thead>\n",
       "    <tr style=\"text-align: right;\">\n",
       "      <th></th>\n",
       "      <th>muod_beal</th>\n",
       "      <th>muod_beggs</th>\n",
       "      <th>muod_glaso</th>\n",
       "    </tr>\n",
       "    <tr>\n",
       "      <th>temp</th>\n",
       "      <th></th>\n",
       "      <th></th>\n",
       "      <th></th>\n",
       "    </tr>\n",
       "  </thead>\n",
       "  <tbody>\n",
       "    <tr>\n",
       "      <th>180.0</th>\n",
       "      <td>2.654527</td>\n",
       "      <td>3.035358</td>\n",
       "      <td>2.758240</td>\n",
       "    </tr>\n",
       "    <tr>\n",
       "      <th>250.0</th>\n",
       "      <td>1.140414</td>\n",
       "      <td>1.591139</td>\n",
       "      <td>1.602075</td>\n",
       "    </tr>\n",
       "  </tbody>\n",
       "</table>\n",
       "</div>"
      ],
      "text/plain": [
       "       muod_beal  muod_beggs  muod_glaso\n",
       "temp                                    \n",
       "180.0   2.654527    3.035358    2.758240\n",
       "250.0   1.140414    1.591139    1.602075"
      ]
     },
     "execution_count": 11,
     "metadata": {},
     "output_type": "execute_result"
    }
   ],
   "source": [
    "bk.muod(\n",
    "    temperature = temperature5,\n",
    "    api = api5,\n",
    "    method = ['beal','beggs','glaso']\n",
    ")"
   ]
  },
  {
   "cell_type": "markdown",
   "metadata": {},
   "source": [
    "# Muo"
   ]
  },
  {
   "cell_type": "code",
   "execution_count": 12,
   "metadata": {},
   "outputs": [
    {
     "data": {
      "text/html": [
       "<div>\n",
       "<style scoped>\n",
       "    .dataframe tbody tr th:only-of-type {\n",
       "        vertical-align: middle;\n",
       "    }\n",
       "\n",
       "    .dataframe tbody tr th {\n",
       "        vertical-align: top;\n",
       "    }\n",
       "\n",
       "    .dataframe thead th {\n",
       "        text-align: right;\n",
       "    }\n",
       "</style>\n",
       "<table border=\"1\" class=\"dataframe\">\n",
       "  <thead>\n",
       "    <tr style=\"text-align: right;\">\n",
       "      <th></th>\n",
       "      <th>muo</th>\n",
       "    </tr>\n",
       "    <tr>\n",
       "      <th>pressure</th>\n",
       "      <th></th>\n",
       "    </tr>\n",
       "  </thead>\n",
       "  <tbody>\n",
       "    <tr>\n",
       "      <th>4500.0</th>\n",
       "      <td>0.753756</td>\n",
       "    </tr>\n",
       "    <tr>\n",
       "      <th>3000.0</th>\n",
       "      <td>0.634152</td>\n",
       "    </tr>\n",
       "    <tr>\n",
       "      <th>2500.0</th>\n",
       "      <td>0.604104</td>\n",
       "    </tr>\n",
       "    <tr>\n",
       "      <th>2000.0</th>\n",
       "      <td>0.707262</td>\n",
       "    </tr>\n",
       "    <tr>\n",
       "      <th>1500.0</th>\n",
       "      <td>0.802196</td>\n",
       "    </tr>\n",
       "  </tbody>\n",
       "</table>\n",
       "</div>"
      ],
      "text/plain": [
       "               muo\n",
       "pressure          \n",
       "4500.0    0.753756\n",
       "3000.0    0.634152\n",
       "2500.0    0.604104\n",
       "2000.0    0.707262\n",
       "1500.0    0.802196"
      ]
     },
     "execution_count": 12,
     "metadata": {},
     "output_type": "execute_result"
    }
   ],
   "source": [
    "pressure6 = Pressure(value=[4500,3000,2500,2000,1500], unit=\"psi\")\n",
    "rs6 = [673,673,673,516,415]\n",
    "pb6 = Pressure(value=2500, unit=\"psi\")\n",
    "rsb6 = 673\n",
    "temperature6 = Temperature(value=180, unit=\"farenheit\")\n",
    "api6 = 31\n",
    "\n",
    "bk.muo(\n",
    "    pressure = pressure6,\n",
    "    rs = rs6,\n",
    "    pb = pb6,\n",
    "    rsb = rsb6,\n",
    "    temperature = temperature6,\n",
    "    api = api6\n",
    ")"
   ]
  },
  {
   "cell_type": "markdown",
   "metadata": {},
   "source": [
    "# Rho"
   ]
  },
  {
   "cell_type": "code",
   "execution_count": 13,
   "metadata": {},
   "outputs": [
    {
     "name": "stdout",
     "output_type": "stream",
     "text": [
      "                co\n",
      "pressure          \n",
      "4500.0    0.000010\n",
      "3000.0    0.000014\n",
      "2500.0    0.000017\n",
      "2000.0    0.000027\n",
      "1500.0    0.000041\n"
     ]
    },
    {
     "data": {
      "text/plain": [
       "<AxesSubplot:xlabel='pressure'>"
      ]
     },
     "execution_count": 13,
     "metadata": {},
     "output_type": "execute_result"
    },
    {
     "data": {
      "image/png": "[encoded data removed]",
      "text/plain": [
       "<Figure size 432x288 with 1 Axes>"
      ]
     },
     "metadata": {
      "needs_background": "light"
     },
     "output_type": "display_data"
    }
   ],
   "source": [
    "pressure7 = Pressure(value=[4500,3000,2500,2000,1500], unit=\"psi\")\n",
    "rs7 = [673,673,673,516,415]\n",
    "pb7 = Pressure(value=2500, unit=\"psi\")\n",
    "rsb7 = 673\n",
    "bob = 1.3\n",
    "temperature7 = Temperature(value=180, unit=\"farenheit\")\n",
    "api7 = 31\n",
    "sg7 = 0.95\n",
    "\n",
    "\n",
    "co = bk.co(\n",
    "    pressure = pressure7,\n",
    "    rs = rs7,\n",
    "    pb = pb7,\n",
    "    temperature=temperature7,\n",
    "    sg_gas = sg7,\n",
    "    api = api7\n",
    ")\n",
    "print(co)\n",
    "\n",
    "bo = bk.bo(\n",
    "    pressure = pressure7,\n",
    "    rs = rs7,\n",
    "    pb = pb7,\n",
    "    temperature = temperature7,\n",
    "    api = api7,\n",
    "    sg_gas = sg7,\n",
    "    co = co['co'].values,\n",
    "    method = 'standing'\n",
    ")\n",
    "\n",
    "\n",
    "\n",
    "bk.rho_oil(\n",
    "    pressure = pressure7,\n",
    "    co = co['co'].values,\n",
    "    bo = bo['bo'].values,\n",
    "    bob = bo.loc[2500,'bo'],\n",
    "    rs = rs7,\n",
    "    rsb = 673,\n",
    "    api = api7,\n",
    "    pb = pb7\n",
    ").plot()"
   ]
  },
  {
   "cell_type": "code",
   "execution_count": null,
   "metadata": {},
   "outputs": [],
   "source": []
  }
 ],
 "metadata": {
  "interpreter": {
   "hash": "372bbe80e8e5f52caf70b607bc2a566f3c8d0912b9dd67ebdb62a91dc247847c"
  },
  "kernelspec": {
   "display_name": "Python 3.8.12 64-bit ('pvtpy': conda)",
   "name": "python3"
  },
  "language_info": {
   "codemirror_mode": {
    "name": "ipython",
    "version": 3
   },
   "file_extension": ".py",
   "mimetype": "text/x-python",
   "name": "python",
   "nbconvert_exporter": "python",
   "pygments_lexer": "ipython3",
   "version": "3.8.12"
  },
  "orig_nbformat": 4
 },
 "nbformat": 4,
 "nbformat_minor": 2
}
