{
 "cells": [
  {
   "cell_type": "code",
   "execution_count": 1,
   "metadata": {},
   "outputs": [],
   "source": [
    "# Gas Correlations"
   ]
  },
  {
   "cell_type": "code",
   "execution_count": 2,
   "metadata": {},
   "outputs": [],
   "source": [
    "import numpy as np\n",
    "import pandas as pd\n",
    "import pvtpy.black_oil as bk\n",
    "from pvtpy.units import Pressure, Temperature\n",
    "from pvtpy.compositional import Chromatography"
   ]
  },
  {
   "cell_type": "markdown",
   "metadata": {},
   "source": [
    "# Rhog"
   ]
  },
  {
   "cell_type": "code",
   "execution_count": 3,
   "metadata": {},
   "outputs": [
    {
     "data": {
      "text/html": [
       "<div>\n",
       "<style scoped>\n",
       "    .dataframe tbody tr th:only-of-type {\n",
       "        vertical-align: middle;\n",
       "    }\n",
       "\n",
       "    .dataframe tbody tr th {\n",
       "        vertical-align: top;\n",
       "    }\n",
       "\n",
       "    .dataframe thead th {\n",
       "        text-align: right;\n",
       "    }\n",
       "</style>\n",
       "<table border=\"1\" class=\"dataframe\">\n",
       "  <thead>\n",
       "    <tr style=\"text-align: right;\">\n",
       "      <th></th>\n",
       "      <th>rhog</th>\n",
       "    </tr>\n",
       "    <tr>\n",
       "      <th>pressure</th>\n",
       "      <th></th>\n",
       "    </tr>\n",
       "  </thead>\n",
       "  <tbody>\n",
       "    <tr>\n",
       "      <th>2500.0</th>\n",
       "      <td>7.909734</td>\n",
       "    </tr>\n",
       "  </tbody>\n",
       "</table>\n",
       "</div>"
      ],
      "text/plain": [
       "              rhog\n",
       "pressure          \n",
       "2500.0    7.909734"
      ]
     },
     "execution_count": 3,
     "metadata": {},
     "output_type": "execute_result"
    }
   ],
   "source": [
    "p1 = Pressure(value=2500, unit=\"psi\")\n",
    "t1 = Temperature(value=100, unit=\"farenheit\")\n",
    "ma1 = 19.0\n",
    "z1 = 0.94\n",
    "\n",
    "bk.rhog(\n",
    "    pressure=p1,\n",
    "    ma = ma1,\n",
    "    z = z1,\n",
    "    temperature=t1,\n",
    "    method=\"ideal_gas\"\n",
    ")"
   ]
  },
  {
   "cell_type": "code",
   "execution_count": 4,
   "metadata": {},
   "outputs": [
    {
     "data": {
      "text/html": [
       "<div>\n",
       "<style scoped>\n",
       "    .dataframe tbody tr th:only-of-type {\n",
       "        vertical-align: middle;\n",
       "    }\n",
       "\n",
       "    .dataframe tbody tr th {\n",
       "        vertical-align: top;\n",
       "    }\n",
       "\n",
       "    .dataframe thead th {\n",
       "        text-align: right;\n",
       "    }\n",
       "</style>\n",
       "<table border=\"1\" class=\"dataframe\">\n",
       "  <thead>\n",
       "    <tr style=\"text-align: right;\">\n",
       "      <th></th>\n",
       "      <th>real_gas</th>\n",
       "      <th>ideal_gas</th>\n",
       "    </tr>\n",
       "    <tr>\n",
       "      <th>pressure</th>\n",
       "      <th></th>\n",
       "      <th></th>\n",
       "    </tr>\n",
       "  </thead>\n",
       "  <tbody>\n",
       "    <tr>\n",
       "      <th>2500.0</th>\n",
       "      <td>8.41461</td>\n",
       "      <td>7.909734</td>\n",
       "    </tr>\n",
       "  </tbody>\n",
       "</table>\n",
       "</div>"
      ],
      "text/plain": [
       "          real_gas  ideal_gas\n",
       "pressure                     \n",
       "2500.0     8.41461   7.909734"
      ]
     },
     "execution_count": 4,
     "metadata": {},
     "output_type": "execute_result"
    }
   ],
   "source": [
    "bk.rhog(\n",
    "    pressure=p1,\n",
    "    ma = ma1,\n",
    "    z = z1,\n",
    "    temperature=t1,\n",
    "    method=[\"ideal_gas\",'real_gas']\n",
    ")"
   ]
  },
  {
   "cell_type": "code",
   "execution_count": 5,
   "metadata": {},
   "outputs": [
    {
     "data": {
      "text/plain": [
       "CriticalProperties(critical_pressure=Pressure(value=669.360149972895, unit=<PressureUnits.psi: 'psi'>), critical_temperature=Temperature(value=349.14373275221504, unit=<TemperatureUnits.farenheit: 'farenheit'>))"
      ]
     },
     "execution_count": 5,
     "metadata": {},
     "output_type": "execute_result"
    }
   ],
   "source": [
    "composition_dict = {\n",
    "    'mole_fraction':[0.0194,0.004,0.9598,0.0023,0.0057,0.0062,0.0006,0.0003,0.0001,0.0005,0.001,0.0001],\n",
    "    'compound':['carbon-dioxide','nitrogen','methane','ethane','propane','isobutane','n-butane','isopentane','n-pentane','n-hexane','n-heptane','n-octane']\n",
    "}\n",
    "chr = Chromatography()\n",
    "chr.from_df(pd.DataFrame(composition_dict), name='compound', mole_fraction='mole_fraction')\n",
    "\n",
    "cp = chr.get_pseudo_critical_properties()\n",
    "cp\n",
    "\n",
    "\n"
   ]
  },
  {
   "cell_type": "code",
   "execution_count": 16,
   "metadata": {},
   "outputs": [
    {
     "data": {
      "text/html": [
       "<div>\n",
       "<style scoped>\n",
       "    .dataframe tbody tr th:only-of-type {\n",
       "        vertical-align: middle;\n",
       "    }\n",
       "\n",
       "    .dataframe tbody tr th {\n",
       "        vertical-align: top;\n",
       "    }\n",
       "\n",
       "    .dataframe thead th {\n",
       "        text-align: right;\n",
       "    }\n",
       "</style>\n",
       "<table border=\"1\" class=\"dataframe\">\n",
       "  <thead>\n",
       "    <tr style=\"text-align: right;\">\n",
       "      <th></th>\n",
       "      <th>acentric_factor</th>\n",
       "      <th>cas</th>\n",
       "      <th>critical_pressure</th>\n",
       "      <th>critical_temperature</th>\n",
       "      <th>formula</th>\n",
       "      <th>id</th>\n",
       "      <th>iupac</th>\n",
       "      <th>iupac_key</th>\n",
       "      <th>mole_fraction</th>\n",
       "      <th>molecular_weight</th>\n",
       "      <th>peng_robinson</th>\n",
       "      <th>redlich_kwong</th>\n",
       "      <th>soave_redlich_kwong</th>\n",
       "      <th>van_der_walls</th>\n",
       "    </tr>\n",
       "  </thead>\n",
       "  <tbody>\n",
       "    <tr>\n",
       "      <th>carbon-dioxide</th>\n",
       "      <td>0.2276</td>\n",
       "      <td>124-38-9</td>\n",
       "      <td>1071.0</td>\n",
       "      <td>87.91</td>\n",
       "      <td>CO2</td>\n",
       "      <td>50.0</td>\n",
       "      <td>1S/CO2/c2-1-3</td>\n",
       "      <td>CURLTUGMZLYLDI-UHFFFAOYSA-N</td>\n",
       "      <td>0.019414</td>\n",
       "      <td>44.0100</td>\n",
       "      <td>{}</td>\n",
       "      <td>{}</td>\n",
       "      <td>{}</td>\n",
       "      <td>{}</td>\n",
       "    </tr>\n",
       "    <tr>\n",
       "      <th>nitrogen</th>\n",
       "      <td>0.0403</td>\n",
       "      <td>7727-37-9</td>\n",
       "      <td>493.1</td>\n",
       "      <td>-232.51</td>\n",
       "      <td>N2</td>\n",
       "      <td>56.0</td>\n",
       "      <td>1S/N2/c1-2</td>\n",
       "      <td>IJGRMHOSHXDMSA-UHFFFAOYSA-N</td>\n",
       "      <td>0.004003</td>\n",
       "      <td>28.0134</td>\n",
       "      <td>{}</td>\n",
       "      <td>{}</td>\n",
       "      <td>{}</td>\n",
       "      <td>{}</td>\n",
       "    </tr>\n",
       "    <tr>\n",
       "      <th>methane</th>\n",
       "      <td>0.0115</td>\n",
       "      <td>74-82-8</td>\n",
       "      <td>666.4</td>\n",
       "      <td>-116.67</td>\n",
       "      <td>CH4</td>\n",
       "      <td>1.0</td>\n",
       "      <td>1S/CH4/h1H4</td>\n",
       "      <td>VNWKTOKETHGBQD-UHFFFAOYSA-N</td>\n",
       "      <td>0.960472</td>\n",
       "      <td>16.0425</td>\n",
       "      <td>{}</td>\n",
       "      <td>{}</td>\n",
       "      <td>{}</td>\n",
       "      <td>{}</td>\n",
       "    </tr>\n",
       "    <tr>\n",
       "      <th>ethane</th>\n",
       "      <td>0.0995</td>\n",
       "      <td>74-84-0</td>\n",
       "      <td>706.5</td>\n",
       "      <td>89.92</td>\n",
       "      <td>C2H6</td>\n",
       "      <td>2.0</td>\n",
       "      <td>1S/C2H6/c1-2/h1-2H3</td>\n",
       "      <td>OTMSDBZUPAUEDD-UHFFFAOYSA-N</td>\n",
       "      <td>0.002302</td>\n",
       "      <td>30.0700</td>\n",
       "      <td>{}</td>\n",
       "      <td>{}</td>\n",
       "      <td>{}</td>\n",
       "      <td>{}</td>\n",
       "    </tr>\n",
       "    <tr>\n",
       "      <th>propane</th>\n",
       "      <td>0.1523</td>\n",
       "      <td>74-98-6</td>\n",
       "      <td>616.0</td>\n",
       "      <td>206.06</td>\n",
       "      <td>C3H8</td>\n",
       "      <td>3.0</td>\n",
       "      <td>1S/C3H8/c1-3-2/h3H2;1-2H3</td>\n",
       "      <td>ATUOYWHBWRKTHZ-UHFFFAOYSA-N</td>\n",
       "      <td>0.005704</td>\n",
       "      <td>44.0970</td>\n",
       "      <td>{}</td>\n",
       "      <td>{}</td>\n",
       "      <td>{}</td>\n",
       "      <td>{}</td>\n",
       "    </tr>\n",
       "    <tr>\n",
       "      <th>isobutane</th>\n",
       "      <td>0.1770</td>\n",
       "      <td>75-28-5</td>\n",
       "      <td>527.9</td>\n",
       "      <td>274.46</td>\n",
       "      <td>C4H10</td>\n",
       "      <td>4.0</td>\n",
       "      <td>1S/C4H10/c1-4(2)3/h4H;1-3H3</td>\n",
       "      <td>NNPPMTNAJDCUHE-UHFFFAOYSA-N</td>\n",
       "      <td>0.006204</td>\n",
       "      <td>58.1230</td>\n",
       "      <td>{}</td>\n",
       "      <td>{}</td>\n",
       "      <td>{}</td>\n",
       "      <td>{}</td>\n",
       "    </tr>\n",
       "    <tr>\n",
       "      <th>isopentane</th>\n",
       "      <td>0.2275</td>\n",
       "      <td>78-78-4</td>\n",
       "      <td>490.4</td>\n",
       "      <td>369.10</td>\n",
       "      <td>C5H12</td>\n",
       "      <td>6.0</td>\n",
       "      <td>1S/C5H12/c1-4-5(2)3/h5H;4H2;1-3H3</td>\n",
       "      <td>QWTDNUCVQCZILF-UHFFFAOYSA-N</td>\n",
       "      <td>0.000300</td>\n",
       "      <td>72.1500</td>\n",
       "      <td>{}</td>\n",
       "      <td>{}</td>\n",
       "      <td>{}</td>\n",
       "      <td>{}</td>\n",
       "    </tr>\n",
       "    <tr>\n",
       "      <th>n-hexane</th>\n",
       "      <td>0.3013</td>\n",
       "      <td>110-54-3</td>\n",
       "      <td>436.9</td>\n",
       "      <td>453.60</td>\n",
       "      <td>C6H14</td>\n",
       "      <td>9.0</td>\n",
       "      <td>1S/C6H14/c1-3-5-6-4-2/h3-6H2;1-2H3</td>\n",
       "      <td>VLKZOEOYAKHREP-UHFFFAOYSA-N</td>\n",
       "      <td>0.000500</td>\n",
       "      <td>86.1770</td>\n",
       "      <td>{}</td>\n",
       "      <td>{}</td>\n",
       "      <td>{}</td>\n",
       "      <td>{}</td>\n",
       "    </tr>\n",
       "    <tr>\n",
       "      <th>n-heptane</th>\n",
       "      <td>0.3495</td>\n",
       "      <td>142-82-5</td>\n",
       "      <td>396.8</td>\n",
       "      <td>512.70</td>\n",
       "      <td>C7H16</td>\n",
       "      <td>14.0</td>\n",
       "      <td>1S/C7H16/c1-3-5-7-6-4-2/h3-7H2;1-2H3</td>\n",
       "      <td>IMNFDUFMRHMDMM-UHFFFAOYSA-N</td>\n",
       "      <td>0.001001</td>\n",
       "      <td>100.2040</td>\n",
       "      <td>{}</td>\n",
       "      <td>{}</td>\n",
       "      <td>{}</td>\n",
       "      <td>{}</td>\n",
       "    </tr>\n",
       "    <tr>\n",
       "      <th>n-octane</th>\n",
       "      <td>0.3996</td>\n",
       "      <td>111-65-9</td>\n",
       "      <td>360.7</td>\n",
       "      <td>564.22</td>\n",
       "      <td>C8H18</td>\n",
       "      <td>22.0</td>\n",
       "      <td>1S/C8H18/c1-3-5-7-8-6-4-2/h3-8H2;1-2H3</td>\n",
       "      <td>TVMXDCGIABBOFY-UHFFFAOYSA-N</td>\n",
       "      <td>0.000100</td>\n",
       "      <td>114.2310</td>\n",
       "      <td>{}</td>\n",
       "      <td>{}</td>\n",
       "      <td>{}</td>\n",
       "      <td>{}</td>\n",
       "    </tr>\n",
       "  </tbody>\n",
       "</table>\n",
       "</div>"
      ],
      "text/plain": [
       "                acentric_factor        cas  critical_pressure  \\\n",
       "carbon-dioxide           0.2276   124-38-9             1071.0   \n",
       "nitrogen                 0.0403  7727-37-9              493.1   \n",
       "methane                  0.0115    74-82-8              666.4   \n",
       "ethane                   0.0995    74-84-0              706.5   \n",
       "propane                  0.1523    74-98-6              616.0   \n",
       "isobutane                0.1770    75-28-5              527.9   \n",
       "isopentane               0.2275    78-78-4              490.4   \n",
       "n-hexane                 0.3013   110-54-3              436.9   \n",
       "n-heptane                0.3495   142-82-5              396.8   \n",
       "n-octane                 0.3996   111-65-9              360.7   \n",
       "\n",
       "                critical_temperature formula    id  \\\n",
       "carbon-dioxide                 87.91     CO2  50.0   \n",
       "nitrogen                     -232.51      N2  56.0   \n",
       "methane                      -116.67     CH4   1.0   \n",
       "ethane                         89.92    C2H6   2.0   \n",
       "propane                       206.06    C3H8   3.0   \n",
       "isobutane                     274.46   C4H10   4.0   \n",
       "isopentane                    369.10   C5H12   6.0   \n",
       "n-hexane                      453.60   C6H14   9.0   \n",
       "n-heptane                     512.70   C7H16  14.0   \n",
       "n-octane                      564.22   C8H18  22.0   \n",
       "\n",
       "                                                 iupac  \\\n",
       "carbon-dioxide                           1S/CO2/c2-1-3   \n",
       "nitrogen                                    1S/N2/c1-2   \n",
       "methane                                    1S/CH4/h1H4   \n",
       "ethane                             1S/C2H6/c1-2/h1-2H3   \n",
       "propane                      1S/C3H8/c1-3-2/h3H2;1-2H3   \n",
       "isobutane                  1S/C4H10/c1-4(2)3/h4H;1-3H3   \n",
       "isopentane           1S/C5H12/c1-4-5(2)3/h5H;4H2;1-3H3   \n",
       "n-hexane            1S/C6H14/c1-3-5-6-4-2/h3-6H2;1-2H3   \n",
       "n-heptane         1S/C7H16/c1-3-5-7-6-4-2/h3-7H2;1-2H3   \n",
       "n-octane        1S/C8H18/c1-3-5-7-8-6-4-2/h3-8H2;1-2H3   \n",
       "\n",
       "                                  iupac_key  mole_fraction  molecular_weight  \\\n",
       "carbon-dioxide  CURLTUGMZLYLDI-UHFFFAOYSA-N       0.019414           44.0100   \n",
       "nitrogen        IJGRMHOSHXDMSA-UHFFFAOYSA-N       0.004003           28.0134   \n",
       "methane         VNWKTOKETHGBQD-UHFFFAOYSA-N       0.960472           16.0425   \n",
       "ethane          OTMSDBZUPAUEDD-UHFFFAOYSA-N       0.002302           30.0700   \n",
       "propane         ATUOYWHBWRKTHZ-UHFFFAOYSA-N       0.005704           44.0970   \n",
       "isobutane       NNPPMTNAJDCUHE-UHFFFAOYSA-N       0.006204           58.1230   \n",
       "isopentane      QWTDNUCVQCZILF-UHFFFAOYSA-N       0.000300           72.1500   \n",
       "n-hexane        VLKZOEOYAKHREP-UHFFFAOYSA-N       0.000500           86.1770   \n",
       "n-heptane       IMNFDUFMRHMDMM-UHFFFAOYSA-N       0.001001          100.2040   \n",
       "n-octane        TVMXDCGIABBOFY-UHFFFAOYSA-N       0.000100          114.2310   \n",
       "\n",
       "               peng_robinson redlich_kwong soave_redlich_kwong van_der_walls  \n",
       "carbon-dioxide            {}            {}                  {}            {}  \n",
       "nitrogen                  {}            {}                  {}            {}  \n",
       "methane                   {}            {}                  {}            {}  \n",
       "ethane                    {}            {}                  {}            {}  \n",
       "propane                   {}            {}                  {}            {}  \n",
       "isobutane                 {}            {}                  {}            {}  \n",
       "isopentane                {}            {}                  {}            {}  \n",
       "n-hexane                  {}            {}                  {}            {}  \n",
       "n-heptane                 {}            {}                  {}            {}  \n",
       "n-octane                  {}            {}                  {}            {}  "
      ]
     },
     "execution_count": 16,
     "metadata": {},
     "output_type": "execute_result"
    }
   ],
   "source": [
    "chr.df()"
   ]
  },
  {
   "cell_type": "markdown",
   "metadata": {},
   "source": [
    "# Z"
   ]
  },
  {
   "cell_type": "code",
   "execution_count": 6,
   "metadata": {},
   "outputs": [
    {
     "data": {
      "text/html": [
       "<div>\n",
       "<style scoped>\n",
       "    .dataframe tbody tr th:only-of-type {\n",
       "        vertical-align: middle;\n",
       "    }\n",
       "\n",
       "    .dataframe tbody tr th {\n",
       "        vertical-align: top;\n",
       "    }\n",
       "\n",
       "    .dataframe thead th {\n",
       "        text-align: right;\n",
       "    }\n",
       "</style>\n",
       "<table border=\"1\" class=\"dataframe\">\n",
       "  <thead>\n",
       "    <tr style=\"text-align: right;\">\n",
       "      <th></th>\n",
       "      <th>z</th>\n",
       "    </tr>\n",
       "    <tr>\n",
       "      <th>pressure</th>\n",
       "      <th></th>\n",
       "    </tr>\n",
       "  </thead>\n",
       "  <tbody>\n",
       "    <tr>\n",
       "      <th>3500.0</th>\n",
       "      <td>-0.482622</td>\n",
       "    </tr>\n",
       "  </tbody>\n",
       "</table>\n",
       "</div>"
      ],
      "text/plain": [
       "                 z\n",
       "pressure          \n",
       "3500.0   -0.482622"
      ]
     },
     "execution_count": 6,
     "metadata": {},
     "output_type": "execute_result"
    }
   ],
   "source": [
    "p1 = Pressure(value=3500, unit=\"psi\")\n",
    "t1 = Temperature(value=160, unit=\"farenheit\")\n",
    "\n",
    "z = bk.z_factor(\n",
    "    pressure=p1,\n",
    "    temperature=t1,\n",
    "    critical_properties=cp,\n",
    "    method='papay'\n",
    ")\n",
    "z"
   ]
  },
  {
   "cell_type": "code",
   "execution_count": 7,
   "metadata": {},
   "outputs": [],
   "source": [
    "ma = chr.apparent_molecular_weight()"
   ]
  },
  {
   "cell_type": "code",
   "execution_count": 8,
   "metadata": {},
   "outputs": [
    {
     "data": {
      "text/html": [
       "<div>\n",
       "<style scoped>\n",
       "    .dataframe tbody tr th:only-of-type {\n",
       "        vertical-align: middle;\n",
       "    }\n",
       "\n",
       "    .dataframe tbody tr th {\n",
       "        vertical-align: top;\n",
       "    }\n",
       "\n",
       "    .dataframe thead th {\n",
       "        text-align: right;\n",
       "    }\n",
       "</style>\n",
       "<table border=\"1\" class=\"dataframe\">\n",
       "  <thead>\n",
       "    <tr style=\"text-align: right;\">\n",
       "      <th></th>\n",
       "      <th>real_gas</th>\n",
       "      <th>ideal_gas</th>\n",
       "    </tr>\n",
       "    <tr>\n",
       "      <th>pressure</th>\n",
       "      <th></th>\n",
       "      <th></th>\n",
       "    </tr>\n",
       "  </thead>\n",
       "  <tbody>\n",
       "    <tr>\n",
       "      <th>3500.0</th>\n",
       "      <td>-18.795548</td>\n",
       "      <td>9.071146</td>\n",
       "    </tr>\n",
       "  </tbody>\n",
       "</table>\n",
       "</div>"
      ],
      "text/plain": [
       "           real_gas  ideal_gas\n",
       "pressure                      \n",
       "3500.0   -18.795548   9.071146"
      ]
     },
     "execution_count": 8,
     "metadata": {},
     "output_type": "execute_result"
    }
   ],
   "source": [
    "bk.rhog(\n",
    "    pressure=p1,\n",
    "    ma = ma,\n",
    "    z = z['z'].values,\n",
    "    temperature=t1,\n",
    "    method=[\"ideal_gas\",'real_gas']\n",
    ")"
   ]
  },
  {
   "cell_type": "code",
   "execution_count": 9,
   "metadata": {},
   "outputs": [
    {
     "data": {
      "text/html": [
       "<div>\n",
       "<style scoped>\n",
       "    .dataframe tbody tr th:only-of-type {\n",
       "        vertical-align: middle;\n",
       "    }\n",
       "\n",
       "    .dataframe tbody tr th {\n",
       "        vertical-align: top;\n",
       "    }\n",
       "\n",
       "    .dataframe thead th {\n",
       "        text-align: right;\n",
       "    }\n",
       "</style>\n",
       "<table border=\"1\" class=\"dataframe\">\n",
       "  <thead>\n",
       "    <tr style=\"text-align: right;\">\n",
       "      <th></th>\n",
       "      <th>bg_ft3/scf</th>\n",
       "      <th>bg_bbl/scf</th>\n",
       "    </tr>\n",
       "    <tr>\n",
       "      <th>pressure</th>\n",
       "      <th></th>\n",
       "      <th></th>\n",
       "    </tr>\n",
       "  </thead>\n",
       "  <tbody>\n",
       "    <tr>\n",
       "      <th>3500.0</th>\n",
       "      <td>-0.002416</td>\n",
       "      <td>-0.00043</td>\n",
       "    </tr>\n",
       "  </tbody>\n",
       "</table>\n",
       "</div>"
      ],
      "text/plain": [
       "          bg_ft3/scf  bg_bbl/scf\n",
       "pressure                        \n",
       "3500.0     -0.002416    -0.00043"
      ]
     },
     "execution_count": 9,
     "metadata": {},
     "output_type": "execute_result"
    }
   ],
   "source": [
    "bk.bg(\n",
    "    pressure=p1,\n",
    "    temperature=t1,\n",
    "    z = z['z'].values,\n",
    "    unit=['bblscf','ft3scf']\n",
    ")"
   ]
  },
  {
   "cell_type": "code",
   "execution_count": 10,
   "metadata": {},
   "outputs": [
    {
     "data": {
      "text/html": [
       "<div>\n",
       "<style scoped>\n",
       "    .dataframe tbody tr th:only-of-type {\n",
       "        vertical-align: middle;\n",
       "    }\n",
       "\n",
       "    .dataframe tbody tr th {\n",
       "        vertical-align: top;\n",
       "    }\n",
       "\n",
       "    .dataframe thead th {\n",
       "        text-align: right;\n",
       "    }\n",
       "</style>\n",
       "<table border=\"1\" class=\"dataframe\">\n",
       "  <thead>\n",
       "    <tr style=\"text-align: right;\">\n",
       "      <th></th>\n",
       "      <th>eg_scf/ft3</th>\n",
       "      <th>eg_scf bbl</th>\n",
       "    </tr>\n",
       "    <tr>\n",
       "      <th>pressure</th>\n",
       "      <th></th>\n",
       "      <th></th>\n",
       "    </tr>\n",
       "  </thead>\n",
       "  <tbody>\n",
       "    <tr>\n",
       "      <th>3500.0</th>\n",
       "      <td>-413.938167</td>\n",
       "      <td>-2324.232965</td>\n",
       "    </tr>\n",
       "  </tbody>\n",
       "</table>\n",
       "</div>"
      ],
      "text/plain": [
       "          eg_scf/ft3   eg_scf bbl\n",
       "pressure                         \n",
       "3500.0   -413.938167 -2324.232965"
      ]
     },
     "execution_count": 10,
     "metadata": {},
     "output_type": "execute_result"
    }
   ],
   "source": [
    "bk.eg(\n",
    "    pressure=p1,\n",
    "    temperature=t1,\n",
    "    z = z['z'].values,\n",
    "    unit=['scfft3','scfbbl']\n",
    ")"
   ]
  },
  {
   "cell_type": "code",
   "execution_count": 11,
   "metadata": {},
   "outputs": [
    {
     "data": {
      "text/plain": [
       "CriticalProperties(critical_pressure=Pressure(value=669.125, unit=<PressureUnits.psi: 'psi'>), critical_temperature=Temperature(value=389.375, unit=<TemperatureUnits.rankine: 'rankine'>))"
      ]
     },
     "execution_count": 11,
     "metadata": {},
     "output_type": "execute_result"
    }
   ],
   "source": [
    "cp1=bk.critical_properties(\n",
    "    sg = 0.7\n",
    ")\n",
    "cp1"
   ]
  },
  {
   "cell_type": "code",
   "execution_count": 12,
   "metadata": {},
   "outputs": [
    {
     "data": {
      "text/plain": [
       "CriticalProperties(critical_pressure=Pressure(value=630.470283298732, unit=<PressureUnits.psi: 'psi'>), critical_temperature=Temperature(value=-91.0304426723273, unit=<TemperatureUnits.farenheit: 'farenheit'>))"
      ]
     },
     "execution_count": 12,
     "metadata": {},
     "output_type": "execute_result"
    }
   ],
   "source": [
    "cp_cor = bk.critical_properties_correction(\n",
    "    critical_properties=cp1,\n",
    "    h2s=0.1,\n",
    "    co2=0.05,\n",
    "    n2=0.0,\n",
    "    method = 'wichert_aziz'\n",
    ")\n",
    "cp_cor"
   ]
  },
  {
   "cell_type": "code",
   "execution_count": 15,
   "metadata": {},
   "outputs": [
    {
     "data": {
      "text/plain": [
       "<AxesSubplot:xlabel='pressure'>"
      ]
     },
     "execution_count": 15,
     "metadata": {},
     "output_type": "execute_result"
    },
    {
     "data": {
      "image/png": "[encoded data removed]",
      "text/plain": [
       "<Figure size 432x288 with 1 Axes>"
      ]
     },
     "metadata": {
      "needs_background": "light"
     },
     "output_type": "display_data"
    }
   ],
   "source": [
    "z = bk.z_factor(\n",
    "    pressure=Pressure(value=np.linspace(100,4000,15), unit=\"psi\"),\n",
    "    temperature=Temperature(value=160, unit=\"farenheit\"),\n",
    "    critical_properties=cp_cor,\n",
    "    method='papay'\n",
    ")\n",
    "z.plot()"
   ]
  },
  {
   "cell_type": "code",
   "execution_count": null,
   "metadata": {},
   "outputs": [],
   "source": [
    "bk.mug(\n",
    "    pressure=p1,\n",
    "    temperature=t1,\n",
    "    rhog=10,\n",
    "    ma = 17,\n",
    "    method='lee_gonzalez'\n",
    ")"
   ]
  },
  {
   "cell_type": "code",
   "execution_count": null,
   "metadata": {},
   "outputs": [],
   "source": [
    "bk.cg(pressure=p1)"
   ]
  }
 ],
 "metadata": {
  "interpreter": {
   "hash": "372bbe80e8e5f52caf70b607bc2a566f3c8d0912b9dd67ebdb62a91dc247847c"
  },
  "kernelspec": {
   "display_name": "Python 3.8.12 64-bit ('pvtpy': conda)",
   "name": "python3"
  },
  "language_info": {
   "codemirror_mode": {
    "name": "ipython",
    "version": 3
   },
   "file_extension": ".py",
   "mimetype": "text/x-python",
   "name": "python",
   "nbconvert_exporter": "python",
   "pygments_lexer": "ipython3",
   "version": "3.8.12"
  },
  "orig_nbformat": 4
 },
 "nbformat": 4,
 "nbformat_minor": 2
}
