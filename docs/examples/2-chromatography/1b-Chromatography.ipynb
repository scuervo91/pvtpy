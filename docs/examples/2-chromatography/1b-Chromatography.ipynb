{
 "metadata": {
  "language_info": {
   "codemirror_mode": {
    "name": "ipython",
    "version": 3
   },
   "file_extension": ".py",
   "mimetype": "text/x-python",
   "name": "python",
   "nbconvert_exporter": "python",
   "pygments_lexer": "ipython3",
   "version": "3.8.10"
  },
  "orig_nbformat": 4,
  "kernelspec": {
   "name": "python3",
   "display_name": "Python 3.8.10 64-bit ('pvtpy': conda)"
  },
  "interpreter": {
   "hash": "c2412f2860ef08ecfc6ffbe66d86f9328a9706bdf5bd84042edf15bb644253f5"
  }
 },
 "nbformat": 4,
 "nbformat_minor": 2,
 "cells": [
  {
   "source": [
    "# Chromatography Object \n",
    "\n",
    "You can define a Chromatography object by providing a tabulated data indexed by pressure. "
   ],
   "cell_type": "markdown",
   "metadata": {}
  },
  {
   "cell_type": "code",
   "execution_count": 1,
   "metadata": {},
   "outputs": [],
   "source": [
    "from pvtpy.compositional import Chromatography, properties_df, Component\n",
    "from pvtpy.units import Pressure, Temperature\n",
    "import numpy as np\n",
    "import pandas as pd"
   ]
  },
  {
   "source": [
    "Pvtpy has built-in a dataframe with 64 components and its critical values. You can display the properties values with the `properties_df` object which is a simple dataframe."
   ],
   "cell_type": "markdown",
   "metadata": {}
  },
  {
   "cell_type": "code",
   "execution_count": 2,
   "metadata": {},
   "outputs": [
    {
     "output_type": "stream",
     "name": "stdout",
     "text": [
      "               id                    iupac_key  \\\nname                                             \nammonia        53  QGZKDVFQNNGYKY-UHFFFAOYSA-N   \nhydrogen       54  UFHFLCQGNIYNRP-UHFFFAOYSA-N   \noxygen         55  MYMOFIZGZYHOMD-UHFFFAOYSA-N   \nnitrogen       56  IJGRMHOSHXDMSA-UHFFFAOYSA-N   \nchlorine       57  KZBUYRJDOAKODT-UHFFFAOYSA-N   \nwater          58  XLYOFNOQVPJJNP-UHFFFAOYSA-N   \nn-undecane     59  RSJKGSCJYJTIGS-UHFFFAOYSA-N   \nn-dodecane     60  SNRUBQQJIBEYMU-UHFFFAOYSA-N   \nn-tridecane    61  IIYFAKIEWZDVMP-UHFFFAOYSA-N   \nn-tetradecane  62  BGHCVCJVXZWKCC-UHFFFAOYSA-N   \nn-pentadecane  63  YCOZIPAWZNQLMR-UHFFFAOYSA-N   \nn-hexadecane   64  DCAYPVUWAIABOU-UHFFFAOYSA-N   \nn-heptadecane  65  NDJKXXJCMXVBJW-UHFFFAOYSA-N   \nn-octadecane   66  RZJRJXONCZWCBN-UHFFFAOYSA-N   \nn-nonadecane   67  LQERIDTXQFOHKA-UHFFFAOYSA-N   \nn-eicosane     68  CBFCDTFDPHXCNY-UHFFFAOYSA-N   \nn-heneicosane  69  FNAZRRHPUDJQCJ-UHFFFAOYSA-N   \nn-docosane     70  HOWGUJZVBDQJKV-UHFFFAOYSA-N   \nn-tricosane    71  FIGVVZUWCLSUEI-UHFFFAOYSA-N   \nn-tetracosane  72  POOSGDOYLQNASK-UHFFFAOYSA-N   \n\n                                                           iupac        cas  \\\nname                                                                          \nammonia                                              1S/H3N/h1H3  7664-41-7   \nhydrogen                                               1S/H2/h1H  1333-74-0   \noxygen                                                1S/O2/c1-2  7782-44-7   \nnitrogen                                              1S/N2/c1-2  7727-37-9   \nchlorine                                             1S/Cl2/c1-2  7782-50-5   \nwater                                                1S/H2O/h1H2  7732-18-5   \nn-undecane      1S/C11H24/c1-3-5-7-9-11-10-8-6-4-2/h3-11H2;1-2H3  1120-21-4   \nn-dodecane     1S/C12H26/c1-3-5-7-9-11-12-10-8-6-4-2/h3-12H2;...   112-40-3   \nn-tridecane    1S/C13H28/c1-3-5-7-9-11-13-12-10-8-6-4-2/h3-13...   629-50-5   \nn-tetradecane  1S/C14H30/c1-3-5-7-9-11-13-14-12-10-8-6-4-2/h3...   629-59-4   \nn-pentadecane  1S/C15H32/c1-3-5-7-9-11-13-15-14-12-10-8-6-4-2...   629-62-9   \nn-hexadecane   1S/C16H34/c1-3-5-7-9-11-13-15-16-14-12-10-8-6-...   544-76-3   \nn-heptadecane  1S/C17H36/c1-3-5-7-9-11-13-15-17-16-14-12-10-8...   629-78-7   \nn-octadecane   1S/C18H38/c1-3-5-7-9-11-13-15-17-18-16-14-12-1...   593-45-3   \nn-nonadecane   1S/C19H40/c1-3-5-7-9-11-13-15-17-19-18-16-14-1...   629-92-5   \nn-eicosane     1S/C20H42/c1-3-5-7-9-11-13-15-17-19-20-18-16-1...   112-95-8   \nn-heneicosane  1S/C21H44/c1-3-5-7-9-11-13-15-17-19-21-20-18-1...   629-94-7   \nn-docosane     1S/C22H46/c1-3-5-7-9-11-13-15-17-19-21-22-20-1...   629-97-0   \nn-tricosane    1S/C23H48/c1-3-5-7-9-11-13-15-17-19-21-23-22-2...   638-67-5   \nn-tetracosane  1S/C24H50/c1-3-5-7-9-11-13-15-17-19-21-23-24-2...   646-31-1   \n\n               acentric_factor formula  molecular_weight  critical_pressure  \\\nname                                                                          \nammonia                    NaN     NH3           17.0305             1646.0   \nhydrogen               -0.2150      H2            2.0159              188.1   \noxygen                  0.0218      O2           31.9988              731.4   \nnitrogen                0.0403      N2           28.0134              493.1   \nchlorine                   NaN     CL2           70.9060             1157.0   \nwater                   0.3449     H2O           18.0153             3198.8   \nn-undecane              0.5303  C11H24          146.3120             1949.0   \nn-dodecane              0.5764  C12H26          170.3380             1820.0   \nn-tridecane             0.6174  C13H28          184.3650             1680.0   \nn-tetradecane           0.6430  C14H30          198.3920             1570.0   \nn-pentadecane           0.6863  C15H32          212.4190             1480.0   \nn-hexadecane            0.7174  C16H34          226.4460             1400.0   \nn-heptadecane           0.7697  C17H36          240.4730             1340.0   \nn-octadecane            0.8114  C18H38          254.5000             1270.0   \nn-nonadecane            0.8522  C19H40          268.5270             1210.0   \nn-eicosane              0.9069  C20H42          282.5530             1160.0   \nn-heneicosane           0.9220  C21H44          296.5800             1147.0   \nn-docosane              0.9550  C22H46          310.6100             1101.0   \nn-tricosane             0.9890  C23H48          324.6300             1059.0   \nn-tetracosane           1.0190  C24H50          338.6800             1019.0   \n\n              critical_pressure_unit  critical_temperature  \\\nname                                                         \nammonia                          psi                270.20   \nhydrogen                         psi               -399.90   \noxygen                           psi               -181.43   \nnitrogen                         psi               -232.51   \nchlorine                         psi                290.75   \nwater                            psi                705.16   \nn-undecane                       kpa                639.00   \nn-dodecane                       kpa                658.00   \nn-tridecane                      kpa                675.00   \nn-tetradecane                    kpa                693.00   \nn-pentadecane                    kpa                708.00   \nn-hexadecane                     kpa                723.00   \nn-heptadecane                    kpa                736.00   \nn-octadecane                     kpa                747.00   \nn-nonadecane                     kpa                758.00   \nn-eicosane                       kpa                768.00   \nn-heneicosane                    kpa                781.70   \nn-docosane                       kpa                791.80   \nn-tricosane                      kpa                801.30   \nn-tetracosane                    kpa                810.40   \n\n              critical_temperature_unit  antoine_a  antoine_b  antoine_c  \nname                                                                      \nammonia                       farenheit   4.868860    113.928    -10.409  \nhydrogen                      farenheit   3.543140     99.395      7.726  \noxygen                        farenheit   3.952300    340.024     -4.144  \nnitrogen                      farenheit   3.736200    264.651     -6.788  \nchlorine                      farenheit   4.288140    969.992    -12.791  \nwater                         farenheit   5.402210   1838.675    -31.737  \nn-undecane                       kelvin   4.101640   1572.477    -85.128  \nn-dodecane                       kelvin   4.105490   1625.928    -92.839  \nn-tridecane                      kelvin   4.128290   1689.093    -98.866  \nn-tetradecane                    kelvin   4.137350   1739.623   -105.616  \nn-pentadecane                    kelvin   4.149350   1789.658   -111.859  \nn-hexadecane                     kelvin   4.173120   1845.672   -117.054  \nn-heptadecane                    kelvin   3.927300   1718.004   -138.126  \nn-octadecane                     kelvin   4.332090   2068.963   -111.927  \nn-nonadecane                     kelvin  30.428160  28197.488    452.785  \nn-eicosane                       kelvin        NaN        NaN        NaN  \nn-heneicosane                    kelvin   5.920730   3571.218    -19.953  \nn-docosane                       kelvin        NaN        NaN        NaN  \nn-tricosane                      kelvin   6.557006   4200.069      1.864  \nn-tetracosane                    kelvin   5.738300   3464.273    -55.121  \n"
     ]
    }
   ],
   "source": [
    "print(properties_df.tail(20))"
   ]
  },
  {
   "source": [
    "Having the properties table, you can build a custom Chromatography table by providing the componets id, name or symbol and the mole fraction"
   ],
   "cell_type": "markdown",
   "metadata": {}
  },
  {
   "source": [
    "Construct by its name"
   ],
   "cell_type": "markdown",
   "metadata": {}
  },
  {
   "cell_type": "code",
   "execution_count": 3,
   "metadata": {},
   "outputs": [],
   "source": [
    "d = {\n",
    "    'comp': ['methane','ethane','propane','isobutane'],\n",
    "    'mole_fraction':[0.90,0.07,0.02,0.06]\n",
    "}\n",
    "cc = pd.DataFrame(d)\n",
    "\n",
    "ch = Chromatography()\n",
    "ch.from_df(cc,name='comp')\n",
    "\n"
   ]
  },
  {
   "cell_type": "code",
   "execution_count": 4,
   "metadata": {},
   "outputs": [
    {
     "output_type": "execute_result",
     "data": {
      "text/plain": [
       "           acentric_factor      cas  critical_pressure  critical_temperature  \\\n",
       "methane             0.0115  74-82-8              666.4               -116.67   \n",
       "ethane              0.0995  74-84-0              706.5                 89.92   \n",
       "propane             0.1523  74-98-6              616.0                206.06   \n",
       "isobutane           0.1770  75-28-5              527.9                274.46   \n",
       "\n",
       "          formula   id                        iupac  \\\n",
       "methane       CH4  1.0                  1S/CH4/h1H4   \n",
       "ethane       C2H6  2.0          1S/C2H6/c1-2/h1-2H3   \n",
       "propane      C3H8  3.0    1S/C3H8/c1-3-2/h3H2;1-2H3   \n",
       "isobutane   C4H10  4.0  1S/C4H10/c1-4(2)3/h4H;1-3H3   \n",
       "\n",
       "                             iupac_key  mole_fraction  molecular_weight  \n",
       "methane    VNWKTOKETHGBQD-UHFFFAOYSA-N       0.857143           16.0425  \n",
       "ethane     OTMSDBZUPAUEDD-UHFFFAOYSA-N       0.066667           30.0700  \n",
       "propane    ATUOYWHBWRKTHZ-UHFFFAOYSA-N       0.019048           44.0970  \n",
       "isobutane  NNPPMTNAJDCUHE-UHFFFAOYSA-N       0.057143           58.1230  "
      ],
      "text/html": "<div>\n<style scoped>\n    .dataframe tbody tr th:only-of-type {\n        vertical-align: middle;\n    }\n\n    .dataframe tbody tr th {\n        vertical-align: top;\n    }\n\n    .dataframe thead th {\n        text-align: right;\n    }\n</style>\n<table border=\"1\" class=\"dataframe\">\n  <thead>\n    <tr style=\"text-align: right;\">\n      <th></th>\n      <th>acentric_factor</th>\n      <th>cas</th>\n      <th>critical_pressure</th>\n      <th>critical_temperature</th>\n      <th>formula</th>\n      <th>id</th>\n      <th>iupac</th>\n      <th>iupac_key</th>\n      <th>mole_fraction</th>\n      <th>molecular_weight</th>\n    </tr>\n  </thead>\n  <tbody>\n    <tr>\n      <th>methane</th>\n      <td>0.0115</td>\n      <td>74-82-8</td>\n      <td>666.4</td>\n      <td>-116.67</td>\n      <td>CH4</td>\n      <td>1.0</td>\n      <td>1S/CH4/h1H4</td>\n      <td>VNWKTOKETHGBQD-UHFFFAOYSA-N</td>\n      <td>0.857143</td>\n      <td>16.0425</td>\n    </tr>\n    <tr>\n      <th>ethane</th>\n      <td>0.0995</td>\n      <td>74-84-0</td>\n      <td>706.5</td>\n      <td>89.92</td>\n      <td>C2H6</td>\n      <td>2.0</td>\n      <td>1S/C2H6/c1-2/h1-2H3</td>\n      <td>OTMSDBZUPAUEDD-UHFFFAOYSA-N</td>\n      <td>0.066667</td>\n      <td>30.0700</td>\n    </tr>\n    <tr>\n      <th>propane</th>\n      <td>0.1523</td>\n      <td>74-98-6</td>\n      <td>616.0</td>\n      <td>206.06</td>\n      <td>C3H8</td>\n      <td>3.0</td>\n      <td>1S/C3H8/c1-3-2/h3H2;1-2H3</td>\n      <td>ATUOYWHBWRKTHZ-UHFFFAOYSA-N</td>\n      <td>0.019048</td>\n      <td>44.0970</td>\n    </tr>\n    <tr>\n      <th>isobutane</th>\n      <td>0.1770</td>\n      <td>75-28-5</td>\n      <td>527.9</td>\n      <td>274.46</td>\n      <td>C4H10</td>\n      <td>4.0</td>\n      <td>1S/C4H10/c1-4(2)3/h4H;1-3H3</td>\n      <td>NNPPMTNAJDCUHE-UHFFFAOYSA-N</td>\n      <td>0.057143</td>\n      <td>58.1230</td>\n    </tr>\n  </tbody>\n</table>\n</div>"
     },
     "metadata": {},
     "execution_count": 4
    }
   ],
   "source": [
    "ch.df()"
   ]
  },
  {
   "cell_type": "code",
   "execution_count": 5,
   "metadata": {},
   "outputs": [
    {
     "output_type": "execute_result",
     "data": {
      "text/plain": [
       "formula                                       C4H10\n",
       "iupac_key               NNPPMTNAJDCUHE-UHFFFAOYSA-N\n",
       "iupac                   1S/C4H10/c1-4(2)3/h4H;1-3H3\n",
       "cas                                         75-28-5\n",
       "molecular_weight                             58.123\n",
       "mole_fraction                                  0.06\n",
       "critical_pressure                             527.9\n",
       "critical_temperature                         274.46\n",
       "id                                              4.0\n",
       "acentric_factor                               0.177\n",
       "Name: isobutane, dtype: object"
      ]
     },
     "metadata": {},
     "execution_count": 5
    }
   ],
   "source": [
    "ch.components[3].df()"
   ]
  },
  {
   "source": [
    "By default, the mole_fraction provided is normalized to sum 1. "
   ],
   "cell_type": "markdown",
   "metadata": {}
  },
  {
   "cell_type": "code",
   "execution_count": 6,
   "metadata": {},
   "outputs": [
    {
     "output_type": "execute_result",
     "data": {
      "text/plain": [
       "19.916638095238095"
      ]
     },
     "metadata": {},
     "execution_count": 6
    }
   ],
   "source": [
    "ch.apparent_molecular_weight()"
   ]
  },
  {
   "source": [
    "### Example 5-1 - Ahmed Tarek, Equation of State and PVT Analysis"
   ],
   "cell_type": "markdown",
   "metadata": {}
  },
  {
   "cell_type": "code",
   "execution_count": 7,
   "metadata": {},
   "outputs": [],
   "source": [
    "d1 = {\n",
    "    'comp': ['propane','isobutane','butane','isopentane','pentane','n-hexane'],\n",
    "    'mole_fraction':[0.2,0.1,0.1,0.2,0.2,0.2]\n",
    "}\n",
    "\n",
    "ch1 = Chromatography()\n",
    "ch1.from_df(pd.DataFrame(d1),name='comp')"
   ]
  },
  {
   "cell_type": "code",
   "execution_count": 8,
   "metadata": {},
   "outputs": [
    {
     "output_type": "execute_result",
     "data": {
      "text/plain": [
       "            vapor_pressure vapor_pressure_unit\n",
       "propane         188.735859                 psi\n",
       "isobutane        72.316273                 psi\n",
       "butane           51.405353                 psi\n",
       "isopentane       20.704631                 psi\n",
       "pentane          15.573256                 psi\n",
       "n-hexane          4.955708                 psi"
      ],
      "text/html": "<div>\n<style scoped>\n    .dataframe tbody tr th:only-of-type {\n        vertical-align: middle;\n    }\n\n    .dataframe tbody tr th {\n        vertical-align: top;\n    }\n\n    .dataframe thead th {\n        text-align: right;\n    }\n</style>\n<table border=\"1\" class=\"dataframe\">\n  <thead>\n    <tr style=\"text-align: right;\">\n      <th></th>\n      <th>vapor_pressure</th>\n      <th>vapor_pressure_unit</th>\n    </tr>\n  </thead>\n  <tbody>\n    <tr>\n      <th>propane</th>\n      <td>188.735859</td>\n      <td>psi</td>\n    </tr>\n    <tr>\n      <th>isobutane</th>\n      <td>72.316273</td>\n      <td>psi</td>\n    </tr>\n    <tr>\n      <th>butane</th>\n      <td>51.405353</td>\n      <td>psi</td>\n    </tr>\n    <tr>\n      <th>isopentane</th>\n      <td>20.704631</td>\n      <td>psi</td>\n    </tr>\n    <tr>\n      <th>pentane</th>\n      <td>15.573256</td>\n      <td>psi</td>\n    </tr>\n    <tr>\n      <th>n-hexane</th>\n      <td>4.955708</td>\n      <td>psi</td>\n    </tr>\n  </tbody>\n</table>\n</div>"
     },
     "metadata": {},
     "execution_count": 8
    }
   ],
   "source": [
    "ch1.vapor_pressure(Temperature(value=100, unit='farenheit'))"
   ]
  },
  {
   "cell_type": "code",
   "execution_count": 9,
   "metadata": {},
   "outputs": [
    {
     "output_type": "execute_result",
     "data": {
      "text/plain": [
       "            mole_fraction        xi        yi         k\n",
       "propane               0.2  0.154158  0.581903  3.774717\n",
       "isobutane             0.1  0.095435  0.138030  1.446325\n",
       "butane                0.1  0.099700  0.102502  1.028107\n",
       "isopentane            0.2  0.213400  0.088367  0.414093\n",
       "pentane               0.2  0.215934  0.067256  0.311465\n",
       "n-hexane              0.2  0.221373  0.021941  0.099114"
      ],
      "text/html": "<div>\n<style scoped>\n    .dataframe tbody tr th:only-of-type {\n        vertical-align: middle;\n    }\n\n    .dataframe tbody tr th {\n        vertical-align: top;\n    }\n\n    .dataframe thead th {\n        text-align: right;\n    }\n</style>\n<table border=\"1\" class=\"dataframe\">\n  <thead>\n    <tr style=\"text-align: right;\">\n      <th></th>\n      <th>mole_fraction</th>\n      <th>xi</th>\n      <th>yi</th>\n      <th>k</th>\n    </tr>\n  </thead>\n  <tbody>\n    <tr>\n      <th>propane</th>\n      <td>0.2</td>\n      <td>0.154158</td>\n      <td>0.581903</td>\n      <td>3.774717</td>\n    </tr>\n    <tr>\n      <th>isobutane</th>\n      <td>0.1</td>\n      <td>0.095435</td>\n      <td>0.138030</td>\n      <td>1.446325</td>\n    </tr>\n    <tr>\n      <th>butane</th>\n      <td>0.1</td>\n      <td>0.099700</td>\n      <td>0.102502</td>\n      <td>1.028107</td>\n    </tr>\n    <tr>\n      <th>isopentane</th>\n      <td>0.2</td>\n      <td>0.213400</td>\n      <td>0.088367</td>\n      <td>0.414093</td>\n    </tr>\n    <tr>\n      <th>pentane</th>\n      <td>0.2</td>\n      <td>0.215934</td>\n      <td>0.067256</td>\n      <td>0.311465</td>\n    </tr>\n    <tr>\n      <th>n-hexane</th>\n      <td>0.2</td>\n      <td>0.221373</td>\n      <td>0.021941</td>\n      <td>0.099114</td>\n    </tr>\n  </tbody>\n</table>\n</div>"
     },
     "metadata": {},
     "execution_count": 9
    }
   ],
   "source": [
    "p1 = Pressure(value=50, unit='psi')\n",
    "t1 = Temperature(value=100, unit='farenheit')\n",
    "\n",
    "flash_df = ch1.flash_calculations(p1,t1, k_method='ideal')\n",
    "\n",
    "flash_df"
   ]
  },
  {
   "cell_type": "code",
   "execution_count": 10,
   "metadata": {},
   "outputs": [
    {
     "output_type": "execute_result",
     "data": {
      "text/plain": [
       "xi    1.0\n",
       "yi    1.0\n",
       "dtype: float64"
      ]
     },
     "metadata": {},
     "execution_count": 10
    }
   ],
   "source": [
    "flash_df[['xi','yi']].sum()"
   ]
  },
  {
   "source": [
    "#### Equilibrium ratio correlation"
   ],
   "cell_type": "markdown",
   "metadata": {}
  },
  {
   "source": [
    "## Component Class\n",
    "\n",
    "Pvtpy provides a class for each Component storing their attritutes and applying some methods."
   ],
   "cell_type": "markdown",
   "metadata": {}
  },
  {
   "source": [
    "### Example 5-2 - Ahmed Tarek, Equation of State and PVT Analysis"
   ],
   "cell_type": "markdown",
   "metadata": {}
  },
  {
   "cell_type": "code",
   "execution_count": 11,
   "metadata": {},
   "outputs": [],
   "source": [
    "d3 = {\n",
    "    'comp': ['carbon-dioxide','nitrogen','methane','ethane','propane','isobutane','butane','isopentane','pentane','n-hexane'],\n",
    "    'mole_fraction':[0.009,0.003,0.535,0.115,0.088,0.023,0.023,0.015,0.015,0.015]\n",
    "}\n",
    "\n",
    "c7_plus = Component(\n",
    "    name = 'C7+', \n",
    "    molecular_weight=150.0,\n",
    "    specific_gravity = 0.78,\n",
    "    critical_temperature = 1139.4,\n",
    "    critical_temperature_unit = 'rankine',\n",
    "    critical_pressure = 320.3,\n",
    "    critical_pressure_unit = 'psi',\n",
    "    mole_fraction=0.159,\n",
    "    params = {'acentric_factor':0.5067}\n",
    "    \n",
    ")\n",
    "\n",
    "ch3 = Chromatography()\n",
    "ch3.from_df(pd.DataFrame(d3),name='comp')\n",
    "ch3.plus_fraction = c7_plus\n",
    "\n",
    "\n",
    "\n"
   ]
  },
  {
   "cell_type": "code",
   "execution_count": 12,
   "metadata": {},
   "outputs": [
    {
     "output_type": "execute_result",
     "data": {
      "text/plain": [
       "                acentric_factor        cas  critical_pressure  \\\n",
       "carbon-dioxide           0.2276   124-38-9             1071.0   \n",
       "nitrogen                 0.0403  7727-37-9              493.1   \n",
       "methane                  0.0115    74-82-8              666.4   \n",
       "ethane                   0.0995    74-84-0              706.5   \n",
       "propane                  0.1523    74-98-6              616.0   \n",
       "isobutane                0.1770    75-28-5              527.9   \n",
       "butane                   0.2002   106-97-8              550.6   \n",
       "isopentane               0.2275    78-78-4              490.4   \n",
       "pentane                  0.2515   109-66-0              488.6   \n",
       "n-hexane                 0.3013   110-54-3              436.9   \n",
       "C7+                      0.5067        NaN              320.3   \n",
       "\n",
       "                critical_temperature formula    id  \\\n",
       "carbon-dioxide                547.58     CO2  50.0   \n",
       "nitrogen                      227.16      N2  56.0   \n",
       "methane                       343.00     CH4   1.0   \n",
       "ethane                        549.59    C2H6   2.0   \n",
       "propane                       665.73    C3H8   3.0   \n",
       "isobutane                     734.13   C4H10   4.0   \n",
       "butane                        765.29   C4H10   5.0   \n",
       "isopentane                    828.77   C5H12   6.0   \n",
       "pentane                       845.47   C5H12   7.0   \n",
       "n-hexane                      913.27   C6H14   9.0   \n",
       "C7+                          1139.40     NaN   NaN   \n",
       "\n",
       "                                             iupac  \\\n",
       "carbon-dioxide                       1S/CO2/c2-1-3   \n",
       "nitrogen                                1S/N2/c1-2   \n",
       "methane                                1S/CH4/h1H4   \n",
       "ethane                         1S/C2H6/c1-2/h1-2H3   \n",
       "propane                  1S/C3H8/c1-3-2/h3H2;1-2H3   \n",
       "isobutane              1S/C4H10/c1-4(2)3/h4H;1-3H3   \n",
       "butane              1S/C4H10/c1-3-4-2/h3-4H2;1-2H3   \n",
       "isopentane       1S/C5H12/c1-4-5(2)3/h5H;4H2;1-3H3   \n",
       "pentane           1S/C5H12/c1-3-5-4-2/h3-5H2;1-2H3   \n",
       "n-hexane        1S/C6H14/c1-3-5-6-4-2/h3-6H2;1-2H3   \n",
       "C7+                                            NaN   \n",
       "\n",
       "                                  iupac_key  mole_fraction  molecular_weight  \\\n",
       "carbon-dioxide  CURLTUGMZLYLDI-UHFFFAOYSA-N          0.009           44.0100   \n",
       "nitrogen        IJGRMHOSHXDMSA-UHFFFAOYSA-N          0.003           28.0134   \n",
       "methane         VNWKTOKETHGBQD-UHFFFAOYSA-N          0.535           16.0425   \n",
       "ethane          OTMSDBZUPAUEDD-UHFFFAOYSA-N          0.115           30.0700   \n",
       "propane         ATUOYWHBWRKTHZ-UHFFFAOYSA-N          0.088           44.0970   \n",
       "isobutane       NNPPMTNAJDCUHE-UHFFFAOYSA-N          0.023           58.1230   \n",
       "butane          IJDNQMDRQITEOD-UHFFFAOYSA-N          0.023           58.1230   \n",
       "isopentane      QWTDNUCVQCZILF-UHFFFAOYSA-N          0.015           72.1500   \n",
       "pentane         OFBQJSOFQDEBGM-UHFFFAOYSA-N          0.015           73.1500   \n",
       "n-hexane        VLKZOEOYAKHREP-UHFFFAOYSA-N          0.015           86.1770   \n",
       "C7+                                     NaN          0.159          150.0000   \n",
       "\n",
       "                specific_gravity  \n",
       "carbon-dioxide               NaN  \n",
       "nitrogen                     NaN  \n",
       "methane                      NaN  \n",
       "ethane                       NaN  \n",
       "propane                      NaN  \n",
       "isobutane                    NaN  \n",
       "butane                       NaN  \n",
       "isopentane                   NaN  \n",
       "pentane                      NaN  \n",
       "n-hexane                     NaN  \n",
       "C7+                         0.78  "
      ],
      "text/html": "<div>\n<style scoped>\n    .dataframe tbody tr th:only-of-type {\n        vertical-align: middle;\n    }\n\n    .dataframe tbody tr th {\n        vertical-align: top;\n    }\n\n    .dataframe thead th {\n        text-align: right;\n    }\n</style>\n<table border=\"1\" class=\"dataframe\">\n  <thead>\n    <tr style=\"text-align: right;\">\n      <th></th>\n      <th>acentric_factor</th>\n      <th>cas</th>\n      <th>critical_pressure</th>\n      <th>critical_temperature</th>\n      <th>formula</th>\n      <th>id</th>\n      <th>iupac</th>\n      <th>iupac_key</th>\n      <th>mole_fraction</th>\n      <th>molecular_weight</th>\n      <th>specific_gravity</th>\n    </tr>\n  </thead>\n  <tbody>\n    <tr>\n      <th>carbon-dioxide</th>\n      <td>0.2276</td>\n      <td>124-38-9</td>\n      <td>1071.0</td>\n      <td>547.58</td>\n      <td>CO2</td>\n      <td>50.0</td>\n      <td>1S/CO2/c2-1-3</td>\n      <td>CURLTUGMZLYLDI-UHFFFAOYSA-N</td>\n      <td>0.009</td>\n      <td>44.0100</td>\n      <td>NaN</td>\n    </tr>\n    <tr>\n      <th>nitrogen</th>\n      <td>0.0403</td>\n      <td>7727-37-9</td>\n      <td>493.1</td>\n      <td>227.16</td>\n      <td>N2</td>\n      <td>56.0</td>\n      <td>1S/N2/c1-2</td>\n      <td>IJGRMHOSHXDMSA-UHFFFAOYSA-N</td>\n      <td>0.003</td>\n      <td>28.0134</td>\n      <td>NaN</td>\n    </tr>\n    <tr>\n      <th>methane</th>\n      <td>0.0115</td>\n      <td>74-82-8</td>\n      <td>666.4</td>\n      <td>343.00</td>\n      <td>CH4</td>\n      <td>1.0</td>\n      <td>1S/CH4/h1H4</td>\n      <td>VNWKTOKETHGBQD-UHFFFAOYSA-N</td>\n      <td>0.535</td>\n      <td>16.0425</td>\n      <td>NaN</td>\n    </tr>\n    <tr>\n      <th>ethane</th>\n      <td>0.0995</td>\n      <td>74-84-0</td>\n      <td>706.5</td>\n      <td>549.59</td>\n      <td>C2H6</td>\n      <td>2.0</td>\n      <td>1S/C2H6/c1-2/h1-2H3</td>\n      <td>OTMSDBZUPAUEDD-UHFFFAOYSA-N</td>\n      <td>0.115</td>\n      <td>30.0700</td>\n      <td>NaN</td>\n    </tr>\n    <tr>\n      <th>propane</th>\n      <td>0.1523</td>\n      <td>74-98-6</td>\n      <td>616.0</td>\n      <td>665.73</td>\n      <td>C3H8</td>\n      <td>3.0</td>\n      <td>1S/C3H8/c1-3-2/h3H2;1-2H3</td>\n      <td>ATUOYWHBWRKTHZ-UHFFFAOYSA-N</td>\n      <td>0.088</td>\n      <td>44.0970</td>\n      <td>NaN</td>\n    </tr>\n    <tr>\n      <th>isobutane</th>\n      <td>0.1770</td>\n      <td>75-28-5</td>\n      <td>527.9</td>\n      <td>734.13</td>\n      <td>C4H10</td>\n      <td>4.0</td>\n      <td>1S/C4H10/c1-4(2)3/h4H;1-3H3</td>\n      <td>NNPPMTNAJDCUHE-UHFFFAOYSA-N</td>\n      <td>0.023</td>\n      <td>58.1230</td>\n      <td>NaN</td>\n    </tr>\n    <tr>\n      <th>butane</th>\n      <td>0.2002</td>\n      <td>106-97-8</td>\n      <td>550.6</td>\n      <td>765.29</td>\n      <td>C4H10</td>\n      <td>5.0</td>\n      <td>1S/C4H10/c1-3-4-2/h3-4H2;1-2H3</td>\n      <td>IJDNQMDRQITEOD-UHFFFAOYSA-N</td>\n      <td>0.023</td>\n      <td>58.1230</td>\n      <td>NaN</td>\n    </tr>\n    <tr>\n      <th>isopentane</th>\n      <td>0.2275</td>\n      <td>78-78-4</td>\n      <td>490.4</td>\n      <td>828.77</td>\n      <td>C5H12</td>\n      <td>6.0</td>\n      <td>1S/C5H12/c1-4-5(2)3/h5H;4H2;1-3H3</td>\n      <td>QWTDNUCVQCZILF-UHFFFAOYSA-N</td>\n      <td>0.015</td>\n      <td>72.1500</td>\n      <td>NaN</td>\n    </tr>\n    <tr>\n      <th>pentane</th>\n      <td>0.2515</td>\n      <td>109-66-0</td>\n      <td>488.6</td>\n      <td>845.47</td>\n      <td>C5H12</td>\n      <td>7.0</td>\n      <td>1S/C5H12/c1-3-5-4-2/h3-5H2;1-2H3</td>\n      <td>OFBQJSOFQDEBGM-UHFFFAOYSA-N</td>\n      <td>0.015</td>\n      <td>73.1500</td>\n      <td>NaN</td>\n    </tr>\n    <tr>\n      <th>n-hexane</th>\n      <td>0.3013</td>\n      <td>110-54-3</td>\n      <td>436.9</td>\n      <td>913.27</td>\n      <td>C6H14</td>\n      <td>9.0</td>\n      <td>1S/C6H14/c1-3-5-6-4-2/h3-6H2;1-2H3</td>\n      <td>VLKZOEOYAKHREP-UHFFFAOYSA-N</td>\n      <td>0.015</td>\n      <td>86.1770</td>\n      <td>NaN</td>\n    </tr>\n    <tr>\n      <th>C7+</th>\n      <td>0.5067</td>\n      <td>NaN</td>\n      <td>320.3</td>\n      <td>1139.40</td>\n      <td>NaN</td>\n      <td>NaN</td>\n      <td>NaN</td>\n      <td>NaN</td>\n      <td>0.159</td>\n      <td>150.0000</td>\n      <td>0.78</td>\n    </tr>\n  </tbody>\n</table>\n</div>"
     },
     "metadata": {},
     "execution_count": 12
    }
   ],
   "source": [
    "ch3.df(temperature_unit='rankine')"
   ]
  },
  {
   "cell_type": "code",
   "execution_count": 13,
   "metadata": {},
   "outputs": [],
   "source": [
    "t3 = Temperature(value=150, unit='farenheit')\n",
    "p3 = Pressure(value=1000, unit='psi')"
   ]
  },
  {
   "cell_type": "code",
   "execution_count": 14,
   "metadata": {},
   "outputs": [
    {
     "output_type": "execute_result",
     "data": {
      "text/plain": [
       "carbon-dioxide     2.095845\n",
       "nitrogen          16.410130\n",
       "methane            7.170587\n",
       "ethane             1.264162\n",
       "propane            0.348719\n",
       "isobutane          0.145274\n",
       "butane             0.106260\n",
       "isopentane         0.045894\n",
       "pentane            0.036316\n",
       "n-hexane           0.013462\n",
       "C7+                0.000283\n",
       "Name: k, dtype: float64"
      ]
     },
     "metadata": {},
     "execution_count": 14
    }
   ],
   "source": [
    "ch3.equilibrium_ratios(p3,t3)"
   ]
  },
  {
   "cell_type": "code",
   "execution_count": 15,
   "metadata": {},
   "outputs": [
    {
     "output_type": "execute_result",
     "data": {
      "text/plain": [
       "                mole_fraction        xi        yi          k\n",
       "carbon-dioxide          0.009  0.005346  0.011205   2.095845\n",
       "nitrogen                0.003  0.000283  0.004640  16.410130\n",
       "methane                 0.535  0.110350  0.791276   7.170587\n",
       "ethane                  0.115  0.098734  0.124816   1.264162\n",
       "propane                 0.088  0.148189  0.051676   0.348719\n",
       "isobutane               0.023  0.049254  0.007155   0.145274\n",
       "butane                  0.023  0.051962  0.005521   0.106260\n",
       "isopentane              0.015  0.037038  0.001700   0.045894\n",
       "pentane                 0.015  0.037593  0.001365   0.036316\n",
       "n-hexane                0.015  0.038985  0.000525   0.013462\n",
       "C7+                     0.159  0.422265  0.000120   0.000283"
      ],
      "text/html": "<div>\n<style scoped>\n    .dataframe tbody tr th:only-of-type {\n        vertical-align: middle;\n    }\n\n    .dataframe tbody tr th {\n        vertical-align: top;\n    }\n\n    .dataframe thead th {\n        text-align: right;\n    }\n</style>\n<table border=\"1\" class=\"dataframe\">\n  <thead>\n    <tr style=\"text-align: right;\">\n      <th></th>\n      <th>mole_fraction</th>\n      <th>xi</th>\n      <th>yi</th>\n      <th>k</th>\n    </tr>\n  </thead>\n  <tbody>\n    <tr>\n      <th>carbon-dioxide</th>\n      <td>0.009</td>\n      <td>0.005346</td>\n      <td>0.011205</td>\n      <td>2.095845</td>\n    </tr>\n    <tr>\n      <th>nitrogen</th>\n      <td>0.003</td>\n      <td>0.000283</td>\n      <td>0.004640</td>\n      <td>16.410130</td>\n    </tr>\n    <tr>\n      <th>methane</th>\n      <td>0.535</td>\n      <td>0.110350</td>\n      <td>0.791276</td>\n      <td>7.170587</td>\n    </tr>\n    <tr>\n      <th>ethane</th>\n      <td>0.115</td>\n      <td>0.098734</td>\n      <td>0.124816</td>\n      <td>1.264162</td>\n    </tr>\n    <tr>\n      <th>propane</th>\n      <td>0.088</td>\n      <td>0.148189</td>\n      <td>0.051676</td>\n      <td>0.348719</td>\n    </tr>\n    <tr>\n      <th>isobutane</th>\n      <td>0.023</td>\n      <td>0.049254</td>\n      <td>0.007155</td>\n      <td>0.145274</td>\n    </tr>\n    <tr>\n      <th>butane</th>\n      <td>0.023</td>\n      <td>0.051962</td>\n      <td>0.005521</td>\n      <td>0.106260</td>\n    </tr>\n    <tr>\n      <th>isopentane</th>\n      <td>0.015</td>\n      <td>0.037038</td>\n      <td>0.001700</td>\n      <td>0.045894</td>\n    </tr>\n    <tr>\n      <th>pentane</th>\n      <td>0.015</td>\n      <td>0.037593</td>\n      <td>0.001365</td>\n      <td>0.036316</td>\n    </tr>\n    <tr>\n      <th>n-hexane</th>\n      <td>0.015</td>\n      <td>0.038985</td>\n      <td>0.000525</td>\n      <td>0.013462</td>\n    </tr>\n    <tr>\n      <th>C7+</th>\n      <td>0.159</td>\n      <td>0.422265</td>\n      <td>0.000120</td>\n      <td>0.000283</td>\n    </tr>\n  </tbody>\n</table>\n</div>"
     },
     "metadata": {},
     "execution_count": 15
    }
   ],
   "source": [
    "f3 = ch3.flash_calculations(p3,t3,k_method='wilson')\n",
    "f3"
   ]
  },
  {
   "source": [
    "#### Convergence Pressure"
   ],
   "cell_type": "markdown",
   "metadata": {}
  },
  {
   "cell_type": "code",
   "execution_count": 16,
   "metadata": {},
   "outputs": [
    {
     "output_type": "execute_result",
     "data": {
      "text/plain": [
       "6340.447020009115"
      ]
     },
     "metadata": {},
     "execution_count": 16
    }
   ],
   "source": [
    "ch3.convergence_pressure(t3.convert_to('rankine'), method='rzasa')"
   ]
  },
  {
   "cell_type": "code",
   "execution_count": 17,
   "metadata": {},
   "outputs": [
    {
     "output_type": "execute_result",
     "data": {
      "text/plain": [
       "carbon-dioxide     2.840011\n",
       "nitrogen          12.640159\n",
       "methane            6.932466\n",
       "ethane             1.968014\n",
       "propane            0.773084\n",
       "isobutane          0.409564\n",
       "butane             0.326424\n",
       "isopentane         0.177522\n",
       "pentane            0.149794\n",
       "n-hexane           0.072913\n",
       "C7+                0.004429\n",
       "Name: k, dtype: float64"
      ]
     },
     "metadata": {},
     "execution_count": 17
    }
   ],
   "source": [
    "ch3.equilibrium_ratios(p3,t3,method='whitson', pk_method='rzasa')"
   ]
  },
  {
   "source": [
    "# dew point example"
   ],
   "cell_type": "markdown",
   "metadata": {}
  },
  {
   "cell_type": "code",
   "execution_count": null,
   "metadata": {},
   "outputs": [],
   "source": [
    "d2 = {\n",
    "    'comp': ['methane','ethane','propane','isobutane','butane','isopentane','pentane','n-hexane'],\n",
    "    'mole_fraction':[0.8,0.05,0.04,0.03,0.02,0.03,0.02,0.005]\n",
    "}\n",
    "\n",
    "ch2 = Chromatography()\n",
    "ch2.from_df(pd.DataFrame(d2),name='comp')\n",
    "\n",
    "ch2.df()['mole_fraction']"
   ]
  },
  {
   "cell_type": "code",
   "execution_count": null,
   "metadata": {},
   "outputs": [],
   "source": [
    "ch2.dew_point(Temperature(value=250, unit='farenheit'))"
   ]
  },
  {
   "cell_type": "code",
   "execution_count": null,
   "metadata": {},
   "outputs": [],
   "source": [
    "ch2.bubble_point(Temperature(value=200, unit='farenheit'))"
   ]
  },
  {
   "cell_type": "code",
   "execution_count": null,
   "metadata": {},
   "outputs": [],
   "source": [
    "\n",
    "p2 = Pressure(value=222.3, unit='psi')\n",
    "t2 = Temperature(value=250, unit='farenheit')\n",
    "ch2.ideal_equilibrium_ratios(p2,t2)"
   ]
  },
  {
   "cell_type": "code",
   "execution_count": null,
   "metadata": {},
   "outputs": [],
   "source": []
  }
 ]
}