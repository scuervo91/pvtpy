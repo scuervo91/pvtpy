{
    "cells": [
        {
            "cell_type": "markdown",
            "source": [
                "# Separator Calculations"
            ],
            "metadata": {}
        },
        {
            "cell_type": "code",
            "execution_count": 1,
            "source": [
                "import pandas as pd\n",
                "import numpy as np\n",
                "from pvtpy.compositional import Chromatography, Component, properties_df\n",
                "from pvtpy.units import Pressure, Temperature"
            ],
            "outputs": [],
            "metadata": {}
        },
        {
            "cell_type": "code",
            "execution_count": 2,
            "source": [
                "properties_df.index"
            ],
            "outputs": [
                {
                    "output_type": "execute_result",
                    "data": {
                        "text/plain": [
                            "Index(['methane', 'ethane', 'propane', 'isobutane', 'butane', 'isopentane',\n",
                            "       'pentane', 'neopentane', 'n-hexane', '2-methyl-pentane',\n",
                            "       '3-methyl-penthane', 'neohexane', '2-3-dimethyl-butane', 'n-heptane',\n",
                            "       '2-methyl-hexane', '3-methyl-hexane', '3-ethylpentane',\n",
                            "       '2-2-dimethyl-pentane', '2-4-dimethyl-pentane', '3-3-dimethyl-pentane',\n",
                            "       'triptane', 'n-octane', 'isooctane', 'n-nonane', 'n-decane',\n",
                            "       'cyclopentane', 'methylcyclopentane', 'cyclohexane',\n",
                            "       'methylcyclohexane', 'ethylene', 'propylene', 'cis-2-butene',\n",
                            "       'trans-2-butene', 'isobutene', '1-pentene', '1-2-butadiene',\n",
                            "       '1-3-butadiene', 'isoprene', 'benzene', 'toluene', 'ethylbenzene',\n",
                            "       'o-xylene', 'm-xylene', 'p-xylene', 'styrene', 'isopropylbenzene',\n",
                            "       'methyl-alcohol', 'ethyl-alcohol', 'carbon-monixide', 'carbon-dioxide',\n",
                            "       'hydrogen-sulfide', 'sulfur-dioxide', 'ammonia', 'hydrogen', 'oxygen',\n",
                            "       'nitrogen', 'chlorine', 'water', 'n-undecane', 'n-dodecane',\n",
                            "       'n-tridecane', 'n-tetradecane', 'n-pentadecane', 'n-hexadecane',\n",
                            "       'n-heptadecane', 'n-octadecane', 'n-nonadecane', 'n-eicosane',\n",
                            "       'n-heneicosane', 'n-docosane', 'n-tricosane', 'n-tetracosane'],\n",
                            "      dtype='object', name='name')"
                        ]
                    },
                    "metadata": {},
                    "execution_count": 2
                }
            ],
            "metadata": {}
        },
        {
            "cell_type": "code",
            "execution_count": 3,
            "source": [
                "d1 = {\n",
                "    'comp': ['carbon-dioxide','nitrogen','methane','ethane','propane','isobutane','butane','isopentane','pentane','n-hexane'],\n",
                "    'mole_fraction':[0.0008,0.0164,0.2840,0.0716,0.1048,0.042,0.042,0.0191,0.01912,0.0405]\n",
                "}\n",
                "\n",
                "c7_plus = Component(\n",
                "    name = 'C7+', \n",
                "    molecular_weight=252,\n",
                "    specific_gravity = 0.8429,\n",
                "    mole_fraction=0.3597,   \n",
                "    critical_pressure=140,\n",
                "    critical_pressure_unit='psi',\n",
                "    critical_temperature=1279.8,\n",
                "    critical_temperature_unit='rankine',\n",
                "    params = {'acentric_factor':0.5067}\n",
                ")\n",
                "\n",
                "ch1 = Chromatography()\n",
                "ch1.from_df(pd.DataFrame(d1),name='comp')\n",
                "ch1.plus_fraction = c7_plus\n",
                "\n",
                "ch1.df()['mole_fraction']"
            ],
            "outputs": [
                {
                    "output_type": "execute_result",
                    "data": {
                        "text/plain": [
                            "carbon-dioxide    0.000800\n",
                            "nitrogen          0.016400\n",
                            "methane           0.283994\n",
                            "ethane            0.071599\n",
                            "propane           0.104798\n",
                            "isobutane         0.041999\n",
                            "butane            0.041999\n",
                            "isopentane        0.019100\n",
                            "pentane           0.019120\n",
                            "n-hexane          0.040499\n",
                            "C7+               0.359693\n",
                            "Name: mole_fraction, dtype: float64"
                        ]
                    },
                    "metadata": {},
                    "execution_count": 3
                }
            ],
            "metadata": {}
        },
        {
            "cell_type": "code",
            "execution_count": 4,
            "source": [
                "ma = ch1.apparent_molecular_weight()\n",
                "print(f'Aparent Molecular weight {ma}')"
            ],
            "outputs": [
                {
                    "output_type": "stream",
                    "name": "stdout",
                    "text": [
                        "Aparent Molecular weight 113.61639653206936\n"
                    ]
                }
            ],
            "metadata": {}
        },
        {
            "cell_type": "code",
            "execution_count": 5,
            "source": [
                "rho = 44.794"
            ],
            "outputs": [],
            "metadata": {}
        },
        {
            "cell_type": "markdown",
            "source": [
                "## Stage 1"
            ],
            "metadata": {}
        },
        {
            "cell_type": "code",
            "execution_count": 6,
            "source": [
                "p1 = Pressure(value=400, unit='psi')\n",
                "t1 = Temperature(value=72, unit='farenheit')\n",
                "\n",
                "ch1.equilibrium_ratios(p1,t1,method='whitson')"
            ],
            "outputs": [
                {
                    "output_type": "execute_result",
                    "data": {
                        "text/plain": [
                            "carbon-dioxide     2.794898\n",
                            "nitrogen          30.262636\n",
                            "methane           12.523440\n",
                            "ethane             1.911981\n",
                            "propane            0.489915\n",
                            "isobutane          0.197277\n",
                            "butane             0.139279\n",
                            "isopentane         0.057828\n",
                            "pentane            0.044560\n",
                            "n-hexane           0.015517\n",
                            "C7+                0.000017\n",
                            "Name: k, dtype: float64"
                        ]
                    },
                    "metadata": {},
                    "execution_count": 6
                }
            ],
            "metadata": {}
        },
        {
            "cell_type": "code",
            "execution_count": 7,
            "source": [
                "fsh1, phase1 = ch1.flash_calculations(p1,t1)\n",
                "fsh1.index.name = 'component'\n",
                "print(fsh1)\n",
                "print(fsh1[['xi','yi']].sum())"
            ],
            "outputs": [
                {
                    "output_type": "stream",
                    "name": "stdout",
                    "text": [
                        "                mole_fraction        xi        yi          k\n",
                        "component                                                   \n",
                        "carbon-dioxide       0.000800  0.000592  0.001301   2.198146\n",
                        "nitrogen             0.016400  0.001713  0.051773  30.229625\n",
                        "methane              0.283994  0.069850  0.799758  11.449594\n",
                        "ethane               0.071599  0.063289  0.091612   1.447522\n",
                        "propane              0.104798  0.130747  0.042300   0.323526\n",
                        "isobutane            0.041999  0.056641  0.006735   0.118908\n",
                        "butane               0.041999  0.057502  0.004662   0.081068\n",
                        "isopentane           0.019100  0.026688  0.000822   0.030816\n",
                        "pentane              0.019120  0.026801  0.000620   0.023133\n",
                        "n-hexane             0.040499  0.057142  0.000414   0.007246\n",
                        "C7+                  0.359693  0.509035  0.000002   0.000004\n",
                        "xi    1.0\n",
                        "yi    1.0\n",
                        "dtype: float64\n"
                    ]
                }
            ],
            "metadata": {}
        },
        {
            "cell_type": "code",
            "execution_count": 8,
            "source": [
                "moles_stage1 = ch1.phase_moles(p1,t1)\n",
                "moles_stage1"
            ],
            "outputs": [
                {
                    "output_type": "execute_result",
                    "data": {
                        "text/plain": [
                            "{'liquid_moles': 0.706615190417923, 'gas_moles': 0.293384809582077}"
                        ]
                    },
                    "metadata": {},
                    "execution_count": 8
                }
            ],
            "metadata": {}
        },
        {
            "cell_type": "markdown",
            "source": [
                "## Stage 2"
            ],
            "metadata": {}
        },
        {
            "cell_type": "code",
            "execution_count": 9,
            "source": [
                "p2 = Pressure(value=350, unit='psi')\n",
                "t2 = Temperature(value=72, unit='farenheit')"
            ],
            "outputs": [],
            "metadata": {}
        },
        {
            "cell_type": "code",
            "execution_count": 10,
            "source": [
                "ch2 = Chromatography()\n",
                "ch2.from_df(fsh1, mole_fraction='xi')\n",
                "\n",
                "c7_plus1 = Component(\n",
                "    name = 'C7+', \n",
                "    molecular_weight=252,\n",
                "    specific_gravity = 0.8429,\n",
                "    mole_fraction=fsh1.loc['C7+','xi'],   \n",
                "    critical_pressure=140,\n",
                "    critical_pressure_unit='psi',\n",
                "    critical_temperature=1279.8,\n",
                "    critical_temperature_unit='rankine',\n",
                "    params = {'acentric_factor':0.5067}\n",
                ")\n",
                "ch2.plus_fraction = c7_plus1\n",
                "\n",
                "\n",
                "ch2.df()['mole_fraction']"
            ],
            "outputs": [
                {
                    "output_type": "stream",
                    "name": "stderr",
                    "text": [
                        "/home/scuervo/Documents/dev/apps/pvtpy/pvtpy/compositional/chromatography.py:48: UserWarning: DataFrame columns are not unique, some columns will be omitted.\n",
                        "  self.components = parse_obj_as(List[Component], _merged.to_dict(orient='records'))\n"
                    ]
                },
                {
                    "output_type": "execute_result",
                    "data": {
                        "text/plain": [
                            "carbon-dioxide    0.000592\n",
                            "nitrogen          0.001713\n",
                            "methane           0.069850\n",
                            "ethane            0.063289\n",
                            "propane           0.130747\n",
                            "isobutane         0.056641\n",
                            "butane            0.057502\n",
                            "isopentane        0.026688\n",
                            "pentane           0.026801\n",
                            "n-hexane          0.057142\n",
                            "C7+               0.509035\n",
                            "Name: mole_fraction, dtype: float64"
                        ]
                    },
                    "metadata": {},
                    "execution_count": 10
                }
            ],
            "metadata": {}
        },
        {
            "cell_type": "code",
            "execution_count": 11,
            "source": [
                "moles_stage2 = ch2.phase_moles(p2,t2)\n",
                "moles_stage2"
            ],
            "outputs": [
                {
                    "output_type": "execute_result",
                    "data": {
                        "text/plain": [
                            "{'liquid_moles': 0.9869509099020275, 'gas_moles': 0.013049090097972503}"
                        ]
                    },
                    "metadata": {},
                    "execution_count": 11
                }
            ],
            "metadata": {}
        },
        {
            "cell_type": "code",
            "execution_count": 12,
            "source": [
                "fsh2, phase2 = ch2.flash_calculations(p2,t2)\n",
                "fsh2.index.name = 'component'\n",
                "print(fsh2)\n",
                "print(fsh2[['xi','yi']].sum())"
            ],
            "outputs": [
                {
                    "output_type": "stream",
                    "name": "stdout",
                    "text": [
                        "                mole_fraction        xi        yi          k\n",
                        "component                                                   \n",
                        "carbon-dioxide       0.000592  0.000580  0.001458   2.512167\n",
                        "nitrogen             0.001713  0.001191  0.041154  34.548143\n",
                        "methane              0.069850  0.060335  0.789504  13.085251\n",
                        "ethane               0.063289  0.062753  0.103813   1.654311\n",
                        "propane              0.130747  0.131831  0.048744   0.369743\n",
                        "isobutane            0.056641  0.057287  0.007785   0.135895\n",
                        "butane               0.057502  0.058191  0.005391   0.092649\n",
                        "isopentane           0.026688  0.027029  0.000952   0.035219\n",
                        "pentane              0.026801  0.027145  0.000718   0.026438\n",
                        "n-hexane             0.057142  0.057892  0.000479   0.008281\n",
                        "C7+                  0.509035  0.515766  0.000002   0.000005\n",
                        "xi    1.0\n",
                        "yi    1.0\n",
                        "dtype: float64\n"
                    ]
                }
            ],
            "metadata": {}
        },
        {
            "cell_type": "markdown",
            "source": [
                "## Stage 3"
            ],
            "metadata": {}
        },
        {
            "cell_type": "code",
            "execution_count": 13,
            "source": [
                "p3 = Pressure(value=14.7, unit='psi')\n",
                "t3 = Temperature(value=60, unit='farenheit')"
            ],
            "outputs": [],
            "metadata": {}
        },
        {
            "cell_type": "code",
            "execution_count": 14,
            "source": [
                "ch3 = Chromatography()\n",
                "ch3.from_df(fsh2.reset_index(),name = fsh2.index.name, mole_fraction='xi')\n",
                "\n",
                "c7_plus3 = Component(\n",
                "    name = 'C7+', \n",
                "    molecular_weight=252,\n",
                "    specific_gravity = 0.8429,\n",
                "    mole_fraction=fsh2.loc['C7+','xi'],   \n",
                "    critical_pressure=140,\n",
                "    critical_pressure_unit='psi',\n",
                "    critical_temperature=1279.8,\n",
                "    critical_temperature_unit='rankine',\n",
                "    params = {'acentric_factor':0.5067}\n",
                ")\n",
                "ch3.plus_fraction = c7_plus3\n",
                "\n",
                "\n",
                "ch3.df()['mole_fraction']"
            ],
            "outputs": [
                {
                    "output_type": "stream",
                    "name": "stderr",
                    "text": [
                        "/home/scuervo/Documents/dev/apps/pvtpy/pvtpy/compositional/chromatography.py:48: UserWarning: DataFrame columns are not unique, some columns will be omitted.\n",
                        "  self.components = parse_obj_as(List[Component], _merged.to_dict(orient='records'))\n"
                    ]
                },
                {
                    "output_type": "execute_result",
                    "data": {
                        "text/plain": [
                            "carbon-dioxide    0.000580\n",
                            "nitrogen          0.001191\n",
                            "methane           0.060335\n",
                            "ethane            0.062753\n",
                            "propane           0.131831\n",
                            "isobutane         0.057287\n",
                            "butane            0.058191\n",
                            "isopentane        0.027029\n",
                            "pentane           0.027145\n",
                            "n-hexane          0.057892\n",
                            "C7+               0.515766\n",
                            "Name: mole_fraction, dtype: float64"
                        ]
                    },
                    "metadata": {},
                    "execution_count": 14
                }
            ],
            "metadata": {}
        },
        {
            "cell_type": "code",
            "execution_count": 15,
            "source": [
                "moles_stage3 = ch3.phase_moles(p3,t3)\n",
                "moles_stage3"
            ],
            "outputs": [
                {
                    "output_type": "execute_result",
                    "data": {
                        "text/plain": [
                            "{'liquid_moles': 0.7146137415095994, 'gas_moles': 0.2853862584904005}"
                        ]
                    },
                    "metadata": {},
                    "execution_count": 15
                }
            ],
            "metadata": {}
        },
        {
            "cell_type": "code",
            "execution_count": 16,
            "source": [
                "fsh3, phase3 = ch3.flash_calculations(p3,t3)\n",
                "fsh3.index.name = 'component'\n",
                "print(fsh3)\n",
                "print(fsh3[['xi','yi']].sum())"
            ],
            "outputs": [
                {
                    "output_type": "stream",
                    "name": "stdout",
                    "text": [
                        "                mole_fraction        xi        yi           k\n",
                        "component                                                    \n",
                        "carbon-dioxide       0.000580  0.000038  0.001939   51.134100\n",
                        "nitrogen             0.001191  0.000005  0.004161  778.464695\n",
                        "methane              0.060335  0.000729  0.209590  287.336282\n",
                        "ethane               0.062753  0.005989  0.204892   34.210574\n",
                        "propane              0.131831  0.046825  0.344688    7.361205\n",
                        "isobutane            0.057287  0.038984  0.103116    2.645045\n",
                        "butane               0.058191  0.047590  0.084736    1.780549\n",
                        "isopentane           0.027029  0.029919  0.019790    0.661425\n",
                        "pentane              0.027145  0.031750  0.015615    0.491810\n",
                        "n-hexane             0.057892  0.076449  0.011424    0.149439\n",
                        "C7+                  0.515766  0.721721  0.000050    0.000069\n",
                        "xi    1.0\n",
                        "yi    1.0\n",
                        "dtype: float64\n"
                    ]
                }
            ],
            "metadata": {}
        },
        {
            "cell_type": "code",
            "execution_count": 17,
            "source": [
                "moles_stages = [moles_stage1,moles_stage2,moles_stage3]\n",
                "\n",
                "nl = 1\n",
                "for i in moles_stages:\n",
                "    nl *= i['liquid_moles']\n",
                "    \n",
                "nv = 1 - nl \n",
                "\n",
                "print(f'liquid Moles Stock Tank {nl}\\nLiberated Gas Moles {nv}')"
            ],
            "outputs": [
                {
                    "output_type": "stream",
                    "name": "stdout",
                    "text": [
                        "liquid Moles Stock Tank 0.49836769662173136\n",
                        "Liberated Gas Moles 0.5016323033782686\n"
                    ]
                }
            ],
            "metadata": {}
        },
        {
            "cell_type": "code",
            "execution_count": 18,
            "source": [
                "ch4 = Chromatography()\n",
                "ch4.from_df(fsh3.reset_index(),name = fsh3.index.name, mole_fraction='xi')\n",
                "\n",
                "c7_plus4 = Component(\n",
                "    name = 'C7+', \n",
                "    molecular_weight=252,\n",
                "    specific_gravity = 0.8429,\n",
                "    mole_fraction=fsh3.loc['C7+','xi'],   \n",
                "    critical_pressure=140,\n",
                "    critical_pressure_unit='psi',\n",
                "    critical_temperature=1279.8,\n",
                "    critical_temperature_unit='rankine',\n",
                "    params = {'acentric_factor':0.5067}\n",
                ")\n",
                "ch4.plus_fraction = c7_plus4\n",
                "\n",
                "\n",
                "ch4.df()['mole_fraction']"
            ],
            "outputs": [
                {
                    "output_type": "stream",
                    "name": "stderr",
                    "text": [
                        "/home/scuervo/Documents/dev/apps/pvtpy/pvtpy/compositional/chromatography.py:48: UserWarning: DataFrame columns are not unique, some columns will be omitted.\n",
                        "  self.components = parse_obj_as(List[Component], _merged.to_dict(orient='records'))\n"
                    ]
                },
                {
                    "output_type": "execute_result",
                    "data": {
                        "text/plain": [
                            "carbon-dioxide    0.000038\n",
                            "nitrogen          0.000005\n",
                            "methane           0.000729\n",
                            "ethane            0.005989\n",
                            "propane           0.046825\n",
                            "isobutane         0.038984\n",
                            "butane            0.047590\n",
                            "isopentane        0.029919\n",
                            "pentane           0.031750\n",
                            "n-hexane          0.076449\n",
                            "C7+               0.721721\n",
                            "Name: mole_fraction, dtype: float64"
                        ]
                    },
                    "metadata": {},
                    "execution_count": 18
                }
            ],
            "metadata": {}
        },
        {
            "cell_type": "code",
            "execution_count": 19,
            "source": [
                "ch4.apparent_molecular_weight()"
            ],
            "outputs": [
                {
                    "output_type": "execute_result",
                    "data": {
                        "text/plain": [
                            "200.23335136754622"
                        ]
                    },
                    "metadata": {},
                    "execution_count": 19
                }
            ],
            "metadata": {}
        },
        {
            "cell_type": "code",
            "execution_count": 20,
            "source": [
                "## Separator Functions"
            ],
            "outputs": [],
            "metadata": {}
        },
        {
            "cell_type": "code",
            "execution_count": 21,
            "source": [
                "from pvtpy.compositional import Stage, SeparatorTest"
            ],
            "outputs": [],
            "metadata": {}
        },
        {
            "cell_type": "code",
            "execution_count": 22,
            "source": [
                "\n",
                "stage1 = Stage(\n",
                "    pressure=p1,\n",
                "    temperature = t1\n",
                ")\n",
                "\n",
                "stage2 = Stage(\n",
                "    pressure=p2,\n",
                "    temperature = t2\n",
                ")\n",
                "\n",
                "stage3 = Stage(\n",
                "    pressure=p3,\n",
                "    temperature = t3\n",
                ")\n",
                "\n",
                "list_stages = [stage1, stage2, stage3]\n",
                "\n",
                "sep = SeparatorTest(\n",
                "    initial_chromatography = ch1,\n",
                "    stages = list_stages\n",
                ")\n"
            ],
            "outputs": [],
            "metadata": {}
        },
        {
            "cell_type": "code",
            "execution_count": 23,
            "source": [
                "sep.solve()"
            ],
            "outputs": [
                {
                    "output_type": "stream",
                    "name": "stdout",
                    "text": [
                        "Stage 0\n",
                        "Stage 1\n",
                        "Stage 2\n"
                    ]
                },
                {
                    "output_type": "execute_result",
                    "data": {
                        "text/plain": [
                            "True"
                        ]
                    },
                    "metadata": {},
                    "execution_count": 23
                }
            ],
            "metadata": {}
        },
        {
            "cell_type": "code",
            "execution_count": 24,
            "source": [
                "sep.stages[-1].phase_moles"
            ],
            "outputs": [
                {
                    "output_type": "execute_result",
                    "data": {
                        "text/plain": [
                            "PhaseMoles(liquid_moles=0.7146137415095994, gas_moles=0.2853862584904005)"
                        ]
                    },
                    "metadata": {},
                    "execution_count": 24
                }
            ],
            "metadata": {}
        },
        {
            "cell_type": "markdown",
            "source": [
                "Calculate apparent molecular weight of the stock-tank oil from its composition, to\n",
                "give"
            ],
            "metadata": {}
        },
        {
            "cell_type": "code",
            "execution_count": 25,
            "source": [
                "sep.stages[-1].chromatography.apparent_molecular_weight()"
            ],
            "outputs": [
                {
                    "output_type": "execute_result",
                    "data": {
                        "text/plain": [
                            "200.23335136754622"
                        ]
                    },
                    "metadata": {},
                    "execution_count": 25
                }
            ],
            "metadata": {}
        },
        {
            "cell_type": "markdown",
            "source": [
                "Calculate the actual number of moles of the liquid phase at the stock-tank condi-\n",
                "tions\n",
                "\n",
                "Calculate the total number of moles of the liberated gas\n"
            ],
            "metadata": {}
        },
        {
            "cell_type": "code",
            "execution_count": 26,
            "source": [
                "sep.final_moles()"
            ],
            "outputs": [
                {
                    "output_type": "execute_result",
                    "data": {
                        "text/plain": [
                            "PhaseMoles(liquid_moles=0.49836769662173136, gas_moles=0.5016323033782686)"
                        ]
                    },
                    "metadata": {},
                    "execution_count": 26
                }
            ],
            "metadata": {}
        },
        {
            "cell_type": "code",
            "execution_count": 27,
            "source": [
                "sep.final_molecular_weight()"
            ],
            "outputs": [
                {
                    "output_type": "execute_result",
                    "data": {
                        "text/plain": [
                            "200.23335136754622"
                        ]
                    },
                    "metadata": {},
                    "execution_count": 27
                }
            ],
            "metadata": {}
        },
        {
            "cell_type": "code",
            "execution_count": 28,
            "source": [
                "rho = 50.920\n",
                "sep.gas_solubility(rho=50.920)"
            ],
            "outputs": [
                {
                    "output_type": "execute_result",
                    "data": {
                        "text/plain": [
                            "545.2989698764427"
                        ]
                    },
                    "metadata": {},
                    "execution_count": 28
                }
            ],
            "metadata": {}
        },
        {
            "cell_type": "code",
            "execution_count": 29,
            "source": [
                "sep.volumetric_factor(44.794,50.920)"
            ],
            "outputs": [
                {
                    "output_type": "execute_result",
                    "data": {
                        "text/plain": [
                            "1.2942651571380284"
                        ]
                    },
                    "metadata": {},
                    "execution_count": 29
                }
            ],
            "metadata": {}
        }
    ],
    "metadata": {
        "orig_nbformat": 4,
        "language_info": {
            "name": "python",
            "version": "3.8.10",
            "mimetype": "text/x-python",
            "codemirror_mode": {
                "name": "ipython",
                "version": 3
            },
            "pygments_lexer": "ipython3",
            "nbconvert_exporter": "python",
            "file_extension": ".py"
        },
        "kernelspec": {
            "name": "python3",
            "display_name": "Python 3.8.10 64-bit ('pvtpy': conda)"
        },
        "interpreter": {
            "hash": "c2412f2860ef08ecfc6ffbe66d86f9328a9706bdf5bd84042edf15bb644253f5"
        }
    },
    "nbformat": 4,
    "nbformat_minor": 2
}