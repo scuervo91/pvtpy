{
    "cells": [
        {
            "cell_type": "code",
            "execution_count": 1,
            "source": [
                "from pvtpy.compositional import Component, component_from_name\n",
                "from pvtpy.units import Pressure, Temperature\n",
                "import numpy as np"
            ],
            "outputs": [],
            "metadata": {}
        },
        {
            "cell_type": "code",
            "execution_count": 2,
            "source": [
                "prop = component_from_name('propane')\n",
                "prop"
            ],
            "outputs": [
                {
                    "output_type": "execute_result",
                    "data": {
                        "text/plain": [
                            "Component(name='propane', formula='C3H8', iupac_key='ATUOYWHBWRKTHZ-UHFFFAOYSA-N', iupac='1S/C3H8/c1-3-2/h3H2;1-2H3', cas='74-98-6', molecular_weight=44.097, specific_gravity=None, critical_pressure=Pressure(value=616.0, unit=<PressureUnits.psi: 'psi'>), critical_temperature=Temperature(value=206.06, unit=<TemperatureUnits.farenheit: 'farenheit'>), antoine_coefficients=Antoine(a=4.53678, b=1149.36, c=24.906), van_der_walls_coefficients=VanDerWalls(a=None, b=None), mole_fraction=None, params={'id': 3.0, 'acentric_factor': 0.1523})"
                        ]
                    },
                    "metadata": {},
                    "execution_count": 2
                }
            ],
            "metadata": {}
        },
        {
            "cell_type": "code",
            "execution_count": 3,
            "source": [
                "prop.critical_properties()"
            ],
            "outputs": [
                {
                    "output_type": "execute_result",
                    "data": {
                        "text/plain": [
                            "CriticalProperties(critical_pressure=Pressure(value=616.0, unit=<PressureUnits.psi: 'psi'>), critical_temperature=Temperature(value=206.06, unit=<TemperatureUnits.farenheit: 'farenheit'>))"
                        ]
                    },
                    "metadata": {},
                    "execution_count": 3
                }
            ],
            "metadata": {}
        },
        {
            "cell_type": "code",
            "execution_count": 4,
            "source": [
                "prop.calculate_vdw()"
            ],
            "outputs": [
                {
                    "output_type": "execute_result",
                    "data": {
                        "text/plain": [
                            "(34946.10506074155, 1.4495298092532467)"
                        ]
                    },
                    "metadata": {},
                    "execution_count": 4
                }
            ],
            "metadata": {}
        },
        {
            "cell_type": "code",
            "execution_count": 5,
            "source": [
                "p1 = Pressure(value = 185, unit='psi')\n",
                "t1 = Temperature(value = 100, unit='farenheit')\n",
                "\n",
                "prop.van_der_walls_coefficients.coef_AB(p1,t1)"
            ],
            "outputs": [
                {
                    "output_type": "execute_result",
                    "data": {
                        "text/plain": [
                            "(0.17926974743405383, 0.04465469520072008)"
                        ]
                    },
                    "metadata": {},
                    "execution_count": 5
                }
            ],
            "metadata": {}
        },
        {
            "cell_type": "code",
            "execution_count": 6,
            "source": [
                "poly = prop.van_der_walls_coefficients.cubic_poly(p1,t1)\n",
                "poly"
            ],
            "outputs": [
                {
                    "output_type": "execute_result",
                    "data": {
                        "text/plain": [
                            "Polynomial([-0.00800524,  0.17926975, -1.0446547 ,  1.        ], domain=[-1,  1], window=[-1,  1])"
                        ],
                        "text/latex": [
                            "$x \\mapsto \\text{-0.008005235930377745} + \\text{0.17926974743405383}\\,x - \\text{1.04465469520072}\\,x^{2} + \\text{1.0}\\,x^{3}$"
                        ]
                    },
                    "metadata": {},
                    "execution_count": 6
                }
            ],
            "metadata": {}
        },
        {
            "cell_type": "code",
            "execution_count": null,
            "source": [],
            "outputs": [],
            "metadata": {}
        },
        {
            "cell_type": "code",
            "execution_count": 7,
            "source": [
                "ma = prop.molecular_weight\n",
                "rho = prop.van_der_walls_coefficients.estimate_densities(p1,t1, molecular_weight=ma)\n",
                "rho"
            ],
            "outputs": [
                {
                    "output_type": "execute_result",
                    "data": {
                        "text/plain": [
                            "{'rho_gas': 1.6108195257038465, 'rho_liquid': 18.025022053627083}"
                        ]
                    },
                    "metadata": {},
                    "execution_count": 7
                }
            ],
            "metadata": {}
        }
    ],
    "metadata": {
        "orig_nbformat": 4,
        "language_info": {
            "name": "python",
            "version": "3.8.10",
            "mimetype": "text/x-python",
            "codemirror_mode": {
                "name": "ipython",
                "version": 3
            },
            "pygments_lexer": "ipython3",
            "nbconvert_exporter": "python",
            "file_extension": ".py"
        },
        "kernelspec": {
            "name": "python3",
            "display_name": "Python 3.8.10 64-bit ('pvtpy': conda)"
        },
        "interpreter": {
            "hash": "c2412f2860ef08ecfc6ffbe66d86f9328a9706bdf5bd84042edf15bb644253f5"
        }
    },
    "nbformat": 4,
    "nbformat_minor": 2
}