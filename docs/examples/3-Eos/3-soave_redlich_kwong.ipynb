{
    "cells": [
        {
            "cell_type": "code",
            "execution_count": 1,
            "source": [
                "from pvtpy.compositional import Component, component_from_name\n",
                "from pvtpy.units import Pressure, Temperature\n",
                "import numpy as np\n",
                "import pandas as pd"
            ],
            "outputs": [],
            "metadata": {}
        },
        {
            "cell_type": "code",
            "execution_count": 2,
            "source": [
                "prop = component_from_name('propane')\n",
                "prop.df()"
            ],
            "outputs": [
                {
                    "output_type": "execute_result",
                    "data": {
                        "text/plain": [
                            "formula                                        C3H8\n",
                            "iupac_key               ATUOYWHBWRKTHZ-UHFFFAOYSA-N\n",
                            "iupac                     1S/C3H8/c1-3-2/h3H2;1-2H3\n",
                            "cas                                         74-98-6\n",
                            "molecular_weight                             44.097\n",
                            "van_der_walls                                    {}\n",
                            "redlich_kwong                                    {}\n",
                            "soave_redlich_kwong                              {}\n",
                            "critical_pressure                             616.0\n",
                            "critical_temperature                         206.06\n",
                            "id                                              3.0\n",
                            "acentric_factor                              0.1523\n",
                            "Name: propane, dtype: object"
                        ]
                    },
                    "metadata": {},
                    "execution_count": 2
                }
            ],
            "metadata": {}
        },
        {
            "cell_type": "code",
            "execution_count": 3,
            "source": [
                "cp = prop.critical_properties()\n",
                "cp"
            ],
            "outputs": [
                {
                    "output_type": "execute_result",
                    "data": {
                        "text/plain": [
                            "CriticalProperties(critical_pressure=Pressure(value=616.0, unit=<PressureUnits.psi: 'psi'>), critical_temperature=Temperature(value=206.06, unit=<TemperatureUnits.farenheit: 'farenheit'>))"
                        ]
                    },
                    "metadata": {},
                    "execution_count": 3
                }
            ],
            "metadata": {}
        },
        {
            "cell_type": "code",
            "execution_count": 4,
            "source": [
                "coef = prop.soave_redlich_kwong.coef_ab(cp)\n",
                "coef"
            ],
            "outputs": [
                {
                    "output_type": "execute_result",
                    "data": {
                        "text/plain": [
                            "(35409.56807185824, 1.0046981013896104)"
                        ]
                    },
                    "metadata": {},
                    "execution_count": 4
                }
            ],
            "metadata": {}
        },
        {
            "cell_type": "code",
            "execution_count": 5,
            "source": [
                "p1 = Pressure(value = 185, unit='psi')\n",
                "t1 = Temperature(value = 100, unit='farenheit')"
            ],
            "outputs": [],
            "metadata": {}
        },
        {
            "cell_type": "code",
            "execution_count": 6,
            "source": [
                "omega = prop.params['acentric_factor']\n",
                "\n",
                "prop.soave_redlich_kwong.coef_alpha(t1,cp, omega)"
            ],
            "outputs": [
                {
                    "output_type": "execute_result",
                    "data": {
                        "text/plain": [
                            "1.1224917092791513"
                        ]
                    },
                    "metadata": {},
                    "execution_count": 6
                }
            ],
            "metadata": {}
        },
        {
            "cell_type": "code",
            "execution_count": 7,
            "source": [
                "A,B = prop.soave_redlich_kwong.coef_AB(p1,t1)\n",
                "print(A,B)"
            ],
            "outputs": [
                {
                    "output_type": "stream",
                    "name": "stdout",
                    "text": [
                        "0.2038975463516234 0.0309510623375231\n"
                    ]
                }
            ],
            "metadata": {}
        },
        {
            "cell_type": "code",
            "execution_count": 8,
            "source": [
                "poly = prop.soave_redlich_kwong.cubic_poly(p1,t1)\n",
                "poly"
            ],
            "outputs": [
                {
                    "output_type": "execute_result",
                    "data": {
                        "text/plain": [
                            "Polynomial([-0.00631085,  0.17198852, -1.        ,  1.        ], domain=[-1,  1], window=[-1,  1])"
                        ],
                        "text/latex": [
                            "$x \\mapsto \\text{-0.006310845667597102} + \\text{0.17198851575427906}\\,x - \\text{1.0}\\,x^{2} + \\text{1.0}\\,x^{3}$"
                        ]
                    },
                    "metadata": {},
                    "execution_count": 8
                }
            ],
            "metadata": {}
        },
        {
            "cell_type": "code",
            "execution_count": 9,
            "source": [
                "poly.roots()"
            ],
            "outputs": [
                {
                    "output_type": "execute_result",
                    "data": {
                        "text/plain": [
                            "array([0.05110012, 0.15569748, 0.7932024 ])"
                        ]
                    },
                    "metadata": {},
                    "execution_count": 9
                }
            ],
            "metadata": {}
        },
        {
            "cell_type": "code",
            "execution_count": 10,
            "source": [
                "ma = prop.molecular_weight\n",
                "rho = prop.soave_redlich_kwong.estimate_densities(p1,t1, molecular_weight=ma)\n",
                "rho"
            ],
            "outputs": [
                {
                    "output_type": "execute_result",
                    "data": {
                        "text/plain": [
                            "{'rho_gas': 1.712635751626581, 'rho_liquid': 26.584412239429383}"
                        ]
                    },
                    "metadata": {},
                    "execution_count": 10
                }
            ],
            "metadata": {}
        },
        {
            "cell_type": "code",
            "execution_count": null,
            "source": [],
            "outputs": [],
            "metadata": {}
        }
    ],
    "metadata": {
        "orig_nbformat": 4,
        "language_info": {
            "name": "python",
            "version": "3.8.10",
            "mimetype": "text/x-python",
            "codemirror_mode": {
                "name": "ipython",
                "version": 3
            },
            "pygments_lexer": "ipython3",
            "nbconvert_exporter": "python",
            "file_extension": ".py"
        },
        "kernelspec": {
            "name": "python3",
            "display_name": "Python 3.8.10 64-bit ('pvtpy': conda)"
        },
        "interpreter": {
            "hash": "c2412f2860ef08ecfc6ffbe66d86f9328a9706bdf5bd84042edf15bb644253f5"
        }
    },
    "nbformat": 4,
    "nbformat_minor": 2
}