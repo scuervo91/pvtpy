{
    "cells": [
        {
            "cell_type": "code",
            "execution_count": 1,
            "source": [
                "## Redlich_Kwong Equation - for Mixtures\n",
                "import pandas as pd\n",
                "import numpy as np\n",
                "from pvtpy.compositional import Chromatography, Component, properties_df\n",
                "from pvtpy.units import Pressure, Temperature"
            ],
            "outputs": [],
            "metadata": {}
        },
        {
            "cell_type": "markdown",
            "source": [
                "## Liquid Hydrocarbon Mixture"
            ],
            "metadata": {}
        },
        {
            "cell_type": "code",
            "execution_count": 2,
            "source": [
                "d1 = {\n",
                "    'comp': ['methane','ethane','propane','butane','pentane','n-hexane'],\n",
                "    'mole_fraction':[0.45,0.05,0.05,0.03,0.01,0.01]\n",
                "}\n",
                "\n",
                "c7_plus = Component(\n",
                "    name = 'C7+', \n",
                "    molecular_weight=215,\n",
                "    mole_fraction=0.4,   \n",
                "    critical_pressure=285,\n",
                "    critical_pressure_unit='psi',\n",
                "    critical_temperature=1287,\n",
                "    critical_temperature_unit='rankine',\n",
                "\n",
                ")\n",
                "\n",
                "ch1 = Chromatography()\n",
                "ch1.from_df(pd.DataFrame(d1),name='comp')\n",
                "ch1.plus_fraction = c7_plus\n",
                "\n",
                "ch1.df()['mole_fraction']"
            ],
            "outputs": [
                {
                    "output_type": "execute_result",
                    "data": {
                        "text/plain": [
                            "methane     0.45\n",
                            "ethane      0.05\n",
                            "propane     0.05\n",
                            "butane      0.03\n",
                            "pentane     0.01\n",
                            "n-hexane    0.01\n",
                            "C7+         0.40\n",
                            "Name: mole_fraction, dtype: float64"
                        ]
                    },
                    "metadata": {},
                    "execution_count": 2
                }
            ],
            "metadata": {}
        },
        {
            "cell_type": "code",
            "execution_count": 3,
            "source": [
                "ch1.redlich_kwong_components_coef()\n",
                "\n",
                "ch1.df(columns=['mole_fraction','rk_a','rk_b'])"
            ],
            "outputs": [
                {
                    "output_type": "execute_result",
                    "data": {
                        "text/plain": [
                            "          mole_fraction          rk_a      rk_b\n",
                            "methane            0.45  1.609183e+05  0.478495\n",
                            "ethane             0.05  4.932760e+05  0.723177\n",
                            "propane            0.05  9.136286e+05  1.004698\n",
                            "butane             0.03  1.448218e+06  1.292135\n",
                            "pentane            0.01  2.093616e+06  1.608655\n",
                            "n-hexane           0.01  2.839364e+06  1.943280\n",
                            "C7+                0.40  1.026140e+07  4.198091"
                        ],
                        "text/html": [
                            "<div>\n",
                            "<style scoped>\n",
                            "    .dataframe tbody tr th:only-of-type {\n",
                            "        vertical-align: middle;\n",
                            "    }\n",
                            "\n",
                            "    .dataframe tbody tr th {\n",
                            "        vertical-align: top;\n",
                            "    }\n",
                            "\n",
                            "    .dataframe thead th {\n",
                            "        text-align: right;\n",
                            "    }\n",
                            "</style>\n",
                            "<table border=\"1\" class=\"dataframe\">\n",
                            "  <thead>\n",
                            "    <tr style=\"text-align: right;\">\n",
                            "      <th></th>\n",
                            "      <th>mole_fraction</th>\n",
                            "      <th>rk_a</th>\n",
                            "      <th>rk_b</th>\n",
                            "    </tr>\n",
                            "  </thead>\n",
                            "  <tbody>\n",
                            "    <tr>\n",
                            "      <th>methane</th>\n",
                            "      <td>0.45</td>\n",
                            "      <td>1.609183e+05</td>\n",
                            "      <td>0.478495</td>\n",
                            "    </tr>\n",
                            "    <tr>\n",
                            "      <th>ethane</th>\n",
                            "      <td>0.05</td>\n",
                            "      <td>4.932760e+05</td>\n",
                            "      <td>0.723177</td>\n",
                            "    </tr>\n",
                            "    <tr>\n",
                            "      <th>propane</th>\n",
                            "      <td>0.05</td>\n",
                            "      <td>9.136286e+05</td>\n",
                            "      <td>1.004698</td>\n",
                            "    </tr>\n",
                            "    <tr>\n",
                            "      <th>butane</th>\n",
                            "      <td>0.03</td>\n",
                            "      <td>1.448218e+06</td>\n",
                            "      <td>1.292135</td>\n",
                            "    </tr>\n",
                            "    <tr>\n",
                            "      <th>pentane</th>\n",
                            "      <td>0.01</td>\n",
                            "      <td>2.093616e+06</td>\n",
                            "      <td>1.608655</td>\n",
                            "    </tr>\n",
                            "    <tr>\n",
                            "      <th>n-hexane</th>\n",
                            "      <td>0.01</td>\n",
                            "      <td>2.839364e+06</td>\n",
                            "      <td>1.943280</td>\n",
                            "    </tr>\n",
                            "    <tr>\n",
                            "      <th>C7+</th>\n",
                            "      <td>0.40</td>\n",
                            "      <td>1.026140e+07</td>\n",
                            "      <td>4.198091</td>\n",
                            "    </tr>\n",
                            "  </tbody>\n",
                            "</table>\n",
                            "</div>"
                        ]
                    },
                    "metadata": {},
                    "execution_count": 3
                }
            ],
            "metadata": {}
        },
        {
            "cell_type": "markdown",
            "source": [],
            "metadata": {}
        },
        {
            "cell_type": "code",
            "execution_count": 4,
            "source": [
                "ch1.redlich_kwong_mix_coef()"
            ],
            "outputs": [
                {
                    "output_type": "execute_result",
                    "data": {
                        "text/plain": [
                            "(2599136.1341489274, 2.0552362922703455)"
                        ]
                    },
                    "metadata": {},
                    "execution_count": 4
                }
            ],
            "metadata": {}
        },
        {
            "cell_type": "code",
            "execution_count": 5,
            "source": [
                "p1 = Pressure(value = 4000, unit='psi')\n",
                "t1 = Temperature(value = 160, unit='farenheit')\n",
                "\n",
                "ma = ch1.apparent_molecular_weight()\n",
                "ma"
            ],
            "outputs": [
                {
                    "output_type": "execute_result",
                    "data": {
                        "text/plain": [
                            "100.264435"
                        ]
                    },
                    "metadata": {},
                    "execution_count": 5
                }
            ],
            "metadata": {}
        },
        {
            "cell_type": "code",
            "execution_count": 6,
            "source": [
                "df1 = ch1.df(columns=['mole_fraction','molecular_weight'])\n",
                "print(df1)"
            ],
            "outputs": [
                {
                    "output_type": "stream",
                    "name": "stdout",
                    "text": [
                        "          mole_fraction  molecular_weight\n",
                        "methane            0.45           16.0425\n",
                        "ethane             0.05           30.0700\n",
                        "propane            0.05           44.0970\n",
                        "butane             0.03           58.1230\n",
                        "pentane            0.01           73.1500\n",
                        "n-hexane           0.01           86.1770\n",
                        "C7+                0.40          215.0000\n"
                    ]
                }
            ],
            "metadata": {}
        },
        {
            "cell_type": "code",
            "execution_count": 7,
            "source": [
                "A,B = ch1.redlich_kwong.coef_AB(p1,t1)\n",
                "\n",
                "print(A,B)"
            ],
            "outputs": [
                {
                    "output_type": "stream",
                    "name": "stdout",
                    "text": [
                        "9.446879948552613 1.2364072939404886\n"
                    ]
                }
            ],
            "metadata": {}
        },
        {
            "cell_type": "code",
            "execution_count": 8,
            "source": [
                "poly = ch1.redlich_kwong.cubic_poly(p1,t1)\n",
                "print(type(poly))\n",
                "print(poly)"
            ],
            "outputs": [
                {
                    "output_type": "stream",
                    "name": "stdout",
                    "text": [
                        "<class 'numpy.polynomial.polynomial.Polynomial'>\n",
                        "-11.6801912733706 + 6.681769658102883·x¹ - 1.0·x² + 1.0·x³\n"
                    ]
                }
            ],
            "metadata": {}
        },
        {
            "cell_type": "code",
            "execution_count": 9,
            "source": [
                "roots = poly.roots()\n",
                "\n",
                "roots[np.isreal(roots)].real"
            ],
            "outputs": [
                {
                    "output_type": "execute_result",
                    "data": {
                        "text/plain": [
                            "array([1.55019215])"
                        ]
                    },
                    "metadata": {},
                    "execution_count": 9
                }
            ],
            "metadata": {}
        },
        {
            "cell_type": "code",
            "execution_count": 10,
            "source": [
                "ch1.redlich_kwong.estimate_densities(p1,t1, ma)"
            ],
            "outputs": [
                {
                    "output_type": "execute_result",
                    "data": {
                        "text/plain": [
                            "{'rho': array([38.90999504])}"
                        ]
                    },
                    "metadata": {},
                    "execution_count": 10
                }
            ],
            "metadata": {}
        },
        {
            "cell_type": "markdown",
            "source": [
                "## Gas Hydrocarbon Mixture"
            ],
            "metadata": {}
        },
        {
            "cell_type": "code",
            "execution_count": 11,
            "source": [
                "d2 = {\n",
                "    'comp': ['methane','ethane','propane','butane','pentane','n-hexane'],\n",
                "    'mole_fraction':[0.86,0.05,0.05,0.02,0.01,0.005]\n",
                "}\n",
                "\n",
                "c7_plus2 = Component(\n",
                "    name = 'C7+', \n",
                "    molecular_weight=215,\n",
                "    mole_fraction=0.005,   \n",
                "    critical_pressure=285,\n",
                "    critical_pressure_unit='psi',\n",
                "    critical_temperature=1287,\n",
                "    critical_temperature_unit='rankine'\n",
                ")\n",
                "\n",
                "ch2 = Chromatography()\n",
                "ch2.from_df(pd.DataFrame(d2),name='comp')\n",
                "ch2.plus_fraction = c7_plus2\n",
                "\n",
                "ch2.df(columns=['mole_fraction'], normalize=False)"
            ],
            "outputs": [
                {
                    "output_type": "execute_result",
                    "data": {
                        "text/plain": [
                            "          mole_fraction\n",
                            "methane           0.860\n",
                            "ethane            0.050\n",
                            "propane           0.050\n",
                            "butane            0.020\n",
                            "pentane           0.010\n",
                            "n-hexane          0.005\n",
                            "C7+               0.005"
                        ],
                        "text/html": [
                            "<div>\n",
                            "<style scoped>\n",
                            "    .dataframe tbody tr th:only-of-type {\n",
                            "        vertical-align: middle;\n",
                            "    }\n",
                            "\n",
                            "    .dataframe tbody tr th {\n",
                            "        vertical-align: top;\n",
                            "    }\n",
                            "\n",
                            "    .dataframe thead th {\n",
                            "        text-align: right;\n",
                            "    }\n",
                            "</style>\n",
                            "<table border=\"1\" class=\"dataframe\">\n",
                            "  <thead>\n",
                            "    <tr style=\"text-align: right;\">\n",
                            "      <th></th>\n",
                            "      <th>mole_fraction</th>\n",
                            "    </tr>\n",
                            "  </thead>\n",
                            "  <tbody>\n",
                            "    <tr>\n",
                            "      <th>methane</th>\n",
                            "      <td>0.860</td>\n",
                            "    </tr>\n",
                            "    <tr>\n",
                            "      <th>ethane</th>\n",
                            "      <td>0.050</td>\n",
                            "    </tr>\n",
                            "    <tr>\n",
                            "      <th>propane</th>\n",
                            "      <td>0.050</td>\n",
                            "    </tr>\n",
                            "    <tr>\n",
                            "      <th>butane</th>\n",
                            "      <td>0.020</td>\n",
                            "    </tr>\n",
                            "    <tr>\n",
                            "      <th>pentane</th>\n",
                            "      <td>0.010</td>\n",
                            "    </tr>\n",
                            "    <tr>\n",
                            "      <th>n-hexane</th>\n",
                            "      <td>0.005</td>\n",
                            "    </tr>\n",
                            "    <tr>\n",
                            "      <th>C7+</th>\n",
                            "      <td>0.005</td>\n",
                            "    </tr>\n",
                            "  </tbody>\n",
                            "</table>\n",
                            "</div>"
                        ]
                    },
                    "metadata": {},
                    "execution_count": 11
                }
            ],
            "metadata": {}
        },
        {
            "cell_type": "code",
            "execution_count": 12,
            "source": [
                "ch2.redlich_kwong_components_coef()\n",
                "\n",
                "ch2.df(columns=['mole_fraction','rk_a','rk_b'])"
            ],
            "outputs": [
                {
                    "output_type": "execute_result",
                    "data": {
                        "text/plain": [
                            "          mole_fraction          rk_a      rk_b\n",
                            "methane           0.860  1.609183e+05  0.478495\n",
                            "ethane            0.050  4.932760e+05  0.723177\n",
                            "propane           0.050  9.136286e+05  1.004698\n",
                            "butane            0.020  1.448218e+06  1.292135\n",
                            "pentane           0.010  2.093616e+06  1.608655\n",
                            "n-hexane          0.005  2.839364e+06  1.943280\n",
                            "C7+               0.005  1.026140e+07  4.198091"
                        ],
                        "text/html": [
                            "<div>\n",
                            "<style scoped>\n",
                            "    .dataframe tbody tr th:only-of-type {\n",
                            "        vertical-align: middle;\n",
                            "    }\n",
                            "\n",
                            "    .dataframe tbody tr th {\n",
                            "        vertical-align: top;\n",
                            "    }\n",
                            "\n",
                            "    .dataframe thead th {\n",
                            "        text-align: right;\n",
                            "    }\n",
                            "</style>\n",
                            "<table border=\"1\" class=\"dataframe\">\n",
                            "  <thead>\n",
                            "    <tr style=\"text-align: right;\">\n",
                            "      <th></th>\n",
                            "      <th>mole_fraction</th>\n",
                            "      <th>rk_a</th>\n",
                            "      <th>rk_b</th>\n",
                            "    </tr>\n",
                            "  </thead>\n",
                            "  <tbody>\n",
                            "    <tr>\n",
                            "      <th>methane</th>\n",
                            "      <td>0.860</td>\n",
                            "      <td>1.609183e+05</td>\n",
                            "      <td>0.478495</td>\n",
                            "    </tr>\n",
                            "    <tr>\n",
                            "      <th>ethane</th>\n",
                            "      <td>0.050</td>\n",
                            "      <td>4.932760e+05</td>\n",
                            "      <td>0.723177</td>\n",
                            "    </tr>\n",
                            "    <tr>\n",
                            "      <th>propane</th>\n",
                            "      <td>0.050</td>\n",
                            "      <td>9.136286e+05</td>\n",
                            "      <td>1.004698</td>\n",
                            "    </tr>\n",
                            "    <tr>\n",
                            "      <th>butane</th>\n",
                            "      <td>0.020</td>\n",
                            "      <td>1.448218e+06</td>\n",
                            "      <td>1.292135</td>\n",
                            "    </tr>\n",
                            "    <tr>\n",
                            "      <th>pentane</th>\n",
                            "      <td>0.010</td>\n",
                            "      <td>2.093616e+06</td>\n",
                            "      <td>1.608655</td>\n",
                            "    </tr>\n",
                            "    <tr>\n",
                            "      <th>n-hexane</th>\n",
                            "      <td>0.005</td>\n",
                            "      <td>2.839364e+06</td>\n",
                            "      <td>1.943280</td>\n",
                            "    </tr>\n",
                            "    <tr>\n",
                            "      <th>C7+</th>\n",
                            "      <td>0.005</td>\n",
                            "      <td>1.026140e+07</td>\n",
                            "      <td>4.198091</td>\n",
                            "    </tr>\n",
                            "  </tbody>\n",
                            "</table>\n",
                            "</div>"
                        ]
                    },
                    "metadata": {},
                    "execution_count": 12
                }
            ],
            "metadata": {}
        },
        {
            "cell_type": "code",
            "execution_count": 13,
            "source": [
                "ma2 = ch2.apparent_molecular_weight()\n",
                "ma2"
            ],
            "outputs": [
                {
                    "output_type": "execute_result",
                    "data": {
                        "text/plain": [
                            "20.904745"
                        ]
                    },
                    "metadata": {},
                    "execution_count": 13
                }
            ],
            "metadata": {}
        },
        {
            "cell_type": "code",
            "execution_count": 16,
            "source": [
                "ch2.redlich_kwong_mix_coef()"
            ],
            "outputs": [
                {
                    "output_type": "execute_result",
                    "data": {
                        "text/plain": [
                            "(240957.42827545686, 0.570535481591962)"
                        ]
                    },
                    "metadata": {},
                    "execution_count": 16
                }
            ],
            "metadata": {}
        },
        {
            "cell_type": "code",
            "execution_count": null,
            "source": [],
            "outputs": [],
            "metadata": {}
        },
        {
            "cell_type": "code",
            "execution_count": 17,
            "source": [
                "p2 = Pressure(value = 4000, unit='psi')\n",
                "t2 = Temperature(value = 160, unit='farenheit')\n",
                "ch2.redlich_kwong.estimate_densities(p2,t2, ma2)"
            ],
            "outputs": [
                {
                    "output_type": "execute_result",
                    "data": {
                        "text/plain": [
                            "{'rho': array([13.85246264])}"
                        ]
                    },
                    "metadata": {},
                    "execution_count": 17
                }
            ],
            "metadata": {}
        },
        {
            "cell_type": "code",
            "execution_count": 19,
            "source": [
                "ch2.redlich_kwong.cubic_poly(p2,t2)"
            ],
            "outputs": [
                {
                    "output_type": "execute_result",
                    "data": {
                        "text/plain": [
                            "Polynomial([-0.30059527,  0.41475629, -1.        ,  1.        ], domain=[-1,  1], window=[-1,  1])"
                        ],
                        "text/latex": [
                            "$x \\mapsto \\text{-0.3005952718766425} + \\text{0.4147562859938712}\\,x - \\text{1.0}\\,x^{2} + \\text{1.0}\\,x^{3}$"
                        ]
                    },
                    "metadata": {},
                    "execution_count": 19
                }
            ],
            "metadata": {}
        },
        {
            "cell_type": "code",
            "execution_count": null,
            "source": [],
            "outputs": [],
            "metadata": {}
        }
    ],
    "metadata": {
        "orig_nbformat": 4,
        "language_info": {
            "name": "python",
            "version": "3.8.10",
            "mimetype": "text/x-python",
            "codemirror_mode": {
                "name": "ipython",
                "version": 3
            },
            "pygments_lexer": "ipython3",
            "nbconvert_exporter": "python",
            "file_extension": ".py"
        },
        "kernelspec": {
            "name": "python3",
            "display_name": "Python 3.8.10 64-bit ('pvtpy': conda)"
        },
        "interpreter": {
            "hash": "c2412f2860ef08ecfc6ffbe66d86f9328a9706bdf5bd84042edf15bb644253f5"
        }
    },
    "nbformat": 4,
    "nbformat_minor": 2
}