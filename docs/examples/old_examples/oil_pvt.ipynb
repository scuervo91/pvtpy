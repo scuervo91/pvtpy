{
 "cells": [
  {
   "cell_type": "code",
   "execution_count": 1,
   "metadata": {},
   "outputs": [],
   "source": [
    "import os\n",
    "path = os.path.abspath(os.path.join('..','..'))\n",
    "import sys\n",
    "sys.path.append(path)\n",
    "from reservoirpy.pvtpy import black_oil as bl\n",
    "import pandas as pd\n",
    "import numpy as np\n",
    "import matplotlib.pyplot as plt\n",
    "import pandas as pd"
   ]
  },
  {
   "cell_type": "markdown",
   "metadata": {},
   "source": [
    "# Make a Oil object\n",
    "\n",
    "First create an instance of **oil** object with all the necessary attributes"
   ]
  },
  {
   "cell_type": "code",
   "execution_count": 2,
   "metadata": {},
   "outputs": [],
   "source": [
    "oil1 = bl.oil(formation='mir',api=31,rsb=675,sg_gas=0.95,temp=180)"
   ]
  },
  {
   "cell_type": "markdown",
   "metadata": {},
   "source": [
    "## Make pvt table from correlations\n",
    "\n",
    "By default, there are built-in some correlations to build a black oil pvt"
   ]
  },
  {
   "cell_type": "code",
   "execution_count": 3,
   "metadata": {},
   "outputs": [
    {
     "data": {
      "text/plain": [
       "{'pb': 'standing',\n",
       " 'rs': 'standing',\n",
       " 'bo': 'standing',\n",
       " 'co': {'above_pb': 'vazquez_beggs', 'below_pb': 'mccain'},\n",
       " 'muod': 'beal',\n",
       " 'muo': {'above_pb': 'beal', 'below_pb': 'beggs'},\n",
       " 'rho': 'banzer'}"
      ]
     },
     "execution_count": 3,
     "metadata": {},
     "output_type": "execute_result"
    }
   ],
   "source": [
    "oil1.correlations"
   ]
  },
  {
   "cell_type": "markdown",
   "metadata": {},
   "source": [
    " By calling the `pvt_from_correlation` method, a pvt table is constructed with the correlations above. "
   ]
  },
  {
   "cell_type": "code",
   "execution_count": 4,
   "metadata": {},
   "outputs": [
    {
     "data": {
      "text/html": [
       "<div>\n",
       "<style scoped>\n",
       "    .dataframe tbody tr th:only-of-type {\n",
       "        vertical-align: middle;\n",
       "    }\n",
       "\n",
       "    .dataframe tbody tr th {\n",
       "        vertical-align: top;\n",
       "    }\n",
       "\n",
       "    .dataframe thead th {\n",
       "        text-align: right;\n",
       "    }\n",
       "</style>\n",
       "<table border=\"1\" class=\"dataframe\">\n",
       "  <thead>\n",
       "    <tr style=\"text-align: right;\">\n",
       "      <th></th>\n",
       "      <th>rs</th>\n",
       "      <th>bo</th>\n",
       "      <th>co</th>\n",
       "      <th>muo</th>\n",
       "      <th>rhoo</th>\n",
       "    </tr>\n",
       "    <tr>\n",
       "      <th>pressure</th>\n",
       "      <th></th>\n",
       "      <th></th>\n",
       "      <th></th>\n",
       "      <th></th>\n",
       "      <th></th>\n",
       "    </tr>\n",
       "  </thead>\n",
       "  <tbody>\n",
       "    <tr>\n",
       "      <th>20.000000</th>\n",
       "      <td>68.070283</td>\n",
       "      <td>1.086794</td>\n",
       "      <td>0.021527</td>\n",
       "      <td>1.809462</td>\n",
       "      <td>50.677969</td>\n",
       "    </tr>\n",
       "    <tr>\n",
       "      <th>282.105263</th>\n",
       "      <td>202.271361</td>\n",
       "      <td>1.152460</td>\n",
       "      <td>0.000464</td>\n",
       "      <td>1.175854</td>\n",
       "      <td>49.121421</td>\n",
       "    </tr>\n",
       "    <tr>\n",
       "      <th>544.210526</th>\n",
       "      <td>272.920883</td>\n",
       "      <td>1.188878</td>\n",
       "      <td>0.000179</td>\n",
       "      <td>1.010038</td>\n",
       "      <td>48.277638</td>\n",
       "    </tr>\n",
       "    <tr>\n",
       "      <th>806.315789</th>\n",
       "      <td>332.079469</td>\n",
       "      <td>1.220202</td>\n",
       "      <td>0.000101</td>\n",
       "      <td>0.908811</td>\n",
       "      <td>47.567999</td>\n",
       "    </tr>\n",
       "    <tr>\n",
       "      <th>1068.421053</th>\n",
       "      <td>386.767501</td>\n",
       "      <td>1.249771</td>\n",
       "      <td>0.000067</td>\n",
       "      <td>0.834881</td>\n",
       "      <td>46.913187</td>\n",
       "    </tr>\n",
       "    <tr>\n",
       "      <th>1330.526316</th>\n",
       "      <td>439.540115</td>\n",
       "      <td>1.278819</td>\n",
       "      <td>0.000049</td>\n",
       "      <td>0.776254</td>\n",
       "      <td>46.284704</td>\n",
       "    </tr>\n",
       "    <tr>\n",
       "      <th>1592.631579</th>\n",
       "      <td>491.619165</td>\n",
       "      <td>1.307948</td>\n",
       "      <td>0.000038</td>\n",
       "      <td>0.727551</td>\n",
       "      <td>45.669386</td>\n",
       "    </tr>\n",
       "    <tr>\n",
       "      <th>1854.736842</th>\n",
       "      <td>543.678232</td>\n",
       "      <td>1.337498</td>\n",
       "      <td>0.000030</td>\n",
       "      <td>0.685880</td>\n",
       "      <td>45.060419</td>\n",
       "    </tr>\n",
       "    <tr>\n",
       "      <th>2116.842105</th>\n",
       "      <td>596.122570</td>\n",
       "      <td>1.367680</td>\n",
       "      <td>0.000025</td>\n",
       "      <td>0.649501</td>\n",
       "      <td>44.454098</td>\n",
       "    </tr>\n",
       "    <tr>\n",
       "      <th>2378.947368</th>\n",
       "      <td>649.210585</td>\n",
       "      <td>1.398633</td>\n",
       "      <td>0.000021</td>\n",
       "      <td>0.617276</td>\n",
       "      <td>43.848414</td>\n",
       "    </tr>\n",
       "    <tr>\n",
       "      <th>2641.052632</th>\n",
       "      <td>675.000000</td>\n",
       "      <td>1.413809</td>\n",
       "      <td>0.000016</td>\n",
       "      <td>0.615733</td>\n",
       "      <td>43.601482</td>\n",
       "    </tr>\n",
       "    <tr>\n",
       "      <th>2903.157895</th>\n",
       "      <td>675.000000</td>\n",
       "      <td>1.413809</td>\n",
       "      <td>0.000015</td>\n",
       "      <td>0.626141</td>\n",
       "      <td>43.440942</td>\n",
       "    </tr>\n",
       "    <tr>\n",
       "      <th>3165.263158</th>\n",
       "      <td>675.000000</td>\n",
       "      <td>1.413809</td>\n",
       "      <td>0.000014</td>\n",
       "      <td>0.636550</td>\n",
       "      <td>43.307442</td>\n",
       "    </tr>\n",
       "    <tr>\n",
       "      <th>3427.368421</th>\n",
       "      <td>675.000000</td>\n",
       "      <td>1.413809</td>\n",
       "      <td>0.000013</td>\n",
       "      <td>0.646959</td>\n",
       "      <td>43.194682</td>\n",
       "    </tr>\n",
       "    <tr>\n",
       "      <th>3689.473684</th>\n",
       "      <td>675.000000</td>\n",
       "      <td>1.413809</td>\n",
       "      <td>0.000012</td>\n",
       "      <td>0.657368</td>\n",
       "      <td>43.098177</td>\n",
       "    </tr>\n",
       "    <tr>\n",
       "      <th>3951.578947</th>\n",
       "      <td>675.000000</td>\n",
       "      <td>1.413809</td>\n",
       "      <td>0.000011</td>\n",
       "      <td>0.667777</td>\n",
       "      <td>43.014649</td>\n",
       "    </tr>\n",
       "    <tr>\n",
       "      <th>4213.684211</th>\n",
       "      <td>675.000000</td>\n",
       "      <td>1.413809</td>\n",
       "      <td>0.000010</td>\n",
       "      <td>0.678185</td>\n",
       "      <td>42.941645</td>\n",
       "    </tr>\n",
       "    <tr>\n",
       "      <th>4475.789474</th>\n",
       "      <td>675.000000</td>\n",
       "      <td>1.413809</td>\n",
       "      <td>0.000010</td>\n",
       "      <td>0.688594</td>\n",
       "      <td>42.877295</td>\n",
       "    </tr>\n",
       "    <tr>\n",
       "      <th>4737.894737</th>\n",
       "      <td>675.000000</td>\n",
       "      <td>1.413809</td>\n",
       "      <td>0.000009</td>\n",
       "      <td>0.699003</td>\n",
       "      <td>42.820145</td>\n",
       "    </tr>\n",
       "    <tr>\n",
       "      <th>5000.000000</th>\n",
       "      <td>675.000000</td>\n",
       "      <td>1.413809</td>\n",
       "      <td>0.000009</td>\n",
       "      <td>0.709412</td>\n",
       "      <td>42.769052</td>\n",
       "    </tr>\n",
       "  </tbody>\n",
       "</table>\n",
       "</div>"
      ],
      "text/plain": [
       "                     rs        bo        co       muo       rhoo\n",
       "pressure                                                        \n",
       "20.000000     68.070283  1.086794  0.021527  1.809462  50.677969\n",
       "282.105263   202.271361  1.152460  0.000464  1.175854  49.121421\n",
       "544.210526   272.920883  1.188878  0.000179  1.010038  48.277638\n",
       "806.315789   332.079469  1.220202  0.000101  0.908811  47.567999\n",
       "1068.421053  386.767501  1.249771  0.000067  0.834881  46.913187\n",
       "1330.526316  439.540115  1.278819  0.000049  0.776254  46.284704\n",
       "1592.631579  491.619165  1.307948  0.000038  0.727551  45.669386\n",
       "1854.736842  543.678232  1.337498  0.000030  0.685880  45.060419\n",
       "2116.842105  596.122570  1.367680  0.000025  0.649501  44.454098\n",
       "2378.947368  649.210585  1.398633  0.000021  0.617276  43.848414\n",
       "2641.052632  675.000000  1.413809  0.000016  0.615733  43.601482\n",
       "2903.157895  675.000000  1.413809  0.000015  0.626141  43.440942\n",
       "3165.263158  675.000000  1.413809  0.000014  0.636550  43.307442\n",
       "3427.368421  675.000000  1.413809  0.000013  0.646959  43.194682\n",
       "3689.473684  675.000000  1.413809  0.000012  0.657368  43.098177\n",
       "3951.578947  675.000000  1.413809  0.000011  0.667777  43.014649\n",
       "4213.684211  675.000000  1.413809  0.000010  0.678185  42.941645\n",
       "4475.789474  675.000000  1.413809  0.000010  0.688594  42.877295\n",
       "4737.894737  675.000000  1.413809  0.000009  0.699003  42.820145\n",
       "5000.000000  675.000000  1.413809  0.000009  0.709412  42.769052"
      ]
     },
     "execution_count": 4,
     "metadata": {},
     "output_type": "execute_result"
    }
   ],
   "source": [
    "oil1.pvt_from_correlations()"
   ]
  },
  {
   "cell_type": "code",
   "execution_count": 5,
   "metadata": {},
   "outputs": [
    {
     "data": {
      "text/html": [
       "<div>\n",
       "<style scoped>\n",
       "    .dataframe tbody tr th:only-of-type {\n",
       "        vertical-align: middle;\n",
       "    }\n",
       "\n",
       "    .dataframe tbody tr th {\n",
       "        vertical-align: top;\n",
       "    }\n",
       "\n",
       "    .dataframe thead th {\n",
       "        text-align: right;\n",
       "    }\n",
       "</style>\n",
       "<table border=\"1\" class=\"dataframe\">\n",
       "  <thead>\n",
       "    <tr style=\"text-align: right;\">\n",
       "      <th></th>\n",
       "      <th>rs</th>\n",
       "      <th>bo</th>\n",
       "      <th>co</th>\n",
       "      <th>muo</th>\n",
       "      <th>rhoo</th>\n",
       "    </tr>\n",
       "    <tr>\n",
       "      <th>pressure</th>\n",
       "      <th></th>\n",
       "      <th></th>\n",
       "      <th></th>\n",
       "      <th></th>\n",
       "      <th></th>\n",
       "    </tr>\n",
       "  </thead>\n",
       "  <tbody>\n",
       "    <tr>\n",
       "      <th>20.000000</th>\n",
       "      <td>68.070283</td>\n",
       "      <td>1.086794</td>\n",
       "      <td>0.021527</td>\n",
       "      <td>1.809462</td>\n",
       "      <td>50.677969</td>\n",
       "    </tr>\n",
       "    <tr>\n",
       "      <th>282.105263</th>\n",
       "      <td>202.271361</td>\n",
       "      <td>1.152460</td>\n",
       "      <td>0.000464</td>\n",
       "      <td>1.175854</td>\n",
       "      <td>49.121421</td>\n",
       "    </tr>\n",
       "    <tr>\n",
       "      <th>544.210526</th>\n",
       "      <td>272.920883</td>\n",
       "      <td>1.188878</td>\n",
       "      <td>0.000179</td>\n",
       "      <td>1.010038</td>\n",
       "      <td>48.277638</td>\n",
       "    </tr>\n",
       "    <tr>\n",
       "      <th>806.315789</th>\n",
       "      <td>332.079469</td>\n",
       "      <td>1.220202</td>\n",
       "      <td>0.000101</td>\n",
       "      <td>0.908811</td>\n",
       "      <td>47.567999</td>\n",
       "    </tr>\n",
       "    <tr>\n",
       "      <th>1068.421053</th>\n",
       "      <td>386.767501</td>\n",
       "      <td>1.249771</td>\n",
       "      <td>0.000067</td>\n",
       "      <td>0.834881</td>\n",
       "      <td>46.913187</td>\n",
       "    </tr>\n",
       "    <tr>\n",
       "      <th>1330.526316</th>\n",
       "      <td>439.540115</td>\n",
       "      <td>1.278819</td>\n",
       "      <td>0.000049</td>\n",
       "      <td>0.776254</td>\n",
       "      <td>46.284704</td>\n",
       "    </tr>\n",
       "    <tr>\n",
       "      <th>1592.631579</th>\n",
       "      <td>491.619165</td>\n",
       "      <td>1.307948</td>\n",
       "      <td>0.000038</td>\n",
       "      <td>0.727551</td>\n",
       "      <td>45.669386</td>\n",
       "    </tr>\n",
       "    <tr>\n",
       "      <th>1854.736842</th>\n",
       "      <td>543.678232</td>\n",
       "      <td>1.337498</td>\n",
       "      <td>0.000030</td>\n",
       "      <td>0.685880</td>\n",
       "      <td>45.060419</td>\n",
       "    </tr>\n",
       "    <tr>\n",
       "      <th>2116.842105</th>\n",
       "      <td>596.122570</td>\n",
       "      <td>1.367680</td>\n",
       "      <td>0.000025</td>\n",
       "      <td>0.649501</td>\n",
       "      <td>44.454098</td>\n",
       "    </tr>\n",
       "    <tr>\n",
       "      <th>2378.947368</th>\n",
       "      <td>649.210585</td>\n",
       "      <td>1.398633</td>\n",
       "      <td>0.000021</td>\n",
       "      <td>0.617276</td>\n",
       "      <td>43.848414</td>\n",
       "    </tr>\n",
       "    <tr>\n",
       "      <th>2641.052632</th>\n",
       "      <td>675.000000</td>\n",
       "      <td>1.413809</td>\n",
       "      <td>0.000016</td>\n",
       "      <td>0.615733</td>\n",
       "      <td>43.601482</td>\n",
       "    </tr>\n",
       "    <tr>\n",
       "      <th>2903.157895</th>\n",
       "      <td>675.000000</td>\n",
       "      <td>1.413809</td>\n",
       "      <td>0.000015</td>\n",
       "      <td>0.626141</td>\n",
       "      <td>43.440942</td>\n",
       "    </tr>\n",
       "    <tr>\n",
       "      <th>3165.263158</th>\n",
       "      <td>675.000000</td>\n",
       "      <td>1.413809</td>\n",
       "      <td>0.000014</td>\n",
       "      <td>0.636550</td>\n",
       "      <td>43.307442</td>\n",
       "    </tr>\n",
       "    <tr>\n",
       "      <th>3427.368421</th>\n",
       "      <td>675.000000</td>\n",
       "      <td>1.413809</td>\n",
       "      <td>0.000013</td>\n",
       "      <td>0.646959</td>\n",
       "      <td>43.194682</td>\n",
       "    </tr>\n",
       "    <tr>\n",
       "      <th>3689.473684</th>\n",
       "      <td>675.000000</td>\n",
       "      <td>1.413809</td>\n",
       "      <td>0.000012</td>\n",
       "      <td>0.657368</td>\n",
       "      <td>43.098177</td>\n",
       "    </tr>\n",
       "    <tr>\n",
       "      <th>3951.578947</th>\n",
       "      <td>675.000000</td>\n",
       "      <td>1.413809</td>\n",
       "      <td>0.000011</td>\n",
       "      <td>0.667777</td>\n",
       "      <td>43.014649</td>\n",
       "    </tr>\n",
       "    <tr>\n",
       "      <th>4213.684211</th>\n",
       "      <td>675.000000</td>\n",
       "      <td>1.413809</td>\n",
       "      <td>0.000010</td>\n",
       "      <td>0.678185</td>\n",
       "      <td>42.941645</td>\n",
       "    </tr>\n",
       "    <tr>\n",
       "      <th>4475.789474</th>\n",
       "      <td>675.000000</td>\n",
       "      <td>1.413809</td>\n",
       "      <td>0.000010</td>\n",
       "      <td>0.688594</td>\n",
       "      <td>42.877295</td>\n",
       "    </tr>\n",
       "    <tr>\n",
       "      <th>4737.894737</th>\n",
       "      <td>675.000000</td>\n",
       "      <td>1.413809</td>\n",
       "      <td>0.000009</td>\n",
       "      <td>0.699003</td>\n",
       "      <td>42.820145</td>\n",
       "    </tr>\n",
       "    <tr>\n",
       "      <th>5000.000000</th>\n",
       "      <td>675.000000</td>\n",
       "      <td>1.413809</td>\n",
       "      <td>0.000009</td>\n",
       "      <td>0.709412</td>\n",
       "      <td>42.769052</td>\n",
       "    </tr>\n",
       "  </tbody>\n",
       "</table>\n",
       "</div>"
      ],
      "text/plain": [
       "                     rs        bo        co       muo       rhoo\n",
       "pressure                                                        \n",
       "20.000000     68.070283  1.086794  0.021527  1.809462  50.677969\n",
       "282.105263   202.271361  1.152460  0.000464  1.175854  49.121421\n",
       "544.210526   272.920883  1.188878  0.000179  1.010038  48.277638\n",
       "806.315789   332.079469  1.220202  0.000101  0.908811  47.567999\n",
       "1068.421053  386.767501  1.249771  0.000067  0.834881  46.913187\n",
       "1330.526316  439.540115  1.278819  0.000049  0.776254  46.284704\n",
       "1592.631579  491.619165  1.307948  0.000038  0.727551  45.669386\n",
       "1854.736842  543.678232  1.337498  0.000030  0.685880  45.060419\n",
       "2116.842105  596.122570  1.367680  0.000025  0.649501  44.454098\n",
       "2378.947368  649.210585  1.398633  0.000021  0.617276  43.848414\n",
       "2641.052632  675.000000  1.413809  0.000016  0.615733  43.601482\n",
       "2903.157895  675.000000  1.413809  0.000015  0.626141  43.440942\n",
       "3165.263158  675.000000  1.413809  0.000014  0.636550  43.307442\n",
       "3427.368421  675.000000  1.413809  0.000013  0.646959  43.194682\n",
       "3689.473684  675.000000  1.413809  0.000012  0.657368  43.098177\n",
       "3951.578947  675.000000  1.413809  0.000011  0.667777  43.014649\n",
       "4213.684211  675.000000  1.413809  0.000010  0.678185  42.941645\n",
       "4475.789474  675.000000  1.413809  0.000010  0.688594  42.877295\n",
       "4737.894737  675.000000  1.413809  0.000009  0.699003  42.820145\n",
       "5000.000000  675.000000  1.413809  0.000009  0.709412  42.769052"
      ]
     },
     "execution_count": 5,
     "metadata": {},
     "output_type": "execute_result"
    }
   ],
   "source": [
    "oil1.pvt"
   ]
  },
  {
   "cell_type": "markdown",
   "metadata": {},
   "source": [
    "### Different correlations and pressure range\n",
    "If you like to use different correlation and a different pressure range you can explicitly set"
   ]
  },
  {
   "cell_type": "code",
   "execution_count": 6,
   "metadata": {},
   "outputs": [
    {
     "data": {
      "text/plain": [
       "{'pb': 'standing',\n",
       " 'rs': 'standing',\n",
       " 'bo': 'vazquez_beggs',\n",
       " 'co': {'above_pb': 'vazquez_beggs', 'below_pb': 'mccain'},\n",
       " 'muod': 'beal',\n",
       " 'muo': {'above_pb': 'beal', 'below_pb': 'beggs'},\n",
       " 'rho': 'banzer'}"
      ]
     },
     "execution_count": 6,
     "metadata": {},
     "output_type": "execute_result"
    }
   ],
   "source": [
    "oil1.correlations['bo'] = 'vazquez_beggs'\n",
    "oil1.correlations"
   ]
  },
  {
   "cell_type": "code",
   "execution_count": 7,
   "metadata": {},
   "outputs": [
    {
     "data": {
      "text/html": [
       "<div>\n",
       "<style scoped>\n",
       "    .dataframe tbody tr th:only-of-type {\n",
       "        vertical-align: middle;\n",
       "    }\n",
       "\n",
       "    .dataframe tbody tr th {\n",
       "        vertical-align: top;\n",
       "    }\n",
       "\n",
       "    .dataframe thead th {\n",
       "        text-align: right;\n",
       "    }\n",
       "</style>\n",
       "<table border=\"1\" class=\"dataframe\">\n",
       "  <thead>\n",
       "    <tr style=\"text-align: right;\">\n",
       "      <th></th>\n",
       "      <th>rs</th>\n",
       "      <th>bo</th>\n",
       "      <th>co</th>\n",
       "      <th>muo</th>\n",
       "      <th>rhoo</th>\n",
       "    </tr>\n",
       "    <tr>\n",
       "      <th>pressure</th>\n",
       "      <th></th>\n",
       "      <th></th>\n",
       "      <th></th>\n",
       "      <th></th>\n",
       "      <th></th>\n",
       "    </tr>\n",
       "  </thead>\n",
       "  <tbody>\n",
       "    <tr>\n",
       "      <th>750.000000</th>\n",
       "      <td>162.352140</td>\n",
       "      <td>1.132409</td>\n",
       "      <td>0.000111</td>\n",
       "      <td>1.303815</td>\n",
       "      <td>49.593235</td>\n",
       "    </tr>\n",
       "    <tr>\n",
       "      <th>1133.333333</th>\n",
       "      <td>263.406691</td>\n",
       "      <td>1.183908</td>\n",
       "      <td>0.000061</td>\n",
       "      <td>1.029021</td>\n",
       "      <td>48.391651</td>\n",
       "    </tr>\n",
       "    <tr>\n",
       "      <th>1516.666667</th>\n",
       "      <td>371.669716</td>\n",
       "      <td>1.241552</td>\n",
       "      <td>0.000040</td>\n",
       "      <td>0.853772</td>\n",
       "      <td>47.093691</td>\n",
       "    </tr>\n",
       "    <tr>\n",
       "      <th>1900.000000</th>\n",
       "      <td>485.641687</td>\n",
       "      <td>1.304582</td>\n",
       "      <td>0.000029</td>\n",
       "      <td>0.732751</td>\n",
       "      <td>45.739720</td>\n",
       "    </tr>\n",
       "    <tr>\n",
       "      <th>2283.333333</th>\n",
       "      <td>604.385741</td>\n",
       "      <td>1.372472</td>\n",
       "      <td>0.000022</td>\n",
       "      <td>0.644205</td>\n",
       "      <td>44.359273</td>\n",
       "    </tr>\n",
       "    <tr>\n",
       "      <th>2666.666667</th>\n",
       "      <td>674.929091</td>\n",
       "      <td>1.413767</td>\n",
       "      <td>0.000016</td>\n",
       "      <td>0.626102</td>\n",
       "      <td>43.756532</td>\n",
       "    </tr>\n",
       "    <tr>\n",
       "      <th>3050.000000</th>\n",
       "      <td>674.929091</td>\n",
       "      <td>1.413767</td>\n",
       "      <td>0.000014</td>\n",
       "      <td>0.641520</td>\n",
       "      <td>43.534577</td>\n",
       "    </tr>\n",
       "    <tr>\n",
       "      <th>3433.333333</th>\n",
       "      <td>674.929091</td>\n",
       "      <td>1.413767</td>\n",
       "      <td>0.000013</td>\n",
       "      <td>0.656939</td>\n",
       "      <td>43.362962</td>\n",
       "    </tr>\n",
       "    <tr>\n",
       "      <th>3816.666667</th>\n",
       "      <td>674.929091</td>\n",
       "      <td>1.413767</td>\n",
       "      <td>0.000011</td>\n",
       "      <td>0.672358</td>\n",
       "      <td>43.226306</td>\n",
       "    </tr>\n",
       "    <tr>\n",
       "      <th>4200.000000</th>\n",
       "      <td>674.929091</td>\n",
       "      <td>1.413767</td>\n",
       "      <td>0.000010</td>\n",
       "      <td>0.687776</td>\n",
       "      <td>43.114915</td>\n",
       "    </tr>\n",
       "  </tbody>\n",
       "</table>\n",
       "</div>"
      ],
      "text/plain": [
       "                     rs        bo        co       muo       rhoo\n",
       "pressure                                                        \n",
       "750.000000   162.352140  1.132409  0.000111  1.303815  49.593235\n",
       "1133.333333  263.406691  1.183908  0.000061  1.029021  48.391651\n",
       "1516.666667  371.669716  1.241552  0.000040  0.853772  47.093691\n",
       "1900.000000  485.641687  1.304582  0.000029  0.732751  45.739720\n",
       "2283.333333  604.385741  1.372472  0.000022  0.644205  44.359273\n",
       "2666.666667  674.929091  1.413767  0.000016  0.626102  43.756532\n",
       "3050.000000  674.929091  1.413767  0.000014  0.641520  43.534577\n",
       "3433.333333  674.929091  1.413767  0.000013  0.656939  43.362962\n",
       "3816.666667  674.929091  1.413767  0.000011  0.672358  43.226306\n",
       "4200.000000  674.929091  1.413767  0.000010  0.687776  43.114915"
      ]
     },
     "execution_count": 7,
     "metadata": {},
     "output_type": "execute_result"
    }
   ],
   "source": [
    "oil1.pvt_from_correlations(start_pressure=750, end_pressure=4200, n=10)"
   ]
  },
  {
   "cell_type": "markdown",
   "metadata": {},
   "source": [
    "## PVT Class\n",
    "\n",
    "If you have already a PVT table you can incorporate to a **oil** class. \n",
    "\n",
    "`oil_pvt` object is a subclass of `pandas.DataFrame` in which you can upload a table with the `pressure` column to make inperpolation. \n",
    "\n",
    "In the case you use the `pvt_from_correlations` method, it is actually a `oil_pvt` class"
   ]
  },
  {
   "cell_type": "code",
   "execution_count": 8,
   "metadata": {},
   "outputs": [
    {
     "data": {
      "text/plain": [
       "reservoirpy.pvtpy.black_oil.pvt.pvt"
      ]
     },
     "execution_count": 8,
     "metadata": {},
     "output_type": "execute_result"
    }
   ],
   "source": [
    "type(oil1.pvt)"
   ]
  },
  {
   "cell_type": "code",
   "execution_count": 9,
   "metadata": {},
   "outputs": [
    {
     "data": {
      "text/html": [
       "<div>\n",
       "<style scoped>\n",
       "    .dataframe tbody tr th:only-of-type {\n",
       "        vertical-align: middle;\n",
       "    }\n",
       "\n",
       "    .dataframe tbody tr th {\n",
       "        vertical-align: top;\n",
       "    }\n",
       "\n",
       "    .dataframe thead th {\n",
       "        text-align: right;\n",
       "    }\n",
       "</style>\n",
       "<table border=\"1\" class=\"dataframe\">\n",
       "  <thead>\n",
       "    <tr style=\"text-align: right;\">\n",
       "      <th></th>\n",
       "      <th>muo</th>\n",
       "      <th>rs</th>\n",
       "    </tr>\n",
       "    <tr>\n",
       "      <th>pressure</th>\n",
       "      <th></th>\n",
       "      <th></th>\n",
       "    </tr>\n",
       "  </thead>\n",
       "  <tbody>\n",
       "    <tr>\n",
       "      <th>3300</th>\n",
       "      <td>0.651576</td>\n",
       "      <td>674.929091</td>\n",
       "    </tr>\n",
       "    <tr>\n",
       "      <th>2500</th>\n",
       "      <td>0.633973</td>\n",
       "      <td>644.258069</td>\n",
       "    </tr>\n",
       "  </tbody>\n",
       "</table>\n",
       "</div>"
      ],
      "text/plain": [
       "               muo          rs\n",
       "pressure                      \n",
       "3300      0.651576  674.929091\n",
       "2500      0.633973  644.258069"
      ]
     },
     "execution_count": 9,
     "metadata": {},
     "output_type": "execute_result"
    }
   ],
   "source": [
    "oil1.pvt.interpolate([3300,2500],['muo','rs'])"
   ]
  },
  {
   "cell_type": "code",
   "execution_count": 10,
   "metadata": {},
   "outputs": [
    {
     "data": {
      "text/html": [
       "<div>\n",
       "<style scoped>\n",
       "    .dataframe tbody tr th:only-of-type {\n",
       "        vertical-align: middle;\n",
       "    }\n",
       "\n",
       "    .dataframe tbody tr th {\n",
       "        vertical-align: top;\n",
       "    }\n",
       "\n",
       "    .dataframe thead th {\n",
       "        text-align: right;\n",
       "    }\n",
       "</style>\n",
       "<table border=\"1\" class=\"dataframe\">\n",
       "  <thead>\n",
       "    <tr style=\"text-align: right;\">\n",
       "      <th></th>\n",
       "      <th>rs</th>\n",
       "      <th>muo</th>\n",
       "    </tr>\n",
       "    <tr>\n",
       "      <th>pressure</th>\n",
       "      <th></th>\n",
       "      <th></th>\n",
       "    </tr>\n",
       "  </thead>\n",
       "  <tbody>\n",
       "    <tr>\n",
       "      <th>2140</th>\n",
       "      <td>559.985790</td>\n",
       "      <td>0.677314</td>\n",
       "    </tr>\n",
       "    <tr>\n",
       "      <th>3300</th>\n",
       "      <td>674.929091</td>\n",
       "      <td>0.651576</td>\n",
       "    </tr>\n",
       "  </tbody>\n",
       "</table>\n",
       "</div>"
      ],
      "text/plain": [
       "                  rs       muo\n",
       "pressure                      \n",
       "2140      559.985790  0.677314\n",
       "3300      674.929091  0.651576"
      ]
     },
     "execution_count": 10,
     "metadata": {},
     "output_type": "execute_result"
    }
   ],
   "source": [
    "oil1.pvt.interpolate([2140,3300],['rs','muo'])"
   ]
  },
  {
   "cell_type": "code",
   "execution_count": 11,
   "metadata": {},
   "outputs": [
    {
     "data": {
      "text/html": [
       "<div>\n",
       "<style scoped>\n",
       "    .dataframe tbody tr th:only-of-type {\n",
       "        vertical-align: middle;\n",
       "    }\n",
       "\n",
       "    .dataframe tbody tr th {\n",
       "        vertical-align: top;\n",
       "    }\n",
       "\n",
       "    .dataframe thead th {\n",
       "        text-align: right;\n",
       "    }\n",
       "</style>\n",
       "<table border=\"1\" class=\"dataframe\">\n",
       "  <thead>\n",
       "    <tr style=\"text-align: right;\">\n",
       "      <th></th>\n",
       "      <th>rs</th>\n",
       "      <th>bo</th>\n",
       "      <th>co</th>\n",
       "      <th>muo</th>\n",
       "      <th>rhoo</th>\n",
       "    </tr>\n",
       "    <tr>\n",
       "      <th>pressure</th>\n",
       "      <th></th>\n",
       "      <th></th>\n",
       "      <th></th>\n",
       "      <th></th>\n",
       "      <th></th>\n",
       "    </tr>\n",
       "  </thead>\n",
       "  <tbody>\n",
       "    <tr>\n",
       "      <th>2140</th>\n",
       "      <td>559.985790</td>\n",
       "      <td>1.347087</td>\n",
       "      <td>0.000025</td>\n",
       "      <td>0.677314</td>\n",
       "      <td>44.875440</td>\n",
       "    </tr>\n",
       "    <tr>\n",
       "      <th>3300</th>\n",
       "      <td>674.929091</td>\n",
       "      <td>1.413767</td>\n",
       "      <td>0.000013</td>\n",
       "      <td>0.651576</td>\n",
       "      <td>43.422654</td>\n",
       "    </tr>\n",
       "  </tbody>\n",
       "</table>\n",
       "</div>"
      ],
      "text/plain": [
       "                  rs        bo        co       muo       rhoo\n",
       "pressure                                                     \n",
       "2140      559.985790  1.347087  0.000025  0.677314  44.875440\n",
       "3300      674.929091  1.413767  0.000013  0.651576  43.422654"
      ]
     },
     "execution_count": 11,
     "metadata": {},
     "output_type": "execute_result"
    }
   ],
   "source": [
    "oil1.pvt.interpolate([2140,3300])"
   ]
  },
  {
   "cell_type": "markdown",
   "metadata": {},
   "source": [
    "#### Make a pvt table "
   ]
  },
  {
   "cell_type": "code",
   "execution_count": 12,
   "metadata": {},
   "outputs": [
    {
     "name": "stdout",
     "output_type": "stream",
     "text": [
      "<class 'reservoirpy.pvtpy.black_oil.pvt.pvt'>\n"
     ]
    }
   ],
   "source": [
    "d = {'pressure':[0,100,200,300,400,500,704],'rs':[0,20,30,50,60,100,120]}\n",
    "p = bl.pvt(d)\n",
    "print(type(p))"
   ]
  },
  {
   "cell_type": "code",
   "execution_count": 13,
   "metadata": {},
   "outputs": [
    {
     "data": {
      "text/html": [
       "<div>\n",
       "<style scoped>\n",
       "    .dataframe tbody tr th:only-of-type {\n",
       "        vertical-align: middle;\n",
       "    }\n",
       "\n",
       "    .dataframe tbody tr th {\n",
       "        vertical-align: top;\n",
       "    }\n",
       "\n",
       "    .dataframe thead th {\n",
       "        text-align: right;\n",
       "    }\n",
       "</style>\n",
       "<table border=\"1\" class=\"dataframe\">\n",
       "  <thead>\n",
       "    <tr style=\"text-align: right;\">\n",
       "      <th></th>\n",
       "      <th>rs</th>\n",
       "    </tr>\n",
       "    <tr>\n",
       "      <th>pressure</th>\n",
       "      <th></th>\n",
       "    </tr>\n",
       "  </thead>\n",
       "  <tbody>\n",
       "    <tr>\n",
       "      <th>0</th>\n",
       "      <td>0</td>\n",
       "    </tr>\n",
       "    <tr>\n",
       "      <th>100</th>\n",
       "      <td>20</td>\n",
       "    </tr>\n",
       "    <tr>\n",
       "      <th>200</th>\n",
       "      <td>30</td>\n",
       "    </tr>\n",
       "    <tr>\n",
       "      <th>300</th>\n",
       "      <td>50</td>\n",
       "    </tr>\n",
       "    <tr>\n",
       "      <th>400</th>\n",
       "      <td>60</td>\n",
       "    </tr>\n",
       "    <tr>\n",
       "      <th>500</th>\n",
       "      <td>100</td>\n",
       "    </tr>\n",
       "    <tr>\n",
       "      <th>704</th>\n",
       "      <td>120</td>\n",
       "    </tr>\n",
       "  </tbody>\n",
       "</table>\n",
       "</div>"
      ],
      "text/plain": [
       "           rs\n",
       "pressure     \n",
       "0           0\n",
       "100        20\n",
       "200        30\n",
       "300        50\n",
       "400        60\n",
       "500       100\n",
       "704       120"
      ]
     },
     "execution_count": 13,
     "metadata": {},
     "output_type": "execute_result"
    }
   ],
   "source": [
    "p"
   ]
  },
  {
   "cell_type": "code",
   "execution_count": 14,
   "metadata": {},
   "outputs": [
    {
     "data": {
      "text/plain": [
       "<matplotlib.axes._subplots.AxesSubplot at 0x7f51cc62fa50>"
      ]
     },
     "execution_count": 14,
     "metadata": {},
     "output_type": "execute_result"
    },
    {
     "data": {
      "image/png": "[encoded data removed]",
      "text/plain": [
       "<Figure size 432x288 with 1 Axes>"
      ]
     },
     "metadata": {
      "needs_background": "light"
     },
     "output_type": "display_data"
    }
   ],
   "source": [
    "d = {'pressure':[0,100,200,300,400,500,704],'rs':[0,20,30,50,60,100,120]}\n",
    "p = bl.pvt(d)\n",
    "p.plot()"
   ]
  },
  {
   "cell_type": "code",
   "execution_count": 15,
   "metadata": {},
   "outputs": [],
   "source": [
    "rs=675\n",
    "api=31\n",
    "sg_gas=0.95\n",
    "temp = 180\n",
    "y_co2 = 0.2\n",
    "y_h2s = 0.1\n",
    "pb = 1800\n",
    "p = 2000\n",
    "bg = 0.00123 #by/pcn"
   ]
  },
  {
   "cell_type": "code",
   "execution_count": 16,
   "metadata": {},
   "outputs": [
    {
     "data": {
      "text/html": [
       "<div>\n",
       "<style scoped>\n",
       "    .dataframe tbody tr th:only-of-type {\n",
       "        vertical-align: middle;\n",
       "    }\n",
       "\n",
       "    .dataframe tbody tr th {\n",
       "        vertical-align: top;\n",
       "    }\n",
       "\n",
       "    .dataframe thead th {\n",
       "        text-align: right;\n",
       "    }\n",
       "</style>\n",
       "<table border=\"1\" class=\"dataframe\">\n",
       "  <thead>\n",
       "    <tr style=\"text-align: right;\">\n",
       "      <th></th>\n",
       "      <th>pb</th>\n",
       "    </tr>\n",
       "    <tr>\n",
       "      <th>temp</th>\n",
       "      <th></th>\n",
       "    </tr>\n",
       "  </thead>\n",
       "  <tbody>\n",
       "    <tr>\n",
       "      <th>180</th>\n",
       "      <td>2174.376878</td>\n",
       "    </tr>\n",
       "  </tbody>\n",
       "</table>\n",
       "</div>"
      ],
      "text/plain": [
       "               pb\n",
       "temp             \n",
       "180   2174.376878"
      ]
     },
     "execution_count": 16,
     "metadata": {},
     "output_type": "execute_result"
    }
   ],
   "source": [
    "pb_cor = bl.pb(rs=rs,\n",
    "               temp=temp,\n",
    "               sg_gas=sg_gas,\n",
    "               api=api,\n",
    "               y_co2=y_co2,\n",
    "               y_h2s=y_h2s,\n",
    "               multiple=False,\n",
    "               correction=True,\n",
    "               method='standing')\n",
    "pb_cor"
   ]
  },
  {
   "cell_type": "code",
   "execution_count": 17,
   "metadata": {},
   "outputs": [
    {
     "data": {
      "text/html": [
       "<div>\n",
       "<style scoped>\n",
       "    .dataframe tbody tr th:only-of-type {\n",
       "        vertical-align: middle;\n",
       "    }\n",
       "\n",
       "    .dataframe tbody tr th {\n",
       "        vertical-align: top;\n",
       "    }\n",
       "\n",
       "    .dataframe thead th {\n",
       "        text-align: right;\n",
       "    }\n",
       "</style>\n",
       "<table border=\"1\" class=\"dataframe\">\n",
       "  <thead>\n",
       "    <tr style=\"text-align: right;\">\n",
       "      <th></th>\n",
       "      <th>rs_standing</th>\n",
       "      <th>rs_laster</th>\n",
       "      <th>rs_vazquez_begss</th>\n",
       "      <th>rs_glaso</th>\n",
       "    </tr>\n",
       "    <tr>\n",
       "      <th>pressure</th>\n",
       "      <th></th>\n",
       "      <th></th>\n",
       "      <th></th>\n",
       "      <th></th>\n",
       "    </tr>\n",
       "  </thead>\n",
       "  <tbody>\n",
       "    <tr>\n",
       "      <th>2000</th>\n",
       "      <td>455.418283</td>\n",
       "      <td>412.321256</td>\n",
       "      <td>394.065045</td>\n",
       "      <td>384.848898</td>\n",
       "    </tr>\n",
       "  </tbody>\n",
       "</table>\n",
       "</div>"
      ],
      "text/plain": [
       "          rs_standing   rs_laster  rs_vazquez_begss    rs_glaso\n",
       "pressure                                                       \n",
       "2000       455.418283  412.321256        394.065045  384.848898"
      ]
     },
     "execution_count": 17,
     "metadata": {},
     "output_type": "execute_result"
    }
   ],
   "source": [
    "rs_cor=bl.rs(p=p,\n",
    "             temp=temp,\n",
    "             sg_gas=sg_gas,\n",
    "             api=api,\n",
    "             pb=pb,\n",
    "             multiple=True,\n",
    "             method=['standing','laster','glaso','vazquez_beggs'])\n",
    "rs_cor"
   ]
  },
  {
   "cell_type": "code",
   "execution_count": 18,
   "metadata": {},
   "outputs": [
    {
     "data": {
      "text/plain": [
       "<matplotlib.axes._subplots.AxesSubplot at 0x7f51cc00fb10>"
      ]
     },
     "execution_count": 18,
     "metadata": {},
     "output_type": "execute_result"
    },
    {
     "data": {
      "image/png": "[encoded data removed]",
      "text/plain": [
       "<Figure size 432x288 with 1 Axes>"
      ]
     },
     "metadata": {
      "needs_background": "light"
     },
     "output_type": "display_data"
    }
   ],
   "source": [
    "_p = np.linspace(264,5000,50)\n",
    "rs_cor=bl.rs(p=_p,\n",
    "             temp=temp,\n",
    "             sg_gas=sg_gas,\n",
    "             api=api,\n",
    "             pb=pb, \n",
    "             rsb=450,\n",
    "             multiple=False,\n",
    "             methods='standing')\n",
    "rs_cor.plot()"
   ]
  },
  {
   "cell_type": "code",
   "execution_count": 19,
   "metadata": {},
   "outputs": [
    {
     "data": {
      "text/plain": [
       "<matplotlib.axes._subplots.AxesSubplot at 0x7f51cbfa7bd0>"
      ]
     },
     "execution_count": 19,
     "metadata": {},
     "output_type": "execute_result"
    },
    {
     "data": {
      "image/png": "[encoded data removed]",
      "text/plain": [
       "<Figure size 432x288 with 1 Axes>"
      ]
     },
     "metadata": {
      "needs_background": "light"
     },
     "output_type": "display_data"
    }
   ],
   "source": [
    "bo_cor=bl.bo(p=_p,\n",
    "             rs=rs_cor['rs'].values,\n",
    "             temp=temp,\n",
    "             sg_gas=sg_gas,\n",
    "             api=api,\n",
    "             pb=pb,\n",
    "             multiple=False,\n",
    "             method='glaso')\n",
    "bo_cor.plot()"
   ]
  },
  {
   "cell_type": "code",
   "execution_count": 22,
   "metadata": {},
   "outputs": [
    {
     "data": {
      "text/plain": [
       "<matplotlib.axes._subplots.AxesSubplot at 0x7f521c24ae50>"
      ]
     },
     "execution_count": 22,
     "metadata": {},
     "output_type": "execute_result"
    },
    {
     "data": {
      "image/png": "[encoded data removed]",
      "text/plain": [
       "<Figure size 432x288 with 1 Axes>"
      ]
     },
     "metadata": {
      "needs_background": "light"
     },
     "output_type": "display_data"
    }
   ],
   "source": [
    "co_cor=bl.co(p=_p, \n",
    "             rs=rs_cor['rs'].values, \n",
    "             temp=temp, \n",
    "             pb=pb, \n",
    "             sg_gas=sg_gas, \n",
    "             api=api,\n",
    "             bo=bo_cor['bo'],\n",
    "             bg=np.full(_p.shape,bg), \n",
    "             method_above_pb='petrosky', \n",
    "             method_below_pb='mccain')\n",
    "co_cor.plot()"
   ]
  },
  {
   "cell_type": "code",
   "execution_count": 23,
   "metadata": {},
   "outputs": [
    {
     "name": "stdout",
     "output_type": "stream",
     "text": [
      "Help on function co in module reservoirpy.pvtpy.black_oil.correlations:\n",
      "\n",
      "co(p=None, rs=None, pb=None, temp=None, sg_gas=None, api=None, bo=None, method_above_pb='vazquez_beggs', method_below_pb='mccain', **kwargs)\n",
      "    Estimate the Oil compresibility in 1/psi\n",
      "    \n",
      "    Input: \n",
      "        p -> (int,float,list,np.array) Interest Pressure [psi]\n",
      "        rs -> (int,float,np.array) Gas Oil Ratio scf/bbl\n",
      "        pb -> (int,float,np.array) Bubble Point [psi]\n",
      "        temp ->  (int,float,np.array) Temperature [F]\n",
      "        sg_gas -> (int,float,np.array) Gas specifi gravity\n",
      "        api -> (int,float,np.array) Oil API gravity [API]\n",
      "        bo -> (list,np.array) Oil Volumetric factor\n",
      "        bg -> (list,np.array) Gas Volumetric factor\n",
      "        method_above_pb -> (list, default 'vazquez_beggs') method to use above the bubble point\n",
      "                            ['vazquez_beggs','petrosky','kartoatmodjo']\n",
      "        method_below_pb -> (list, default 'mccain') method to use below the bubble point\n",
      "                            ['mccain']\n",
      "    Return:\n",
      "        rho -> (pd.DataFrame) Oil Density indexed by pressure\n",
      "    \n",
      "    Source: Correlaciones Numericas PVT - Carlos Banzer\n",
      "\n"
     ]
    }
   ],
   "source": [
    "help(bl.co)"
   ]
  },
  {
   "cell_type": "code",
   "execution_count": 24,
   "metadata": {},
   "outputs": [
    {
     "data": {
      "text/plain": [
       "<matplotlib.axes._subplots.AxesSubplot at 0x7f51cba5b8d0>"
      ]
     },
     "execution_count": 24,
     "metadata": {},
     "output_type": "execute_result"
    },
    {
     "data": {
      "image/png": "[encoded data removed]",
      "text/plain": [
       "<Figure size 432x288 with 1 Axes>"
      ]
     },
     "metadata": {
      "needs_background": "light"
     },
     "output_type": "display_data"
    }
   ],
   "source": [
    "rho_cor=bl.rho_oil(p=_p,\n",
    "                   co=co_cor['co'].values,\n",
    "                   bo=bo_cor['bo'].values,\n",
    "                   rs=rs_cor['rs'].values,\n",
    "                   api=api,\n",
    "                   pb=pb)\n",
    "rho_cor.plot()"
   ]
  },
  {
   "cell_type": "code",
   "execution_count": 25,
   "metadata": {},
   "outputs": [
    {
     "data": {
      "text/html": [
       "<div>\n",
       "<style scoped>\n",
       "    .dataframe tbody tr th:only-of-type {\n",
       "        vertical-align: middle;\n",
       "    }\n",
       "\n",
       "    .dataframe tbody tr th {\n",
       "        vertical-align: top;\n",
       "    }\n",
       "\n",
       "    .dataframe thead th {\n",
       "        text-align: right;\n",
       "    }\n",
       "</style>\n",
       "<table border=\"1\" class=\"dataframe\">\n",
       "  <thead>\n",
       "    <tr style=\"text-align: right;\">\n",
       "      <th></th>\n",
       "      <th>muod_beal</th>\n",
       "      <th>muod_beggs</th>\n",
       "      <th>muod_glaso</th>\n",
       "    </tr>\n",
       "    <tr>\n",
       "      <th>temp</th>\n",
       "      <th></th>\n",
       "      <th></th>\n",
       "      <th></th>\n",
       "    </tr>\n",
       "  </thead>\n",
       "  <tbody>\n",
       "    <tr>\n",
       "      <th>180</th>\n",
       "      <td>2.654527</td>\n",
       "      <td>3.035358</td>\n",
       "      <td>2.75824</td>\n",
       "    </tr>\n",
       "  </tbody>\n",
       "</table>\n",
       "</div>"
      ],
      "text/plain": [
       "      muod_beal  muod_beggs  muod_glaso\n",
       "temp                                   \n",
       "180    2.654527    3.035358     2.75824"
      ]
     },
     "execution_count": 25,
     "metadata": {},
     "output_type": "execute_result"
    }
   ],
   "source": [
    "_muod = bl.muod(temp=temp,api=api, method=['beal','beggs','glaso'])\n",
    "_muod"
   ]
  },
  {
   "cell_type": "code",
   "execution_count": 26,
   "metadata": {},
   "outputs": [
    {
     "data": {
      "text/plain": [
       "<matplotlib.axes._subplots.AxesSubplot at 0x7f51cb9c21d0>"
      ]
     },
     "execution_count": 26,
     "metadata": {},
     "output_type": "execute_result"
    },
    {
     "data": {
      "image/png": "[encoded data removed]",
      "text/plain": [
       "<Figure size 432x288 with 1 Axes>"
      ]
     },
     "metadata": {
      "needs_background": "light"
     },
     "output_type": "display_data"
    }
   ],
   "source": [
    "muo_cor=bl.muo(p=_p,\n",
    "    rs=rs_cor['rs'].values,\n",
    "    temp=temp,\n",
    "    api=api,\n",
    "    pb=pb,\n",
    "    method_below_pb='beggs',\n",
    "    method_above_pb='beal',\n",
    "    method_dead = 'beal'\n",
    "    )\n",
    "\n",
    "muo_cor.plot()"
   ]
  },
  {
   "cell_type": "code",
   "execution_count": null,
   "metadata": {},
   "outputs": [],
   "source": []
  },
  {
   "cell_type": "code",
   "execution_count": 27,
   "metadata": {},
   "outputs": [
    {
     "data": {
      "text/plain": [
       "True"
      ]
     },
     "execution_count": 27,
     "metadata": {},
     "output_type": "execute_result"
    }
   ],
   "source": [
    "h=None\n",
    "g=type(h)\n",
    "isinstance(h,type(None))"
   ]
  },
  {
   "cell_type": "code",
   "execution_count": 28,
   "metadata": {},
   "outputs": [
    {
     "data": {
      "text/plain": [
       "NoneType"
      ]
     },
     "execution_count": 28,
     "metadata": {},
     "output_type": "execute_result"
    }
   ],
   "source": [
    "g"
   ]
  },
  {
   "cell_type": "code",
   "execution_count": null,
   "metadata": {},
   "outputs": [],
   "source": []
  },
  {
   "cell_type": "code",
   "execution_count": null,
   "metadata": {},
   "outputs": [],
   "source": []
  }
 ],
 "metadata": {
  "kernelspec": {
   "display_name": "Python 3",
   "language": "python",
   "name": "python3"
  },
  "language_info": {
   "codemirror_mode": {
    "name": "ipython",
    "version": 3
   },
   "file_extension": ".py",
   "mimetype": "text/x-python",
   "name": "python",
   "nbconvert_exporter": "python",
   "pygments_lexer": "ipython3",
   "version": "3.7.5"
  }
 },
 "nbformat": 4,
 "nbformat_minor": 4
}
