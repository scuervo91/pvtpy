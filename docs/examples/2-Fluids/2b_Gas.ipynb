{
 "cells": [
  {
   "cell_type": "code",
   "execution_count": 1,
   "metadata": {},
   "outputs": [],
   "source": [
    "from pvtpy.pvt import PVT\n",
    "import pvtpy.black_oil as bk\n",
    "from pvtpy.fluids import Gas, InitialConditions\n",
    "from pvtpy.pvt import PVT\n",
    "from pvtpy.compositional import Chromatography\n",
    "from pvtpy.units import Pressure, Temperature\n",
    "import numpy as np\n",
    "import pandas as pd\n",
    "import seaborn as sns"
   ]
  },
  {
   "cell_type": "markdown",
   "metadata": {},
   "source": [
    "# Create a chromatography composition"
   ]
  },
  {
   "cell_type": "code",
   "execution_count": 2,
   "metadata": {},
   "outputs": [
    {
     "name": "stdout",
     "output_type": "stream",
     "text": [
      "                acentric_factor        cas  critical_pressure  \\\n",
      "carbon-dioxide           0.2276   124-38-9             1071.0   \n",
      "nitrogen                 0.0403  7727-37-9              493.1   \n",
      "methane                  0.0115    74-82-8              666.4   \n",
      "ethane                   0.0995    74-84-0              706.5   \n",
      "propane                  0.1523    74-98-6              616.0   \n",
      "isobutane                0.1770    75-28-5              527.9   \n",
      "isopentane               0.2275    78-78-4              490.4   \n",
      "n-hexane                 0.3013   110-54-3              436.9   \n",
      "n-heptane                0.3495   142-82-5              396.8   \n",
      "n-octane                 0.3996   111-65-9              360.7   \n",
      "\n",
      "                critical_temperature formula    id  \\\n",
      "carbon-dioxide                 87.91     CO2  50.0   \n",
      "nitrogen                     -232.51      N2  56.0   \n",
      "methane                      -116.67     CH4   1.0   \n",
      "ethane                         89.92    C2H6   2.0   \n",
      "propane                       206.06    C3H8   3.0   \n",
      "isobutane                     274.46   C4H10   4.0   \n",
      "isopentane                    369.10   C5H12   6.0   \n",
      "n-hexane                      453.60   C6H14   9.0   \n",
      "n-heptane                     512.70   C7H16  14.0   \n",
      "n-octane                      564.22   C8H18  22.0   \n",
      "\n",
      "                                                 iupac  \\\n",
      "carbon-dioxide                           1S/CO2/c2-1-3   \n",
      "nitrogen                                    1S/N2/c1-2   \n",
      "methane                                    1S/CH4/h1H4   \n",
      "ethane                             1S/C2H6/c1-2/h1-2H3   \n",
      "propane                      1S/C3H8/c1-3-2/h3H2;1-2H3   \n",
      "isobutane                  1S/C4H10/c1-4(2)3/h4H;1-3H3   \n",
      "isopentane           1S/C5H12/c1-4-5(2)3/h5H;4H2;1-3H3   \n",
      "n-hexane            1S/C6H14/c1-3-5-6-4-2/h3-6H2;1-2H3   \n",
      "n-heptane         1S/C7H16/c1-3-5-7-6-4-2/h3-7H2;1-2H3   \n",
      "n-octane        1S/C8H18/c1-3-5-7-8-6-4-2/h3-8H2;1-2H3   \n",
      "\n",
      "                                  iupac_key  mole_fraction  molecular_weight  \\\n",
      "carbon-dioxide  CURLTUGMZLYLDI-UHFFFAOYSA-N       0.019414           44.0100   \n",
      "nitrogen        IJGRMHOSHXDMSA-UHFFFAOYSA-N       0.004003           28.0134   \n",
      "methane         VNWKTOKETHGBQD-UHFFFAOYSA-N       0.960472           16.0425   \n",
      "ethane          OTMSDBZUPAUEDD-UHFFFAOYSA-N       0.002302           30.0700   \n",
      "propane         ATUOYWHBWRKTHZ-UHFFFAOYSA-N       0.005704           44.0970   \n",
      "isobutane       NNPPMTNAJDCUHE-UHFFFAOYSA-N       0.006204           58.1230   \n",
      "isopentane      QWTDNUCVQCZILF-UHFFFAOYSA-N       0.000300           72.1500   \n",
      "n-hexane        VLKZOEOYAKHREP-UHFFFAOYSA-N       0.000500           86.1770   \n",
      "n-heptane       IMNFDUFMRHMDMM-UHFFFAOYSA-N       0.001001          100.2040   \n",
      "n-octane        TVMXDCGIABBOFY-UHFFFAOYSA-N       0.000100          114.2310   \n",
      "\n",
      "               peng_robinson redlich_kwong soave_redlich_kwong van_der_walls  \n",
      "carbon-dioxide            {}            {}                  {}            {}  \n",
      "nitrogen                  {}            {}                  {}            {}  \n",
      "methane                   {}            {}                  {}            {}  \n",
      "ethane                    {}            {}                  {}            {}  \n",
      "propane                   {}            {}                  {}            {}  \n",
      "isobutane                 {}            {}                  {}            {}  \n",
      "isopentane                {}            {}                  {}            {}  \n",
      "n-hexane                  {}            {}                  {}            {}  \n",
      "n-heptane                 {}            {}                  {}            {}  \n",
      "n-octane                  {}            {}                  {}            {}  \n"
     ]
    }
   ],
   "source": [
    "composition_dict = {\n",
    "    'mole_fraction':[0.0194,0.004,0.9598,0.0023,0.0057,0.0062,0.0006,0.0003,0.0001,0.0005,0.001,0.0001],\n",
    "    'compound':['carbon-dioxide','nitrogen','methane','ethane','propane','isobutane','n-butane','isopentane','n-pentane','n-hexane','n-heptane','n-octane']\n",
    "}\n",
    "chr = Chromatography()\n",
    "chr.from_df(pd.DataFrame(composition_dict), name='compound', mole_fraction='mole_fraction')\n",
    "\n",
    "print(chr.df())"
   ]
  },
  {
   "cell_type": "markdown",
   "metadata": {},
   "source": [
    "## Estimate some properties"
   ]
  },
  {
   "cell_type": "markdown",
   "metadata": {},
   "source": [
    "### Apparent Molecular Weigt\n",
    "\n",
    "The apparent Molecular Weight (ma) is calculated by summing the product of molar fraction and molecular weight of each component in the chromatography"
   ]
  },
  {
   "cell_type": "code",
   "execution_count": 3,
   "metadata": {},
   "outputs": [
    {
     "data": {
      "text/plain": [
       "17.23273911738217"
      ]
     },
     "execution_count": 3,
     "metadata": {},
     "output_type": "execute_result"
    }
   ],
   "source": [
    "chr.apparent_molecular_weight()"
   ]
  },
  {
   "cell_type": "markdown",
   "metadata": {},
   "source": [
    "### Gas specific gravity\n",
    "\n",
    "The Gas specific gravity is calculated by diving the **ma** by the specific gravity of the *air*"
   ]
  },
  {
   "cell_type": "code",
   "execution_count": 4,
   "metadata": {},
   "outputs": [
    {
     "data": {
      "text/plain": [
       "0.5950531463184451"
      ]
     },
     "execution_count": 4,
     "metadata": {},
     "output_type": "execute_result"
    }
   ],
   "source": [
    "chr.gas_sg()"
   ]
  },
  {
   "cell_type": "markdown",
   "metadata": {},
   "source": [
    "### Pseudo critical properties\n",
    "\n",
    "The Pseudo critical properties are calulated by summing the product of mole fraction and critical properties (pressure and temperature). By default it corrects the properties by Non-hydrocarbon components with the **wichert-aziz** correlation. "
   ]
  },
  {
   "cell_type": "code",
   "execution_count": 5,
   "metadata": {},
   "outputs": [
    {
     "data": {
      "text/plain": [
       "CriticalProperties(critical_pressure=Pressure(value=665.8662951011108, unit=<PressureUnits.psi: 'psi'>), critical_temperature=Temperature(value=-110.52626724778492, unit=<TemperatureUnits.farenheit: 'farenheit'>))"
      ]
     },
     "execution_count": 5,
     "metadata": {},
     "output_type": "execute_result"
    }
   ],
   "source": [
    "chr.get_pseudo_critical_properties()"
   ]
  },
  {
   "cell_type": "code",
   "execution_count": 6,
   "metadata": {},
   "outputs": [
    {
     "data": {
      "text/plain": [
       "CriticalProperties(critical_pressure=Pressure(value=672.0385169618734, unit=<PressureUnits.psi: 'psi'>), critical_temperature=Temperature(value=352.38010707495243, unit=<TemperatureUnits.rankine: 'rankine'>))"
      ]
     },
     "execution_count": 6,
     "metadata": {},
     "output_type": "execute_result"
    }
   ],
   "source": [
    "chr.get_pseudo_critical_properties(correct=False)"
   ]
  },
  {
   "cell_type": "code",
   "execution_count": 7,
   "metadata": {},
   "outputs": [
    {
     "data": {
      "text/plain": [
       "CriticalProperties(critical_pressure=Pressure(value=679.9000200140099, unit=<PressureUnits.psi: 'psi'>), critical_temperature=Temperature(value=-109.84368057640353, unit=<TemperatureUnits.farenheit: 'farenheit'>))"
      ]
     },
     "execution_count": 7,
     "metadata": {},
     "output_type": "execute_result"
    }
   ],
   "source": [
    "chr.get_pseudo_critical_properties(correct_method='carr_kobayashi_burrows')"
   ]
  },
  {
   "cell_type": "markdown",
   "metadata": {},
   "source": [
    "### Get the compressibility factor of gas\n",
    "\n",
    "Estimate the compressibility factor by estimating the critical properties and applying the default correlation method **papay**"
   ]
  },
  {
   "cell_type": "code",
   "execution_count": 8,
   "metadata": {},
   "outputs": [
    {
     "data": {
      "text/html": [
       "<div>\n",
       "<style scoped>\n",
       "    .dataframe tbody tr th:only-of-type {\n",
       "        vertical-align: middle;\n",
       "    }\n",
       "\n",
       "    .dataframe tbody tr th {\n",
       "        vertical-align: top;\n",
       "    }\n",
       "\n",
       "    .dataframe thead th {\n",
       "        text-align: right;\n",
       "    }\n",
       "</style>\n",
       "<table border=\"1\" class=\"dataframe\">\n",
       "  <thead>\n",
       "    <tr style=\"text-align: right;\">\n",
       "      <th></th>\n",
       "      <th>z</th>\n",
       "    </tr>\n",
       "    <tr>\n",
       "      <th>pressure</th>\n",
       "      <th></th>\n",
       "    </tr>\n",
       "  </thead>\n",
       "  <tbody>\n",
       "    <tr>\n",
       "      <th>1500.0</th>\n",
       "      <td>0.994968</td>\n",
       "    </tr>\n",
       "  </tbody>\n",
       "</table>\n",
       "</div>"
      ],
      "text/plain": [
       "                 z\n",
       "pressure          \n",
       "1500.0    0.994968"
      ]
     },
     "execution_count": 8,
     "metadata": {},
     "output_type": "execute_result"
    }
   ],
   "source": [
    "chr.get_z(\n",
    "    pressure=Pressure(value = 1500, unit='psi'), \n",
    "    temperature=Temperature(value = 560, unit='farenheit'),\n",
    ")"
   ]
  },
  {
   "cell_type": "code",
   "execution_count": 9,
   "metadata": {},
   "outputs": [
    {
     "data": {
      "text/html": [
       "<div>\n",
       "<style scoped>\n",
       "    .dataframe tbody tr th:only-of-type {\n",
       "        vertical-align: middle;\n",
       "    }\n",
       "\n",
       "    .dataframe tbody tr th {\n",
       "        vertical-align: top;\n",
       "    }\n",
       "\n",
       "    .dataframe thead th {\n",
       "        text-align: right;\n",
       "    }\n",
       "</style>\n",
       "<table border=\"1\" class=\"dataframe\">\n",
       "  <thead>\n",
       "    <tr style=\"text-align: right;\">\n",
       "      <th></th>\n",
       "      <th>z</th>\n",
       "    </tr>\n",
       "    <tr>\n",
       "      <th>pressure</th>\n",
       "      <th></th>\n",
       "    </tr>\n",
       "  </thead>\n",
       "  <tbody>\n",
       "    <tr>\n",
       "      <th>1000.000000</th>\n",
       "      <td>0.935595</td>\n",
       "    </tr>\n",
       "    <tr>\n",
       "      <th>1444.444444</th>\n",
       "      <td>0.919677</td>\n",
       "    </tr>\n",
       "    <tr>\n",
       "      <th>1888.888889</th>\n",
       "      <td>0.911579</td>\n",
       "    </tr>\n",
       "    <tr>\n",
       "      <th>2333.333333</th>\n",
       "      <td>0.911301</td>\n",
       "    </tr>\n",
       "    <tr>\n",
       "      <th>2777.777778</th>\n",
       "      <td>0.918843</td>\n",
       "    </tr>\n",
       "    <tr>\n",
       "      <th>3222.222222</th>\n",
       "      <td>0.934204</td>\n",
       "    </tr>\n",
       "    <tr>\n",
       "      <th>3666.666667</th>\n",
       "      <td>0.957385</td>\n",
       "    </tr>\n",
       "    <tr>\n",
       "      <th>4111.111111</th>\n",
       "      <td>0.988385</td>\n",
       "    </tr>\n",
       "    <tr>\n",
       "      <th>4555.555556</th>\n",
       "      <td>1.027205</td>\n",
       "    </tr>\n",
       "    <tr>\n",
       "      <th>5000.000000</th>\n",
       "      <td>1.073845</td>\n",
       "    </tr>\n",
       "  </tbody>\n",
       "</table>\n",
       "</div>"
      ],
      "text/plain": [
       "                    z\n",
       "pressure             \n",
       "1000.000000  0.935595\n",
       "1444.444444  0.919677\n",
       "1888.888889  0.911579\n",
       "2333.333333  0.911301\n",
       "2777.777778  0.918843\n",
       "3222.222222  0.934204\n",
       "3666.666667  0.957385\n",
       "4111.111111  0.988385\n",
       "4555.555556  1.027205\n",
       "5000.000000  1.073845"
      ]
     },
     "execution_count": 9,
     "metadata": {},
     "output_type": "execute_result"
    }
   ],
   "source": [
    "p_range = np.linspace(1000,5000,10)\n",
    "chr.get_z(pressure=Pressure(value=p_range), temperature=Temperature(value=180, unit='farenheit'))"
   ]
  },
  {
   "cell_type": "markdown",
   "metadata": {},
   "source": [
    "### Get the gas density in lb/ft3\n",
    "\n",
    "Estimate the gas density by estimating the **ma**, the **z** factor and finnaly applying the gas equation of state for **real gases**"
   ]
  },
  {
   "cell_type": "code",
   "execution_count": 10,
   "metadata": {},
   "outputs": [
    {
     "data": {
      "text/html": [
       "<div>\n",
       "<style scoped>\n",
       "    .dataframe tbody tr th:only-of-type {\n",
       "        vertical-align: middle;\n",
       "    }\n",
       "\n",
       "    .dataframe tbody tr th {\n",
       "        vertical-align: top;\n",
       "    }\n",
       "\n",
       "    .dataframe thead th {\n",
       "        text-align: right;\n",
       "    }\n",
       "</style>\n",
       "<table border=\"1\" class=\"dataframe\">\n",
       "  <thead>\n",
       "    <tr style=\"text-align: right;\">\n",
       "      <th></th>\n",
       "      <th>rhog</th>\n",
       "    </tr>\n",
       "    <tr>\n",
       "      <th>pressure</th>\n",
       "      <th></th>\n",
       "    </tr>\n",
       "  </thead>\n",
       "  <tbody>\n",
       "    <tr>\n",
       "      <th>300.0</th>\n",
       "      <td>0.771326</td>\n",
       "    </tr>\n",
       "  </tbody>\n",
       "</table>\n",
       "</div>"
      ],
      "text/plain": [
       "              rhog\n",
       "pressure          \n",
       "300.0     0.771326"
      ]
     },
     "execution_count": 10,
     "metadata": {},
     "output_type": "execute_result"
    }
   ],
   "source": [
    "chr.get_rhog(\n",
    "    pressure=Pressure(value=300, unit='psi'),\n",
    "    temperature=Temperature(value=180, unit='farenheit')\n",
    ")"
   ]
  },
  {
   "cell_type": "code",
   "execution_count": 11,
   "metadata": {},
   "outputs": [
    {
     "data": {
      "text/html": [
       "<div>\n",
       "<style scoped>\n",
       "    .dataframe tbody tr th:only-of-type {\n",
       "        vertical-align: middle;\n",
       "    }\n",
       "\n",
       "    .dataframe tbody tr th {\n",
       "        vertical-align: top;\n",
       "    }\n",
       "\n",
       "    .dataframe thead th {\n",
       "        text-align: right;\n",
       "    }\n",
       "</style>\n",
       "<table border=\"1\" class=\"dataframe\">\n",
       "  <thead>\n",
       "    <tr style=\"text-align: right;\">\n",
       "      <th></th>\n",
       "      <th>rhog</th>\n",
       "    </tr>\n",
       "    <tr>\n",
       "      <th>pressure</th>\n",
       "      <th></th>\n",
       "    </tr>\n",
       "  </thead>\n",
       "  <tbody>\n",
       "    <tr>\n",
       "      <th>1300.0</th>\n",
       "      <td>3.263938</td>\n",
       "    </tr>\n",
       "  </tbody>\n",
       "</table>\n",
       "</div>"
      ],
      "text/plain": [
       "              rhog\n",
       "pressure          \n",
       "1300.0    3.263938"
      ]
     },
     "execution_count": 11,
     "metadata": {},
     "output_type": "execute_result"
    }
   ],
   "source": [
    "chr.get_rhog(\n",
    "    pressure=Pressure(value=1300, unit='psi'),\n",
    "    temperature=Temperature(value=180, unit='farenheit'), \n",
    "    rhog_method='ideal_gas')"
   ]
  },
  {
   "cell_type": "code",
   "execution_count": 12,
   "metadata": {},
   "outputs": [
    {
     "data": {
      "text/html": [
       "<div>\n",
       "<style scoped>\n",
       "    .dataframe tbody tr th:only-of-type {\n",
       "        vertical-align: middle;\n",
       "    }\n",
       "\n",
       "    .dataframe tbody tr th {\n",
       "        vertical-align: top;\n",
       "    }\n",
       "\n",
       "    .dataframe thead th {\n",
       "        text-align: right;\n",
       "    }\n",
       "</style>\n",
       "<table border=\"1\" class=\"dataframe\">\n",
       "  <thead>\n",
       "    <tr style=\"text-align: right;\">\n",
       "      <th></th>\n",
       "      <th>rhog</th>\n",
       "    </tr>\n",
       "    <tr>\n",
       "      <th>pressure</th>\n",
       "      <th></th>\n",
       "    </tr>\n",
       "  </thead>\n",
       "  <tbody>\n",
       "    <tr>\n",
       "      <th>1000.000000</th>\n",
       "      <td>2.683557</td>\n",
       "    </tr>\n",
       "    <tr>\n",
       "      <th>1444.444444</th>\n",
       "      <td>3.943338</td>\n",
       "    </tr>\n",
       "    <tr>\n",
       "      <th>1888.888889</th>\n",
       "      <td>5.202481</td>\n",
       "    </tr>\n",
       "    <tr>\n",
       "      <th>2333.333333</th>\n",
       "      <td>6.428556</td>\n",
       "    </tr>\n",
       "    <tr>\n",
       "      <th>2777.777778</th>\n",
       "      <td>7.590229</td>\n",
       "    </tr>\n",
       "    <tr>\n",
       "      <th>3222.222222</th>\n",
       "      <td>8.659890</td>\n",
       "    </tr>\n",
       "    <tr>\n",
       "      <th>3666.666667</th>\n",
       "      <td>9.615758</td>\n",
       "    </tr>\n",
       "    <tr>\n",
       "      <th>4111.111111</th>\n",
       "      <td>10.443151</td>\n",
       "    </tr>\n",
       "    <tr>\n",
       "      <th>4555.555556</th>\n",
       "      <td>11.134805</td>\n",
       "    </tr>\n",
       "    <tr>\n",
       "      <th>5000.000000</th>\n",
       "      <td>11.690333</td>\n",
       "    </tr>\n",
       "  </tbody>\n",
       "</table>\n",
       "</div>"
      ],
      "text/plain": [
       "                  rhog\n",
       "pressure              \n",
       "1000.000000   2.683557\n",
       "1444.444444   3.943338\n",
       "1888.888889   5.202481\n",
       "2333.333333   6.428556\n",
       "2777.777778   7.590229\n",
       "3222.222222   8.659890\n",
       "3666.666667   9.615758\n",
       "4111.111111  10.443151\n",
       "4555.555556  11.134805\n",
       "5000.000000  11.690333"
      ]
     },
     "execution_count": 12,
     "metadata": {},
     "output_type": "execute_result"
    }
   ],
   "source": [
    "chr.get_rhog(\n",
    "    pressure=Pressure(value=np.linspace(1000,5000,10)),\n",
    "    temperature=Temperature(value=180, unit='farenheit'), \n",
    "    rhog_method='real_gas'\n",
    ")"
   ]
  },
  {
   "cell_type": "markdown",
   "metadata": {},
   "source": [
    "### Estimate the Specific volume of Gas. \n",
    "\n",
    "Get the specific volume by estimate the inverse of the density"
   ]
  },
  {
   "cell_type": "code",
   "execution_count": 13,
   "metadata": {},
   "outputs": [
    {
     "data": {
      "text/plain": [
       "pressure\n",
       "1000.000000    0.372640\n",
       "1444.444444    0.253592\n",
       "1888.888889    0.192216\n",
       "2333.333333    0.155556\n",
       "2777.777778    0.131748\n",
       "3222.222222    0.115475\n",
       "3666.666667    0.103996\n",
       "4111.111111    0.095757\n",
       "4555.555556    0.089808\n",
       "5000.000000    0.085541\n",
       "Name: sv, dtype: float64"
      ]
     },
     "execution_count": 13,
     "metadata": {},
     "output_type": "execute_result"
    }
   ],
   "source": [
    "chr.get_sv(\n",
    "    pressure=Pressure(value=np.linspace(1000,5000,10)),\n",
    "    temperature=Temperature(value=180, unit='farenheit'), \n",
    "    rhog_method='real_gas'\n",
    ")"
   ]
  },
  {
   "cell_type": "code",
   "execution_count": 14,
   "metadata": {},
   "outputs": [
    {
     "data": {
      "text/plain": [
       "pressure\n",
       "1000.000000    0.372640\n",
       "1444.444444    0.253592\n",
       "1888.888889    0.192216\n",
       "2333.333333    0.155556\n",
       "2777.777778    0.131748\n",
       "3222.222222    0.115475\n",
       "3666.666667    0.103996\n",
       "4111.111111    0.095757\n",
       "4555.555556    0.089808\n",
       "5000.000000    0.085541\n",
       "Name: sv, dtype: float64"
      ]
     },
     "execution_count": 14,
     "metadata": {},
     "output_type": "execute_result"
    }
   ],
   "source": [
    "chr.get_sv(    pressure=Pressure(value=np.linspace(1000,5000,10)),\n",
    "    temperature=Temperature(value=180, unit='farenheit'), \n",
    "    rhog_method='real_gas')"
   ]
  },
  {
   "cell_type": "code",
   "execution_count": 15,
   "metadata": {},
   "outputs": [
    {
     "data": {
      "text/plain": [
       "0.5950531463184451"
      ]
     },
     "execution_count": 15,
     "metadata": {},
     "output_type": "execute_result"
    }
   ],
   "source": [
    "chr.gas_sg()"
   ]
  },
  {
   "cell_type": "markdown",
   "metadata": {},
   "source": [
    "# Create the Gas object"
   ]
  },
  {
   "cell_type": "code",
   "execution_count": 16,
   "metadata": {},
   "outputs": [],
   "source": [
    "init = InitialConditions(pressure=Pressure(value=3600), temperature=Temperature(value=160))"
   ]
  },
  {
   "cell_type": "code",
   "execution_count": 17,
   "metadata": {},
   "outputs": [],
   "source": [
    "gas1 = Gas(\n",
    "    initial_conditions=init,sg=0.59,\n",
    "    chromatography=chr\n",
    ")\n"
   ]
  },
  {
   "cell_type": "code",
   "execution_count": 18,
   "metadata": {},
   "outputs": [
    {
     "data": {
      "text/plain": [
       "CriticalProperties(critical_pressure=Pressure(value=665.8662951011108, unit=<PressureUnits.psi: 'psi'>), critical_temperature=Temperature(value=-110.52626724778492, unit=<TemperatureUnits.farenheit: 'farenheit'>))"
      ]
     },
     "execution_count": 18,
     "metadata": {},
     "output_type": "execute_result"
    }
   ],
   "source": [
    "gas1.pseudo_critical_properties()"
   ]
  },
  {
   "cell_type": "code",
   "execution_count": 23,
   "metadata": {},
   "outputs": [
    {
     "data": {
      "text/html": [
       "<div>\n",
       "<style scoped>\n",
       "    .dataframe tbody tr th:only-of-type {\n",
       "        vertical-align: middle;\n",
       "    }\n",
       "\n",
       "    .dataframe tbody tr th {\n",
       "        vertical-align: top;\n",
       "    }\n",
       "\n",
       "    .dataframe thead th {\n",
       "        text-align: right;\n",
       "    }\n",
       "</style>\n",
       "<table border=\"1\" class=\"dataframe\">\n",
       "  <thead>\n",
       "    <tr style=\"text-align: right;\">\n",
       "      <th></th>\n",
       "      <th>z</th>\n",
       "      <th>rhog</th>\n",
       "      <th>bg</th>\n",
       "      <th>mug</th>\n",
       "      <th>cg</th>\n",
       "    </tr>\n",
       "    <tr>\n",
       "      <th>pressure</th>\n",
       "      <th></th>\n",
       "      <th></th>\n",
       "      <th></th>\n",
       "      <th></th>\n",
       "      <th></th>\n",
       "    </tr>\n",
       "  </thead>\n",
       "  <tbody>\n",
       "    <tr>\n",
       "      <th>20.000000</th>\n",
       "      <td>0.998092</td>\n",
       "      <td>0.051934</td>\n",
       "      <td>0.155550</td>\n",
       "      <td>0.013007</td>\n",
       "      <td>0.050000</td>\n",
       "    </tr>\n",
       "    <tr>\n",
       "      <th>282.105263</th>\n",
       "      <td>0.974719</td>\n",
       "      <td>0.750112</td>\n",
       "      <td>0.010770</td>\n",
       "      <td>0.013181</td>\n",
       "      <td>0.003545</td>\n",
       "    </tr>\n",
       "    <tr>\n",
       "      <th>544.210526</th>\n",
       "      <td>0.954374</td>\n",
       "      <td>1.477890</td>\n",
       "      <td>0.005466</td>\n",
       "      <td>0.013451</td>\n",
       "      <td>0.001838</td>\n",
       "    </tr>\n",
       "    <tr>\n",
       "      <th>806.315789</th>\n",
       "      <td>0.937058</td>\n",
       "      <td>2.230143</td>\n",
       "      <td>0.003622</td>\n",
       "      <td>0.013794</td>\n",
       "      <td>0.001240</td>\n",
       "    </tr>\n",
       "    <tr>\n",
       "      <th>1068.421053</th>\n",
       "      <td>0.922771</td>\n",
       "      <td>3.000839</td>\n",
       "      <td>0.002692</td>\n",
       "      <td>0.014201</td>\n",
       "      <td>0.000936</td>\n",
       "    </tr>\n",
       "    <tr>\n",
       "      <th>1330.526316</th>\n",
       "      <td>0.911512</td>\n",
       "      <td>3.783165</td>\n",
       "      <td>0.002135</td>\n",
       "      <td>0.014668</td>\n",
       "      <td>0.000752</td>\n",
       "    </tr>\n",
       "    <tr>\n",
       "      <th>1592.631579</th>\n",
       "      <td>0.903281</td>\n",
       "      <td>4.569686</td>\n",
       "      <td>0.001768</td>\n",
       "      <td>0.015189</td>\n",
       "      <td>0.000628</td>\n",
       "    </tr>\n",
       "    <tr>\n",
       "      <th>1854.736842</th>\n",
       "      <td>0.898079</td>\n",
       "      <td>5.352561</td>\n",
       "      <td>0.001509</td>\n",
       "      <td>0.015761</td>\n",
       "      <td>0.000539</td>\n",
       "    </tr>\n",
       "    <tr>\n",
       "      <th>2116.842105</th>\n",
       "      <td>0.895906</td>\n",
       "      <td>6.123788</td>\n",
       "      <td>0.001319</td>\n",
       "      <td>0.016375</td>\n",
       "      <td>0.000472</td>\n",
       "    </tr>\n",
       "    <tr>\n",
       "      <th>2378.947368</th>\n",
       "      <td>0.896761</td>\n",
       "      <td>6.875467</td>\n",
       "      <td>0.001175</td>\n",
       "      <td>0.017026</td>\n",
       "      <td>0.000420</td>\n",
       "    </tr>\n",
       "    <tr>\n",
       "      <th>2641.052632</th>\n",
       "      <td>0.900645</td>\n",
       "      <td>7.600071</td>\n",
       "      <td>0.001063</td>\n",
       "      <td>0.017702</td>\n",
       "      <td>0.000379</td>\n",
       "    </tr>\n",
       "    <tr>\n",
       "      <th>2903.157895</th>\n",
       "      <td>0.907557</td>\n",
       "      <td>8.290695</td>\n",
       "      <td>0.000974</td>\n",
       "      <td>0.018394</td>\n",
       "      <td>0.000344</td>\n",
       "    </tr>\n",
       "    <tr>\n",
       "      <th>3165.263158</th>\n",
       "      <td>0.917498</td>\n",
       "      <td>8.941267</td>\n",
       "      <td>0.000903</td>\n",
       "      <td>0.019091</td>\n",
       "      <td>0.000316</td>\n",
       "    </tr>\n",
       "    <tr>\n",
       "      <th>3427.368421</th>\n",
       "      <td>0.930467</td>\n",
       "      <td>9.546717</td>\n",
       "      <td>0.000846</td>\n",
       "      <td>0.019780</td>\n",
       "      <td>0.000292</td>\n",
       "    </tr>\n",
       "    <tr>\n",
       "      <th>3689.473684</th>\n",
       "      <td>0.946464</td>\n",
       "      <td>10.103091</td>\n",
       "      <td>0.000800</td>\n",
       "      <td>0.020449</td>\n",
       "      <td>0.000271</td>\n",
       "    </tr>\n",
       "    <tr>\n",
       "      <th>3951.578947</th>\n",
       "      <td>0.965491</td>\n",
       "      <td>10.607590</td>\n",
       "      <td>0.000762</td>\n",
       "      <td>0.021087</td>\n",
       "      <td>0.000253</td>\n",
       "    </tr>\n",
       "    <tr>\n",
       "      <th>4213.684211</th>\n",
       "      <td>0.987545</td>\n",
       "      <td>11.058572</td>\n",
       "      <td>0.000731</td>\n",
       "      <td>0.021684</td>\n",
       "      <td>0.000237</td>\n",
       "    </tr>\n",
       "    <tr>\n",
       "      <th>4475.789474</th>\n",
       "      <td>1.012629</td>\n",
       "      <td>11.455487</td>\n",
       "      <td>0.000705</td>\n",
       "      <td>0.022230</td>\n",
       "      <td>0.000223</td>\n",
       "    </tr>\n",
       "    <tr>\n",
       "      <th>4737.894737</th>\n",
       "      <td>1.040740</td>\n",
       "      <td>11.798779</td>\n",
       "      <td>0.000685</td>\n",
       "      <td>0.022719</td>\n",
       "      <td>0.000211</td>\n",
       "    </tr>\n",
       "    <tr>\n",
       "      <th>5000.000000</th>\n",
       "      <td>1.071881</td>\n",
       "      <td>12.089759</td>\n",
       "      <td>0.000668</td>\n",
       "      <td>0.023146</td>\n",
       "      <td>0.000200</td>\n",
       "    </tr>\n",
       "  </tbody>\n",
       "</table>\n",
       "</div>"
      ],
      "text/plain": [
       "                    z       rhog        bg       mug        cg\n",
       "pressure                                                      \n",
       "20.000000    0.998092   0.051934  0.155550  0.013007  0.050000\n",
       "282.105263   0.974719   0.750112  0.010770  0.013181  0.003545\n",
       "544.210526   0.954374   1.477890  0.005466  0.013451  0.001838\n",
       "806.315789   0.937058   2.230143  0.003622  0.013794  0.001240\n",
       "1068.421053  0.922771   3.000839  0.002692  0.014201  0.000936\n",
       "1330.526316  0.911512   3.783165  0.002135  0.014668  0.000752\n",
       "1592.631579  0.903281   4.569686  0.001768  0.015189  0.000628\n",
       "1854.736842  0.898079   5.352561  0.001509  0.015761  0.000539\n",
       "2116.842105  0.895906   6.123788  0.001319  0.016375  0.000472\n",
       "2378.947368  0.896761   6.875467  0.001175  0.017026  0.000420\n",
       "2641.052632  0.900645   7.600071  0.001063  0.017702  0.000379\n",
       "2903.157895  0.907557   8.290695  0.000974  0.018394  0.000344\n",
       "3165.263158  0.917498   8.941267  0.000903  0.019091  0.000316\n",
       "3427.368421  0.930467   9.546717  0.000846  0.019780  0.000292\n",
       "3689.473684  0.946464  10.103091  0.000800  0.020449  0.000271\n",
       "3951.578947  0.965491  10.607590  0.000762  0.021087  0.000253\n",
       "4213.684211  0.987545  11.058572  0.000731  0.021684  0.000237\n",
       "4475.789474  1.012629  11.455487  0.000705  0.022230  0.000223\n",
       "4737.894737  1.040740  11.798779  0.000685  0.022719  0.000211\n",
       "5000.000000  1.071881  12.089759  0.000668  0.023146  0.000200"
      ]
     },
     "execution_count": 23,
     "metadata": {},
     "output_type": "execute_result"
    }
   ],
   "source": [
    "gas1.pvt_from_correlations()\n",
    "gas1.pvt.df()"
   ]
  },
  {
   "cell_type": "code",
   "execution_count": null,
   "metadata": {},
   "outputs": [],
   "source": []
  }
 ],
 "metadata": {
  "interpreter": {
   "hash": "372bbe80e8e5f52caf70b607bc2a566f3c8d0912b9dd67ebdb62a91dc247847c"
  },
  "kernelspec": {
   "display_name": "Python 3.8.12 64-bit ('pvtpy': conda)",
   "name": "python3"
  },
  "language_info": {
   "codemirror_mode": {
    "name": "ipython",
    "version": 3
   },
   "file_extension": ".py",
   "mimetype": "text/x-python",
   "name": "python",
   "nbconvert_exporter": "python",
   "pygments_lexer": "ipython3",
   "version": "3.8.12"
  }
 },
 "nbformat": 4,
 "nbformat_minor": 4
}
