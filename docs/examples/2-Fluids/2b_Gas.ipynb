{
 "cells": [
  {
   "cell_type": "code",
   "execution_count": 1,
   "metadata": {},
   "outputs": [],
   "source": [
    "from pvtpy.pvt import PVT\n",
    "import pvtpy.black_oil as bk\n",
    "from pvtpy.fluids import Gas, InitialConditions\n",
    "from pvtpy.pvt import PVT\n",
    "from pvtpy.compositional import Chromatography\n",
    "from pvtpy.units import Pressure, Temperature\n",
    "import numpy as np\n",
    "import pandas as pd\n",
    "import seaborn as sns"
   ]
  },
  {
   "cell_type": "markdown",
   "metadata": {},
   "source": [
    "# Create a chromatography composition"
   ]
  },
  {
   "cell_type": "code",
   "execution_count": 2,
   "metadata": {},
   "outputs": [
    {
     "name": "stdout",
     "output_type": "stream",
     "text": [
      "                acentric_factor        cas  critical_pressure  \\\n",
      "carbon-dioxide           0.2276   124-38-9             1071.0   \n",
      "nitrogen                 0.0403  7727-37-9              493.1   \n",
      "methane                  0.0115    74-82-8              666.4   \n",
      "ethane                   0.0995    74-84-0              706.5   \n",
      "propane                  0.1523    74-98-6              616.0   \n",
      "isobutane                0.1770    75-28-5              527.9   \n",
      "\n",
      "                critical_temperature formula    id  \\\n",
      "carbon-dioxide                 87.91     CO2  50.0   \n",
      "nitrogen                     -232.51      N2  56.0   \n",
      "methane                      -116.67     CH4   1.0   \n",
      "ethane                         89.92    C2H6   2.0   \n",
      "propane                       206.06    C3H8   3.0   \n",
      "isobutane                     274.46   C4H10   4.0   \n",
      "\n",
      "                                      iupac                    iupac_key  \\\n",
      "carbon-dioxide                1S/CO2/c2-1-3  CURLTUGMZLYLDI-UHFFFAOYSA-N   \n",
      "nitrogen                         1S/N2/c1-2  IJGRMHOSHXDMSA-UHFFFAOYSA-N   \n",
      "methane                         1S/CH4/h1H4  VNWKTOKETHGBQD-UHFFFAOYSA-N   \n",
      "ethane                  1S/C2H6/c1-2/h1-2H3  OTMSDBZUPAUEDD-UHFFFAOYSA-N   \n",
      "propane           1S/C3H8/c1-3-2/h3H2;1-2H3  ATUOYWHBWRKTHZ-UHFFFAOYSA-N   \n",
      "isobutane       1S/C4H10/c1-4(2)3/h4H;1-3H3  NNPPMTNAJDCUHE-UHFFFAOYSA-N   \n",
      "\n",
      "                mole_fraction  molecular_weight peng_robinson redlich_kwong  \\\n",
      "carbon-dioxide       0.020408           44.0100            {}            {}   \n",
      "nitrogen             0.010204           28.0134            {}            {}   \n",
      "methane              0.867347           16.0425            {}            {}   \n",
      "ethane               0.040816           30.0700            {}            {}   \n",
      "propane              0.030612           44.0970            {}            {}   \n",
      "isobutane            0.030612           58.1230            {}            {}   \n",
      "\n",
      "               soave_redlich_kwong van_der_walls  \n",
      "carbon-dioxide                  {}            {}  \n",
      "nitrogen                        {}            {}  \n",
      "methane                         {}            {}  \n",
      "ethane                          {}            {}  \n",
      "propane                         {}            {}  \n",
      "isobutane                       {}            {}  \n"
     ]
    }
   ],
   "source": [
    "d = {\n",
    "'comp':['carbon-dioxide','nitrogen','methane','ethane','propane','isobutane','n-butane'],\n",
    "'mole_fraction':[0.02,0.01,0.85,0.04,0.03,0.03,0.02]\n",
    "}\n",
    "cc = pd.DataFrame(d)\n",
    "chr = Chromatography()\n",
    "chr.from_df(cc,name='comp')\n",
    "print(chr.df())"
   ]
  },
  {
   "cell_type": "markdown",
   "metadata": {},
   "source": [
    "## Estimate some properties"
   ]
  },
  {
   "cell_type": "markdown",
   "metadata": {},
   "source": [
    "### Apparent Molecular Weigt\n",
    "\n",
    "The apparent Molecular Weight (ma) is calculated by summing the product of molar fraction and molecular weight of each component in the chromatography"
   ]
  },
  {
   "cell_type": "code",
   "execution_count": 3,
   "metadata": {},
   "outputs": [
    {
     "data": {
      "text/plain": [
       "19.4549581632653"
      ]
     },
     "execution_count": 3,
     "metadata": {},
     "output_type": "execute_result"
    }
   ],
   "source": [
    "chr.apparent_molecular_weight()"
   ]
  },
  {
   "cell_type": "markdown",
   "metadata": {},
   "source": [
    "### Gas specific gravity\n",
    "\n",
    "The Gas specific gravity is calculated by diving the **ma** by the specific gravity of the *air*"
   ]
  },
  {
   "cell_type": "code",
   "execution_count": 4,
   "metadata": {},
   "outputs": [
    {
     "data": {
      "text/plain": [
       "0.67178722939452"
      ]
     },
     "execution_count": 4,
     "metadata": {},
     "output_type": "execute_result"
    }
   ],
   "source": [
    "chr.gas_sg()"
   ]
  },
  {
   "cell_type": "markdown",
   "metadata": {},
   "source": [
    "### Pseudo critical properties\n",
    "\n",
    "The Pseudo critical properties are calulated by summing the product of mole fraction and critical properties (pressure and temperature). By default it corrects the properties by Non-hydrocarbon components with the **wichert-aziz** correlation. "
   ]
  },
  {
   "cell_type": "code",
   "execution_count": 5,
   "metadata": {},
   "outputs": [
    {
     "data": {
      "text/plain": [
       "CriticalProperties(critical_pressure=Pressure(value=662.7409312376316, unit=<PressureUnits.psi: 'psi'>), critical_temperature=Temperature(value=372.9010899529697, unit=<TemperatureUnits.farenheit: 'farenheit'>))"
      ]
     },
     "execution_count": 5,
     "metadata": {},
     "output_type": "execute_result"
    }
   ],
   "source": [
    "chr.get_pseudo_critical_properties()"
   ]
  },
  {
   "cell_type": "code",
   "execution_count": 6,
   "metadata": {},
   "outputs": [
    {
     "data": {
      "text/plain": [
       "CriticalProperties(critical_pressure=Pressure(value=668.742857142857, unit=<PressureUnits.psi: 'psi'>), critical_temperature=Temperature(value=376.27816326530603, unit=<TemperatureUnits.rankine: 'rankine'>))"
      ]
     },
     "execution_count": 6,
     "metadata": {},
     "output_type": "execute_result"
    }
   ],
   "source": [
    "chr.get_pseudo_critical_properties(correct=False)"
   ]
  },
  {
   "cell_type": "code",
   "execution_count": 7,
   "metadata": {},
   "outputs": [
    {
     "data": {
      "text/plain": [
       "CriticalProperties(critical_pressure=Pressure(value=675.9877551020408, unit=<PressureUnits.psi: 'psi'>), critical_temperature=Temperature(value=372.09448979591826, unit=<TemperatureUnits.farenheit: 'farenheit'>))"
      ]
     },
     "execution_count": 7,
     "metadata": {},
     "output_type": "execute_result"
    }
   ],
   "source": [
    "chr.get_pseudo_critical_properties(correct_method='carr_kobayashi_burrows')"
   ]
  },
  {
   "cell_type": "markdown",
   "metadata": {},
   "source": [
    "### Get the compressibility factor of gas\n",
    "\n",
    "Estimate the compressibility factor by estimating the critical properties and applying the default correlation method **papay**"
   ]
  },
  {
   "cell_type": "code",
   "execution_count": 8,
   "metadata": {},
   "outputs": [
    {
     "data": {
      "text/html": [
       "<div>\n",
       "<style scoped>\n",
       "    .dataframe tbody tr th:only-of-type {\n",
       "        vertical-align: middle;\n",
       "    }\n",
       "\n",
       "    .dataframe tbody tr th {\n",
       "        vertical-align: top;\n",
       "    }\n",
       "\n",
       "    .dataframe thead th {\n",
       "        text-align: right;\n",
       "    }\n",
       "</style>\n",
       "<table border=\"1\" class=\"dataframe\">\n",
       "  <thead>\n",
       "    <tr style=\"text-align: right;\">\n",
       "      <th></th>\n",
       "      <th>z</th>\n",
       "    </tr>\n",
       "    <tr>\n",
       "      <th>pressure</th>\n",
       "      <th></th>\n",
       "    </tr>\n",
       "  </thead>\n",
       "  <tbody>\n",
       "    <tr>\n",
       "      <th>3000</th>\n",
       "      <td>-0.195114</td>\n",
       "    </tr>\n",
       "  </tbody>\n",
       "</table>\n",
       "</div>"
      ],
      "text/plain": [
       "                 z\n",
       "pressure          \n",
       "3000     -0.195114"
      ]
     },
     "execution_count": 8,
     "metadata": {},
     "output_type": "execute_result"
    }
   ],
   "source": [
    "chr.get_z(pressure=3000, temperature=180)"
   ]
  },
  {
   "cell_type": "code",
   "execution_count": 9,
   "metadata": {},
   "outputs": [
    {
     "data": {
      "text/html": [
       "<div>\n",
       "<style scoped>\n",
       "    .dataframe tbody tr th:only-of-type {\n",
       "        vertical-align: middle;\n",
       "    }\n",
       "\n",
       "    .dataframe tbody tr th {\n",
       "        vertical-align: top;\n",
       "    }\n",
       "\n",
       "    .dataframe thead th {\n",
       "        text-align: right;\n",
       "    }\n",
       "</style>\n",
       "<table border=\"1\" class=\"dataframe\">\n",
       "  <thead>\n",
       "    <tr style=\"text-align: right;\">\n",
       "      <th></th>\n",
       "      <th>z</th>\n",
       "    </tr>\n",
       "    <tr>\n",
       "      <th>pressure</th>\n",
       "      <th></th>\n",
       "    </tr>\n",
       "  </thead>\n",
       "  <tbody>\n",
       "    <tr>\n",
       "      <th>1000.000000</th>\n",
       "      <td>0.498960</td>\n",
       "    </tr>\n",
       "    <tr>\n",
       "      <th>1444.444444</th>\n",
       "      <td>0.309231</td>\n",
       "    </tr>\n",
       "    <tr>\n",
       "      <th>1888.888889</th>\n",
       "      <td>0.139782</td>\n",
       "    </tr>\n",
       "    <tr>\n",
       "      <th>2333.333333</th>\n",
       "      <td>-0.009386</td>\n",
       "    </tr>\n",
       "    <tr>\n",
       "      <th>2777.777778</th>\n",
       "      <td>-0.138275</td>\n",
       "    </tr>\n",
       "    <tr>\n",
       "      <th>3222.222222</th>\n",
       "      <td>-0.246882</td>\n",
       "    </tr>\n",
       "    <tr>\n",
       "      <th>3666.666667</th>\n",
       "      <td>-0.335210</td>\n",
       "    </tr>\n",
       "    <tr>\n",
       "      <th>4111.111111</th>\n",
       "      <td>-0.403258</td>\n",
       "    </tr>\n",
       "    <tr>\n",
       "      <th>4555.555556</th>\n",
       "      <td>-0.451025</td>\n",
       "    </tr>\n",
       "    <tr>\n",
       "      <th>5000.000000</th>\n",
       "      <td>-0.478512</td>\n",
       "    </tr>\n",
       "  </tbody>\n",
       "</table>\n",
       "</div>"
      ],
      "text/plain": [
       "                    z\n",
       "pressure             \n",
       "1000.000000  0.498960\n",
       "1444.444444  0.309231\n",
       "1888.888889  0.139782\n",
       "2333.333333 -0.009386\n",
       "2777.777778 -0.138275\n",
       "3222.222222 -0.246882\n",
       "3666.666667 -0.335210\n",
       "4111.111111 -0.403258\n",
       "4555.555556 -0.451025\n",
       "5000.000000 -0.478512"
      ]
     },
     "execution_count": 9,
     "metadata": {},
     "output_type": "execute_result"
    }
   ],
   "source": [
    "p_range = np.linspace(1000,5000,10)\n",
    "chr.get_z(pressure=p_range, temperature=180)"
   ]
  },
  {
   "cell_type": "markdown",
   "metadata": {},
   "source": [
    "### Get the gas density in lb/ft3\n",
    "\n",
    "Estimate the gas density by estimating the **ma**, the **z** factor and finnaly applying the gas equation of state for **real gases**"
   ]
  },
  {
   "cell_type": "code",
   "execution_count": 10,
   "metadata": {},
   "outputs": [
    {
     "data": {
      "text/html": [
       "<div>\n",
       "<style scoped>\n",
       "    .dataframe tbody tr th:only-of-type {\n",
       "        vertical-align: middle;\n",
       "    }\n",
       "\n",
       "    .dataframe tbody tr th {\n",
       "        vertical-align: top;\n",
       "    }\n",
       "\n",
       "    .dataframe thead th {\n",
       "        text-align: right;\n",
       "    }\n",
       "</style>\n",
       "<table border=\"1\" class=\"dataframe\">\n",
       "  <thead>\n",
       "    <tr style=\"text-align: right;\">\n",
       "      <th></th>\n",
       "      <th>rhog</th>\n",
       "    </tr>\n",
       "    <tr>\n",
       "      <th>pressure</th>\n",
       "      <th></th>\n",
       "    </tr>\n",
       "  </thead>\n",
       "  <tbody>\n",
       "    <tr>\n",
       "      <th>3000</th>\n",
       "      <td>-43.559656</td>\n",
       "    </tr>\n",
       "  </tbody>\n",
       "</table>\n",
       "</div>"
      ],
      "text/plain": [
       "               rhog\n",
       "pressure           \n",
       "3000     -43.559656"
      ]
     },
     "execution_count": 10,
     "metadata": {},
     "output_type": "execute_result"
    }
   ],
   "source": [
    "chr.get_rhog(pressure=3000,temperature=180)"
   ]
  },
  {
   "cell_type": "code",
   "execution_count": 11,
   "metadata": {},
   "outputs": [
    {
     "data": {
      "text/html": [
       "<div>\n",
       "<style scoped>\n",
       "    .dataframe tbody tr th:only-of-type {\n",
       "        vertical-align: middle;\n",
       "    }\n",
       "\n",
       "    .dataframe tbody tr th {\n",
       "        vertical-align: top;\n",
       "    }\n",
       "\n",
       "    .dataframe thead th {\n",
       "        text-align: right;\n",
       "    }\n",
       "</style>\n",
       "<table border=\"1\" class=\"dataframe\">\n",
       "  <thead>\n",
       "    <tr style=\"text-align: right;\">\n",
       "      <th></th>\n",
       "      <th>rhog</th>\n",
       "    </tr>\n",
       "    <tr>\n",
       "      <th>pressure</th>\n",
       "      <th></th>\n",
       "    </tr>\n",
       "  </thead>\n",
       "  <tbody>\n",
       "    <tr>\n",
       "      <th>3000</th>\n",
       "      <td>8.499079</td>\n",
       "    </tr>\n",
       "  </tbody>\n",
       "</table>\n",
       "</div>"
      ],
      "text/plain": [
       "              rhog\n",
       "pressure          \n",
       "3000      8.499079"
      ]
     },
     "execution_count": 11,
     "metadata": {},
     "output_type": "execute_result"
    }
   ],
   "source": [
    "chr.get_rhog(pressure=3000,temperature=180, rhog_method='ideal_gas')"
   ]
  },
  {
   "cell_type": "code",
   "execution_count": 12,
   "metadata": {},
   "outputs": [
    {
     "data": {
      "text/html": [
       "<div>\n",
       "<style scoped>\n",
       "    .dataframe tbody tr th:only-of-type {\n",
       "        vertical-align: middle;\n",
       "    }\n",
       "\n",
       "    .dataframe tbody tr th {\n",
       "        vertical-align: top;\n",
       "    }\n",
       "\n",
       "    .dataframe thead th {\n",
       "        text-align: right;\n",
       "    }\n",
       "</style>\n",
       "<table border=\"1\" class=\"dataframe\">\n",
       "  <thead>\n",
       "    <tr style=\"text-align: right;\">\n",
       "      <th></th>\n",
       "      <th>rhog</th>\n",
       "    </tr>\n",
       "    <tr>\n",
       "      <th>pressure</th>\n",
       "      <th></th>\n",
       "    </tr>\n",
       "  </thead>\n",
       "  <tbody>\n",
       "    <tr>\n",
       "      <th>1000.000000</th>\n",
       "      <td>5.677863</td>\n",
       "    </tr>\n",
       "    <tr>\n",
       "      <th>1444.444444</th>\n",
       "      <td>13.233311</td>\n",
       "    </tr>\n",
       "    <tr>\n",
       "      <th>1888.888889</th>\n",
       "      <td>38.282935</td>\n",
       "    </tr>\n",
       "    <tr>\n",
       "      <th>2333.333333</th>\n",
       "      <td>-704.258905</td>\n",
       "    </tr>\n",
       "    <tr>\n",
       "      <th>2777.777778</th>\n",
       "      <td>-56.912269</td>\n",
       "    </tr>\n",
       "    <tr>\n",
       "      <th>3222.222222</th>\n",
       "      <td>-36.975650</td>\n",
       "    </tr>\n",
       "    <tr>\n",
       "      <th>3666.666667</th>\n",
       "      <td>-30.988807</td>\n",
       "    </tr>\n",
       "    <tr>\n",
       "      <th>4111.111111</th>\n",
       "      <td>-28.882001</td>\n",
       "    </tr>\n",
       "    <tr>\n",
       "      <th>4555.555556</th>\n",
       "      <td>-28.614858</td>\n",
       "    </tr>\n",
       "    <tr>\n",
       "      <th>5000.000000</th>\n",
       "      <td>-29.602483</td>\n",
       "    </tr>\n",
       "  </tbody>\n",
       "</table>\n",
       "</div>"
      ],
      "text/plain": [
       "                   rhog\n",
       "pressure               \n",
       "1000.000000    5.677863\n",
       "1444.444444   13.233311\n",
       "1888.888889   38.282935\n",
       "2333.333333 -704.258905\n",
       "2777.777778  -56.912269\n",
       "3222.222222  -36.975650\n",
       "3666.666667  -30.988807\n",
       "4111.111111  -28.882001\n",
       "4555.555556  -28.614858\n",
       "5000.000000  -29.602483"
      ]
     },
     "execution_count": 12,
     "metadata": {},
     "output_type": "execute_result"
    }
   ],
   "source": [
    "chr.get_rhog(pressure=np.linspace(1000,5000,10),temperature=180,rhog_method='real_gas')"
   ]
  },
  {
   "cell_type": "markdown",
   "metadata": {},
   "source": [
    "### Estimate the Specific volume of Gas. \n",
    "\n",
    "Get the specific volume by estimate the inverse of the density"
   ]
  },
  {
   "cell_type": "code",
   "execution_count": 13,
   "metadata": {},
   "outputs": [
    {
     "data": {
      "text/plain": [
       "pressure\n",
       "3000    0.11766\n",
       "Name: sv, dtype: float64"
      ]
     },
     "execution_count": 13,
     "metadata": {},
     "output_type": "execute_result"
    }
   ],
   "source": [
    "chr.get_sv(pressure=3000,temperature=180, rhog_method='ideal_gas')"
   ]
  },
  {
   "cell_type": "code",
   "execution_count": 14,
   "metadata": {},
   "outputs": [
    {
     "data": {
      "text/plain": [
       "pressure\n",
       "3000   -0.022957\n",
       "Name: sv, dtype: float64"
      ]
     },
     "execution_count": 14,
     "metadata": {},
     "output_type": "execute_result"
    }
   ],
   "source": [
    "chr.get_sv(pressure=3000,temperature=180, rhog_method='real_gas')"
   ]
  },
  {
   "cell_type": "markdown",
   "metadata": {},
   "source": [
    "# Create the Gas object"
   ]
  },
  {
   "cell_type": "code",
   "execution_count": 15,
   "metadata": {},
   "outputs": [],
   "source": [
    "init = InitialConditions(pressure=Pressure(value=3600), temperature=Temperature(value=160))"
   ]
  },
  {
   "cell_type": "code",
   "execution_count": 16,
   "metadata": {},
   "outputs": [],
   "source": [
    "gas1 = Gas(\n",
    "    initial_conditions=init,sg=0.6,\n",
    "    chromatography=chr\n",
    ")\n"
   ]
  },
  {
   "cell_type": "code",
   "execution_count": 17,
   "metadata": {},
   "outputs": [
    {
     "data": {
      "text/plain": [
       "CriticalProperties(critical_pressure=Pressure(value=662.7409312376316, unit=<PressureUnits.psi: 'psi'>), critical_temperature=Temperature(value=372.9010899529697, unit=<TemperatureUnits.farenheit: 'farenheit'>))"
      ]
     },
     "execution_count": 17,
     "metadata": {},
     "output_type": "execute_result"
    }
   ],
   "source": [
    "gas1.pseudo_critical_properties()"
   ]
  },
  {
   "cell_type": "code",
   "execution_count": 18,
   "metadata": {},
   "outputs": [
    {
     "name": "stderr",
     "output_type": "stream",
     "text": [
      "/Users/scuervo91/Documents/dev/pvtpy/pvtpy/black_oil/correlations.py:1488: RuntimeWarning: invalid value encountered in power\n",
      "  mug = 1e-4 * k * np.exp(x*np.power(rhog/62.4,y))\n"
     ]
    },
    {
     "data": {
      "text/html": [
       "<div>\n",
       "<style scoped>\n",
       "    .dataframe tbody tr th:only-of-type {\n",
       "        vertical-align: middle;\n",
       "    }\n",
       "\n",
       "    .dataframe tbody tr th {\n",
       "        vertical-align: top;\n",
       "    }\n",
       "\n",
       "    .dataframe thead th {\n",
       "        text-align: right;\n",
       "    }\n",
       "</style>\n",
       "<table border=\"1\" class=\"dataframe\">\n",
       "  <thead>\n",
       "    <tr style=\"text-align: right;\">\n",
       "      <th></th>\n",
       "      <th>z</th>\n",
       "      <th>rhog</th>\n",
       "      <th>bg</th>\n",
       "      <th>mug</th>\n",
       "      <th>cg</th>\n",
       "    </tr>\n",
       "    <tr>\n",
       "      <th>pressure</th>\n",
       "      <th></th>\n",
       "      <th></th>\n",
       "      <th></th>\n",
       "      <th></th>\n",
       "      <th></th>\n",
       "    </tr>\n",
       "  </thead>\n",
       "  <tbody>\n",
       "    <tr>\n",
       "      <th>20.000000</th>\n",
       "      <td>0.988358</td>\n",
       "      <td>0.059177</td>\n",
       "      <td>0.154115</td>\n",
       "      <td>1.261362e-02</td>\n",
       "      <td>0.050000</td>\n",
       "    </tr>\n",
       "    <tr>\n",
       "      <th>282.105263</th>\n",
       "      <td>0.839758</td>\n",
       "      <td>0.982417</td>\n",
       "      <td>0.009283</td>\n",
       "      <td>1.286292e-02</td>\n",
       "      <td>0.003545</td>\n",
       "    </tr>\n",
       "    <tr>\n",
       "      <th>544.210526</th>\n",
       "      <td>0.698536</td>\n",
       "      <td>2.278331</td>\n",
       "      <td>0.004003</td>\n",
       "      <td>1.341415e-02</td>\n",
       "      <td>0.001838</td>\n",
       "    </tr>\n",
       "    <tr>\n",
       "      <th>806.315789</th>\n",
       "      <td>0.564693</td>\n",
       "      <td>4.175720</td>\n",
       "      <td>0.002184</td>\n",
       "      <td>1.450051e-02</td>\n",
       "      <td>0.001240</td>\n",
       "    </tr>\n",
       "    <tr>\n",
       "      <th>1068.421053</th>\n",
       "      <td>0.438229</td>\n",
       "      <td>7.129846</td>\n",
       "      <td>0.001279</td>\n",
       "      <td>1.679766e-02</td>\n",
       "      <td>0.000936</td>\n",
       "    </tr>\n",
       "    <tr>\n",
       "      <th>1330.526316</th>\n",
       "      <td>0.319143</td>\n",
       "      <td>12.192040</td>\n",
       "      <td>0.000748</td>\n",
       "      <td>2.273917e-02</td>\n",
       "      <td>0.000752</td>\n",
       "    </tr>\n",
       "    <tr>\n",
       "      <th>1592.631579</th>\n",
       "      <td>0.207437</td>\n",
       "      <td>22.452720</td>\n",
       "      <td>0.000406</td>\n",
       "      <td>4.811116e-02</td>\n",
       "      <td>0.000628</td>\n",
       "    </tr>\n",
       "    <tr>\n",
       "      <th>1854.736842</th>\n",
       "      <td>0.103108</td>\n",
       "      <td>52.605092</td>\n",
       "      <td>0.000173</td>\n",
       "      <td>8.423217e-01</td>\n",
       "      <td>0.000539</td>\n",
       "    </tr>\n",
       "    <tr>\n",
       "      <th>2116.842105</th>\n",
       "      <td>0.006159</td>\n",
       "      <td>1005.181931</td>\n",
       "      <td>0.000009</td>\n",
       "      <td>1.060569e+94</td>\n",
       "      <td>0.000472</td>\n",
       "    </tr>\n",
       "    <tr>\n",
       "      <th>2378.947368</th>\n",
       "      <td>-0.083412</td>\n",
       "      <td>-83.405224</td>\n",
       "      <td>-0.000109</td>\n",
       "      <td>NaN</td>\n",
       "      <td>0.000420</td>\n",
       "    </tr>\n",
       "    <tr>\n",
       "      <th>2641.052632</th>\n",
       "      <td>-0.165605</td>\n",
       "      <td>-46.638362</td>\n",
       "      <td>-0.000196</td>\n",
       "      <td>NaN</td>\n",
       "      <td>0.000379</td>\n",
       "    </tr>\n",
       "    <tr>\n",
       "      <th>2903.157895</th>\n",
       "      <td>-0.240418</td>\n",
       "      <td>-35.313592</td>\n",
       "      <td>-0.000258</td>\n",
       "      <td>NaN</td>\n",
       "      <td>0.000344</td>\n",
       "    </tr>\n",
       "    <tr>\n",
       "      <th>3165.263158</th>\n",
       "      <td>-0.307853</td>\n",
       "      <td>-30.068016</td>\n",
       "      <td>-0.000303</td>\n",
       "      <td>NaN</td>\n",
       "      <td>0.000316</td>\n",
       "    </tr>\n",
       "    <tr>\n",
       "      <th>3427.368421</th>\n",
       "      <td>-0.367910</td>\n",
       "      <td>-27.243216</td>\n",
       "      <td>-0.000335</td>\n",
       "      <td>NaN</td>\n",
       "      <td>0.000292</td>\n",
       "    </tr>\n",
       "    <tr>\n",
       "      <th>3689.473684</th>\n",
       "      <td>-0.420587</td>\n",
       "      <td>-25.653521</td>\n",
       "      <td>-0.000356</td>\n",
       "      <td>NaN</td>\n",
       "      <td>0.000271</td>\n",
       "    </tr>\n",
       "    <tr>\n",
       "      <th>3951.578947</th>\n",
       "      <td>-0.465887</td>\n",
       "      <td>-24.804439</td>\n",
       "      <td>-0.000368</td>\n",
       "      <td>NaN</td>\n",
       "      <td>0.000253</td>\n",
       "    </tr>\n",
       "    <tr>\n",
       "      <th>4213.684211</th>\n",
       "      <td>-0.503807</td>\n",
       "      <td>-24.458890</td>\n",
       "      <td>-0.000373</td>\n",
       "      <td>NaN</td>\n",
       "      <td>0.000237</td>\n",
       "    </tr>\n",
       "    <tr>\n",
       "      <th>4475.789474</th>\n",
       "      <td>-0.534349</td>\n",
       "      <td>-24.495359</td>\n",
       "      <td>-0.000372</td>\n",
       "      <td>NaN</td>\n",
       "      <td>0.000223</td>\n",
       "    </tr>\n",
       "    <tr>\n",
       "      <th>4737.894737</th>\n",
       "      <td>-0.557512</td>\n",
       "      <td>-24.852511</td>\n",
       "      <td>-0.000367</td>\n",
       "      <td>NaN</td>\n",
       "      <td>0.000211</td>\n",
       "    </tr>\n",
       "    <tr>\n",
       "      <th>5000.000000</th>\n",
       "      <td>-0.573296</td>\n",
       "      <td>-25.505265</td>\n",
       "      <td>-0.000358</td>\n",
       "      <td>NaN</td>\n",
       "      <td>0.000200</td>\n",
       "    </tr>\n",
       "  </tbody>\n",
       "</table>\n",
       "</div>"
      ],
      "text/plain": [
       "                    z         rhog        bg           mug        cg\n",
       "pressure                                                            \n",
       "20.000000    0.988358     0.059177  0.154115  1.261362e-02  0.050000\n",
       "282.105263   0.839758     0.982417  0.009283  1.286292e-02  0.003545\n",
       "544.210526   0.698536     2.278331  0.004003  1.341415e-02  0.001838\n",
       "806.315789   0.564693     4.175720  0.002184  1.450051e-02  0.001240\n",
       "1068.421053  0.438229     7.129846  0.001279  1.679766e-02  0.000936\n",
       "1330.526316  0.319143    12.192040  0.000748  2.273917e-02  0.000752\n",
       "1592.631579  0.207437    22.452720  0.000406  4.811116e-02  0.000628\n",
       "1854.736842  0.103108    52.605092  0.000173  8.423217e-01  0.000539\n",
       "2116.842105  0.006159  1005.181931  0.000009  1.060569e+94  0.000472\n",
       "2378.947368 -0.083412   -83.405224 -0.000109           NaN  0.000420\n",
       "2641.052632 -0.165605   -46.638362 -0.000196           NaN  0.000379\n",
       "2903.157895 -0.240418   -35.313592 -0.000258           NaN  0.000344\n",
       "3165.263158 -0.307853   -30.068016 -0.000303           NaN  0.000316\n",
       "3427.368421 -0.367910   -27.243216 -0.000335           NaN  0.000292\n",
       "3689.473684 -0.420587   -25.653521 -0.000356           NaN  0.000271\n",
       "3951.578947 -0.465887   -24.804439 -0.000368           NaN  0.000253\n",
       "4213.684211 -0.503807   -24.458890 -0.000373           NaN  0.000237\n",
       "4475.789474 -0.534349   -24.495359 -0.000372           NaN  0.000223\n",
       "4737.894737 -0.557512   -24.852511 -0.000367           NaN  0.000211\n",
       "5000.000000 -0.573296   -25.505265 -0.000358           NaN  0.000200"
      ]
     },
     "execution_count": 18,
     "metadata": {},
     "output_type": "execute_result"
    }
   ],
   "source": [
    "gas1.pvt_from_correlations()\n",
    "gas1.pvt.df()"
   ]
  },
  {
   "cell_type": "code",
   "execution_count": null,
   "metadata": {},
   "outputs": [],
   "source": []
  }
 ],
 "metadata": {
  "interpreter": {
   "hash": "372bbe80e8e5f52caf70b607bc2a566f3c8d0912b9dd67ebdb62a91dc247847c"
  },
  "kernelspec": {
   "display_name": "Python 3.8.12 64-bit ('pvtpy': conda)",
   "name": "python3"
  },
  "language_info": {
   "codemirror_mode": {
    "name": "ipython",
    "version": 3
   },
   "file_extension": ".py",
   "mimetype": "text/x-python",
   "name": "python",
   "nbconvert_exporter": "python",
   "pygments_lexer": "ipython3",
   "version": "3.8.12"
  }
 },
 "nbformat": 4,
 "nbformat_minor": 4
}
