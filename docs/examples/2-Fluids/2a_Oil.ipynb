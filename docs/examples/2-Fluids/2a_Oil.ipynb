{
 "cells": [
  {
   "cell_type": "markdown",
   "metadata": {},
   "source": [
    "# Oil Model\n",
    "\n",
    "You can create `Oil`, `Gas` and `Water` Python Objects that contain the main information that allow to characterize the fluid. They can contain, PVT, Chromatography, gravity among other values specific to the fluid. \n",
    "\n",
    "By creating an `Oil` object you can obtain a PVT table throughout common correlations described by Ahmed (Reservoir Engineering Handbook & Equation of State and PVT Analysis ) and by Banzer (Correlaciones Numéricas PVT)\n"
   ]
  },
  {
   "cell_type": "code",
   "execution_count": 1,
   "metadata": {},
   "outputs": [],
   "source": [
    "from pvtpy.pvt import PVT\n",
    "import pvtpy.black_oil as bk\n",
    "from pvtpy.fluids import Oil, InitialConditions\n",
    "from pvtpy.units import Pressure, Temperature\n",
    "import numpy as np\n",
    "import pandas as pd\n",
    "import seaborn as sns"
   ]
  },
  {
   "cell_type": "markdown",
   "metadata": {},
   "source": [
    "## Initial Conditions.\n",
    "\n",
    "It is required to provide initial conditions "
   ]
  },
  {
   "cell_type": "code",
   "execution_count": 2,
   "metadata": {},
   "outputs": [],
   "source": [
    "init = InitialConditions(pressure=Pressure(value=3600), temperature=Temperature(value=160))"
   ]
  },
  {
   "cell_type": "code",
   "execution_count": 3,
   "metadata": {},
   "outputs": [
    {
     "data": {
      "text/plain": [
       "Oil(initial_conditions=InitialConditions(pressure=Pressure(value=3600.0, unit=<PressureUnits.psi: 'psi'>), temperature=Temperature(value=160.0, unit=<TemperatureUnits.farenheit: 'farenheit'>)), pvt=None, chromatography=None, api=31.0, sulphur=None, pb=None, rsb=675.0, sg_gas=0.95)"
      ]
     },
     "execution_count": 3,
     "metadata": {},
     "output_type": "execute_result"
    }
   ],
   "source": [
    "oil1 = Oil(\n",
    "    initial_conditions=init,\n",
    "    api = 31,\n",
    "    rsb = 675,\n",
    "    sg_gas = 0.95\n",
    ")\n",
    "oil1"
   ]
  },
  {
   "cell_type": "markdown",
   "metadata": {},
   "source": [
    "Once created an Oil object without a PVT, you can generate a tabulated table with the main properties using PVT correlations. \n",
    "\n",
    "To set the the correlations to be used initialize an instance of `bk.SetOilCorrelations'. By default it has certain correlations "
   ]
  },
  {
   "cell_type": "code",
   "execution_count": 4,
   "metadata": {},
   "outputs": [
    {
     "data": {
      "text/plain": [
       "{'pb': <pb_correlations.standing: 'standing'>,\n",
       " 'rs': <rs_correlations.standing: 'standing'>,\n",
       " 'bo': <bo_correlations.standing: 'standing'>,\n",
       " 'co_above': <co_above_correlations.vazquez_beggs: 'vazquez_beggs'>,\n",
       " 'co_below': <co_below_correlations.mccain: 'mccain'>,\n",
       " 'muod': <muod_correlations.beal: 'beal'>,\n",
       " 'muo_above': <muo_above_correlations.beal: 'beal'>,\n",
       " 'muo_below': <muo_below_correlations.beggs: 'beggs'>,\n",
       " 'rho': <rho_correlations.banzer: 'banzer'>}"
      ]
     },
     "execution_count": 4,
     "metadata": {},
     "output_type": "execute_result"
    }
   ],
   "source": [
    "cor = bk.SetOilCorrelations()\n",
    "cor.dict()"
   ]
  },
  {
   "cell_type": "code",
   "execution_count": 5,
   "metadata": {},
   "outputs": [
    {
     "name": "stdout",
     "output_type": "stream",
     "text": [
      "                     rs        bo        co       muo        rho\n",
      "pressure                                                        \n",
      "20.000000     70.222511  1.076649  0.018716  2.272673  51.178738\n",
      "282.105263   210.895351  1.144722  0.000403  1.408308  49.537946\n",
      "544.210526   285.093631  1.182737  0.000156  1.191746  48.641478\n",
      "806.315789   346.908386  1.215335  0.000088  1.062432  47.890476\n",
      "1068.421053  403.667546  1.245936  0.000058  0.969604  47.201993\n",
      "1330.526316  458.048011  1.275809  0.000043  0.897034  46.545992\n",
      "1592.631579  511.335510  1.305572  0.000033  0.837464  45.908448\n",
      "1854.736842  564.242666  1.335573  0.000026  0.787013  45.281961\n",
      "2116.842105  617.201069  1.366026  0.000022  0.743351  44.662384\n",
      "2378.947368  670.488149  1.397074  0.000018  0.704963  44.047339\n",
      "2641.052632  675.000000  1.394688  0.000015  0.712684  43.926841\n",
      "2903.157895  675.000000  1.390158  0.000014  0.724424  43.784158\n",
      "3165.263158  675.000000  1.386389  0.000013  0.736164  43.665459\n",
      "3427.368421  675.000000  1.383205  0.000012  0.747904  43.565167\n",
      "3689.473684  675.000000  1.380479  0.000011  0.759644  43.479309\n",
      "3951.578947  675.000000  1.378119  0.000010  0.771384  43.404977\n",
      "4213.684211  675.000000  1.376056  0.000009  0.783124  43.339997\n",
      "4475.789474  675.000000  1.374237  0.000009  0.794864  43.282708\n",
      "4737.894737  675.000000  1.372621  0.000008  0.806604  43.231822\n",
      "5000.000000  675.000000  1.371176  0.000008  0.818344  43.186321\n"
     ]
    }
   ],
   "source": [
    "oil1.pvt_from_correlation(start_pressure=20, end_pressure=5000, n=20, correlations=cor)\n",
    "\n",
    "print(oil1.pvt.df())"
   ]
  },
  {
   "cell_type": "code",
   "execution_count": 6,
   "metadata": {},
   "outputs": [
    {
     "data": {
      "text/html": [
       "<div>\n",
       "<style scoped>\n",
       "    .dataframe tbody tr th:only-of-type {\n",
       "        vertical-align: middle;\n",
       "    }\n",
       "\n",
       "    .dataframe tbody tr th {\n",
       "        vertical-align: top;\n",
       "    }\n",
       "\n",
       "    .dataframe thead th {\n",
       "        text-align: right;\n",
       "    }\n",
       "</style>\n",
       "<table border=\"1\" class=\"dataframe\">\n",
       "  <thead>\n",
       "    <tr style=\"text-align: right;\">\n",
       "      <th></th>\n",
       "      <th>rs</th>\n",
       "      <th>bo</th>\n",
       "      <th>co</th>\n",
       "      <th>muo</th>\n",
       "      <th>rho</th>\n",
       "    </tr>\n",
       "    <tr>\n",
       "      <th>pressure</th>\n",
       "      <th></th>\n",
       "      <th></th>\n",
       "      <th></th>\n",
       "      <th></th>\n",
       "      <th></th>\n",
       "    </tr>\n",
       "  </thead>\n",
       "  <tbody>\n",
       "    <tr>\n",
       "      <th>500</th>\n",
       "      <td>272.578258</td>\n",
       "      <td>1.176325</td>\n",
       "      <td>0.000197</td>\n",
       "      <td>1.228274</td>\n",
       "      <td>48.792690</td>\n",
       "    </tr>\n",
       "    <tr>\n",
       "      <th>1500</th>\n",
       "      <td>492.502980</td>\n",
       "      <td>1.295053</td>\n",
       "      <td>0.000036</td>\n",
       "      <td>0.858517</td>\n",
       "      <td>46.133765</td>\n",
       "    </tr>\n",
       "    <tr>\n",
       "      <th>2500</th>\n",
       "      <td>672.571936</td>\n",
       "      <td>1.395972</td>\n",
       "      <td>0.000017</td>\n",
       "      <td>0.708529</td>\n",
       "      <td>43.991687</td>\n",
       "    </tr>\n",
       "    <tr>\n",
       "      <th>3500</th>\n",
       "      <td>675.000000</td>\n",
       "      <td>1.382449</td>\n",
       "      <td>0.000011</td>\n",
       "      <td>0.751157</td>\n",
       "      <td>43.541375</td>\n",
       "    </tr>\n",
       "  </tbody>\n",
       "</table>\n",
       "</div>"
      ],
      "text/plain": [
       "                  rs        bo        co       muo        rho\n",
       "pressure                                                     \n",
       "500       272.578258  1.176325  0.000197  1.228274  48.792690\n",
       "1500      492.502980  1.295053  0.000036  0.858517  46.133765\n",
       "2500      672.571936  1.395972  0.000017  0.708529  43.991687\n",
       "3500      675.000000  1.382449  0.000011  0.751157  43.541375"
      ]
     },
     "execution_count": 6,
     "metadata": {},
     "output_type": "execute_result"
    }
   ],
   "source": [
    "oil1.pvt.interpolate([500,1500,2500,3500])"
   ]
  },
  {
   "cell_type": "code",
   "execution_count": 7,
   "metadata": {},
   "outputs": [
    {
     "data": {
      "text/plain": [
       "array([<AxesSubplot:xlabel='pressure'>, <AxesSubplot:xlabel='pressure'>,\n",
       "       <AxesSubplot:xlabel='pressure'>, <AxesSubplot:xlabel='pressure'>,\n",
       "       <AxesSubplot:xlabel='pressure'>], dtype=object)"
      ]
     },
     "execution_count": 7,
     "metadata": {},
     "output_type": "execute_result"
    },
    {
     "data": {
      "image/png": "[encoded data removed]",
      "text/plain": [
       "<Figure size 720x504 with 5 Axes>"
      ]
     },
     "metadata": {
      "needs_background": "light"
     },
     "output_type": "display_data"
    }
   ],
   "source": [
    "oil1.pvt.df().plot(subplots=True, figsize=(10,7))"
   ]
  },
  {
   "cell_type": "code",
   "execution_count": 8,
   "metadata": {},
   "outputs": [
    {
     "name": "stdout",
     "output_type": "stream",
     "text": [
      "-- OIL PVT TABLE FOR LIVE OIL\n",
      "PVTO\n",
      "-- rs      pres  bo      visc\n",
      "-- Mscf/rb psi   RB/STB  cP  \n",
      "-- ------- ----  ----    ---- \n",
      "0.070 20.000 1.077 2.273/\n",
      "0.212 284.559 1.145 1.406/\n",
      "0.286 549.119 1.183 1.189/\n",
      "0.349 813.678 1.216 1.060/\n",
      "0.406 1078.238 1.247 0.967/\n",
      "0.461 1342.797 1.277 0.894/\n",
      "0.514 1607.356 1.307 0.835/\n",
      "0.568 1871.916 1.338 0.784/\n",
      "0.621 2136.475 1.368 0.740/\n",
      "0.671 2401.035 1.397 0.706\n",
      "-- Unsaturated Data\n",
      "2920.828 1.390 0.725\n",
      "3440.621 1.383 0.748\n",
      "3960.414 1.378 0.772\n",
      "4480.207 1.374 0.795\n",
      "5000.000 1.371 0.818/\n",
      "/\n"
     ]
    }
   ],
   "source": [
    "print(oil1.to_ecl())"
   ]
  },
  {
   "cell_type": "code",
   "execution_count": 10,
   "metadata": {},
   "outputs": [
    {
     "data": {
      "text/html": [
       "<div>\n",
       "<style scoped>\n",
       "    .dataframe tbody tr th:only-of-type {\n",
       "        vertical-align: middle;\n",
       "    }\n",
       "\n",
       "    .dataframe tbody tr th {\n",
       "        vertical-align: top;\n",
       "    }\n",
       "\n",
       "    .dataframe thead th {\n",
       "        text-align: right;\n",
       "    }\n",
       "</style>\n",
       "<table border=\"1\" class=\"dataframe\">\n",
       "  <thead>\n",
       "    <tr style=\"text-align: right;\">\n",
       "      <th></th>\n",
       "      <th>rs</th>\n",
       "      <th>bo</th>\n",
       "      <th>co</th>\n",
       "      <th>muo</th>\n",
       "      <th>rho</th>\n",
       "    </tr>\n",
       "    <tr>\n",
       "      <th>pressure</th>\n",
       "      <th></th>\n",
       "      <th></th>\n",
       "      <th></th>\n",
       "      <th></th>\n",
       "      <th></th>\n",
       "    </tr>\n",
       "  </thead>\n",
       "  <tbody>\n",
       "    <tr>\n",
       "      <th>20.000000</th>\n",
       "      <td>2.873694</td>\n",
       "      <td>1.046123</td>\n",
       "      <td>0.012861</td>\n",
       "      <td>8.447486</td>\n",
       "      <td>53.901805</td>\n",
       "    </tr>\n",
       "    <tr>\n",
       "      <th>282.105263</th>\n",
       "      <td>28.747443</td>\n",
       "      <td>1.054990</td>\n",
       "      <td>0.000277</td>\n",
       "      <td>6.737769</td>\n",
       "      <td>53.698104</td>\n",
       "    </tr>\n",
       "    <tr>\n",
       "      <th>544.210526</th>\n",
       "      <td>60.407690</td>\n",
       "      <td>1.066069</td>\n",
       "      <td>0.000107</td>\n",
       "      <td>5.393595</td>\n",
       "      <td>53.439907</td>\n",
       "    </tr>\n",
       "    <tr>\n",
       "      <th>806.315789</th>\n",
       "      <td>95.309130</td>\n",
       "      <td>1.078550</td>\n",
       "      <td>0.000060</td>\n",
       "      <td>4.420860</td>\n",
       "      <td>53.145589</td>\n",
       "    </tr>\n",
       "    <tr>\n",
       "      <th>1068.421053</th>\n",
       "      <td>132.574227</td>\n",
       "      <td>1.092162</td>\n",
       "      <td>0.000040</td>\n",
       "      <td>3.709634</td>\n",
       "      <td>52.821985</td>\n",
       "    </tr>\n",
       "    <tr>\n",
       "      <th>1330.526316</th>\n",
       "      <td>171.730436</td>\n",
       "      <td>1.106756</td>\n",
       "      <td>0.000029</td>\n",
       "      <td>3.176832</td>\n",
       "      <td>52.473403</td>\n",
       "    </tr>\n",
       "    <tr>\n",
       "      <th>1592.631579</th>\n",
       "      <td>212.476920</td>\n",
       "      <td>1.122237</td>\n",
       "      <td>0.000023</td>\n",
       "      <td>2.767457</td>\n",
       "      <td>52.103128</td>\n",
       "    </tr>\n",
       "    <tr>\n",
       "      <th>1854.736842</th>\n",
       "      <td>254.603334</td>\n",
       "      <td>1.138534</td>\n",
       "      <td>0.000018</td>\n",
       "      <td>2.445519</td>\n",
       "      <td>51.713895</td>\n",
       "    </tr>\n",
       "    <tr>\n",
       "      <th>2116.842105</th>\n",
       "      <td>295.133551</td>\n",
       "      <td>1.154256</td>\n",
       "      <td>0.000011</td>\n",
       "      <td>2.218666</td>\n",
       "      <td>51.357348</td>\n",
       "    </tr>\n",
       "    <tr>\n",
       "      <th>2378.947368</th>\n",
       "      <td>295.133551</td>\n",
       "      <td>1.151229</td>\n",
       "      <td>0.000010</td>\n",
       "      <td>2.256692</td>\n",
       "      <td>51.222697</td>\n",
       "    </tr>\n",
       "    <tr>\n",
       "      <th>2641.052632</th>\n",
       "      <td>295.133551</td>\n",
       "      <td>1.148809</td>\n",
       "      <td>0.000009</td>\n",
       "      <td>2.294718</td>\n",
       "      <td>51.115026</td>\n",
       "    </tr>\n",
       "    <tr>\n",
       "      <th>2903.157895</th>\n",
       "      <td>295.133551</td>\n",
       "      <td>1.146830</td>\n",
       "      <td>0.000008</td>\n",
       "      <td>2.332744</td>\n",
       "      <td>51.026966</td>\n",
       "    </tr>\n",
       "    <tr>\n",
       "      <th>3165.263158</th>\n",
       "      <td>295.133551</td>\n",
       "      <td>1.145181</td>\n",
       "      <td>0.000008</td>\n",
       "      <td>2.370770</td>\n",
       "      <td>50.953606</td>\n",
       "    </tr>\n",
       "    <tr>\n",
       "      <th>3427.368421</th>\n",
       "      <td>295.133551</td>\n",
       "      <td>1.143787</td>\n",
       "      <td>0.000007</td>\n",
       "      <td>2.408796</td>\n",
       "      <td>50.891548</td>\n",
       "    </tr>\n",
       "    <tr>\n",
       "      <th>3689.473684</th>\n",
       "      <td>295.133551</td>\n",
       "      <td>1.142591</td>\n",
       "      <td>0.000007</td>\n",
       "      <td>2.446822</td>\n",
       "      <td>50.838369</td>\n",
       "    </tr>\n",
       "    <tr>\n",
       "      <th>3951.578947</th>\n",
       "      <td>295.133551</td>\n",
       "      <td>1.141556</td>\n",
       "      <td>0.000006</td>\n",
       "      <td>2.484848</td>\n",
       "      <td>50.792289</td>\n",
       "    </tr>\n",
       "    <tr>\n",
       "      <th>4213.684211</th>\n",
       "      <td>295.133551</td>\n",
       "      <td>1.140650</td>\n",
       "      <td>0.000006</td>\n",
       "      <td>2.522874</td>\n",
       "      <td>50.751975</td>\n",
       "    </tr>\n",
       "    <tr>\n",
       "      <th>4475.789474</th>\n",
       "      <td>295.133551</td>\n",
       "      <td>1.139850</td>\n",
       "      <td>0.000005</td>\n",
       "      <td>2.560900</td>\n",
       "      <td>50.716410</td>\n",
       "    </tr>\n",
       "    <tr>\n",
       "      <th>4737.894737</th>\n",
       "      <td>295.133551</td>\n",
       "      <td>1.139140</td>\n",
       "      <td>0.000005</td>\n",
       "      <td>2.598926</td>\n",
       "      <td>50.684801</td>\n",
       "    </tr>\n",
       "    <tr>\n",
       "      <th>5000.000000</th>\n",
       "      <td>295.133551</td>\n",
       "      <td>1.138504</td>\n",
       "      <td>0.000005</td>\n",
       "      <td>2.636952</td>\n",
       "      <td>50.656523</td>\n",
       "    </tr>\n",
       "  </tbody>\n",
       "</table>\n",
       "</div>"
      ],
      "text/plain": [
       "                     rs        bo        co       muo        rho\n",
       "pressure                                                        \n",
       "20.000000      2.873694  1.046123  0.012861  8.447486  53.901805\n",
       "282.105263    28.747443  1.054990  0.000277  6.737769  53.698104\n",
       "544.210526    60.407690  1.066069  0.000107  5.393595  53.439907\n",
       "806.315789    95.309130  1.078550  0.000060  4.420860  53.145589\n",
       "1068.421053  132.574227  1.092162  0.000040  3.709634  52.821985\n",
       "1330.526316  171.730436  1.106756  0.000029  3.176832  52.473403\n",
       "1592.631579  212.476920  1.122237  0.000023  2.767457  52.103128\n",
       "1854.736842  254.603334  1.138534  0.000018  2.445519  51.713895\n",
       "2116.842105  295.133551  1.154256  0.000011  2.218666  51.357348\n",
       "2378.947368  295.133551  1.151229  0.000010  2.256692  51.222697\n",
       "2641.052632  295.133551  1.148809  0.000009  2.294718  51.115026\n",
       "2903.157895  295.133551  1.146830  0.000008  2.332744  51.026966\n",
       "3165.263158  295.133551  1.145181  0.000008  2.370770  50.953606\n",
       "3427.368421  295.133551  1.143787  0.000007  2.408796  50.891548\n",
       "3689.473684  295.133551  1.142591  0.000007  2.446822  50.838369\n",
       "3951.578947  295.133551  1.141556  0.000006  2.484848  50.792289\n",
       "4213.684211  295.133551  1.140650  0.000006  2.522874  50.751975\n",
       "4475.789474  295.133551  1.139850  0.000005  2.560900  50.716410\n",
       "4737.894737  295.133551  1.139140  0.000005  2.598926  50.684801\n",
       "5000.000000  295.133551  1.138504  0.000005  2.636952  50.656523"
      ]
     },
     "execution_count": 10,
     "metadata": {},
     "output_type": "execute_result"
    }
   ],
   "source": [
    "oil2 = Oil(\n",
    "    initial_conditions=init,\n",
    "    api = 25,\n",
    "    pb = Pressure(value=2100),\n",
    "    sg_gas = 0.6\n",
    ")\n",
    "oil2.pvt_from_correlation(start_pressure=20, end_pressure=5000, n=20, correlations=cor)\n",
    "oil2.pvt.df()"
   ]
  },
  {
   "cell_type": "code",
   "execution_count": null,
   "metadata": {},
   "outputs": [],
   "source": []
  }
 ],
 "metadata": {
  "interpreter": {
   "hash": "372bbe80e8e5f52caf70b607bc2a566f3c8d0912b9dd67ebdb62a91dc247847c"
  },
  "kernelspec": {
   "display_name": "Python 3.8.12 64-bit ('pvtpy': conda)",
   "name": "python3"
  },
  "language_info": {
   "codemirror_mode": {
    "name": "ipython",
    "version": 3
   },
   "file_extension": ".py",
   "mimetype": "text/x-python",
   "name": "python",
   "nbconvert_exporter": "python",
   "pygments_lexer": "ipython3",
   "version": "3.8.12"
  },
  "orig_nbformat": 4
 },
 "nbformat": 4,
 "nbformat_minor": 2
}
