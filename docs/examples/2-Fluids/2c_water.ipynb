{
 "cells": [
  {
   "cell_type": "markdown",
   "metadata": {},
   "source": [
    "# Water Model"
   ]
  },
  {
   "cell_type": "code",
   "execution_count": 1,
   "metadata": {},
   "outputs": [],
   "source": [
    "from pvtpy.fluids import Water, InitialConditions\n",
    "from pvtpy.units import Pressure, Temperature\n",
    "import pvtpy.black_oil as bk"
   ]
  },
  {
   "cell_type": "code",
   "execution_count": 2,
   "metadata": {},
   "outputs": [
    {
     "data": {
      "text/plain": [
       "InitialConditions(pressure=Pressure(value=2500.0, unit=<PressureUnits.psi: 'psi'>), temperature=Temperature(value=120.0, unit=<TemperatureUnits.farenheit: 'farenheit'>))"
      ]
     },
     "execution_count": 2,
     "metadata": {},
     "output_type": "execute_result"
    }
   ],
   "source": [
    "init = InitialConditions(\n",
    "    pressure=Pressure(value=2500), \n",
    "    temperature=Temperature(value=120)\n",
    ")\n",
    "init"
   ]
  },
  {
   "cell_type": "code",
   "execution_count": 3,
   "metadata": {},
   "outputs": [
    {
     "data": {
      "text/plain": [
       "{'rsw': <rsw_correlations.culberson: 'culberson'>,\n",
       " 'cw': <cw_correlations.standing: 'standing'>,\n",
       " 'bw': <bw_correlations.mccain: 'mccain'>,\n",
       " 'rhow': <rhow_correlations.banzer: 'banzer'>,\n",
       " 'muw': <muw_correlations.van_wingen: 'van_wingen'>}"
      ]
     },
     "execution_count": 3,
     "metadata": {},
     "output_type": "execute_result"
    }
   ],
   "source": [
    "cor = bk.SetWaterCorrelations()\n",
    "cor.dict()"
   ]
  },
  {
   "cell_type": "code",
   "execution_count": 4,
   "metadata": {},
   "outputs": [
    {
     "name": "stdout",
     "output_type": "stream",
     "text": [
      "                    rs        cw        bw       muw       rhow\n",
      "pressure                                                       \n",
      "20.000000     3.290010  0.000003  1.013934  0.614841  61.563854\n",
      "282.105263    4.596583  0.000003  1.013757  0.614841  61.574594\n",
      "544.210526    5.873936  0.000003  1.013546  0.614841  61.587422\n",
      "806.315789    7.122071  0.000003  1.013301  0.614841  61.602339\n",
      "1068.421053   8.340986  0.000003  1.013021  0.614841  61.619349\n",
      "1330.526316   9.530682  0.000003  1.012707  0.614841  61.638454\n",
      "1592.631579  10.691159  0.000003  1.012359  0.614841  61.659660\n",
      "1854.736842  11.822417  0.000003  1.011976  0.614841  61.682969\n",
      "2116.842105  12.924456  0.000003  1.011559  0.614841  61.708388\n",
      "2378.947368  13.997275  0.000003  1.011108  0.614841  61.735921\n",
      "2641.052632  15.040875  0.000003  1.010418  0.614841  61.778071\n",
      "2903.157895  16.055257  0.000003  1.009546  0.614841  61.831463\n",
      "3165.263158  17.040419  0.000003  1.008675  0.614841  61.884839\n",
      "3427.368421  17.996361  0.000003  1.007807  0.614841  61.938144\n",
      "3689.473684  18.923085  0.000003  1.006942  0.614841  61.991323\n",
      "3951.578947  19.820590  0.000003  1.006082  0.614841  62.044323\n",
      "4213.684211  20.688875  0.000003  1.005227  0.614841  62.097089\n",
      "4475.789474  21.527941  0.000003  1.004378  0.614841  62.149571\n",
      "4737.894737  22.337788  0.000003  1.003536  0.614841  62.201718\n",
      "5000.000000  23.118416  0.000003  1.002702  0.614841  62.253479\n"
     ]
    }
   ],
   "source": [
    "wa1 = Water.pvt_from_correlation(\n",
    "    initial_conditions=init, \n",
    "    salinity=500, \n",
    "    pb=Pressure(value=2500,unit='psi'),\n",
    "    start_pressure=20, \n",
    "    end_pressure=5000, \n",
    "    n=20,\n",
    "    correlations=cor\n",
    ")\n",
    "\n",
    "print(wa1.pvt.df())"
   ]
  },
  {
   "cell_type": "code",
   "execution_count": 5,
   "metadata": {},
   "outputs": [
    {
     "name": "stdout",
     "output_type": "stream",
     "text": [
      "-- WATER PVT TABLE\n",
      "PVTW\n",
      "-- pres   bw       cw     visc  visc  \n",
      "-- psi    RB/STB   1/PSIA cP    GRAD \n",
      "-- ----   ----     ---- \n",
      "1.014 0.000 0.615\n",
      "1.014 0.000 0.615\n",
      "1.013 0.000 0.615\n",
      "1.012 0.000 0.615\n",
      "1.011 0.000 0.615\n",
      "1.010 0.000 0.615\n",
      "1.008 0.000 0.615\n",
      "1.006 0.000 0.615\n",
      "1.004 0.000 0.615\n",
      "1.003 0.000 0.615/\n",
      "\n"
     ]
    }
   ],
   "source": [
    "print(wa1.to_ecl())"
   ]
  },
  {
   "cell_type": "code",
   "execution_count": null,
   "metadata": {},
   "outputs": [],
   "source": []
  }
 ],
 "metadata": {
  "interpreter": {
   "hash": "372bbe80e8e5f52caf70b607bc2a566f3c8d0912b9dd67ebdb62a91dc247847c"
  },
  "kernelspec": {
   "display_name": "Python 3.8.12 64-bit ('pvtpy': conda)",
   "name": "python3"
  },
  "language_info": {
   "codemirror_mode": {
    "name": "ipython",
    "version": 3
   },
   "file_extension": ".py",
   "mimetype": "text/x-python",
   "name": "python",
   "nbconvert_exporter": "python",
   "pygments_lexer": "ipython3",
   "version": "3.8.12"
  }
 },
 "nbformat": 4,
 "nbformat_minor": 4
}
