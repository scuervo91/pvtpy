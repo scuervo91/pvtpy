{
 "metadata": {
  "language_info": {
   "codemirror_mode": {
    "name": "ipython",
    "version": 3
   },
   "file_extension": ".py",
   "mimetype": "text/x-python",
   "name": "python",
   "nbconvert_exporter": "python",
   "pygments_lexer": "ipython3",
   "version": "3.8.10"
  },
  "orig_nbformat": 2,
  "kernelspec": {
   "name": "python3810jvsc74a57bd0c2412f2860ef08ecfc6ffbe66d86f9328a9706bdf5bd84042edf15bb644253f5",
   "display_name": "Python 3.8.10 64-bit ('pvtpy': conda)"
  },
  "metadata": {
   "interpreter": {
    "hash": "c2412f2860ef08ecfc6ffbe66d86f9328a9706bdf5bd84042edf15bb644253f5"
   }
  }
 },
 "nbformat": 4,
 "nbformat_minor": 2,
 "cells": [
  {
   "cell_type": "code",
   "execution_count": 1,
   "metadata": {},
   "outputs": [],
   "source": [
    "from pvtpy.pvt import PVT\n",
    "import numpy as np\n",
    "import pandas as pd"
   ]
  },
  {
   "cell_type": "code",
   "execution_count": 2,
   "metadata": {},
   "outputs": [],
   "source": [
    "p = np.linspace(10,3500,15)\n",
    "rho = np.linspace(0.8,1.3,15)\n",
    "tt = np.linspace(90,130,15)"
   ]
  },
  {
   "cell_type": "code",
   "execution_count": 3,
   "metadata": {},
   "outputs": [],
   "source": [
    "pvt1 = PVT(pressure=p.tolist(), fields={'rho':rho.tolist(),'temp':tt.tolist()})"
   ]
  },
  {
   "cell_type": "code",
   "execution_count": 4,
   "metadata": {},
   "outputs": [
    {
     "output_type": "execute_result",
     "data": {
      "text/plain": [
       "                  rho        temp\n",
       "pressure                         \n",
       "10.000000    0.800000   90.000000\n",
       "259.285714   0.835714   92.857143\n",
       "508.571429   0.871429   95.714286\n",
       "757.857143   0.907143   98.571429\n",
       "1007.142857  0.942857  101.428571\n",
       "1256.428571  0.978571  104.285714\n",
       "1505.714286  1.014286  107.142857\n",
       "1755.000000  1.050000  110.000000\n",
       "2004.285714  1.085714  112.857143\n",
       "2253.571429  1.121429  115.714286\n",
       "2502.857143  1.157143  118.571429\n",
       "2752.142857  1.192857  121.428571\n",
       "3001.428571  1.228571  124.285714\n",
       "3250.714286  1.264286  127.142857\n",
       "3500.000000  1.300000  130.000000"
      ],
      "text/html": "<div>\n<style scoped>\n    .dataframe tbody tr th:only-of-type {\n        vertical-align: middle;\n    }\n\n    .dataframe tbody tr th {\n        vertical-align: top;\n    }\n\n    .dataframe thead th {\n        text-align: right;\n    }\n</style>\n<table border=\"1\" class=\"dataframe\">\n  <thead>\n    <tr style=\"text-align: right;\">\n      <th></th>\n      <th>rho</th>\n      <th>temp</th>\n    </tr>\n    <tr>\n      <th>pressure</th>\n      <th></th>\n      <th></th>\n    </tr>\n  </thead>\n  <tbody>\n    <tr>\n      <th>10.000000</th>\n      <td>0.800000</td>\n      <td>90.000000</td>\n    </tr>\n    <tr>\n      <th>259.285714</th>\n      <td>0.835714</td>\n      <td>92.857143</td>\n    </tr>\n    <tr>\n      <th>508.571429</th>\n      <td>0.871429</td>\n      <td>95.714286</td>\n    </tr>\n    <tr>\n      <th>757.857143</th>\n      <td>0.907143</td>\n      <td>98.571429</td>\n    </tr>\n    <tr>\n      <th>1007.142857</th>\n      <td>0.942857</td>\n      <td>101.428571</td>\n    </tr>\n    <tr>\n      <th>1256.428571</th>\n      <td>0.978571</td>\n      <td>104.285714</td>\n    </tr>\n    <tr>\n      <th>1505.714286</th>\n      <td>1.014286</td>\n      <td>107.142857</td>\n    </tr>\n    <tr>\n      <th>1755.000000</th>\n      <td>1.050000</td>\n      <td>110.000000</td>\n    </tr>\n    <tr>\n      <th>2004.285714</th>\n      <td>1.085714</td>\n      <td>112.857143</td>\n    </tr>\n    <tr>\n      <th>2253.571429</th>\n      <td>1.121429</td>\n      <td>115.714286</td>\n    </tr>\n    <tr>\n      <th>2502.857143</th>\n      <td>1.157143</td>\n      <td>118.571429</td>\n    </tr>\n    <tr>\n      <th>2752.142857</th>\n      <td>1.192857</td>\n      <td>121.428571</td>\n    </tr>\n    <tr>\n      <th>3001.428571</th>\n      <td>1.228571</td>\n      <td>124.285714</td>\n    </tr>\n    <tr>\n      <th>3250.714286</th>\n      <td>1.264286</td>\n      <td>127.142857</td>\n    </tr>\n    <tr>\n      <th>3500.000000</th>\n      <td>1.300000</td>\n      <td>130.000000</td>\n    </tr>\n  </tbody>\n</table>\n</div>"
     },
     "metadata": {},
     "execution_count": 4
    }
   ],
   "source": [
    "pvt1.df()"
   ]
  },
  {
   "cell_type": "code",
   "execution_count": 6,
   "metadata": {},
   "outputs": [
    {
     "output_type": "execute_result",
     "data": {
      "text/plain": [
       "               rho        temp\n",
       "pressure                      \n",
       "1500      1.013467  107.077364\n",
       "2100      1.099427  113.954155"
      ],
      "text/html": "<div>\n<style scoped>\n    .dataframe tbody tr th:only-of-type {\n        vertical-align: middle;\n    }\n\n    .dataframe tbody tr th {\n        vertical-align: top;\n    }\n\n    .dataframe thead th {\n        text-align: right;\n    }\n</style>\n<table border=\"1\" class=\"dataframe\">\n  <thead>\n    <tr style=\"text-align: right;\">\n      <th></th>\n      <th>rho</th>\n      <th>temp</th>\n    </tr>\n    <tr>\n      <th>pressure</th>\n      <th></th>\n      <th></th>\n    </tr>\n  </thead>\n  <tbody>\n    <tr>\n      <th>1500</th>\n      <td>1.013467</td>\n      <td>107.077364</td>\n    </tr>\n    <tr>\n      <th>2100</th>\n      <td>1.099427</td>\n      <td>113.954155</td>\n    </tr>\n  </tbody>\n</table>\n</div>"
     },
     "metadata": {},
     "execution_count": 6
    }
   ],
   "source": [
    "pvt1.interpolate([1500,2100])"
   ]
  },
  {
   "cell_type": "code",
   "execution_count": 8,
   "metadata": {},
   "outputs": [
    {
     "output_type": "execute_result",
     "data": {
      "text/plain": [
       "                temp\n",
       "pressure            \n",
       "1500      107.077364\n",
       "2100      113.954155"
      ],
      "text/html": "<div>\n<style scoped>\n    .dataframe tbody tr th:only-of-type {\n        vertical-align: middle;\n    }\n\n    .dataframe tbody tr th {\n        vertical-align: top;\n    }\n\n    .dataframe thead th {\n        text-align: right;\n    }\n</style>\n<table border=\"1\" class=\"dataframe\">\n  <thead>\n    <tr style=\"text-align: right;\">\n      <th></th>\n      <th>temp</th>\n    </tr>\n    <tr>\n      <th>pressure</th>\n      <th></th>\n    </tr>\n  </thead>\n  <tbody>\n    <tr>\n      <th>1500</th>\n      <td>107.077364</td>\n    </tr>\n    <tr>\n      <th>2100</th>\n      <td>113.954155</td>\n    </tr>\n  </tbody>\n</table>\n</div>"
     },
     "metadata": {},
     "execution_count": 8
    }
   ],
   "source": [
    "pvt1.interpolate([1500,2100],cols=['temp'])"
   ]
  },
  {
   "cell_type": "code",
   "execution_count": null,
   "metadata": {},
   "outputs": [],
   "source": []
  }
 ]
}