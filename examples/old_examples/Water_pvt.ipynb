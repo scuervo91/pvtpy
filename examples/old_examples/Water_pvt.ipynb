{
 "cells": [
  {
   "cell_type": "code",
   "execution_count": 1,
   "metadata": {},
   "outputs": [],
   "source": [
    "import os\n",
    "path = os.path.abspath(os.path.join('..','..'))\n",
    "import sys\n",
    "sys.path.append(path)\n",
    "from reservoirpy.pvtpy import black_oil as bl\n",
    "import pandas as pd\n",
    "import numpy as np\n",
    "import matplotlib.pyplot as plt\n",
    "import pandas as pd\n"
   ]
  },
  {
   "cell_type": "markdown",
   "metadata": {},
   "source": [
    "# Make a water object\n",
    "\n",
    "First create an instance of **water** object with all the necessary attributes"
   ]
  },
  {
   "cell_type": "code",
   "execution_count": 24,
   "metadata": {},
   "outputs": [],
   "source": [
    "wa1 = bl.water(formation='fm_1',pb=2000,salinity=13500, temp=60)"
   ]
  },
  {
   "cell_type": "code",
   "execution_count": 25,
   "metadata": {},
   "outputs": [
    {
     "data": {
      "text/plain": [
       "{'rsw': 'culberson',\n",
       " 'cw': 'standing',\n",
       " 'bw': 'mccain',\n",
       " 'rhow': 'banzer',\n",
       " 'muw': 'van_wingen'}"
      ]
     },
     "execution_count": 25,
     "metadata": {},
     "output_type": "execute_result"
    }
   ],
   "source": [
    "wa1.correlations"
   ]
  },
  {
   "cell_type": "code",
   "execution_count": 26,
   "metadata": {},
   "outputs": [],
   "source": [
    "wa1.pvt_from_correlations()"
   ]
  },
  {
   "cell_type": "code",
   "execution_count": 27,
   "metadata": {},
   "outputs": [
    {
     "data": {
      "text/html": [
       "<div>\n",
       "<style scoped>\n",
       "    .dataframe tbody tr th:only-of-type {\n",
       "        vertical-align: middle;\n",
       "    }\n",
       "\n",
       "    .dataframe tbody tr th {\n",
       "        vertical-align: top;\n",
       "    }\n",
       "\n",
       "    .dataframe thead th {\n",
       "        text-align: right;\n",
       "    }\n",
       "</style>\n",
       "<table border=\"1\" class=\"dataframe\">\n",
       "  <thead>\n",
       "    <tr style=\"text-align: right;\">\n",
       "      <th></th>\n",
       "      <th>rsw</th>\n",
       "      <th>cw</th>\n",
       "      <th>bw</th>\n",
       "      <th>muw</th>\n",
       "      <th>rhow</th>\n",
       "    </tr>\n",
       "    <tr>\n",
       "      <th>pressure</th>\n",
       "      <th></th>\n",
       "      <th></th>\n",
       "      <th></th>\n",
       "      <th></th>\n",
       "      <th></th>\n",
       "    </tr>\n",
       "  </thead>\n",
       "  <tbody>\n",
       "    <tr>\n",
       "      <th>20.000000</th>\n",
       "      <td>4.851603</td>\n",
       "      <td>0.000003</td>\n",
       "      <td>0.999977</td>\n",
       "      <td>1.205569</td>\n",
       "      <td>62.986943</td>\n",
       "    </tr>\n",
       "    <tr>\n",
       "      <th>282.105263</th>\n",
       "      <td>6.436610</td>\n",
       "      <td>0.000003</td>\n",
       "      <td>0.999851</td>\n",
       "      <td>1.205569</td>\n",
       "      <td>62.994844</td>\n",
       "    </tr>\n",
       "    <tr>\n",
       "      <th>544.210526</th>\n",
       "      <td>7.973368</td>\n",
       "      <td>0.000003</td>\n",
       "      <td>0.999693</td>\n",
       "      <td>1.205569</td>\n",
       "      <td>63.004787</td>\n",
       "    </tr>\n",
       "    <tr>\n",
       "      <th>806.315789</th>\n",
       "      <td>9.461877</td>\n",
       "      <td>0.000003</td>\n",
       "      <td>0.999503</td>\n",
       "      <td>1.205569</td>\n",
       "      <td>63.016777</td>\n",
       "    </tr>\n",
       "    <tr>\n",
       "      <th>1068.421053</th>\n",
       "      <td>10.902137</td>\n",
       "      <td>0.000003</td>\n",
       "      <td>0.999281</td>\n",
       "      <td>1.205569</td>\n",
       "      <td>63.030814</td>\n",
       "    </tr>\n",
       "    <tr>\n",
       "      <th>1330.526316</th>\n",
       "      <td>12.294148</td>\n",
       "      <td>0.000003</td>\n",
       "      <td>0.999026</td>\n",
       "      <td>1.205569</td>\n",
       "      <td>63.046901</td>\n",
       "    </tr>\n",
       "    <tr>\n",
       "      <th>1592.631579</th>\n",
       "      <td>13.637910</td>\n",
       "      <td>0.000003</td>\n",
       "      <td>0.998738</td>\n",
       "      <td>1.205569</td>\n",
       "      <td>63.065043</td>\n",
       "    </tr>\n",
       "    <tr>\n",
       "      <th>1854.736842</th>\n",
       "      <td>14.933422</td>\n",
       "      <td>0.000003</td>\n",
       "      <td>0.998418</td>\n",
       "      <td>1.205569</td>\n",
       "      <td>63.085242</td>\n",
       "    </tr>\n",
       "    <tr>\n",
       "      <th>2116.842105</th>\n",
       "      <td>16.180686</td>\n",
       "      <td>0.000003</td>\n",
       "      <td>0.997838</td>\n",
       "      <td>1.205569</td>\n",
       "      <td>63.121969</td>\n",
       "    </tr>\n",
       "    <tr>\n",
       "      <th>2378.947368</th>\n",
       "      <td>17.379700</td>\n",
       "      <td>0.000003</td>\n",
       "      <td>0.996964</td>\n",
       "      <td>1.205569</td>\n",
       "      <td>63.177301</td>\n",
       "    </tr>\n",
       "    <tr>\n",
       "      <th>2641.052632</th>\n",
       "      <td>18.530465</td>\n",
       "      <td>0.000003</td>\n",
       "      <td>0.996091</td>\n",
       "      <td>1.205569</td>\n",
       "      <td>63.232626</td>\n",
       "    </tr>\n",
       "    <tr>\n",
       "      <th>2903.157895</th>\n",
       "      <td>19.632981</td>\n",
       "      <td>0.000003</td>\n",
       "      <td>0.995222</td>\n",
       "      <td>1.205569</td>\n",
       "      <td>63.287855</td>\n",
       "    </tr>\n",
       "    <tr>\n",
       "      <th>3165.263158</th>\n",
       "      <td>20.687248</td>\n",
       "      <td>0.000003</td>\n",
       "      <td>0.994357</td>\n",
       "      <td>1.205569</td>\n",
       "      <td>63.342900</td>\n",
       "    </tr>\n",
       "    <tr>\n",
       "      <th>3427.368421</th>\n",
       "      <td>21.693266</td>\n",
       "      <td>0.000003</td>\n",
       "      <td>0.993498</td>\n",
       "      <td>1.205569</td>\n",
       "      <td>63.397676</td>\n",
       "    </tr>\n",
       "    <tr>\n",
       "      <th>3689.473684</th>\n",
       "      <td>22.651035</td>\n",
       "      <td>0.000003</td>\n",
       "      <td>0.992646</td>\n",
       "      <td>1.205569</td>\n",
       "      <td>63.452099</td>\n",
       "    </tr>\n",
       "    <tr>\n",
       "      <th>3951.578947</th>\n",
       "      <td>23.560555</td>\n",
       "      <td>0.000003</td>\n",
       "      <td>0.991802</td>\n",
       "      <td>1.205569</td>\n",
       "      <td>63.506089</td>\n",
       "    </tr>\n",
       "    <tr>\n",
       "      <th>4213.684211</th>\n",
       "      <td>24.421826</td>\n",
       "      <td>0.000003</td>\n",
       "      <td>0.990968</td>\n",
       "      <td>1.205569</td>\n",
       "      <td>63.559566</td>\n",
       "    </tr>\n",
       "    <tr>\n",
       "      <th>4475.789474</th>\n",
       "      <td>25.234847</td>\n",
       "      <td>0.000003</td>\n",
       "      <td>0.990144</td>\n",
       "      <td>1.205569</td>\n",
       "      <td>63.612452</td>\n",
       "    </tr>\n",
       "    <tr>\n",
       "      <th>4737.894737</th>\n",
       "      <td>25.999620</td>\n",
       "      <td>0.000003</td>\n",
       "      <td>0.989332</td>\n",
       "      <td>1.205569</td>\n",
       "      <td>63.664674</td>\n",
       "    </tr>\n",
       "    <tr>\n",
       "      <th>5000.000000</th>\n",
       "      <td>26.716143</td>\n",
       "      <td>0.000003</td>\n",
       "      <td>0.988532</td>\n",
       "      <td>1.205569</td>\n",
       "      <td>63.716157</td>\n",
       "    </tr>\n",
       "  </tbody>\n",
       "</table>\n",
       "</div>"
      ],
      "text/plain": [
       "                   rsw        cw        bw       muw       rhow\n",
       "pressure                                                       \n",
       "20.000000     4.851603  0.000003  0.999977  1.205569  62.986943\n",
       "282.105263    6.436610  0.000003  0.999851  1.205569  62.994844\n",
       "544.210526    7.973368  0.000003  0.999693  1.205569  63.004787\n",
       "806.315789    9.461877  0.000003  0.999503  1.205569  63.016777\n",
       "1068.421053  10.902137  0.000003  0.999281  1.205569  63.030814\n",
       "1330.526316  12.294148  0.000003  0.999026  1.205569  63.046901\n",
       "1592.631579  13.637910  0.000003  0.998738  1.205569  63.065043\n",
       "1854.736842  14.933422  0.000003  0.998418  1.205569  63.085242\n",
       "2116.842105  16.180686  0.000003  0.997838  1.205569  63.121969\n",
       "2378.947368  17.379700  0.000003  0.996964  1.205569  63.177301\n",
       "2641.052632  18.530465  0.000003  0.996091  1.205569  63.232626\n",
       "2903.157895  19.632981  0.000003  0.995222  1.205569  63.287855\n",
       "3165.263158  20.687248  0.000003  0.994357  1.205569  63.342900\n",
       "3427.368421  21.693266  0.000003  0.993498  1.205569  63.397676\n",
       "3689.473684  22.651035  0.000003  0.992646  1.205569  63.452099\n",
       "3951.578947  23.560555  0.000003  0.991802  1.205569  63.506089\n",
       "4213.684211  24.421826  0.000003  0.990968  1.205569  63.559566\n",
       "4475.789474  25.234847  0.000003  0.990144  1.205569  63.612452\n",
       "4737.894737  25.999620  0.000003  0.989332  1.205569  63.664674\n",
       "5000.000000  26.716143  0.000003  0.988532  1.205569  63.716157"
      ]
     },
     "execution_count": 27,
     "metadata": {},
     "output_type": "execute_result"
    }
   ],
   "source": [
    "wa1.pvt"
   ]
  },
  {
   "cell_type": "code",
   "execution_count": 29,
   "metadata": {},
   "outputs": [
    {
     "data": {
      "text/html": [
       "<div>\n",
       "<style scoped>\n",
       "    .dataframe tbody tr th:only-of-type {\n",
       "        vertical-align: middle;\n",
       "    }\n",
       "\n",
       "    .dataframe tbody tr th {\n",
       "        vertical-align: top;\n",
       "    }\n",
       "\n",
       "    .dataframe thead th {\n",
       "        text-align: right;\n",
       "    }\n",
       "</style>\n",
       "<table border=\"1\" class=\"dataframe\">\n",
       "  <thead>\n",
       "    <tr style=\"text-align: right;\">\n",
       "      <th></th>\n",
       "      <th>rsw</th>\n",
       "      <th>cw</th>\n",
       "      <th>bw</th>\n",
       "      <th>muw</th>\n",
       "      <th>rhow</th>\n",
       "    </tr>\n",
       "    <tr>\n",
       "      <th>pressure</th>\n",
       "      <th></th>\n",
       "      <th></th>\n",
       "      <th></th>\n",
       "      <th></th>\n",
       "      <th></th>\n",
       "    </tr>\n",
       "  </thead>\n",
       "  <tbody>\n",
       "    <tr>\n",
       "      <th>2500</th>\n",
       "      <td>17.911178</td>\n",
       "      <td>0.000003</td>\n",
       "      <td>0.996561</td>\n",
       "      <td>1.205569</td>\n",
       "      <td>63.202853</td>\n",
       "    </tr>\n",
       "  </tbody>\n",
       "</table>\n",
       "</div>"
      ],
      "text/plain": [
       "                rsw        cw        bw       muw       rhow\n",
       "pressure                                                    \n",
       "2500      17.911178  0.000003  0.996561  1.205569  63.202853"
      ]
     },
     "execution_count": 29,
     "metadata": {},
     "output_type": "execute_result"
    }
   ],
   "source": [
    "wa1.pvt.interpolate(2500)"
   ]
  },
  {
   "cell_type": "code",
   "execution_count": 5,
   "metadata": {},
   "outputs": [],
   "source": [
    "s = 20000\n",
    "p = 5000\n",
    "t = 200\n",
    "rsw = 17.8\n",
    "p_range = np.linspace(1000,5000,10)"
   ]
  },
  {
   "cell_type": "code",
   "execution_count": 6,
   "metadata": {},
   "outputs": [
    {
     "data": {
      "text/html": [
       "<div>\n",
       "<style scoped>\n",
       "    .dataframe tbody tr th:only-of-type {\n",
       "        vertical-align: middle;\n",
       "    }\n",
       "\n",
       "    .dataframe tbody tr th {\n",
       "        vertical-align: top;\n",
       "    }\n",
       "\n",
       "    .dataframe thead th {\n",
       "        text-align: right;\n",
       "    }\n",
       "</style>\n",
       "<table border=\"1\" class=\"dataframe\">\n",
       "  <thead>\n",
       "    <tr style=\"text-align: right;\">\n",
       "      <th></th>\n",
       "      <th>rws_culberson</th>\n",
       "      <th>rsw_mccoy</th>\n",
       "    </tr>\n",
       "    <tr>\n",
       "      <th>pressure</th>\n",
       "      <th></th>\n",
       "      <th></th>\n",
       "    </tr>\n",
       "  </thead>\n",
       "  <tbody>\n",
       "    <tr>\n",
       "      <th>1000.000000</th>\n",
       "      <td>6.162260</td>\n",
       "      <td>6.403561</td>\n",
       "    </tr>\n",
       "    <tr>\n",
       "      <th>1444.444444</th>\n",
       "      <td>8.018636</td>\n",
       "      <td>8.392001</td>\n",
       "    </tr>\n",
       "    <tr>\n",
       "      <th>1888.888889</th>\n",
       "      <td>9.796002</td>\n",
       "      <td>10.197900</td>\n",
       "    </tr>\n",
       "    <tr>\n",
       "      <th>2333.333333</th>\n",
       "      <td>11.494358</td>\n",
       "      <td>11.821259</td>\n",
       "    </tr>\n",
       "    <tr>\n",
       "      <th>2777.777778</th>\n",
       "      <td>13.113703</td>\n",
       "      <td>13.262078</td>\n",
       "    </tr>\n",
       "    <tr>\n",
       "      <th>3222.222222</th>\n",
       "      <td>14.654038</td>\n",
       "      <td>14.520356</td>\n",
       "    </tr>\n",
       "    <tr>\n",
       "      <th>3666.666667</th>\n",
       "      <td>16.115362</td>\n",
       "      <td>15.596093</td>\n",
       "    </tr>\n",
       "    <tr>\n",
       "      <th>4111.111111</th>\n",
       "      <td>17.497676</td>\n",
       "      <td>16.489290</td>\n",
       "    </tr>\n",
       "    <tr>\n",
       "      <th>4555.555556</th>\n",
       "      <td>18.800979</td>\n",
       "      <td>17.199946</td>\n",
       "    </tr>\n",
       "    <tr>\n",
       "      <th>5000.000000</th>\n",
       "      <td>20.025272</td>\n",
       "      <td>17.728061</td>\n",
       "    </tr>\n",
       "  </tbody>\n",
       "</table>\n",
       "</div>"
      ],
      "text/plain": [
       "             rws_culberson  rsw_mccoy\n",
       "pressure                             \n",
       "1000.000000       6.162260   6.403561\n",
       "1444.444444       8.018636   8.392001\n",
       "1888.888889       9.796002  10.197900\n",
       "2333.333333      11.494358  11.821259\n",
       "2777.777778      13.113703  13.262078\n",
       "3222.222222      14.654038  14.520356\n",
       "3666.666667      16.115362  15.596093\n",
       "4111.111111      17.497676  16.489290\n",
       "4555.555556      18.800979  17.199946\n",
       "5000.000000      20.025272  17.728061"
      ]
     },
     "execution_count": 6,
     "metadata": {},
     "output_type": "execute_result"
    }
   ],
   "source": [
    "bl.rsw(p=p_range,t=t,s=s,method=['culberson','mccoy'])"
   ]
  },
  {
   "cell_type": "code",
   "execution_count": 23,
   "metadata": {},
   "outputs": [
    {
     "data": {
      "text/html": [
       "<div>\n",
       "<style scoped>\n",
       "    .dataframe tbody tr th:only-of-type {\n",
       "        vertical-align: middle;\n",
       "    }\n",
       "\n",
       "    .dataframe tbody tr th {\n",
       "        vertical-align: top;\n",
       "    }\n",
       "\n",
       "    .dataframe thead th {\n",
       "        text-align: right;\n",
       "    }\n",
       "</style>\n",
       "<table border=\"1\" class=\"dataframe\">\n",
       "  <thead>\n",
       "    <tr style=\"text-align: right;\">\n",
       "      <th></th>\n",
       "      <th>bw</th>\n",
       "    </tr>\n",
       "    <tr>\n",
       "      <th>pressure</th>\n",
       "      <th></th>\n",
       "    </tr>\n",
       "  </thead>\n",
       "  <tbody>\n",
       "    <tr>\n",
       "      <th>3600</th>\n",
       "      <td>1.030689</td>\n",
       "    </tr>\n",
       "  </tbody>\n",
       "</table>\n",
       "</div>"
      ],
      "text/plain": [
       "                bw\n",
       "pressure          \n",
       "3600      1.030689"
      ]
     },
     "execution_count": 23,
     "metadata": {},
     "output_type": "execute_result"
    }
   ],
   "source": [
    "bl.bw(p=3600,pb=2000,cw=3.6e-6,t=t,s=s,method='mccain')"
   ]
  },
  {
   "cell_type": "code",
   "execution_count": 16,
   "metadata": {},
   "outputs": [
    {
     "data": {
      "text/plain": [
       "array([3.6e-06, 3.6e-06, 3.6e-06, 3.6e-06, 3.6e-06, 3.6e-06, 3.6e-06,\n",
       "       3.6e-06, 3.6e-06, 3.6e-06])"
      ]
     },
     "execution_count": 16,
     "metadata": {},
     "output_type": "execute_result"
    }
   ],
   "source": [
    "np.full(10,3.6e-6)"
   ]
  },
  {
   "cell_type": "code",
   "execution_count": null,
   "metadata": {},
   "outputs": [],
   "source": [
    "bl.cw(p=p_range,t=t,s=s,rsw=rsw,method=['standing','osif'])"
   ]
  },
  {
   "cell_type": "code",
   "execution_count": null,
   "metadata": {},
   "outputs": [],
   "source": [
    "s"
   ]
  },
  {
   "cell_type": "code",
   "execution_count": null,
   "metadata": {},
   "outputs": [],
   "source": [
    "bl.muw(p=p_range,t=t,s=s,method=['russel', 'van_wingen','meehan','brill_beggs'])"
   ]
  },
  {
   "cell_type": "code",
   "execution_count": null,
   "metadata": {},
   "outputs": [],
   "source": [
    "pd.MultiIndex.from_arrays([p_range, np.full(p_range.shape,t)], names=('number', 'color'))"
   ]
  },
  {
   "cell_type": "code",
   "execution_count": null,
   "metadata": {},
   "outputs": [],
   "source": [
    "bl.rhow(p=p, s=s)"
   ]
  },
  {
   "cell_type": "code",
   "execution_count": null,
   "metadata": {},
   "outputs": [],
   "source": []
  }
 ],
 "metadata": {
  "kernelspec": {
   "display_name": "Python 3",
   "language": "python",
   "name": "python3"
  },
  "language_info": {
   "codemirror_mode": {
    "name": "ipython",
    "version": 3
   },
   "file_extension": ".py",
   "mimetype": "text/x-python",
   "name": "python",
   "nbconvert_exporter": "python",
   "pygments_lexer": "ipython3",
   "version": "3.7.5"
  }
 },
 "nbformat": 4,
 "nbformat_minor": 4
}
