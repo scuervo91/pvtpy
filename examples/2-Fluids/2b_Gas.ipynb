{
 "cells": [
  {
   "cell_type": "code",
   "execution_count": 1,
   "metadata": {},
   "outputs": [],
   "source": [
    "from pvtpy.pvt import PVT\n",
    "import pvtpy.black_oil as bk\n",
    "from pvtpy.fluids import Gas, InitialConditions\n",
    "from pvtpy.pvt import PVT, Chromatography\n",
    "import numpy as np\n",
    "import pandas as pd\n",
    "import seaborn as sns"
   ]
  },
  {
   "cell_type": "markdown",
   "metadata": {},
   "source": [
    "# Create a chromatography composition"
   ]
  },
  {
   "cell_type": "code",
   "execution_count": 2,
   "metadata": {},
   "outputs": [
    {
     "output_type": "stream",
     "name": "stdout",
     "text": [
      "    id            name formula  mole_fraction       mw     ppc     tpc\n52  53  carbon-dioxide     CO2           0.02  44.0100  1071.0   87.91\n59  60        nitrogen      N2           0.01  28.0134   493.1 -232.51\n0    1         methane     CH4           0.85  16.0430   666.4 -116.67\n1    2          ethane    C2H6           0.04  30.0700   706.5   89.92\n2    3         propane    C3H8           0.03  44.0970   616.0  206.06\n3    4       isobutane   C4H10           0.03  58.1230   527.9  274.46\n4    5        n-butane   C4H10           0.02  58.1230   550.6  305.62\n"
     ]
    }
   ],
   "source": [
    "\n",
    "components=['carbon-dioxide','nitrogen','methane','ethane','propane','isobutane','n-butane']\n",
    "mole_fraction = [0.02,0.01,0.85,0.04,0.03,0.03,0.02]\n",
    "\n",
    "chr = Chromatography(\n",
    "    components = components,\n",
    "    mole_fraction = mole_fraction\n",
    ")\n",
    "\n",
    "print(chr.df())"
   ]
  },
  {
   "cell_type": "markdown",
   "metadata": {},
   "source": [
    "## Estimate some properties"
   ]
  },
  {
   "cell_type": "markdown",
   "metadata": {},
   "source": [
    "### Apparent Molecular Weigt\n",
    "\n",
    "The apparent Molecular Weight (ma) is calculated by summing the product of molar fraction and molecular weight of each component in the chromatography"
   ]
  },
  {
   "cell_type": "code",
   "execution_count": 3,
   "metadata": {},
   "outputs": [
    {
     "output_type": "execute_result",
     "data": {
      "text/plain": [
       "20.228744"
      ]
     },
     "metadata": {},
     "execution_count": 3
    }
   ],
   "source": [
    "chr.mwa()"
   ]
  },
  {
   "cell_type": "markdown",
   "metadata": {},
   "source": [
    "### Gas specific gravity\n",
    "\n",
    "The Gas specific gravity is calculated by diving the **ma** by the specific gravity of the *air*"
   ]
  },
  {
   "cell_type": "code",
   "execution_count": 4,
   "metadata": {},
   "outputs": [
    {
     "output_type": "execute_result",
     "data": {
      "text/plain": [
       "0.6985063535911602"
      ]
     },
     "metadata": {},
     "execution_count": 4
    }
   ],
   "source": [
    "chr.gas_sg()"
   ]
  },
  {
   "cell_type": "markdown",
   "metadata": {},
   "source": [
    "### Pseudo critical properties\n",
    "\n",
    "The Pseudo critical properties are calulated by summing the product of mole fraction and critical properties (pressure and temperature). By default it corrects the properties by Non-hydrocarbon components with the **wichert-aziz** correlation. "
   ]
  },
  {
   "cell_type": "code",
   "execution_count": 5,
   "metadata": {},
   "outputs": [
    {
     "output_type": "execute_result",
     "data": {
      "text/plain": [
       "CriticalProperties(ppc=695.6353554009818, tpc=-78.93109372795836)"
      ]
     },
     "metadata": {},
     "execution_count": 5
    }
   ],
   "source": [
    "chr.get_pseudo_critical_properties()"
   ]
  },
  {
   "cell_type": "code",
   "execution_count": 6,
   "metadata": {},
   "outputs": [
    {
     "output_type": "execute_result",
     "data": {
      "text/plain": [
       "CriticalProperties(ppc=666.3799999999999, tpc=-75.61160000000001)"
      ]
     },
     "metadata": {},
     "execution_count": 6
    }
   ],
   "source": [
    "chr.get_pseudo_critical_properties(correct=False)"
   ]
  },
  {
   "cell_type": "code",
   "execution_count": 7,
   "metadata": {},
   "outputs": [
    {
     "output_type": "execute_result",
     "data": {
      "text/plain": [
       "CriticalProperties(ppc=673.4799999999998, tpc=-79.7116)"
      ]
     },
     "metadata": {},
     "execution_count": 7
    }
   ],
   "source": [
    "chr.get_pseudo_critical_properties(correct_method='carr_kobayashi_burrows')"
   ]
  },
  {
   "cell_type": "markdown",
   "metadata": {},
   "source": [
    "### Get the compressibility factor of gas\n",
    "\n",
    "Estimate the compressibility factor by estimating the critical properties and applying the default correlation method **papay**"
   ]
  },
  {
   "cell_type": "code",
   "execution_count": 8,
   "metadata": {},
   "outputs": [
    {
     "output_type": "execute_result",
     "data": {
      "text/plain": [
       "                 z\n",
       "pressure          \n",
       "3000      0.873299"
      ],
      "text/html": "<div>\n<style scoped>\n    .dataframe tbody tr th:only-of-type {\n        vertical-align: middle;\n    }\n\n    .dataframe tbody tr th {\n        vertical-align: top;\n    }\n\n    .dataframe thead th {\n        text-align: right;\n    }\n</style>\n<table border=\"1\" class=\"dataframe\">\n  <thead>\n    <tr style=\"text-align: right;\">\n      <th></th>\n      <th>z</th>\n    </tr>\n    <tr>\n      <th>pressure</th>\n      <th></th>\n    </tr>\n  </thead>\n  <tbody>\n    <tr>\n      <th>3000</th>\n      <td>0.873299</td>\n    </tr>\n  </tbody>\n</table>\n</div>"
     },
     "metadata": {},
     "execution_count": 8
    }
   ],
   "source": [
    "chr.get_z(pressure=3000, temperature=180)"
   ]
  },
  {
   "cell_type": "code",
   "execution_count": 9,
   "metadata": {},
   "outputs": [
    {
     "output_type": "execute_result",
     "data": {
      "text/plain": [
       "                    z\n",
       "pressure             \n",
       "1000.000000  0.940261\n",
       "1444.444444  0.919329\n",
       "1888.888889  0.901855\n",
       "2333.333333  0.887839\n",
       "2777.777778  0.877281\n",
       "3222.222222  0.870181\n",
       "3666.666667  0.866539\n",
       "4111.111111  0.866355\n",
       "4555.555556  0.869629\n",
       "5000.000000  0.876361"
      ],
      "text/html": "<div>\n<style scoped>\n    .dataframe tbody tr th:only-of-type {\n        vertical-align: middle;\n    }\n\n    .dataframe tbody tr th {\n        vertical-align: top;\n    }\n\n    .dataframe thead th {\n        text-align: right;\n    }\n</style>\n<table border=\"1\" class=\"dataframe\">\n  <thead>\n    <tr style=\"text-align: right;\">\n      <th></th>\n      <th>z</th>\n    </tr>\n    <tr>\n      <th>pressure</th>\n      <th></th>\n    </tr>\n  </thead>\n  <tbody>\n    <tr>\n      <th>1000.000000</th>\n      <td>0.940261</td>\n    </tr>\n    <tr>\n      <th>1444.444444</th>\n      <td>0.919329</td>\n    </tr>\n    <tr>\n      <th>1888.888889</th>\n      <td>0.901855</td>\n    </tr>\n    <tr>\n      <th>2333.333333</th>\n      <td>0.887839</td>\n    </tr>\n    <tr>\n      <th>2777.777778</th>\n      <td>0.877281</td>\n    </tr>\n    <tr>\n      <th>3222.222222</th>\n      <td>0.870181</td>\n    </tr>\n    <tr>\n      <th>3666.666667</th>\n      <td>0.866539</td>\n    </tr>\n    <tr>\n      <th>4111.111111</th>\n      <td>0.866355</td>\n    </tr>\n    <tr>\n      <th>4555.555556</th>\n      <td>0.869629</td>\n    </tr>\n    <tr>\n      <th>5000.000000</th>\n      <td>0.876361</td>\n    </tr>\n  </tbody>\n</table>\n</div>"
     },
     "metadata": {},
     "execution_count": 9
    }
   ],
   "source": [
    "p_range = np.linspace(1000,5000,10)\n",
    "chr.get_z(pressure=p_range, temperature=180)"
   ]
  },
  {
   "cell_type": "markdown",
   "metadata": {},
   "source": [
    "### Get the gas density in lb/ft3\n",
    "\n",
    "Estimate the gas density by estimating the **ma**, the **z** factor and finnaly applying the gas equation of state for **real gases**"
   ]
  },
  {
   "cell_type": "code",
   "execution_count": 10,
   "metadata": {},
   "outputs": [
    {
     "output_type": "execute_result",
     "data": {
      "text/plain": [
       "              rhog\n",
       "pressure          \n",
       "3000      10.11923"
      ],
      "text/html": "<div>\n<style scoped>\n    .dataframe tbody tr th:only-of-type {\n        vertical-align: middle;\n    }\n\n    .dataframe tbody tr th {\n        vertical-align: top;\n    }\n\n    .dataframe thead th {\n        text-align: right;\n    }\n</style>\n<table border=\"1\" class=\"dataframe\">\n  <thead>\n    <tr style=\"text-align: right;\">\n      <th></th>\n      <th>rhog</th>\n    </tr>\n    <tr>\n      <th>pressure</th>\n      <th></th>\n    </tr>\n  </thead>\n  <tbody>\n    <tr>\n      <th>3000</th>\n      <td>10.11923</td>\n    </tr>\n  </tbody>\n</table>\n</div>"
     },
     "metadata": {},
     "execution_count": 10
    }
   ],
   "source": [
    "chr.get_rhog(pressure=3000,temperature=180)"
   ]
  },
  {
   "cell_type": "code",
   "execution_count": 11,
   "metadata": {},
   "outputs": [
    {
     "output_type": "execute_result",
     "data": {
      "text/plain": [
       "              rhog\n",
       "pressure          \n",
       "3000      8.837114"
      ],
      "text/html": "<div>\n<style scoped>\n    .dataframe tbody tr th:only-of-type {\n        vertical-align: middle;\n    }\n\n    .dataframe tbody tr th {\n        vertical-align: top;\n    }\n\n    .dataframe thead th {\n        text-align: right;\n    }\n</style>\n<table border=\"1\" class=\"dataframe\">\n  <thead>\n    <tr style=\"text-align: right;\">\n      <th></th>\n      <th>rhog</th>\n    </tr>\n    <tr>\n      <th>pressure</th>\n      <th></th>\n    </tr>\n  </thead>\n  <tbody>\n    <tr>\n      <th>3000</th>\n      <td>8.837114</td>\n    </tr>\n  </tbody>\n</table>\n</div>"
     },
     "metadata": {},
     "execution_count": 11
    }
   ],
   "source": [
    "chr.get_rhog(pressure=3000,temperature=180, rhog_method='ideal_gas')"
   ]
  },
  {
   "cell_type": "code",
   "execution_count": 12,
   "metadata": {},
   "outputs": [
    {
     "output_type": "execute_result",
     "data": {
      "text/plain": [
       "                  rhog\n",
       "pressure              \n",
       "1000.000000   3.132860\n",
       "1444.444444   4.628275\n",
       "1888.888889   6.169627\n",
       "2333.333333   7.741617\n",
       "2777.777778   9.327126\n",
       "3222.222222  10.907744\n",
       "3666.666667  12.464429\n",
       "4111.111111  13.978238\n",
       "4555.555556  15.431087\n",
       "5000.000000  16.806461"
      ],
      "text/html": "<div>\n<style scoped>\n    .dataframe tbody tr th:only-of-type {\n        vertical-align: middle;\n    }\n\n    .dataframe tbody tr th {\n        vertical-align: top;\n    }\n\n    .dataframe thead th {\n        text-align: right;\n    }\n</style>\n<table border=\"1\" class=\"dataframe\">\n  <thead>\n    <tr style=\"text-align: right;\">\n      <th></th>\n      <th>rhog</th>\n    </tr>\n    <tr>\n      <th>pressure</th>\n      <th></th>\n    </tr>\n  </thead>\n  <tbody>\n    <tr>\n      <th>1000.000000</th>\n      <td>3.132860</td>\n    </tr>\n    <tr>\n      <th>1444.444444</th>\n      <td>4.628275</td>\n    </tr>\n    <tr>\n      <th>1888.888889</th>\n      <td>6.169627</td>\n    </tr>\n    <tr>\n      <th>2333.333333</th>\n      <td>7.741617</td>\n    </tr>\n    <tr>\n      <th>2777.777778</th>\n      <td>9.327126</td>\n    </tr>\n    <tr>\n      <th>3222.222222</th>\n      <td>10.907744</td>\n    </tr>\n    <tr>\n      <th>3666.666667</th>\n      <td>12.464429</td>\n    </tr>\n    <tr>\n      <th>4111.111111</th>\n      <td>13.978238</td>\n    </tr>\n    <tr>\n      <th>4555.555556</th>\n      <td>15.431087</td>\n    </tr>\n    <tr>\n      <th>5000.000000</th>\n      <td>16.806461</td>\n    </tr>\n  </tbody>\n</table>\n</div>"
     },
     "metadata": {},
     "execution_count": 12
    }
   ],
   "source": [
    "chr.get_rhog(pressure=np.linspace(1000,5000,10),temperature=180,rhog_method='real_gas')"
   ]
  },
  {
   "cell_type": "markdown",
   "metadata": {},
   "source": [
    "### Estimate the Specific volume of Gas. \n",
    "\n",
    "Get the specific volume by estimate the inverse of the density"
   ]
  },
  {
   "cell_type": "code",
   "execution_count": 13,
   "metadata": {},
   "outputs": [
    {
     "output_type": "execute_result",
     "data": {
      "text/plain": [
       "pressure\n",
       "3000    0.113159\n",
       "Name: sv, dtype: float64"
      ]
     },
     "metadata": {},
     "execution_count": 13
    }
   ],
   "source": [
    "chr.get_sv(pressure=3000,temperature=180, rhog_method='ideal_gas')"
   ]
  },
  {
   "cell_type": "code",
   "execution_count": 14,
   "metadata": {},
   "outputs": [
    {
     "output_type": "execute_result",
     "data": {
      "text/plain": [
       "pressure\n",
       "3000    0.098822\n",
       "Name: sv, dtype: float64"
      ]
     },
     "metadata": {},
     "execution_count": 14
    }
   ],
   "source": [
    "chr.get_sv(pressure=3000,temperature=180, rhog_method='real_gas')"
   ]
  },
  {
   "cell_type": "markdown",
   "metadata": {},
   "source": [
    "# Create the Gas object"
   ]
  },
  {
   "cell_type": "code",
   "execution_count": 15,
   "metadata": {},
   "outputs": [],
   "source": [
    "init = InitialConditions(pressure=3600, temperature=160)"
   ]
  },
  {
   "cell_type": "code",
   "execution_count": 16,
   "metadata": {},
   "outputs": [],
   "source": [
    "gas1 = Gas(\n",
    "    initial_conditions=init,sg=0.6,\n",
    "    chromatography=chr\n",
    ")\n"
   ]
  },
  {
   "cell_type": "code",
   "execution_count": 17,
   "metadata": {},
   "outputs": [
    {
     "output_type": "execute_result",
     "data": {
      "text/plain": [
       "CriticalProperties(ppc=695.6353554009818, tpc=-78.93109372795836)"
      ]
     },
     "metadata": {},
     "execution_count": 17
    }
   ],
   "source": [
    "gas1.pseudo_critical_properties()"
   ]
  },
  {
   "cell_type": "code",
   "execution_count": 18,
   "metadata": {},
   "outputs": [
    {
     "output_type": "execute_result",
     "data": {
      "text/plain": [
       "                    z       rhog        bg       mug        cg\n",
       "pressure                                                      \n",
       "20.000000    0.998462   0.060908  0.155690  0.012481  0.050000\n",
       "282.105263   0.979014   0.876193  0.010823  0.012693  0.003545\n",
       "544.210526   0.960894   1.722143  0.005506  0.013021  0.001838\n",
       "806.315789   0.944100   2.596956  0.003652  0.013438  0.001240\n",
       "1068.421053  0.928634   3.498446  0.002711  0.013938  0.000936\n",
       "1330.526316  0.914496   4.424043  0.002143  0.014522  0.000752\n",
       "1592.631579  0.901684   5.370792  0.001766  0.015193  0.000628\n",
       "1854.736842  0.890200   6.335374  0.001497  0.015955  0.000539\n",
       "2116.842105  0.880043   7.314121  0.001297  0.016811  0.000472\n",
       "2378.947368  0.871213   8.303056  0.001142  0.017768  0.000420\n",
       "2641.052632  0.863710   9.297932  0.001020  0.018828  0.000379\n",
       "2903.157895  0.857535  10.294287  0.000921  0.019997  0.000344\n",
       "3165.263158  0.852687  11.287499  0.000840  0.021278  0.000316\n",
       "3427.368421  0.849166  12.272857  0.000773  0.022671  0.000292\n",
       "3689.473684  0.846972  13.245632  0.000716  0.024179  0.000271\n",
       "3951.578947  0.846106  14.201148  0.000668  0.025798  0.000253\n",
       "4213.684211  0.846567  15.134858  0.000627  0.027525  0.000237\n",
       "4475.789474  0.848355  16.042415  0.000591  0.029353  0.000223\n",
       "4737.894737  0.851470  16.919739  0.000560  0.031273  0.000211\n",
       "5000.000000  0.855912  17.763080  0.000534  0.033272  0.000200"
      ],
      "text/html": "<div>\n<style scoped>\n    .dataframe tbody tr th:only-of-type {\n        vertical-align: middle;\n    }\n\n    .dataframe tbody tr th {\n        vertical-align: top;\n    }\n\n    .dataframe thead th {\n        text-align: right;\n    }\n</style>\n<table border=\"1\" class=\"dataframe\">\n  <thead>\n    <tr style=\"text-align: right;\">\n      <th></th>\n      <th>z</th>\n      <th>rhog</th>\n      <th>bg</th>\n      <th>mug</th>\n      <th>cg</th>\n    </tr>\n    <tr>\n      <th>pressure</th>\n      <th></th>\n      <th></th>\n      <th></th>\n      <th></th>\n      <th></th>\n    </tr>\n  </thead>\n  <tbody>\n    <tr>\n      <th>20.000000</th>\n      <td>0.998462</td>\n      <td>0.060908</td>\n      <td>0.155690</td>\n      <td>0.012481</td>\n      <td>0.050000</td>\n    </tr>\n    <tr>\n      <th>282.105263</th>\n      <td>0.979014</td>\n      <td>0.876193</td>\n      <td>0.010823</td>\n      <td>0.012693</td>\n      <td>0.003545</td>\n    </tr>\n    <tr>\n      <th>544.210526</th>\n      <td>0.960894</td>\n      <td>1.722143</td>\n      <td>0.005506</td>\n      <td>0.013021</td>\n      <td>0.001838</td>\n    </tr>\n    <tr>\n      <th>806.315789</th>\n      <td>0.944100</td>\n      <td>2.596956</td>\n      <td>0.003652</td>\n      <td>0.013438</td>\n      <td>0.001240</td>\n    </tr>\n    <tr>\n      <th>1068.421053</th>\n      <td>0.928634</td>\n      <td>3.498446</td>\n      <td>0.002711</td>\n      <td>0.013938</td>\n      <td>0.000936</td>\n    </tr>\n    <tr>\n      <th>1330.526316</th>\n      <td>0.914496</td>\n      <td>4.424043</td>\n      <td>0.002143</td>\n      <td>0.014522</td>\n      <td>0.000752</td>\n    </tr>\n    <tr>\n      <th>1592.631579</th>\n      <td>0.901684</td>\n      <td>5.370792</td>\n      <td>0.001766</td>\n      <td>0.015193</td>\n      <td>0.000628</td>\n    </tr>\n    <tr>\n      <th>1854.736842</th>\n      <td>0.890200</td>\n      <td>6.335374</td>\n      <td>0.001497</td>\n      <td>0.015955</td>\n      <td>0.000539</td>\n    </tr>\n    <tr>\n      <th>2116.842105</th>\n      <td>0.880043</td>\n      <td>7.314121</td>\n      <td>0.001297</td>\n      <td>0.016811</td>\n      <td>0.000472</td>\n    </tr>\n    <tr>\n      <th>2378.947368</th>\n      <td>0.871213</td>\n      <td>8.303056</td>\n      <td>0.001142</td>\n      <td>0.017768</td>\n      <td>0.000420</td>\n    </tr>\n    <tr>\n      <th>2641.052632</th>\n      <td>0.863710</td>\n      <td>9.297932</td>\n      <td>0.001020</td>\n      <td>0.018828</td>\n      <td>0.000379</td>\n    </tr>\n    <tr>\n      <th>2903.157895</th>\n      <td>0.857535</td>\n      <td>10.294287</td>\n      <td>0.000921</td>\n      <td>0.019997</td>\n      <td>0.000344</td>\n    </tr>\n    <tr>\n      <th>3165.263158</th>\n      <td>0.852687</td>\n      <td>11.287499</td>\n      <td>0.000840</td>\n      <td>0.021278</td>\n      <td>0.000316</td>\n    </tr>\n    <tr>\n      <th>3427.368421</th>\n      <td>0.849166</td>\n      <td>12.272857</td>\n      <td>0.000773</td>\n      <td>0.022671</td>\n      <td>0.000292</td>\n    </tr>\n    <tr>\n      <th>3689.473684</th>\n      <td>0.846972</td>\n      <td>13.245632</td>\n      <td>0.000716</td>\n      <td>0.024179</td>\n      <td>0.000271</td>\n    </tr>\n    <tr>\n      <th>3951.578947</th>\n      <td>0.846106</td>\n      <td>14.201148</td>\n      <td>0.000668</td>\n      <td>0.025798</td>\n      <td>0.000253</td>\n    </tr>\n    <tr>\n      <th>4213.684211</th>\n      <td>0.846567</td>\n      <td>15.134858</td>\n      <td>0.000627</td>\n      <td>0.027525</td>\n      <td>0.000237</td>\n    </tr>\n    <tr>\n      <th>4475.789474</th>\n      <td>0.848355</td>\n      <td>16.042415</td>\n      <td>0.000591</td>\n      <td>0.029353</td>\n      <td>0.000223</td>\n    </tr>\n    <tr>\n      <th>4737.894737</th>\n      <td>0.851470</td>\n      <td>16.919739</td>\n      <td>0.000560</td>\n      <td>0.031273</td>\n      <td>0.000211</td>\n    </tr>\n    <tr>\n      <th>5000.000000</th>\n      <td>0.855912</td>\n      <td>17.763080</td>\n      <td>0.000534</td>\n      <td>0.033272</td>\n      <td>0.000200</td>\n    </tr>\n  </tbody>\n</table>\n</div>"
     },
     "metadata": {},
     "execution_count": 18
    }
   ],
   "source": [
    "gas1.pvt_from_correlations()\n",
    "gas1.pvt.df()"
   ]
  }
 ],
 "metadata": {
  "kernelspec": {
   "name": "python3",
   "display_name": "Python 3.8.10 64-bit ('pvtpy': conda)"
  },
  "language_info": {
   "codemirror_mode": {
    "name": "ipython",
    "version": 3
   },
   "file_extension": ".py",
   "mimetype": "text/x-python",
   "name": "python",
   "nbconvert_exporter": "python",
   "pygments_lexer": "ipython3",
   "version": "3.8.10"
  },
  "interpreter": {
   "hash": "c2412f2860ef08ecfc6ffbe66d86f9328a9706bdf5bd84042edf15bb644253f5"
  }
 },
 "nbformat": 4,
 "nbformat_minor": 4
}