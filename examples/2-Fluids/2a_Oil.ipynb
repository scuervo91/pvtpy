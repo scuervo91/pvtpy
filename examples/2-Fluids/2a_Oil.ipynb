{
 "metadata": {
  "language_info": {
   "codemirror_mode": {
    "name": "ipython",
    "version": 3
   },
   "file_extension": ".py",
   "mimetype": "text/x-python",
   "name": "python",
   "nbconvert_exporter": "python",
   "pygments_lexer": "ipython3",
   "version": "3.8.10"
  },
  "orig_nbformat": 4,
  "kernelspec": {
   "name": "python3",
   "display_name": "Python 3.8.10 64-bit ('pvtpy': conda)"
  },
  "interpreter": {
   "hash": "c2412f2860ef08ecfc6ffbe66d86f9328a9706bdf5bd84042edf15bb644253f5"
  }
 },
 "nbformat": 4,
 "nbformat_minor": 2,
 "cells": [
  {
   "source": [
    "# Oil Model\n",
    "\n",
    "You can create `Oil`, `Gas` and `Water` Python Objects that contain the main information that allow to characterize the fluid. They can contain, PVT, Chromatography, gravity among other values specific to the fluid. \n",
    "\n",
    "By creating an `Oil` object you can obtain a PVT table throughout common correlations described by Ahmed (Reservoir Engineering Handbook & Equation of State and PVT Analysis ) and by Banzer (Correlaciones Numéricas PVT)\n"
   ],
   "cell_type": "markdown",
   "metadata": {}
  },
  {
   "cell_type": "code",
   "execution_count": 1,
   "metadata": {},
   "outputs": [],
   "source": [
    "from pvtpy.pvt import PVT\n",
    "import pvtpy.black_oil as bk\n",
    "from pvtpy.fluids import Oil, InitialConditions\n",
    "import numpy as np\n",
    "import pandas as pd"
   ]
  },
  {
   "source": [
    "## Initial Conditions.\n",
    "\n",
    "It is required to provide initial conditions "
   ],
   "cell_type": "markdown",
   "metadata": {}
  },
  {
   "cell_type": "code",
   "execution_count": 2,
   "metadata": {},
   "outputs": [],
   "source": [
    "init = InitialConditions(pressure=3600, temperature=160)"
   ]
  },
  {
   "cell_type": "code",
   "execution_count": 3,
   "metadata": {},
   "outputs": [
    {
     "output_type": "execute_result",
     "data": {
      "text/plain": [
       "Oil(initial_conditions=InitialConditions(pressure=3600.0, temperature=160.0, pressure_unit=<PressureUnits.psi: 'psi'>, temperature_unit=<TemperatureUnits.farenheit: 'farenheit'>), pvt=None, chromatography=None, api=31.0, sulphur=None, pb=None, rsb=675.0, sg_gas=0.95)"
      ]
     },
     "metadata": {},
     "execution_count": 3
    }
   ],
   "source": [
    "oil1 = Oil(\n",
    "    initial_conditions=init,\n",
    "    api = 31,\n",
    "    rsb = 675,\n",
    "    sg_gas = 0.95\n",
    ")\n",
    "oil1"
   ]
  },
  {
   "source": [
    "Once created an Oil object without a PVT, you can generate a tabulated table with the main properties using PVT correlations. \n",
    "\n",
    "To set the the correlations to be used initialize an instance of `bk.SetOilCorrelations'. By default it has certain correlations "
   ],
   "cell_type": "markdown",
   "metadata": {}
  },
  {
   "cell_type": "code",
   "execution_count": 4,
   "metadata": {},
   "outputs": [
    {
     "output_type": "execute_result",
     "data": {
      "text/plain": [
       "{'pb': <pb_correlations.standing: 'standing'>,\n",
       " 'rs': <rs_correlations.standing: 'standing'>,\n",
       " 'bo': <bo_correlations.standing: 'standing'>,\n",
       " 'co_above': <co_above_correlations.vazquez_beggs: 'vazquez_beggs'>,\n",
       " 'co_below': <co_below_correlations.mccain: 'mccain'>,\n",
       " 'muod': <muod_correlations.beal: 'beal'>,\n",
       " 'muo_above': <muo_above_correlations.beal: 'beal'>,\n",
       " 'muo_below': <muo_below_correlations.beggs: 'beggs'>,\n",
       " 'rho': <rho_correlations.banzer: 'banzer'>}"
      ]
     },
     "metadata": {},
     "execution_count": 4
    }
   ],
   "source": [
    "cor = bk.SetOilCorrelations()\n",
    "cor.dict()"
   ]
  },
  {
   "cell_type": "code",
   "execution_count": 5,
   "metadata": {},
   "outputs": [
    {
     "output_type": "stream",
     "name": "stdout",
     "text": [
      "                     rs        bo        co       muo        rho\npressure                                                        \n20.000000      5.602383  1.047588  0.018631  3.330836  51.875318\n282.105263    56.044317  1.070135  0.000401  2.436717  51.335948\n544.210526   117.767263  1.098994  0.000155  1.866558  50.638004\n806.315789   185.809048  1.132172  0.000088  1.504645  49.838031\n1068.421053  258.458881  1.168944  0.000058  1.259988  48.964359\n1330.526316  334.795512  1.208885  0.000042  1.085106  48.037661\n1592.631579  414.232449  1.251699  0.000033  0.954407  47.074201\n1854.736842  496.359618  1.297160  0.000026  0.853222  46.087010\n2116.842105  580.872327  1.345091  0.000022  0.772638  45.086554\n2378.947368  667.534273  1.395343  0.000018  0.706964  44.081202\n2641.052632  674.929091  1.399680  0.000015  0.717353  43.910709\n2903.157895  674.929091  1.399680  0.000014  0.729161  43.768090\n3165.263158  674.929091  1.399680  0.000013  0.740968  43.649446\n3427.368421  674.929091  1.399680  0.000012  0.752776  43.549200\n3689.473684  674.929091  1.399680  0.000011  0.764584  43.463380\n3951.578947  674.929091  1.399680  0.000010  0.776391  43.389083\n4213.684211  674.929091  1.399680  0.000009  0.788199  43.324132\n4475.789474  674.929091  1.399680  0.000009  0.800006  43.266870\n4737.894737  674.929091  1.399680  0.000008  0.811814  43.216006\n5000.000000  674.929091  1.399680  0.000008  0.823622  43.170527\n"
     ]
    }
   ],
   "source": [
    "oil1.pvt_from_correlation(start_pressure=20, end_pressure=5000, n=20, correlations=cor)\n",
    "\n",
    "print(oil1.pvt.df())"
   ]
  },
  {
   "cell_type": "code",
   "execution_count": 7,
   "metadata": {},
   "outputs": [
    {
     "output_type": "execute_result",
     "data": {
      "text/plain": [
       "                  rs        bo        co       muo        rho\n",
       "pressure                                                     \n",
       "500       107.356163  1.094126  0.000196  1.962729  50.755729\n",
       "1500      386.158351  1.236568  0.000036  1.000598  47.414701\n",
       "2500      670.949550  1.397346  0.000017  0.711762  44.002460\n",
       "3500      674.929091  1.399680  0.000011  0.756048  43.525419"
      ],
      "text/html": "<div>\n<style scoped>\n    .dataframe tbody tr th:only-of-type {\n        vertical-align: middle;\n    }\n\n    .dataframe tbody tr th {\n        vertical-align: top;\n    }\n\n    .dataframe thead th {\n        text-align: right;\n    }\n</style>\n<table border=\"1\" class=\"dataframe\">\n  <thead>\n    <tr style=\"text-align: right;\">\n      <th></th>\n      <th>rs</th>\n      <th>bo</th>\n      <th>co</th>\n      <th>muo</th>\n      <th>rho</th>\n    </tr>\n    <tr>\n      <th>pressure</th>\n      <th></th>\n      <th></th>\n      <th></th>\n      <th></th>\n      <th></th>\n    </tr>\n  </thead>\n  <tbody>\n    <tr>\n      <th>500</th>\n      <td>107.356163</td>\n      <td>1.094126</td>\n      <td>0.000196</td>\n      <td>1.962729</td>\n      <td>50.755729</td>\n    </tr>\n    <tr>\n      <th>1500</th>\n      <td>386.158351</td>\n      <td>1.236568</td>\n      <td>0.000036</td>\n      <td>1.000598</td>\n      <td>47.414701</td>\n    </tr>\n    <tr>\n      <th>2500</th>\n      <td>670.949550</td>\n      <td>1.397346</td>\n      <td>0.000017</td>\n      <td>0.711762</td>\n      <td>44.002460</td>\n    </tr>\n    <tr>\n      <th>3500</th>\n      <td>674.929091</td>\n      <td>1.399680</td>\n      <td>0.000011</td>\n      <td>0.756048</td>\n      <td>43.525419</td>\n    </tr>\n  </tbody>\n</table>\n</div>"
     },
     "metadata": {},
     "execution_count": 7
    }
   ],
   "source": [
    "oil1.pvt.interpolate([500,1500,2500,3500])"
   ]
  },
  {
   "cell_type": "code",
   "execution_count": null,
   "metadata": {},
   "outputs": [],
   "source": []
  }
 ]
}