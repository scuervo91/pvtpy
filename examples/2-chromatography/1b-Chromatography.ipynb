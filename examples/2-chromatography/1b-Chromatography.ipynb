{
 "metadata": {
  "language_info": {
   "codemirror_mode": {
    "name": "ipython",
    "version": 3
   },
   "file_extension": ".py",
   "mimetype": "text/x-python",
   "name": "python",
   "nbconvert_exporter": "python",
   "pygments_lexer": "ipython3",
   "version": "3.8.10"
  },
  "orig_nbformat": 4,
  "kernelspec": {
   "name": "python3",
   "display_name": "Python 3.8.10 64-bit ('pvtpy': conda)"
  },
  "interpreter": {
   "hash": "c2412f2860ef08ecfc6ffbe66d86f9328a9706bdf5bd84042edf15bb644253f5"
  }
 },
 "nbformat": 4,
 "nbformat_minor": 2,
 "cells": [
  {
   "source": [
    "# Chromatography Object \n",
    "\n",
    "You can define a Chromatography object by providing a tabulated data indexed by pressure. "
   ],
   "cell_type": "markdown",
   "metadata": {}
  },
  {
   "cell_type": "code",
   "execution_count": 1,
   "metadata": {},
   "outputs": [],
   "source": [
    "from pvtpy.compositional import Chromatography, properties_df\n",
    "import numpy as np\n",
    "import pandas as pd"
   ]
  },
  {
   "source": [
    "Pvtpy has built-in a dataframe with 64 components and its critical values. You can display the properties values with the `properties_df` object"
   ],
   "cell_type": "markdown",
   "metadata": {}
  },
  {
   "cell_type": "code",
   "execution_count": 2,
   "metadata": {},
   "outputs": [
    {
     "output_type": "stream",
     "name": "stdout",
     "text": [
      "    id                  name formula       mw    ppc     tpc\n0    1               methane     CH4   16.043  666.4 -116.67\n1    2                ethane    C2H6   30.070  706.5   89.92\n2    3               propane    C3H8   44.097  616.0  206.06\n3    4             isobutane   C4H10   58.123  527.9  274.46\n4    5              n-butane   C4H10   58.123  550.6  305.62\n5    6            isopentane   C5H12   72.150  490.4  369.10\n6    7             n-pentane   C5H12   73.150  488.6  385.80\n7    8            neopentane   C5H12   74.150  464.0  321.13\n8    9              n-hexane   C6H14   86.177  436.9  453.60\n9   10     2-methyl-penthane   C6H14   86.177  436.6  435.83\n10  11     3-methyl-penthane   C6H14   86.177  453.1  448.40\n11  12             neohexane   C6H14   86.177  446.8  420.13\n12  13   2-3-dimethyl-butane   C6H14   86.177  453.5  440.29\n13  14             n-heptane   C7H16  100.204  396.8  512.70\n14  15       2-methyl-hexane   C7H16  100.204  396.5  495.00\n15  16       3-methyl-hexane   C7H16  100.204  408.1  503.80\n16  17        3-ethylpentane   C7H16  100.204  419.3  513.39\n17  18  2-2-dimethyl-pentane   C7H16  100.204  402.1  477.23\n18  19  2-4-dimethyl-pentane   C7H16  100.204  396.9  475.95\n19  20  3-3-dimethyl-pentane   C7H16  100.204  427.2  505.87\n"
     ]
    }
   ],
   "source": [
    "print(properties_df.head(20))"
   ]
  },
  {
   "source": [
    "Having the properties table, you can build a custom Chromatography table by providing the componets id, name or symbol and the mole fraction"
   ],
   "cell_type": "markdown",
   "metadata": {}
  },
  {
   "source": [
    "Construct by its name"
   ],
   "cell_type": "markdown",
   "metadata": {}
  },
  {
   "cell_type": "code",
   "execution_count": 3,
   "metadata": {},
   "outputs": [
    {
     "output_type": "execute_result",
     "data": {
      "text/plain": [
       "  id       name formula  mole_fraction      mw    ppc     tpc\n",
       "0  1    methane     CH4           0.90  16.043  666.4 -116.67\n",
       "1  2     ethane    C2H6           0.07  30.070  706.5   89.92\n",
       "2  3    propane    C3H8           0.02  44.097  616.0  206.06\n",
       "3  4  isobutane   C4H10           0.01  58.123  527.9  274.46"
      ],
      "text/html": "<div>\n<style scoped>\n    .dataframe tbody tr th:only-of-type {\n        vertical-align: middle;\n    }\n\n    .dataframe tbody tr th {\n        vertical-align: top;\n    }\n\n    .dataframe thead th {\n        text-align: right;\n    }\n</style>\n<table border=\"1\" class=\"dataframe\">\n  <thead>\n    <tr style=\"text-align: right;\">\n      <th></th>\n      <th>id</th>\n      <th>name</th>\n      <th>formula</th>\n      <th>mole_fraction</th>\n      <th>mw</th>\n      <th>ppc</th>\n      <th>tpc</th>\n    </tr>\n  </thead>\n  <tbody>\n    <tr>\n      <th>0</th>\n      <td>1</td>\n      <td>methane</td>\n      <td>CH4</td>\n      <td>0.90</td>\n      <td>16.043</td>\n      <td>666.4</td>\n      <td>-116.67</td>\n    </tr>\n    <tr>\n      <th>1</th>\n      <td>2</td>\n      <td>ethane</td>\n      <td>C2H6</td>\n      <td>0.07</td>\n      <td>30.070</td>\n      <td>706.5</td>\n      <td>89.92</td>\n    </tr>\n    <tr>\n      <th>2</th>\n      <td>3</td>\n      <td>propane</td>\n      <td>C3H8</td>\n      <td>0.02</td>\n      <td>44.097</td>\n      <td>616.0</td>\n      <td>206.06</td>\n    </tr>\n    <tr>\n      <th>3</th>\n      <td>4</td>\n      <td>isobutane</td>\n      <td>C4H10</td>\n      <td>0.01</td>\n      <td>58.123</td>\n      <td>527.9</td>\n      <td>274.46</td>\n    </tr>\n  </tbody>\n</table>\n</div>"
     },
     "metadata": {},
     "execution_count": 3
    }
   ],
   "source": [
    "chr1 = Chromatography(\n",
    "    components = ['methane','ethane','propane','isobutane'],\n",
    "    mole_fraction=[0.90,0.07,0.02,0.01]\n",
    ")\n",
    "\n",
    "chr1.df()"
   ]
  },
  {
   "source": [
    "By default, the mole_fraction provided is normalized to sum 1. "
   ],
   "cell_type": "markdown",
   "metadata": {}
  },
  {
   "cell_type": "code",
   "execution_count": 4,
   "metadata": {},
   "outputs": [
    {
     "output_type": "stream",
     "name": "stdout",
     "text": [
      "  id       name formula  mole_fraction      mw    ppc     tpc\n0  1    methane     CH4       0.898204  16.043  666.4 -116.67\n1  2     ethane    C2H6       0.069860  30.070  706.5   89.92\n2  3    propane    C3H8       0.019960  44.097  616.0  206.06\n3  4  isobutane   C4H10       0.011976  58.123  527.9  274.46\n"
     ]
    }
   ],
   "source": [
    "chr2 = Chromatography(\n",
    "    components = ['methane','ethane','propane','isobutane'],\n",
    "    mole_fraction=[0.90,0.07,0.02,0.012]\n",
    ")\n",
    "\n",
    "print(chr2.df(normalize=True))\n"
   ]
  },
  {
   "source": [
    "chr2.mwa()"
   ],
   "cell_type": "code",
   "metadata": {},
   "execution_count": 5,
   "outputs": [
    {
     "output_type": "execute_result",
     "data": {
      "text/plain": [
       "18.08684231536926"
      ]
     },
     "metadata": {},
     "execution_count": 5
    }
   ]
  },
  {
   "cell_type": "code",
   "execution_count": null,
   "metadata": {},
   "outputs": [],
   "source": []
  }
 ]
}