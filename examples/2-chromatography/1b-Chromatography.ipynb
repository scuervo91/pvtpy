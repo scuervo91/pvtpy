{
 "metadata": {
  "language_info": {
   "codemirror_mode": {
    "name": "ipython",
    "version": 3
   },
   "file_extension": ".py",
   "mimetype": "text/x-python",
   "name": "python",
   "nbconvert_exporter": "python",
   "pygments_lexer": "ipython3",
   "version": "3.8.10"
  },
  "orig_nbformat": 4,
  "kernelspec": {
   "name": "python3",
   "display_name": "Python 3.8.10 64-bit ('pvtpy': conda)"
  },
  "interpreter": {
   "hash": "c2412f2860ef08ecfc6ffbe66d86f9328a9706bdf5bd84042edf15bb644253f5"
  }
 },
 "nbformat": 4,
 "nbformat_minor": 2,
 "cells": [
  {
   "source": [
    "# Chromatography Object \n",
    "\n",
    "You can define a Chromatography object by providing a tabulated data indexed by pressure. "
   ],
   "cell_type": "markdown",
   "metadata": {}
  },
  {
   "cell_type": "code",
   "execution_count": 1,
   "metadata": {},
   "outputs": [],
   "source": [
    "from pvtpy.compositional import Chromatography, properties_df\n",
    "import numpy as np\n",
    "import pandas as pd"
   ]
  },
  {
   "source": [
    "Pvtpy has built-in a dataframe with 64 components and its critical values. You can display the properties values with the `properties_df` object which is a simple dataframe."
   ],
   "cell_type": "markdown",
   "metadata": {}
  },
  {
   "cell_type": "code",
   "execution_count": 2,
   "metadata": {},
   "outputs": [
    {
     "output_type": "stream",
     "name": "stdout",
     "text": [
      "                                        iupac_key  \\\nname                                                \nmethane               VNWKTOKETHGBQD-UHFFFAOYSA-N   \nethane                OTMSDBZUPAUEDD-UHFFFAOYSA-N   \npropane               ATUOYWHBWRKTHZ-UHFFFAOYSA-N   \nisobutane             NNPPMTNAJDCUHE-UHFFFAOYSA-N   \nbutane                IJDNQMDRQITEOD-UHFFFAOYSA-N   \nisopentane            QWTDNUCVQCZILF-UHFFFAOYSA-N   \npentane               OFBQJSOFQDEBGM-UHFFFAOYSA-N   \nneopentane            CRSOQBOWXPBRES-UHFFFAOYSA-N   \nn-hexane              VLKZOEOYAKHREP-UHFFFAOYSA-N   \n2-methyl-pentane      AFABGHUZZDYHJO-UHFFFAOYSA-N   \n3-methyl-penthane     PFEOZHBOMNWTJB-UHFFFAOYSA-N   \nneohexane             HNRMPXKDFBEGFZ-UHFFFAOYSA-N   \n2-3-dimethyl-butane   ZFFMLCVRJBZUDZ-UHFFFAOYSA-N   \nn-heptane             IMNFDUFMRHMDMM-UHFFFAOYSA-N   \n2-methyl-hexane       GXDHCNNESPLIKD-UHFFFAOYSA-N   \n3-methyl-hexane       VLJXXKKOSFGPHI-UHFFFAOYSA-N   \n3-ethylpentane        AORMDLNPRGXHHL-UHFFFAOYSA-N   \n2-2-dimethyl-pentane  CXOWYJMDMMMMJO-UHFFFAOYSA-N   \n2-4-dimethyl-pentane  BZHMBWZPUJHVEE-UHFFFAOYSA-N   \n3-3-dimethyl-pentane  AEXMKKGTQYQZCS-UHFFFAOYSA-N   \n\n                                                        iupac       cas  \\\nname                                                                      \nmethane                                           1S/CH4/h1H4   74-82-8   \nethane                                    1S/C2H6/c1-2/h1-2H3   74-84-0   \npropane                             1S/C3H8/c1-3-2/h3H2;1-2H3   74-98-6   \nisobutane                         1S/C4H10/c1-4(2)3/h4H;1-3H3   75-28-5   \nbutane                         1S/C4H10/c1-3-4-2/h3-4H2;1-2H3  106-97-8   \nisopentane                  1S/C5H12/c1-4-5(2)3/h5H;4H2;1-3H3   78-78-4   \npentane                      1S/C5H12/c1-3-5-4-2/h3-5H2;1-2H3  109-66-0   \nneopentane                         1S/C5H12/c1-5(2;3)4/h1-4H3  463-82-1   \nn-hexane                   1S/C6H14/c1-3-5-6-4-2/h3-6H2;1-2H3  110-54-3   \n2-methyl-pentane        1S/C6H14/c1-4-5-6(2)3/h6H;4-5H2;1-3H3  107-83-5   \n3-methyl-penthane       1S/C6H14/c1-4-6(3)5-2/h6H;4-5H2;1-3H3   96-14-0   \nneohexane                    1S/C6H14/c1-5-6(2;3)4/h5H2;1-4H3   75-83-2   \n2-3-dimethyl-butane         1S/C6H14/c1-5(2)6(3)4/h5-6H;1-4H3   79-29-8   \nn-heptane                1S/C7H16/c1-3-5-7-6-4-2/h3-7H2;1-2H3  142-82-5   \n2-methyl-hexane       1S/C7H16/c1-4-5-6-7(2)3/h7H;4-6H2;1-3H3  591-76-4   \n3-methyl-hexane       1S/C7H16/c1-4-6-7(3)5-2/h7H;4-6H2;1-3H3  589-34-4   \n3-ethylpentane        1S/C7H16/c1-4-7(5-2)6-3/h7H;4-6H2;1-3H3  617-78-7   \n2-2-dimethyl-pentane     1S/C7H16/c1-5-6-7(2;3)4/h5-6H2;1-4H3  590-35-2   \n2-4-dimethyl-pentane  1S/C7H16/c1-6(2)5-7(3)4/h6-7H;5H2;1-4H3  108-08-7   \n3-3-dimethyl-pentane     1S/C7H16/c1-5-7(3;4)6-2/h5-6H2;1-4H3  562-49-2   \n\n                     formula  molecular_weight  critical_pressure  \\\nname                                                                \nmethane                  CH4           16.0425              666.4   \nethane                  C2H6           30.0700              706.5   \npropane                 C3H8           44.0970              616.0   \nisobutane              C4H10           58.1230              527.9   \nbutane                 C4H10           58.1230              550.6   \nisopentane             C5H12           72.1500              490.4   \npentane                C5H12           73.1500              488.6   \nneopentane             C5H12           74.1500              464.0   \nn-hexane               C6H14           86.1770              436.9   \n2-methyl-pentane       C6H14           86.1770              436.6   \n3-methyl-penthane      C6H14           86.1770              453.1   \nneohexane              C6H14           86.1770              446.8   \n2-3-dimethyl-butane    C6H14           86.1770              453.5   \nn-heptane              C7H16          100.2040              396.8   \n2-methyl-hexane        C7H16          100.2040              396.5   \n3-methyl-hexane        C7H16          100.2040              408.1   \n3-ethylpentane         C7H16          100.2040              419.3   \n2-2-dimethyl-pentane   C7H16          100.2040              402.1   \n2-4-dimethyl-pentane   C7H16          100.2040              396.9   \n3-3-dimethyl-pentane   C7H16          100.2040              427.2   \n\n                     critical_pressure_unit  critical_temperature  \\\nname                                                                \nmethane                                 psi               -116.67   \nethane                                  psi                 89.92   \npropane                                 psi                206.06   \nisobutane                               psi                274.46   \nbutane                                  psi                305.62   \nisopentane                              psi                369.10   \npentane                                 psi                385.80   \nneopentane                              psi                321.13   \nn-hexane                                psi                453.60   \n2-methyl-pentane                        psi                435.83   \n3-methyl-penthane                       psi                448.40   \nneohexane                               psi                420.13   \n2-3-dimethyl-butane                     psi                440.29   \nn-heptane                               psi                512.70   \n2-methyl-hexane                         psi                495.00   \n3-methyl-hexane                         psi                503.80   \n3-ethylpentane                          psi                513.39   \n2-2-dimethyl-pentane                    psi                477.23   \n2-4-dimethyl-pentane                    psi                475.95   \n3-3-dimethyl-pentane                    psi                505.87   \n\n                     critical_temperature_unit  antoine_a  antoine_b  \\\nname                                                                   \nmethane                              farenheit    3.98950    443.028   \nethane                               farenheit    3.93835    659.739   \npropane                              farenheit    4.53678   1149.360   \nisobutane                            farenheit    4.32810   1132.108   \nbutane                               farenheit    4.35576   1175.581   \nisopentane                           farenheit    3.97183   1021.864   \npentane                              farenheit    3.98920   1070.617   \nneopentane                           farenheit    4.61616   1478.868   \nn-hexane                             farenheit    4.00266   1171.530   \n2-methyl-pentane                     farenheit    3.96400   1135.410   \n3-methyl-penthane                    farenheit    3.97377   1152.368   \nneohexane                            farenheit    3.87973   1081.176   \n2-3-dimethyl-butane                  farenheit    3.93473   1127.187   \nn-heptane                            farenheit    4.02832   1268.636   \n2-methyl-hexane                      farenheit    4.00653   1240.869   \n3-methyl-hexane                      farenheit    3.99885   1243.759   \n3-ethylpentane                       farenheit    4.00453   1254.119   \n2-2-dimethyl-pentane                 farenheit    3.93999   1190.298   \n2-4-dimethyl-pentane                 farenheit    3.96120   1197.608   \n3-3-dimethyl-pentane                 farenheit    3.95568   1230.986   \n\n                      antoine_c  \nname                             \nmethane                  -0.490  \nethane                  -16.719  \npropane                  24.906  \nisobutane                 0.918  \nbutane                   -2.071  \nisopentane              -43.231  \npentane                 -40.454  \nneopentane               41.256  \nn-hexane                -48.784  \n2-methyl-pentane        -46.578  \n3-methyl-penthane       -46.021  \nneohexane               -43.807  \n2-3-dimethyl-butane     -44.200  \nn-heptane               -56.199  \n2-methyl-hexane         -53.047  \n3-methyl-hexane         -53.524  \n3-ethylpentane          -53.004  \n2-2-dimethyl-pentane    -49.807  \n2-4-dimethyl-pentane    -50.877  \n3-3-dimethyl-pentane    -47.568  \n"
     ]
    }
   ],
   "source": [
    "print(properties_df.head(20))"
   ]
  },
  {
   "source": [
    "Having the properties table, you can build a custom Chromatography table by providing the componets id, name or symbol and the mole fraction"
   ],
   "cell_type": "markdown",
   "metadata": {}
  },
  {
   "source": [
    "## Component Class\n",
    "\n",
    "Pvtpy provides a class for each Component storing their attritutes and applying some methods."
   ],
   "cell_type": "markdown",
   "metadata": {}
  },
  {
   "source": [
    "Construct by its name"
   ],
   "cell_type": "markdown",
   "metadata": {}
  },
  {
   "cell_type": "code",
   "execution_count": 3,
   "metadata": {},
   "outputs": [],
   "source": [
    "d = {\n",
    "    'comp': ['methane','ethane','propane','isobutane'],\n",
    "    'mole_fraction':[0.90,0.07,0.02,0.06]\n",
    "}\n",
    "cc = pd.DataFrame(d)\n",
    "\n",
    "ch = Chromatography()\n",
    "ch.from_df(cc,name='comp')\n",
    "\n"
   ]
  },
  {
   "cell_type": "code",
   "execution_count": 4,
   "metadata": {},
   "outputs": [
    {
     "output_type": "execute_result",
     "data": {
      "text/plain": [
       "          formula                    iupac_key                        iupac  \\\n",
       "isobutane   C4H10  NNPPMTNAJDCUHE-UHFFFAOYSA-N  1S/C4H10/c1-4(2)3/h4H;1-3H3   \n",
       "\n",
       "               cas  molecular_weight  mole_fraction  \n",
       "isobutane  75-28-5            58.123           0.06  "
      ],
      "text/html": "<div>\n<style scoped>\n    .dataframe tbody tr th:only-of-type {\n        vertical-align: middle;\n    }\n\n    .dataframe tbody tr th {\n        vertical-align: top;\n    }\n\n    .dataframe thead th {\n        text-align: right;\n    }\n</style>\n<table border=\"1\" class=\"dataframe\">\n  <thead>\n    <tr style=\"text-align: right;\">\n      <th></th>\n      <th>formula</th>\n      <th>iupac_key</th>\n      <th>iupac</th>\n      <th>cas</th>\n      <th>molecular_weight</th>\n      <th>mole_fraction</th>\n    </tr>\n  </thead>\n  <tbody>\n    <tr>\n      <th>isobutane</th>\n      <td>C4H10</td>\n      <td>NNPPMTNAJDCUHE-UHFFFAOYSA-N</td>\n      <td>1S/C4H10/c1-4(2)3/h4H;1-3H3</td>\n      <td>75-28-5</td>\n      <td>58.123</td>\n      <td>0.06</td>\n    </tr>\n  </tbody>\n</table>\n</div>"
     },
     "metadata": {},
     "execution_count": 4
    }
   ],
   "source": [
    "ch.components[3].df()"
   ]
  },
  {
   "cell_type": "code",
   "execution_count": 5,
   "metadata": {},
   "outputs": [
    {
     "output_type": "execute_result",
     "data": {
      "text/plain": [
       "          formula                    iupac_key                        iupac  \\\n",
       "methane       CH4  VNWKTOKETHGBQD-UHFFFAOYSA-N                  1S/CH4/h1H4   \n",
       "ethane       C2H6  OTMSDBZUPAUEDD-UHFFFAOYSA-N          1S/C2H6/c1-2/h1-2H3   \n",
       "propane      C3H8  ATUOYWHBWRKTHZ-UHFFFAOYSA-N    1S/C3H8/c1-3-2/h3H2;1-2H3   \n",
       "isobutane   C4H10  NNPPMTNAJDCUHE-UHFFFAOYSA-N  1S/C4H10/c1-4(2)3/h4H;1-3H3   \n",
       "\n",
       "               cas  molecular_weight  mole_fraction  \n",
       "methane    74-82-8           16.0425       0.857143  \n",
       "ethane     74-84-0           30.0700       0.066667  \n",
       "propane    74-98-6           44.0970       0.019048  \n",
       "isobutane  75-28-5           58.1230       0.057143  "
      ],
      "text/html": "<div>\n<style scoped>\n    .dataframe tbody tr th:only-of-type {\n        vertical-align: middle;\n    }\n\n    .dataframe tbody tr th {\n        vertical-align: top;\n    }\n\n    .dataframe thead th {\n        text-align: right;\n    }\n</style>\n<table border=\"1\" class=\"dataframe\">\n  <thead>\n    <tr style=\"text-align: right;\">\n      <th></th>\n      <th>formula</th>\n      <th>iupac_key</th>\n      <th>iupac</th>\n      <th>cas</th>\n      <th>molecular_weight</th>\n      <th>mole_fraction</th>\n    </tr>\n  </thead>\n  <tbody>\n    <tr>\n      <th>methane</th>\n      <td>CH4</td>\n      <td>VNWKTOKETHGBQD-UHFFFAOYSA-N</td>\n      <td>1S/CH4/h1H4</td>\n      <td>74-82-8</td>\n      <td>16.0425</td>\n      <td>0.857143</td>\n    </tr>\n    <tr>\n      <th>ethane</th>\n      <td>C2H6</td>\n      <td>OTMSDBZUPAUEDD-UHFFFAOYSA-N</td>\n      <td>1S/C2H6/c1-2/h1-2H3</td>\n      <td>74-84-0</td>\n      <td>30.0700</td>\n      <td>0.066667</td>\n    </tr>\n    <tr>\n      <th>propane</th>\n      <td>C3H8</td>\n      <td>ATUOYWHBWRKTHZ-UHFFFAOYSA-N</td>\n      <td>1S/C3H8/c1-3-2/h3H2;1-2H3</td>\n      <td>74-98-6</td>\n      <td>44.0970</td>\n      <td>0.019048</td>\n    </tr>\n    <tr>\n      <th>isobutane</th>\n      <td>C4H10</td>\n      <td>NNPPMTNAJDCUHE-UHFFFAOYSA-N</td>\n      <td>1S/C4H10/c1-4(2)3/h4H;1-3H3</td>\n      <td>75-28-5</td>\n      <td>58.1230</td>\n      <td>0.057143</td>\n    </tr>\n  </tbody>\n</table>\n</div>"
     },
     "metadata": {},
     "execution_count": 5
    }
   ],
   "source": [
    "ch.df()"
   ]
  },
  {
   "source": [
    "By default, the mole_fraction provided is normalized to sum 1. "
   ],
   "cell_type": "markdown",
   "metadata": {}
  },
  {
   "cell_type": "code",
   "execution_count": 6,
   "metadata": {},
   "outputs": [
    {
     "output_type": "execute_result",
     "data": {
      "text/plain": [
       "19.916638095238095"
      ]
     },
     "metadata": {},
     "execution_count": 6
    }
   ],
   "source": [
    "ch.apparent_molecular_weight()"
   ]
  },
  {
   "cell_type": "code",
   "execution_count": 7,
   "metadata": {},
   "outputs": [
    {
     "output_type": "execute_result",
     "data": {
      "text/plain": [
       "          formula                    iupac_key                        iupac  \\\n",
       "methane       CH4  VNWKTOKETHGBQD-UHFFFAOYSA-N                  1S/CH4/h1H4   \n",
       "ethane       C2H6  OTMSDBZUPAUEDD-UHFFFAOYSA-N          1S/C2H6/c1-2/h1-2H3   \n",
       "propane      C3H8  ATUOYWHBWRKTHZ-UHFFFAOYSA-N    1S/C3H8/c1-3-2/h3H2;1-2H3   \n",
       "isobutane   C4H10  NNPPMTNAJDCUHE-UHFFFAOYSA-N  1S/C4H10/c1-4(2)3/h4H;1-3H3   \n",
       "\n",
       "               cas  molecular_weight  mole_fraction  \n",
       "methane    74-82-8           16.0425       0.857143  \n",
       "ethane     74-84-0           30.0700       0.066667  \n",
       "propane    74-98-6           44.0970       0.019048  \n",
       "isobutane  75-28-5           58.1230       0.057143  "
      ],
      "text/html": "<div>\n<style scoped>\n    .dataframe tbody tr th:only-of-type {\n        vertical-align: middle;\n    }\n\n    .dataframe tbody tr th {\n        vertical-align: top;\n    }\n\n    .dataframe thead th {\n        text-align: right;\n    }\n</style>\n<table border=\"1\" class=\"dataframe\">\n  <thead>\n    <tr style=\"text-align: right;\">\n      <th></th>\n      <th>formula</th>\n      <th>iupac_key</th>\n      <th>iupac</th>\n      <th>cas</th>\n      <th>molecular_weight</th>\n      <th>mole_fraction</th>\n    </tr>\n  </thead>\n  <tbody>\n    <tr>\n      <th>methane</th>\n      <td>CH4</td>\n      <td>VNWKTOKETHGBQD-UHFFFAOYSA-N</td>\n      <td>1S/CH4/h1H4</td>\n      <td>74-82-8</td>\n      <td>16.0425</td>\n      <td>0.857143</td>\n    </tr>\n    <tr>\n      <th>ethane</th>\n      <td>C2H6</td>\n      <td>OTMSDBZUPAUEDD-UHFFFAOYSA-N</td>\n      <td>1S/C2H6/c1-2/h1-2H3</td>\n      <td>74-84-0</td>\n      <td>30.0700</td>\n      <td>0.066667</td>\n    </tr>\n    <tr>\n      <th>propane</th>\n      <td>C3H8</td>\n      <td>ATUOYWHBWRKTHZ-UHFFFAOYSA-N</td>\n      <td>1S/C3H8/c1-3-2/h3H2;1-2H3</td>\n      <td>74-98-6</td>\n      <td>44.0970</td>\n      <td>0.019048</td>\n    </tr>\n    <tr>\n      <th>isobutane</th>\n      <td>C4H10</td>\n      <td>NNPPMTNAJDCUHE-UHFFFAOYSA-N</td>\n      <td>1S/C4H10/c1-4(2)3/h4H;1-3H3</td>\n      <td>75-28-5</td>\n      <td>58.1230</td>\n      <td>0.057143</td>\n    </tr>\n  </tbody>\n</table>\n</div>"
     },
     "metadata": {},
     "execution_count": 7
    }
   ],
   "source": [
    "ch.df()"
   ]
  },
  {
   "source": [
    "## Example 2"
   ],
   "cell_type": "markdown",
   "metadata": {}
  },
  {
   "cell_type": "code",
   "execution_count": 8,
   "metadata": {},
   "outputs": [],
   "source": [
    "d1 = {\n",
    "    'comp': ['propane','isobutane','butane','isopentane','pentane','n-hexane'],\n",
    "    'mole_fraction':[0.2,0.1,0.1,0.2,0.2,0.2]\n",
    "}\n",
    "\n",
    "ch1 = Chromatography()\n",
    "ch1.from_df(pd.DataFrame(d1),name='comp')"
   ]
  },
  {
   "cell_type": "code",
   "execution_count": 9,
   "metadata": {},
   "outputs": [
    {
     "output_type": "execute_result",
     "data": {
      "text/plain": [
       "           formula                    iupac_key  \\\n",
       "propane       C3H8  ATUOYWHBWRKTHZ-UHFFFAOYSA-N   \n",
       "isobutane    C4H10  NNPPMTNAJDCUHE-UHFFFAOYSA-N   \n",
       "butane       C4H10  IJDNQMDRQITEOD-UHFFFAOYSA-N   \n",
       "isopentane   C5H12  QWTDNUCVQCZILF-UHFFFAOYSA-N   \n",
       "pentane      C5H12  OFBQJSOFQDEBGM-UHFFFAOYSA-N   \n",
       "n-hexane     C6H14  VLKZOEOYAKHREP-UHFFFAOYSA-N   \n",
       "\n",
       "                                         iupac       cas  molecular_weight  \\\n",
       "propane              1S/C3H8/c1-3-2/h3H2;1-2H3   74-98-6            44.097   \n",
       "isobutane          1S/C4H10/c1-4(2)3/h4H;1-3H3   75-28-5            58.123   \n",
       "butane          1S/C4H10/c1-3-4-2/h3-4H2;1-2H3  106-97-8            58.123   \n",
       "isopentane   1S/C5H12/c1-4-5(2)3/h5H;4H2;1-3H3   78-78-4            72.150   \n",
       "pentane       1S/C5H12/c1-3-5-4-2/h3-5H2;1-2H3  109-66-0            73.150   \n",
       "n-hexane    1S/C6H14/c1-3-5-6-4-2/h3-6H2;1-2H3  110-54-3            86.177   \n",
       "\n",
       "            mole_fraction  \n",
       "propane               0.2  \n",
       "isobutane             0.1  \n",
       "butane                0.1  \n",
       "isopentane            0.2  \n",
       "pentane               0.2  \n",
       "n-hexane              0.2  "
      ],
      "text/html": "<div>\n<style scoped>\n    .dataframe tbody tr th:only-of-type {\n        vertical-align: middle;\n    }\n\n    .dataframe tbody tr th {\n        vertical-align: top;\n    }\n\n    .dataframe thead th {\n        text-align: right;\n    }\n</style>\n<table border=\"1\" class=\"dataframe\">\n  <thead>\n    <tr style=\"text-align: right;\">\n      <th></th>\n      <th>formula</th>\n      <th>iupac_key</th>\n      <th>iupac</th>\n      <th>cas</th>\n      <th>molecular_weight</th>\n      <th>mole_fraction</th>\n    </tr>\n  </thead>\n  <tbody>\n    <tr>\n      <th>propane</th>\n      <td>C3H8</td>\n      <td>ATUOYWHBWRKTHZ-UHFFFAOYSA-N</td>\n      <td>1S/C3H8/c1-3-2/h3H2;1-2H3</td>\n      <td>74-98-6</td>\n      <td>44.097</td>\n      <td>0.2</td>\n    </tr>\n    <tr>\n      <th>isobutane</th>\n      <td>C4H10</td>\n      <td>NNPPMTNAJDCUHE-UHFFFAOYSA-N</td>\n      <td>1S/C4H10/c1-4(2)3/h4H;1-3H3</td>\n      <td>75-28-5</td>\n      <td>58.123</td>\n      <td>0.1</td>\n    </tr>\n    <tr>\n      <th>butane</th>\n      <td>C4H10</td>\n      <td>IJDNQMDRQITEOD-UHFFFAOYSA-N</td>\n      <td>1S/C4H10/c1-3-4-2/h3-4H2;1-2H3</td>\n      <td>106-97-8</td>\n      <td>58.123</td>\n      <td>0.1</td>\n    </tr>\n    <tr>\n      <th>isopentane</th>\n      <td>C5H12</td>\n      <td>QWTDNUCVQCZILF-UHFFFAOYSA-N</td>\n      <td>1S/C5H12/c1-4-5(2)3/h5H;4H2;1-3H3</td>\n      <td>78-78-4</td>\n      <td>72.150</td>\n      <td>0.2</td>\n    </tr>\n    <tr>\n      <th>pentane</th>\n      <td>C5H12</td>\n      <td>OFBQJSOFQDEBGM-UHFFFAOYSA-N</td>\n      <td>1S/C5H12/c1-3-5-4-2/h3-5H2;1-2H3</td>\n      <td>109-66-0</td>\n      <td>73.150</td>\n      <td>0.2</td>\n    </tr>\n    <tr>\n      <th>n-hexane</th>\n      <td>C6H14</td>\n      <td>VLKZOEOYAKHREP-UHFFFAOYSA-N</td>\n      <td>1S/C6H14/c1-3-5-6-4-2/h3-6H2;1-2H3</td>\n      <td>110-54-3</td>\n      <td>86.177</td>\n      <td>0.2</td>\n    </tr>\n  </tbody>\n</table>\n</div>"
     },
     "metadata": {},
     "execution_count": 9
    }
   ],
   "source": [
    "ch1.df()"
   ]
  },
  {
   "cell_type": "code",
   "execution_count": 11,
   "metadata": {},
   "outputs": [
    {
     "output_type": "execute_result",
     "data": {
      "text/plain": [
       "           formula                    iupac_key  \\\n",
       "propane       C3H8  ATUOYWHBWRKTHZ-UHFFFAOYSA-N   \n",
       "isobutane    C4H10  NNPPMTNAJDCUHE-UHFFFAOYSA-N   \n",
       "butane       C4H10  IJDNQMDRQITEOD-UHFFFAOYSA-N   \n",
       "isopentane   C5H12  QWTDNUCVQCZILF-UHFFFAOYSA-N   \n",
       "pentane      C5H12  OFBQJSOFQDEBGM-UHFFFAOYSA-N   \n",
       "n-hexane     C6H14  VLKZOEOYAKHREP-UHFFFAOYSA-N   \n",
       "\n",
       "                                         iupac       cas  molecular_weight  \\\n",
       "propane              1S/C3H8/c1-3-2/h3H2;1-2H3   74-98-6            44.097   \n",
       "isobutane          1S/C4H10/c1-4(2)3/h4H;1-3H3   75-28-5            58.123   \n",
       "butane          1S/C4H10/c1-3-4-2/h3-4H2;1-2H3  106-97-8            58.123   \n",
       "isopentane   1S/C5H12/c1-4-5(2)3/h5H;4H2;1-3H3   78-78-4            72.150   \n",
       "pentane       1S/C5H12/c1-3-5-4-2/h3-5H2;1-2H3  109-66-0            73.150   \n",
       "n-hexane    1S/C6H14/c1-3-5-6-4-2/h3-6H2;1-2H3  110-54-3            86.177   \n",
       "\n",
       "            mole_fraction  vapor_pressure  vapor_temperature  \n",
       "propane               0.2       16.529529              120.0  \n",
       "isobutane             0.1        6.560502              120.0  \n",
       "butane                0.1        4.742245              120.0  \n",
       "isopentane            0.2        1.999837              120.0  \n",
       "pentane               0.2        1.518351              120.0  \n",
       "n-hexane              0.2        0.512422              120.0  "
      ],
      "text/html": "<div>\n<style scoped>\n    .dataframe tbody tr th:only-of-type {\n        vertical-align: middle;\n    }\n\n    .dataframe tbody tr th {\n        vertical-align: top;\n    }\n\n    .dataframe thead th {\n        text-align: right;\n    }\n</style>\n<table border=\"1\" class=\"dataframe\">\n  <thead>\n    <tr style=\"text-align: right;\">\n      <th></th>\n      <th>formula</th>\n      <th>iupac_key</th>\n      <th>iupac</th>\n      <th>cas</th>\n      <th>molecular_weight</th>\n      <th>mole_fraction</th>\n      <th>vapor_pressure</th>\n      <th>vapor_temperature</th>\n    </tr>\n  </thead>\n  <tbody>\n    <tr>\n      <th>propane</th>\n      <td>C3H8</td>\n      <td>ATUOYWHBWRKTHZ-UHFFFAOYSA-N</td>\n      <td>1S/C3H8/c1-3-2/h3H2;1-2H3</td>\n      <td>74-98-6</td>\n      <td>44.097</td>\n      <td>0.2</td>\n      <td>16.529529</td>\n      <td>120.0</td>\n    </tr>\n    <tr>\n      <th>isobutane</th>\n      <td>C4H10</td>\n      <td>NNPPMTNAJDCUHE-UHFFFAOYSA-N</td>\n      <td>1S/C4H10/c1-4(2)3/h4H;1-3H3</td>\n      <td>75-28-5</td>\n      <td>58.123</td>\n      <td>0.1</td>\n      <td>6.560502</td>\n      <td>120.0</td>\n    </tr>\n    <tr>\n      <th>butane</th>\n      <td>C4H10</td>\n      <td>IJDNQMDRQITEOD-UHFFFAOYSA-N</td>\n      <td>1S/C4H10/c1-3-4-2/h3-4H2;1-2H3</td>\n      <td>106-97-8</td>\n      <td>58.123</td>\n      <td>0.1</td>\n      <td>4.742245</td>\n      <td>120.0</td>\n    </tr>\n    <tr>\n      <th>isopentane</th>\n      <td>C5H12</td>\n      <td>QWTDNUCVQCZILF-UHFFFAOYSA-N</td>\n      <td>1S/C5H12/c1-4-5(2)3/h5H;4H2;1-3H3</td>\n      <td>78-78-4</td>\n      <td>72.150</td>\n      <td>0.2</td>\n      <td>1.999837</td>\n      <td>120.0</td>\n    </tr>\n    <tr>\n      <th>pentane</th>\n      <td>C5H12</td>\n      <td>OFBQJSOFQDEBGM-UHFFFAOYSA-N</td>\n      <td>1S/C5H12/c1-3-5-4-2/h3-5H2;1-2H3</td>\n      <td>109-66-0</td>\n      <td>73.150</td>\n      <td>0.2</td>\n      <td>1.518351</td>\n      <td>120.0</td>\n    </tr>\n    <tr>\n      <th>n-hexane</th>\n      <td>C6H14</td>\n      <td>VLKZOEOYAKHREP-UHFFFAOYSA-N</td>\n      <td>1S/C6H14/c1-3-5-6-4-2/h3-6H2;1-2H3</td>\n      <td>110-54-3</td>\n      <td>86.177</td>\n      <td>0.2</td>\n      <td>0.512422</td>\n      <td>120.0</td>\n    </tr>\n  </tbody>\n</table>\n</div>"
     },
     "metadata": {},
     "execution_count": 11
    }
   ],
   "source": [
    "ch1.vapor_pressure(temperature=120, temperature_unit='farenheit', pressure_unit='atm')"
   ]
  },
  {
   "cell_type": "code",
   "execution_count": null,
   "metadata": {},
   "outputs": [],
   "source": []
  }
 ]
}