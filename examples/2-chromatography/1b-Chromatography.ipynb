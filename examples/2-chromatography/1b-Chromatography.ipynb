{
 "metadata": {
  "language_info": {
   "codemirror_mode": {
    "name": "ipython",
    "version": 3
   },
   "file_extension": ".py",
   "mimetype": "text/x-python",
   "name": "python",
   "nbconvert_exporter": "python",
   "pygments_lexer": "ipython3",
   "version": "3.8.10"
  },
  "orig_nbformat": 4,
  "kernelspec": {
   "name": "python3",
   "display_name": "Python 3.8.10 64-bit ('pvtpy': conda)"
  },
  "interpreter": {
   "hash": "c2412f2860ef08ecfc6ffbe66d86f9328a9706bdf5bd84042edf15bb644253f5"
  }
 },
 "nbformat": 4,
 "nbformat_minor": 2,
 "cells": [
  {
   "source": [
    "# Chromatography Object \n",
    "\n",
    "You can define a Chromatography object by providing a tabulated data indexed by pressure. "
   ],
   "cell_type": "markdown",
   "metadata": {}
  },
  {
   "cell_type": "code",
   "execution_count": 1,
   "metadata": {},
   "outputs": [],
   "source": [
    "from pvtpy.compositional import Chromatography, properties_df, Component\n",
    "from pvtpy.units import Pressure, Temperature\n",
    "import numpy as np\n",
    "import pandas as pd"
   ]
  },
  {
   "source": [
    "Pvtpy has built-in a dataframe with 64 components and its critical values. You can display the properties values with the `properties_df` object which is a simple dataframe."
   ],
   "cell_type": "markdown",
   "metadata": {}
  },
  {
   "cell_type": "code",
   "execution_count": 2,
   "metadata": {},
   "outputs": [
    {
     "output_type": "stream",
     "name": "stdout",
     "text": [
      "                                    iupac_key  \\\nname                                            \nbenzene           UHOVQNZJYSORNB-UHFFFAOYSA-N   \ntoluene           YXFVVABEGXRONW-UHFFFAOYSA-N   \nethylbenzene      YNQLUTRBYVCPMQ-UHFFFAOYSA-N   \no-xylene          CTQNGGLPUBDAKN-UHFFFAOYSA-N   \nm-xylene          IVSZLXZYQVIEFR-UHFFFAOYSA-N   \np-xylene          URLKBWYHVLBVBO-UHFFFAOYSA-N   \nstyrene           PPBRXRYQALVLMV-UHFFFAOYSA-N   \nisopropylbenzene  RWGFKTVRMDUZSP-UHFFFAOYSA-N   \nmethyl-alcohol    OKKJLVBELUTLKV-UHFFFAOYSA-N   \nethyl-alcohol     LFQSCWFLJHTTHZ-UHFFFAOYSA-N   \ncarbon-monixide   UGFAIRIUMAVXCW-UHFFFAOYSA-N   \ncarbon-dioxide    CURLTUGMZLYLDI-UHFFFAOYSA-N   \nhydrogen-sulfide  RWSOTUBLDIXVET-UHFFFAOYSA-N   \nsulfur-dioxide    RAHZWNYVWXNFOC-UHFFFAOYSA-N   \nammonia           QGZKDVFQNNGYKY-UHFFFAOYSA-N   \nhydrogen          UFHFLCQGNIYNRP-UHFFFAOYSA-N   \noxygen            MYMOFIZGZYHOMD-UHFFFAOYSA-N   \nnitrogen          IJGRMHOSHXDMSA-UHFFFAOYSA-N   \nchlorine          KZBUYRJDOAKODT-UHFFFAOYSA-N   \nwater             XLYOFNOQVPJJNP-UHFFFAOYSA-N   \n\n                                                      iupac        cas  \\\nname                                                                     \nbenzene                        1S/C6H6/c1-2-4-6-5-3-1/h1-6H    71-43-2   \ntoluene                  1S/C7H8/c1-7-5-3-2-4-6-7/h2-6H;1H3   108-88-3   \nethylbenzene      1S/C8H10/c1-2-8-6-4-3-5-7-8/h3-7H;2H2;1H3   100-41-4   \no-xylene            1S/C8H10/c1-7-5-3-4-6-8(7)2/h3-6H;1-2H3    95-47-6   \nm-xylene            1S/C8H10/c1-7-4-3-5-8(2)6-7/h3-6H;1-2H3   108-38-3   \np-xylene            1S/C8H10/c1-7-3-5-8(2)6-4-7/h3-6H;1-2H3   106-42-3   \nstyrene                1S/C8H8/c1-2-8-6-4-3-5-7-8/h2-7H;1H2   100-42-5   \nisopropylbenzene  1S/C9H12/c1-8(2)9-6-4-3-5-7-9/h3-8H;1-2H3    98-82-8   \nmethyl-alcohol                         1S/CH4O/c1-2/h2H;1H3    67-56-1   \nethyl-alcohol                   1S/C2H6O/c1-2-3/h3H;2H2;1H3    64-17-5   \ncarbon-monixide                                  1S/CO/c1-2   630-08-0   \ncarbon-dioxide                                1S/CO2/c2-1-3   124-38-9   \nhydrogen-sulfide                                1S/H2S/h1H2  7783-06-4   \nsulfur-dioxide                                1S/O2S/c1-3-2  7446-09-5   \nammonia                                         1S/H3N/h1H3  7664-41-7   \nhydrogen                                          1S/H2/h1H  1333-74-0   \noxygen                                           1S/O2/c1-2  7782-44-7   \nnitrogen                                         1S/N2/c1-2  7727-37-9   \nchlorine                                        1S/Cl2/c1-2  7782-50-5   \nwater                                           1S/H2O/h1H2  7732-18-5   \n\n                 formula  molecular_weight  critical_pressure  \\\nname                                                            \nbenzene             C6H6           78.1140              710.4   \ntoluene             C7H8           92.1410              595.5   \nethylbenzene       C8H10          106.1670              523.0   \no-xylene           C8H10          106.1670              541.6   \nm-xylene           C8H10          106.1670              512.9   \np-xylene           C8H10          106.1670              509.2   \nstyrene             C8H8          104.1520              587.8   \nisopropylbenzene   C9H12          120.1940              465.4   \nmethyl-alcohol      CH4O           32.0420             1174.0   \nethyl-alcohol      C2H6O           46.0690              890.1   \ncarbon-monixide       CO           28.0100              507.5   \ncarbon-dioxide       CO2           44.0100             1071.0   \nhydrogen-sulfide     H2S           34.0800             1300.0   \nsulfur-dioxide       SO2           64.0600             1143.0   \nammonia              NH3           17.0305             1646.0   \nhydrogen              H2            2.0159              188.1   \noxygen                o2           31.9988              731.4   \nnitrogen              N2           28.0134              493.1   \nchlorine             CL2           70.9060             1157.0   \nwater                H2O           18.0153             3198.8   \n\n                 critical_pressure_unit  critical_temperature  \\\nname                                                            \nbenzene                             psi                552.22   \ntoluene                             psi                605.57   \nethylbenzene                        psi                651.29   \no-xylene                            psi                674.92   \nm-xylene                            psi                651.02   \np-xylene                            psi                649.54   \nstyrene                             psi                703.00   \nisopropylbenzene                    psi                676.30   \nmethyl-alcohol                      psi                463.08   \nethyl-alcohol                       psi                465.39   \ncarbon-monixide                     psi               -220.43   \ncarbon-dioxide                      psi                 87.91   \nhydrogen-sulfide                    psi                212.45   \nsulfur-dioxide                      psi                315.80   \nammonia                             psi                270.20   \nhydrogen                            psi               -399.90   \noxygen                              psi               -181.43   \nnitrogen                            psi               -232.51   \nchlorine                            psi                290.75   \nwater                               psi                705.16   \n\n                 critical_temperature_unit  antoine_a  antoine_b  antoine_c  \nname                                                                         \nbenzene                          farenheit    4.60362   1701.073     20.806  \ntoluene                          farenheit    4.08245   1346.382    -53.508  \nethylbenzene                     farenheit    4.07488   1419.315    -60.539  \no-xylene                         farenheit    4.93755   1901.373    -26.268  \nm-xylene                         farenheit    5.09199   1996.545    -14.772  \np-xylene                         farenheit    4.44889   1644.214    -40.229  \nstyrene                          farenheit    4.21948   1525.059    -56.379  \nisopropylbenzene                 farenheit    4.05419   1555.811    -65.948  \nmethyl-alcohol                   farenheit    5.20409   1581.341    -33.500  \nethyl-alcohol                    farenheit        NaN        NaN        NaN  \ncarbon-monixide                  farenheit        NaN        NaN        NaN  \ncarbon-dioxide                   farenheit    6.81228   1301.679     -3.494  \nhydrogen-sulfide                 farenheit    4.52887    958.587     -0.539  \nsulfur-dioxide                   farenheit    4.37798    966.575    -42.071  \nammonia                          farenheit    4.86886    113.928    -10.409  \nhydrogen                         farenheit    3.54314     99.395      7.726  \noxygen                           farenheit    3.95230    340.024     -4.144  \nnitrogen                         farenheit    3.73620    264.651     -6.788  \nchlorine                         farenheit    4.28814    969.992    -12.791  \nwater                            farenheit    5.40221   1838.675    -31.737  \n"
     ]
    }
   ],
   "source": [
    "print(properties_df.tail(20))"
   ]
  },
  {
   "source": [
    "Having the properties table, you can build a custom Chromatography table by providing the componets id, name or symbol and the mole fraction"
   ],
   "cell_type": "markdown",
   "metadata": {}
  },
  {
   "source": [
    "## Component Class\n",
    "\n",
    "Pvtpy provides a class for each Component storing their attritutes and applying some methods."
   ],
   "cell_type": "markdown",
   "metadata": {}
  },
  {
   "source": [
    "Construct by its name"
   ],
   "cell_type": "markdown",
   "metadata": {}
  },
  {
   "cell_type": "code",
   "execution_count": 3,
   "metadata": {},
   "outputs": [],
   "source": [
    "d = {\n",
    "    'comp': ['methane','ethane','propane','isobutane'],\n",
    "    'mole_fraction':[0.90,0.07,0.02,0.06]\n",
    "}\n",
    "cc = pd.DataFrame(d)\n",
    "\n",
    "ch = Chromatography()\n",
    "ch.from_df(cc,name='comp')\n",
    "\n"
   ]
  },
  {
   "cell_type": "code",
   "execution_count": 4,
   "metadata": {},
   "outputs": [
    {
     "output_type": "execute_result",
     "data": {
      "text/plain": [
       "formula                                       C4H10\n",
       "iupac_key               NNPPMTNAJDCUHE-UHFFFAOYSA-N\n",
       "iupac                   1S/C4H10/c1-4(2)3/h4H;1-3H3\n",
       "cas                                         75-28-5\n",
       "molecular_weight                             58.123\n",
       "mole_fraction                                  0.06\n",
       "critical_pressure                             527.9\n",
       "critical_temperature                         274.46\n",
       "Name: isobutane, dtype: object"
      ]
     },
     "metadata": {},
     "execution_count": 4
    }
   ],
   "source": [
    "ch.components[3].df()"
   ]
  },
  {
   "cell_type": "code",
   "execution_count": 5,
   "metadata": {},
   "outputs": [
    {
     "output_type": "execute_result",
     "data": {
      "text/plain": [
       "               cas  critical_pressure  critical_temperature formula  \\\n",
       "methane    74-82-8              666.4               -116.67     CH4   \n",
       "ethane     74-84-0              706.5                 89.92    C2H6   \n",
       "propane    74-98-6              616.0                206.06    C3H8   \n",
       "isobutane  75-28-5              527.9                274.46   C4H10   \n",
       "\n",
       "                                 iupac                    iupac_key  \\\n",
       "methane                    1S/CH4/h1H4  VNWKTOKETHGBQD-UHFFFAOYSA-N   \n",
       "ethane             1S/C2H6/c1-2/h1-2H3  OTMSDBZUPAUEDD-UHFFFAOYSA-N   \n",
       "propane      1S/C3H8/c1-3-2/h3H2;1-2H3  ATUOYWHBWRKTHZ-UHFFFAOYSA-N   \n",
       "isobutane  1S/C4H10/c1-4(2)3/h4H;1-3H3  NNPPMTNAJDCUHE-UHFFFAOYSA-N   \n",
       "\n",
       "           mole_fraction  molecular_weight  \n",
       "methane         0.857143           16.0425  \n",
       "ethane          0.066667           30.0700  \n",
       "propane         0.019048           44.0970  \n",
       "isobutane       0.057143           58.1230  "
      ],
      "text/html": "<div>\n<style scoped>\n    .dataframe tbody tr th:only-of-type {\n        vertical-align: middle;\n    }\n\n    .dataframe tbody tr th {\n        vertical-align: top;\n    }\n\n    .dataframe thead th {\n        text-align: right;\n    }\n</style>\n<table border=\"1\" class=\"dataframe\">\n  <thead>\n    <tr style=\"text-align: right;\">\n      <th></th>\n      <th>cas</th>\n      <th>critical_pressure</th>\n      <th>critical_temperature</th>\n      <th>formula</th>\n      <th>iupac</th>\n      <th>iupac_key</th>\n      <th>mole_fraction</th>\n      <th>molecular_weight</th>\n    </tr>\n  </thead>\n  <tbody>\n    <tr>\n      <th>methane</th>\n      <td>74-82-8</td>\n      <td>666.4</td>\n      <td>-116.67</td>\n      <td>CH4</td>\n      <td>1S/CH4/h1H4</td>\n      <td>VNWKTOKETHGBQD-UHFFFAOYSA-N</td>\n      <td>0.857143</td>\n      <td>16.0425</td>\n    </tr>\n    <tr>\n      <th>ethane</th>\n      <td>74-84-0</td>\n      <td>706.5</td>\n      <td>89.92</td>\n      <td>C2H6</td>\n      <td>1S/C2H6/c1-2/h1-2H3</td>\n      <td>OTMSDBZUPAUEDD-UHFFFAOYSA-N</td>\n      <td>0.066667</td>\n      <td>30.0700</td>\n    </tr>\n    <tr>\n      <th>propane</th>\n      <td>74-98-6</td>\n      <td>616.0</td>\n      <td>206.06</td>\n      <td>C3H8</td>\n      <td>1S/C3H8/c1-3-2/h3H2;1-2H3</td>\n      <td>ATUOYWHBWRKTHZ-UHFFFAOYSA-N</td>\n      <td>0.019048</td>\n      <td>44.0970</td>\n    </tr>\n    <tr>\n      <th>isobutane</th>\n      <td>75-28-5</td>\n      <td>527.9</td>\n      <td>274.46</td>\n      <td>C4H10</td>\n      <td>1S/C4H10/c1-4(2)3/h4H;1-3H3</td>\n      <td>NNPPMTNAJDCUHE-UHFFFAOYSA-N</td>\n      <td>0.057143</td>\n      <td>58.1230</td>\n    </tr>\n  </tbody>\n</table>\n</div>"
     },
     "metadata": {},
     "execution_count": 5
    }
   ],
   "source": [
    "ch.df()"
   ]
  },
  {
   "source": [
    "By default, the mole_fraction provided is normalized to sum 1. "
   ],
   "cell_type": "markdown",
   "metadata": {}
  },
  {
   "cell_type": "code",
   "execution_count": 6,
   "metadata": {},
   "outputs": [
    {
     "output_type": "execute_result",
     "data": {
      "text/plain": [
       "19.916638095238095"
      ]
     },
     "metadata": {},
     "execution_count": 6
    }
   ],
   "source": [
    "ch.apparent_molecular_weight()"
   ]
  },
  {
   "source": [
    "## Example 2"
   ],
   "cell_type": "markdown",
   "metadata": {}
  },
  {
   "cell_type": "code",
   "execution_count": 7,
   "metadata": {},
   "outputs": [],
   "source": [
    "d1 = {\n",
    "    'comp': ['propane','isobutane','butane','isopentane','pentane','n-hexane'],\n",
    "    'mole_fraction':[0.2,0.1,0.1,0.2,0.2,0.2]\n",
    "}\n",
    "\n",
    "ch1 = Chromatography()\n",
    "ch1.from_df(pd.DataFrame(d1),name='comp')"
   ]
  },
  {
   "cell_type": "code",
   "execution_count": 8,
   "metadata": {},
   "outputs": [
    {
     "output_type": "execute_result",
     "data": {
      "text/plain": [
       "                 cas  critical_pressure  critical_temperature formula  \\\n",
       "propane      74-98-6              616.0                206.06    C3H8   \n",
       "isobutane    75-28-5              527.9                274.46   C4H10   \n",
       "butane      106-97-8              550.6                305.62   C4H10   \n",
       "isopentane   78-78-4              490.4                369.10   C5H12   \n",
       "pentane     109-66-0              488.6                385.80   C5H12   \n",
       "n-hexane    110-54-3              436.9                453.60   C6H14   \n",
       "\n",
       "                                         iupac                    iupac_key  \\\n",
       "propane              1S/C3H8/c1-3-2/h3H2;1-2H3  ATUOYWHBWRKTHZ-UHFFFAOYSA-N   \n",
       "isobutane          1S/C4H10/c1-4(2)3/h4H;1-3H3  NNPPMTNAJDCUHE-UHFFFAOYSA-N   \n",
       "butane          1S/C4H10/c1-3-4-2/h3-4H2;1-2H3  IJDNQMDRQITEOD-UHFFFAOYSA-N   \n",
       "isopentane   1S/C5H12/c1-4-5(2)3/h5H;4H2;1-3H3  QWTDNUCVQCZILF-UHFFFAOYSA-N   \n",
       "pentane       1S/C5H12/c1-3-5-4-2/h3-5H2;1-2H3  OFBQJSOFQDEBGM-UHFFFAOYSA-N   \n",
       "n-hexane    1S/C6H14/c1-3-5-6-4-2/h3-6H2;1-2H3  VLKZOEOYAKHREP-UHFFFAOYSA-N   \n",
       "\n",
       "            mole_fraction  molecular_weight  \n",
       "propane               0.2            44.097  \n",
       "isobutane             0.1            58.123  \n",
       "butane                0.1            58.123  \n",
       "isopentane            0.2            72.150  \n",
       "pentane               0.2            73.150  \n",
       "n-hexane              0.2            86.177  "
      ],
      "text/html": "<div>\n<style scoped>\n    .dataframe tbody tr th:only-of-type {\n        vertical-align: middle;\n    }\n\n    .dataframe tbody tr th {\n        vertical-align: top;\n    }\n\n    .dataframe thead th {\n        text-align: right;\n    }\n</style>\n<table border=\"1\" class=\"dataframe\">\n  <thead>\n    <tr style=\"text-align: right;\">\n      <th></th>\n      <th>cas</th>\n      <th>critical_pressure</th>\n      <th>critical_temperature</th>\n      <th>formula</th>\n      <th>iupac</th>\n      <th>iupac_key</th>\n      <th>mole_fraction</th>\n      <th>molecular_weight</th>\n    </tr>\n  </thead>\n  <tbody>\n    <tr>\n      <th>propane</th>\n      <td>74-98-6</td>\n      <td>616.0</td>\n      <td>206.06</td>\n      <td>C3H8</td>\n      <td>1S/C3H8/c1-3-2/h3H2;1-2H3</td>\n      <td>ATUOYWHBWRKTHZ-UHFFFAOYSA-N</td>\n      <td>0.2</td>\n      <td>44.097</td>\n    </tr>\n    <tr>\n      <th>isobutane</th>\n      <td>75-28-5</td>\n      <td>527.9</td>\n      <td>274.46</td>\n      <td>C4H10</td>\n      <td>1S/C4H10/c1-4(2)3/h4H;1-3H3</td>\n      <td>NNPPMTNAJDCUHE-UHFFFAOYSA-N</td>\n      <td>0.1</td>\n      <td>58.123</td>\n    </tr>\n    <tr>\n      <th>butane</th>\n      <td>106-97-8</td>\n      <td>550.6</td>\n      <td>305.62</td>\n      <td>C4H10</td>\n      <td>1S/C4H10/c1-3-4-2/h3-4H2;1-2H3</td>\n      <td>IJDNQMDRQITEOD-UHFFFAOYSA-N</td>\n      <td>0.1</td>\n      <td>58.123</td>\n    </tr>\n    <tr>\n      <th>isopentane</th>\n      <td>78-78-4</td>\n      <td>490.4</td>\n      <td>369.10</td>\n      <td>C5H12</td>\n      <td>1S/C5H12/c1-4-5(2)3/h5H;4H2;1-3H3</td>\n      <td>QWTDNUCVQCZILF-UHFFFAOYSA-N</td>\n      <td>0.2</td>\n      <td>72.150</td>\n    </tr>\n    <tr>\n      <th>pentane</th>\n      <td>109-66-0</td>\n      <td>488.6</td>\n      <td>385.80</td>\n      <td>C5H12</td>\n      <td>1S/C5H12/c1-3-5-4-2/h3-5H2;1-2H3</td>\n      <td>OFBQJSOFQDEBGM-UHFFFAOYSA-N</td>\n      <td>0.2</td>\n      <td>73.150</td>\n    </tr>\n    <tr>\n      <th>n-hexane</th>\n      <td>110-54-3</td>\n      <td>436.9</td>\n      <td>453.60</td>\n      <td>C6H14</td>\n      <td>1S/C6H14/c1-3-5-6-4-2/h3-6H2;1-2H3</td>\n      <td>VLKZOEOYAKHREP-UHFFFAOYSA-N</td>\n      <td>0.2</td>\n      <td>86.177</td>\n    </tr>\n  </tbody>\n</table>\n</div>"
     },
     "metadata": {},
     "execution_count": 8
    }
   ],
   "source": [
    "ch1.df()"
   ]
  },
  {
   "cell_type": "code",
   "execution_count": 9,
   "metadata": {},
   "outputs": [
    {
     "output_type": "execute_result",
     "data": {
      "text/plain": [
       "            vapor_pressure vapor_pressure_unit\n",
       "propane         188.735859                 psi\n",
       "isobutane        72.316273                 psi\n",
       "butane           51.405353                 psi\n",
       "isopentane       20.704631                 psi\n",
       "pentane          15.573256                 psi\n",
       "n-hexane          4.955708                 psi"
      ],
      "text/html": "<div>\n<style scoped>\n    .dataframe tbody tr th:only-of-type {\n        vertical-align: middle;\n    }\n\n    .dataframe tbody tr th {\n        vertical-align: top;\n    }\n\n    .dataframe thead th {\n        text-align: right;\n    }\n</style>\n<table border=\"1\" class=\"dataframe\">\n  <thead>\n    <tr style=\"text-align: right;\">\n      <th></th>\n      <th>vapor_pressure</th>\n      <th>vapor_pressure_unit</th>\n    </tr>\n  </thead>\n  <tbody>\n    <tr>\n      <th>propane</th>\n      <td>188.735859</td>\n      <td>psi</td>\n    </tr>\n    <tr>\n      <th>isobutane</th>\n      <td>72.316273</td>\n      <td>psi</td>\n    </tr>\n    <tr>\n      <th>butane</th>\n      <td>51.405353</td>\n      <td>psi</td>\n    </tr>\n    <tr>\n      <th>isopentane</th>\n      <td>20.704631</td>\n      <td>psi</td>\n    </tr>\n    <tr>\n      <th>pentane</th>\n      <td>15.573256</td>\n      <td>psi</td>\n    </tr>\n    <tr>\n      <th>n-hexane</th>\n      <td>4.955708</td>\n      <td>psi</td>\n    </tr>\n  </tbody>\n</table>\n</div>"
     },
     "metadata": {},
     "execution_count": 9
    }
   ],
   "source": [
    "ch1.vapor_pressure(Temperature(value=100, unit='farenheit'))"
   ]
  },
  {
   "cell_type": "code",
   "execution_count": 10,
   "metadata": {},
   "outputs": [
    {
     "output_type": "execute_result",
     "data": {
      "text/plain": [
       "            mole_fraction        xi        yi         k\n",
       "propane               0.2  0.154158  0.581903  3.774717\n",
       "isobutane             0.1  0.095435  0.138030  1.446325\n",
       "butane                0.1  0.099700  0.102502  1.028107\n",
       "isopentane            0.2  0.213400  0.088367  0.414093\n",
       "pentane               0.2  0.215934  0.067256  0.311465\n",
       "n-hexane              0.2  0.221373  0.021941  0.099114"
      ],
      "text/html": "<div>\n<style scoped>\n    .dataframe tbody tr th:only-of-type {\n        vertical-align: middle;\n    }\n\n    .dataframe tbody tr th {\n        vertical-align: top;\n    }\n\n    .dataframe thead th {\n        text-align: right;\n    }\n</style>\n<table border=\"1\" class=\"dataframe\">\n  <thead>\n    <tr style=\"text-align: right;\">\n      <th></th>\n      <th>mole_fraction</th>\n      <th>xi</th>\n      <th>yi</th>\n      <th>k</th>\n    </tr>\n  </thead>\n  <tbody>\n    <tr>\n      <th>propane</th>\n      <td>0.2</td>\n      <td>0.154158</td>\n      <td>0.581903</td>\n      <td>3.774717</td>\n    </tr>\n    <tr>\n      <th>isobutane</th>\n      <td>0.1</td>\n      <td>0.095435</td>\n      <td>0.138030</td>\n      <td>1.446325</td>\n    </tr>\n    <tr>\n      <th>butane</th>\n      <td>0.1</td>\n      <td>0.099700</td>\n      <td>0.102502</td>\n      <td>1.028107</td>\n    </tr>\n    <tr>\n      <th>isopentane</th>\n      <td>0.2</td>\n      <td>0.213400</td>\n      <td>0.088367</td>\n      <td>0.414093</td>\n    </tr>\n    <tr>\n      <th>pentane</th>\n      <td>0.2</td>\n      <td>0.215934</td>\n      <td>0.067256</td>\n      <td>0.311465</td>\n    </tr>\n    <tr>\n      <th>n-hexane</th>\n      <td>0.2</td>\n      <td>0.221373</td>\n      <td>0.021941</td>\n      <td>0.099114</td>\n    </tr>\n  </tbody>\n</table>\n</div>"
     },
     "metadata": {},
     "execution_count": 10
    }
   ],
   "source": [
    "p1 = Pressure(value=50, unit='psi')\n",
    "t1 = Temperature(value=100, unit='farenheit')\n",
    "\n",
    "flash_df = ch1.flash_calculations(p1,t1, k_method='ideal')\n",
    "\n",
    "flash_df"
   ]
  },
  {
   "cell_type": "code",
   "execution_count": 11,
   "metadata": {},
   "outputs": [
    {
     "output_type": "execute_result",
     "data": {
      "text/plain": [
       "xi    1.0\n",
       "yi    1.0\n",
       "dtype: float64"
      ]
     },
     "metadata": {},
     "execution_count": 11
    }
   ],
   "source": [
    "flash_df[['xi','yi']].sum()"
   ]
  },
  {
   "source": [
    "## Equilibrium ratio correlation"
   ],
   "cell_type": "markdown",
   "metadata": {}
  },
  {
   "cell_type": "code",
   "execution_count": 12,
   "metadata": {},
   "outputs": [],
   "source": [
    "d3 = {\n",
    "    'comp': ['methane','ethane','propane','isobutane','butane','isopentane','pentane','n-hexane', 'nitrogen','carbon-dioxide'],\n",
    "    'mole_fraction':[0.535,0.115,0.088,0.023,0.023,0.015,0.015,0.015,0.003,0.0009]\n",
    "}\n",
    "\n",
    "c7_plus = Component(\n",
    "    name = 'C7+', \n",
    "    molecular_weight=150.0,\n",
    "    specific_gravity = 0.78,\n",
    "    critical_temperature = 1139.4,\n",
    "    critical_temperature_unit = 'rankine',\n",
    "    critical_pressure = 320.3,\n",
    "    critical_pressure_unit = 'psi',\n",
    "    mole_fraction=0.159,\n",
    "    params = {'acentric_factor':0.5067}\n",
    "    \n",
    ")\n",
    "\n",
    "ch3 = Chromatography()\n",
    "ch3.from_df(pd.DataFrame(d3),name='comp')\n",
    "ch3.plus_fraction = c7_plus\n",
    "\n",
    "t3 = Temperature(value=150, unit='farenheit')\n",
    "\n"
   ]
  },
  {
   "cell_type": "code",
   "execution_count": 13,
   "metadata": {},
   "outputs": [
    {
     "output_type": "execute_result",
     "data": {
      "text/plain": [
       "                      cas  critical_pressure  critical_temperature formula  \\\n",
       "methane           74-82-8              666.4               -116.67     CH4   \n",
       "ethane            74-84-0              706.5                 89.92    C2H6   \n",
       "propane           74-98-6              616.0                206.06    C3H8   \n",
       "isobutane         75-28-5              527.9                274.46   C4H10   \n",
       "butane           106-97-8              550.6                305.62   C4H10   \n",
       "isopentane        78-78-4              490.4                369.10   C5H12   \n",
       "pentane          109-66-0              488.6                385.80   C5H12   \n",
       "n-hexane         110-54-3              436.9                453.60   C6H14   \n",
       "nitrogen        7727-37-9              493.1               -232.51      N2   \n",
       "carbon-dioxide   124-38-9             1071.0                 87.91     CO2   \n",
       "C7+                   NaN              320.3                679.73     NaN   \n",
       "\n",
       "                                             iupac  \\\n",
       "methane                                1S/CH4/h1H4   \n",
       "ethane                         1S/C2H6/c1-2/h1-2H3   \n",
       "propane                  1S/C3H8/c1-3-2/h3H2;1-2H3   \n",
       "isobutane              1S/C4H10/c1-4(2)3/h4H;1-3H3   \n",
       "butane              1S/C4H10/c1-3-4-2/h3-4H2;1-2H3   \n",
       "isopentane       1S/C5H12/c1-4-5(2)3/h5H;4H2;1-3H3   \n",
       "pentane           1S/C5H12/c1-3-5-4-2/h3-5H2;1-2H3   \n",
       "n-hexane        1S/C6H14/c1-3-5-6-4-2/h3-6H2;1-2H3   \n",
       "nitrogen                                1S/N2/c1-2   \n",
       "carbon-dioxide                       1S/CO2/c2-1-3   \n",
       "C7+                                            NaN   \n",
       "\n",
       "                                  iupac_key  mole_fraction  molecular_weight  \\\n",
       "methane         VNWKTOKETHGBQD-UHFFFAOYSA-N       0.539369           16.0425   \n",
       "ethane          OTMSDBZUPAUEDD-UHFFFAOYSA-N       0.115939           30.0700   \n",
       "propane         ATUOYWHBWRKTHZ-UHFFFAOYSA-N       0.088719           44.0970   \n",
       "isobutane       NNPPMTNAJDCUHE-UHFFFAOYSA-N       0.023188           58.1230   \n",
       "butane          IJDNQMDRQITEOD-UHFFFAOYSA-N       0.023188           58.1230   \n",
       "isopentane      QWTDNUCVQCZILF-UHFFFAOYSA-N       0.015122           72.1500   \n",
       "pentane         OFBQJSOFQDEBGM-UHFFFAOYSA-N       0.015122           73.1500   \n",
       "n-hexane        VLKZOEOYAKHREP-UHFFFAOYSA-N       0.015122           86.1770   \n",
       "nitrogen        IJGRMHOSHXDMSA-UHFFFAOYSA-N       0.003024           28.0134   \n",
       "carbon-dioxide  CURLTUGMZLYLDI-UHFFFAOYSA-N       0.000907           44.0100   \n",
       "C7+                                     NaN       0.160298          150.0000   \n",
       "\n",
       "                acentric_factor  specific_gravity  \n",
       "methane                     NaN               NaN  \n",
       "ethane                      NaN               NaN  \n",
       "propane                     NaN               NaN  \n",
       "isobutane                   NaN               NaN  \n",
       "butane                      NaN               NaN  \n",
       "isopentane                  NaN               NaN  \n",
       "pentane                     NaN               NaN  \n",
       "n-hexane                    NaN               NaN  \n",
       "nitrogen                    NaN               NaN  \n",
       "carbon-dioxide              NaN               NaN  \n",
       "C7+                      0.5067              0.78  "
      ],
      "text/html": "<div>\n<style scoped>\n    .dataframe tbody tr th:only-of-type {\n        vertical-align: middle;\n    }\n\n    .dataframe tbody tr th {\n        vertical-align: top;\n    }\n\n    .dataframe thead th {\n        text-align: right;\n    }\n</style>\n<table border=\"1\" class=\"dataframe\">\n  <thead>\n    <tr style=\"text-align: right;\">\n      <th></th>\n      <th>cas</th>\n      <th>critical_pressure</th>\n      <th>critical_temperature</th>\n      <th>formula</th>\n      <th>iupac</th>\n      <th>iupac_key</th>\n      <th>mole_fraction</th>\n      <th>molecular_weight</th>\n      <th>acentric_factor</th>\n      <th>specific_gravity</th>\n    </tr>\n  </thead>\n  <tbody>\n    <tr>\n      <th>methane</th>\n      <td>74-82-8</td>\n      <td>666.4</td>\n      <td>-116.67</td>\n      <td>CH4</td>\n      <td>1S/CH4/h1H4</td>\n      <td>VNWKTOKETHGBQD-UHFFFAOYSA-N</td>\n      <td>0.539369</td>\n      <td>16.0425</td>\n      <td>NaN</td>\n      <td>NaN</td>\n    </tr>\n    <tr>\n      <th>ethane</th>\n      <td>74-84-0</td>\n      <td>706.5</td>\n      <td>89.92</td>\n      <td>C2H6</td>\n      <td>1S/C2H6/c1-2/h1-2H3</td>\n      <td>OTMSDBZUPAUEDD-UHFFFAOYSA-N</td>\n      <td>0.115939</td>\n      <td>30.0700</td>\n      <td>NaN</td>\n      <td>NaN</td>\n    </tr>\n    <tr>\n      <th>propane</th>\n      <td>74-98-6</td>\n      <td>616.0</td>\n      <td>206.06</td>\n      <td>C3H8</td>\n      <td>1S/C3H8/c1-3-2/h3H2;1-2H3</td>\n      <td>ATUOYWHBWRKTHZ-UHFFFAOYSA-N</td>\n      <td>0.088719</td>\n      <td>44.0970</td>\n      <td>NaN</td>\n      <td>NaN</td>\n    </tr>\n    <tr>\n      <th>isobutane</th>\n      <td>75-28-5</td>\n      <td>527.9</td>\n      <td>274.46</td>\n      <td>C4H10</td>\n      <td>1S/C4H10/c1-4(2)3/h4H;1-3H3</td>\n      <td>NNPPMTNAJDCUHE-UHFFFAOYSA-N</td>\n      <td>0.023188</td>\n      <td>58.1230</td>\n      <td>NaN</td>\n      <td>NaN</td>\n    </tr>\n    <tr>\n      <th>butane</th>\n      <td>106-97-8</td>\n      <td>550.6</td>\n      <td>305.62</td>\n      <td>C4H10</td>\n      <td>1S/C4H10/c1-3-4-2/h3-4H2;1-2H3</td>\n      <td>IJDNQMDRQITEOD-UHFFFAOYSA-N</td>\n      <td>0.023188</td>\n      <td>58.1230</td>\n      <td>NaN</td>\n      <td>NaN</td>\n    </tr>\n    <tr>\n      <th>isopentane</th>\n      <td>78-78-4</td>\n      <td>490.4</td>\n      <td>369.10</td>\n      <td>C5H12</td>\n      <td>1S/C5H12/c1-4-5(2)3/h5H;4H2;1-3H3</td>\n      <td>QWTDNUCVQCZILF-UHFFFAOYSA-N</td>\n      <td>0.015122</td>\n      <td>72.1500</td>\n      <td>NaN</td>\n      <td>NaN</td>\n    </tr>\n    <tr>\n      <th>pentane</th>\n      <td>109-66-0</td>\n      <td>488.6</td>\n      <td>385.80</td>\n      <td>C5H12</td>\n      <td>1S/C5H12/c1-3-5-4-2/h3-5H2;1-2H3</td>\n      <td>OFBQJSOFQDEBGM-UHFFFAOYSA-N</td>\n      <td>0.015122</td>\n      <td>73.1500</td>\n      <td>NaN</td>\n      <td>NaN</td>\n    </tr>\n    <tr>\n      <th>n-hexane</th>\n      <td>110-54-3</td>\n      <td>436.9</td>\n      <td>453.60</td>\n      <td>C6H14</td>\n      <td>1S/C6H14/c1-3-5-6-4-2/h3-6H2;1-2H3</td>\n      <td>VLKZOEOYAKHREP-UHFFFAOYSA-N</td>\n      <td>0.015122</td>\n      <td>86.1770</td>\n      <td>NaN</td>\n      <td>NaN</td>\n    </tr>\n    <tr>\n      <th>nitrogen</th>\n      <td>7727-37-9</td>\n      <td>493.1</td>\n      <td>-232.51</td>\n      <td>N2</td>\n      <td>1S/N2/c1-2</td>\n      <td>IJGRMHOSHXDMSA-UHFFFAOYSA-N</td>\n      <td>0.003024</td>\n      <td>28.0134</td>\n      <td>NaN</td>\n      <td>NaN</td>\n    </tr>\n    <tr>\n      <th>carbon-dioxide</th>\n      <td>124-38-9</td>\n      <td>1071.0</td>\n      <td>87.91</td>\n      <td>CO2</td>\n      <td>1S/CO2/c2-1-3</td>\n      <td>CURLTUGMZLYLDI-UHFFFAOYSA-N</td>\n      <td>0.000907</td>\n      <td>44.0100</td>\n      <td>NaN</td>\n      <td>NaN</td>\n    </tr>\n    <tr>\n      <th>C7+</th>\n      <td>NaN</td>\n      <td>320.3</td>\n      <td>679.73</td>\n      <td>NaN</td>\n      <td>NaN</td>\n      <td>NaN</td>\n      <td>0.160298</td>\n      <td>150.0000</td>\n      <td>0.5067</td>\n      <td>0.78</td>\n    </tr>\n  </tbody>\n</table>\n</div>"
     },
     "metadata": {},
     "execution_count": 13
    }
   ],
   "source": [
    "ch3.df()"
   ]
  },
  {
   "cell_type": "code",
   "execution_count": 14,
   "metadata": {},
   "outputs": [
    {
     "output_type": "execute_result",
     "data": {
      "text/plain": [
       "molecular_weight        150.0000\n",
       "specific_gravity          0.7800\n",
       "mole_fraction             0.1590\n",
       "critical_pressure       320.3000\n",
       "critical_temperature    679.7300\n",
       "acentric_factor           0.5067\n",
       "Name: C7+, dtype: float64"
      ]
     },
     "metadata": {},
     "execution_count": 14
    }
   ],
   "source": [
    "c7_plus.df()"
   ]
  },
  {
   "cell_type": "code",
   "execution_count": 15,
   "metadata": {},
   "outputs": [
    {
     "output_type": "stream",
     "name": "stdout",
     "text": [
      "                vapor_pressure vapor_pressure_unit  critical_pressure  \\\nmethane            1087.417257                 psi              666.4   \nethane              488.314820                 psi              706.5   \npropane             323.035824                 psi              616.0   \nisobutane           234.984325                 psi              527.9   \nbutane              228.234244                 psi              550.6   \nisopentane          182.106625                 psi              490.4   \npentane             164.852366                 psi              488.6   \nn-hexane            127.415620                 psi              436.9   \nnitrogen           1676.520076                 psi              493.1   \ncarbon-dioxide     2651.415887                 psi             1071.0   \n\n                temperature  \nmethane             -81.669  \nethane               62.944  \npropane             144.242  \nisobutane           192.122  \nbutane              213.934  \nisopentane          258.370  \npentane             270.060  \nn-hexane            317.520  \nnitrogen           -162.757  \ncarbon-dioxide       61.537  \n"
     ]
    },
    {
     "output_type": "execute_result",
     "data": {
      "text/plain": [
       "methane          -1.212661\n",
       "ethane           -0.839588\n",
       "propane          -0.719670\n",
       "isobutane        -0.648487\n",
       "butane           -0.617545\n",
       "isopentane       -0.569775\n",
       "pentane          -0.528142\n",
       "n-hexane         -0.464841\n",
       "nitrogen         -1.531474\n",
       "carbon-dioxide   -1.393688\n",
       "Name: acentric_factor, dtype: float64"
      ]
     },
     "metadata": {},
     "execution_count": 15
    }
   ],
   "source": [
    "ch3.acentric_factor()"
   ]
  },
  {
   "source": [
    "# dew point example"
   ],
   "cell_type": "markdown",
   "metadata": {}
  },
  {
   "cell_type": "code",
   "execution_count": null,
   "metadata": {},
   "outputs": [],
   "source": [
    "d2 = {\n",
    "    'comp': ['methane','ethane','propane','isobutane','butane','isopentane','pentane','n-hexane'],\n",
    "    'mole_fraction':[0.8,0.05,0.04,0.03,0.02,0.03,0.02,0.005]\n",
    "}\n",
    "\n",
    "ch2 = Chromatography()\n",
    "ch2.from_df(pd.DataFrame(d2),name='comp')\n",
    "\n",
    "ch2.df()['mole_fraction']"
   ]
  },
  {
   "cell_type": "code",
   "execution_count": null,
   "metadata": {},
   "outputs": [],
   "source": [
    "ch2.dew_point(Temperature(value=250, unit='farenheit'))"
   ]
  },
  {
   "cell_type": "code",
   "execution_count": null,
   "metadata": {},
   "outputs": [],
   "source": [
    "ch2.bubble_point(Temperature(value=200, unit='farenheit'))"
   ]
  },
  {
   "cell_type": "code",
   "execution_count": null,
   "metadata": {},
   "outputs": [],
   "source": [
    "\n",
    "p2 = Pressure(value=222.3, unit='psi')\n",
    "t2 = Temperature(value=250, unit='farenheit')\n",
    "ch2.ideal_equilibrium_ratios(p2,t2)"
   ]
  },
  {
   "cell_type": "code",
   "execution_count": null,
   "metadata": {},
   "outputs": [],
   "source": []
  }
 ]
}