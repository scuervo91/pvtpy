{
 "metadata": {
  "language_info": {
   "codemirror_mode": {
    "name": "ipython",
    "version": 3
   },
   "file_extension": ".py",
   "mimetype": "text/x-python",
   "name": "python",
   "nbconvert_exporter": "python",
   "pygments_lexer": "ipython3",
   "version": "3.8.10"
  },
  "orig_nbformat": 4,
  "kernelspec": {
   "name": "python3",
   "display_name": "Python 3.8.10 64-bit ('pvtpy': conda)"
  },
  "interpreter": {
   "hash": "c2412f2860ef08ecfc6ffbe66d86f9328a9706bdf5bd84042edf15bb644253f5"
  }
 },
 "nbformat": 4,
 "nbformat_minor": 2,
 "cells": [
  {
   "source": [
    "# Chromatography Object \n",
    "\n",
    "You can define a Chromatography object by providing a tabulated data indexed by pressure. "
   ],
   "cell_type": "markdown",
   "metadata": {}
  },
  {
   "cell_type": "code",
   "execution_count": 1,
   "metadata": {},
   "outputs": [],
   "source": [
    "from pvtpy.compositional import Chromatography, properties_df\n",
    "import numpy as np\n",
    "import pandas as pd"
   ]
  },
  {
   "source": [
    "Pvtpy has built-in a dataframe with 64 components and its critical values. You can display the properties values with the `properties_df` object"
   ],
   "cell_type": "markdown",
   "metadata": {}
  },
  {
   "cell_type": "code",
   "execution_count": 2,
   "metadata": {},
   "outputs": [
    {
     "output_type": "stream",
     "name": "stdout",
     "text": [
      "    id                    iupac_key                                    iupac  \\\n0    1  VNWKTOKETHGBQD-UHFFFAOYSA-N                              1S/CH4/h1H4   \n1    2  OTMSDBZUPAUEDD-UHFFFAOYSA-N                      1S/C2H6/c1-2/h1-2H3   \n2    3  ATUOYWHBWRKTHZ-UHFFFAOYSA-N                1S/C3H8/c1-3-2/h3H2;1-2H3   \n3    4  NNPPMTNAJDCUHE-UHFFFAOYSA-N              1S/C4H10/c1-4(2)3/h4H;1-3H3   \n4    5  IJDNQMDRQITEOD-UHFFFAOYSA-N           1S/C4H10/c1-3-4-2/h3-4H2;1-2H3   \n5    6  QWTDNUCVQCZILF-UHFFFAOYSA-N        1S/C5H12/c1-4-5(2)3/h5H;4H2;1-3H3   \n6    7  OFBQJSOFQDEBGM-UHFFFAOYSA-N         1S/C5H12/c1-3-5-4-2/h3-5H2;1-2H3   \n7    8  CRSOQBOWXPBRES-UHFFFAOYSA-N               1S/C5H12/c1-5(2;3)4/h1-4H3   \n8    9  VLKZOEOYAKHREP-UHFFFAOYSA-N       1S/C6H14/c1-3-5-6-4-2/h3-6H2;1-2H3   \n9   10  AFABGHUZZDYHJO-UHFFFAOYSA-N    1S/C6H14/c1-4-5-6(2)3/h6H;4-5H2;1-3H3   \n10  11  PFEOZHBOMNWTJB-UHFFFAOYSA-N    1S/C6H14/c1-4-6(3)5-2/h6H;4-5H2;1-3H3   \n11  12  HNRMPXKDFBEGFZ-UHFFFAOYSA-N         1S/C6H14/c1-5-6(2;3)4/h5H2;1-4H3   \n12  13   FFMLCVRJBZUDZ-UHFFFAOYSA-N        1S/C6H14/c1-5(2)6(3)4/h5-6H;1-4H3   \n13  14  IMNFDUFMRHMDMM-UHFFFAOYSA-N     1S/C7H16/c1-3-5-7-6-4-2/h3-7H2;1-2H3   \n14  15  GXDHCNNESPLIKD-UHFFFAOYSA-N  1S/C7H16/c1-4-5-6-7(2)3/h7H;4-6H2;1-3H3   \n15  16  VLJXXKKOSFGPHI-UHFFFAOYSA-N  1S/C7H16/c1-4-6-7(3)5-2/h7H;4-6H2;1-3H3   \n16  17  AORMDLNPRGXHHL-UHFFFAOYSA-N  1S/C7H16/c1-4-7(5-2)6-3/h7H;4-6H2;1-3H3   \n17  18  CXOWYJMDMMMMJO-UHFFFAOYSA-N     1S/C7H16/c1-5-6-7(2;3)4/h5-6H2;1-4H3   \n18  19  BZHMBWZPUJHVEE-UHFFFAOYSA-N  1S/C7H16/c1-6(2)5-7(3)4/h6-7H;5H2;1-4H3   \n19  20  AEXMKKGTQYQZCS-UHFFFAOYSA-N     1S/C7H16/c1-5-7(3;4)6-2/h5-6H2;1-4H3   \n\n         cas                  name formula  molecular_weight  \\\n0    74-82-8               methane     CH4           16.0425   \n1    74-84-0                ethane    C2H6           30.0700   \n2    74-98-6               propane    C3H8           44.0970   \n3    75-28-5             isobutane   C4H10           58.1230   \n4   106-97-8                butane   C4H10           58.1230   \n5    78-78-4            isopentane   C5H12           72.1500   \n6   109-66-0               pentane   C5H12           73.1500   \n7   463-82-1            neopentane   C5H12           74.1500   \n8   110-54-3              n-hexane   C6H14           86.1770   \n9   107-83-5      2-methyl-pentane   C6H14           86.1770   \n10   96-14-0     3-methyl-penthane   C6H14           86.1770   \n11   75-83-2             neohexane   C6H14           86.1770   \n12   79-29-8   2-3-dimethyl-butane   C6H14           86.1770   \n13  142-82-5             n-heptane   C7H16          100.2040   \n14  591-76-4       2-methyl-hexane   C7H16          100.2040   \n15  589-34-4       3-methyl-hexane   C7H16          100.2040   \n16  617-78-7        3-ethylpentane   C7H16          100.2040   \n17  590-35-2  2-2-dimethyl-pentane   C7H16          100.2040   \n18  108-08-7  2-4-dimethyl-pentane   C7H16          100.2040   \n19  562-49-2  3-3-dimethyl-pentane   C7H16          100.2040   \n\n    critical_pressure critical_pressure_unit  critical_temperature  \\\n0               666.4                    psi               -116.67   \n1               706.5                    psi                 89.92   \n2               616.0                    psi                206.06   \n3               527.9                    psi                274.46   \n4               550.6                    psi                305.62   \n5               490.4                    psi                369.10   \n6               488.6                    psi                385.80   \n7               464.0                    psi                321.13   \n8               436.9                    psi                453.60   \n9               436.6                    psi                435.83   \n10              453.1                    psi                448.40   \n11              446.8                    psi                420.13   \n12              453.5                    psi                440.29   \n13              396.8                    psi                512.70   \n14              396.5                    psi                495.00   \n15              408.1                    psi                503.80   \n16              419.3                    psi                513.39   \n17              402.1                    psi                477.23   \n18              396.9                    psi                475.95   \n19              427.2                    psi                505.87   \n\n   critical_temperature_unit  antoine_a  antoine_b  antoine_c  \n0                  farenheit    3.98950    443.028     -0.490  \n1                  farenheit    3.93835    659.739    -16.719  \n2                  farenheit    4.53678   1149.360     24.906  \n3                  farenheit    4.32810   1132.108      0.918  \n4                  farenheit    4.35576   1175.581     -2.071  \n5                  farenheit    3.97183   1021.864    -43.231  \n6                  farenheit    3.98920   1070.617    -40.454  \n7                  farenheit    4.61616   1478.868     41.256  \n8                  farenheit    4.00266   1171.530    -48.784  \n9                  farenheit    3.96400   1135.410    -46.578  \n10                 farenheit    3.97377   1152.368    -46.021  \n11                 farenheit    3.87973   1081.176    -43.807  \n12                 farenheit    3.93473   1127.187    -44.200  \n13                 farenheit    4.02832   1268.636    -56.199  \n14                 farenheit    4.00653   1240.869    -53.047  \n15                 farenheit    3.99885   1243.759    -53.524  \n16                 farenheit    4.00453   1254.119    -53.004  \n17                 farenheit    3.93999   1190.298    -49.807  \n18                 farenheit    3.96120   1197.608    -50.877  \n19                 farenheit    3.95568   1230.986    -47.568  \n"
     ]
    }
   ],
   "source": [
    "print(properties_df.head(20))"
   ]
  },
  {
   "source": [
    "Having the properties table, you can build a custom Chromatography table by providing the componets id, name or symbol and the mole fraction"
   ],
   "cell_type": "markdown",
   "metadata": {}
  },
  {
   "source": [
    "Construct by its name"
   ],
   "cell_type": "markdown",
   "metadata": {}
  },
  {
   "cell_type": "code",
   "execution_count": 3,
   "metadata": {},
   "outputs": [
    {
     "output_type": "execute_result",
     "data": {
      "text/plain": [
       "   mole_fraction  id                    iupac_key  \\\n",
       "0           0.90   1  VNWKTOKETHGBQD-UHFFFAOYSA-N   \n",
       "1           0.07   2  OTMSDBZUPAUEDD-UHFFFAOYSA-N   \n",
       "2           0.02   3  ATUOYWHBWRKTHZ-UHFFFAOYSA-N   \n",
       "3           0.01   4  NNPPMTNAJDCUHE-UHFFFAOYSA-N   \n",
       "\n",
       "                         iupac      cas       name formula  molecular_weight  \\\n",
       "0                  1S/CH4/h1H4  74-82-8    methane     CH4           16.0425   \n",
       "1          1S/C2H6/c1-2/h1-2H3  74-84-0     ethane    C2H6           30.0700   \n",
       "2    1S/C3H8/c1-3-2/h3H2;1-2H3  74-98-6    propane    C3H8           44.0970   \n",
       "3  1S/C4H10/c1-4(2)3/h4H;1-3H3  75-28-5  isobutane   C4H10           58.1230   \n",
       "\n",
       "   critical_pressure critical_pressure_unit  critical_temperature  \\\n",
       "0              666.4                    psi               -116.67   \n",
       "1              706.5                    psi                 89.92   \n",
       "2              616.0                    psi                206.06   \n",
       "3              527.9                    psi                274.46   \n",
       "\n",
       "  critical_temperature_unit  antoine_a  antoine_b  antoine_c  \n",
       "0                 farenheit    3.98950    443.028     -0.490  \n",
       "1                 farenheit    3.93835    659.739    -16.719  \n",
       "2                 farenheit    4.53678   1149.360     24.906  \n",
       "3                 farenheit    4.32810   1132.108      0.918  "
      ],
      "text/html": "<div>\n<style scoped>\n    .dataframe tbody tr th:only-of-type {\n        vertical-align: middle;\n    }\n\n    .dataframe tbody tr th {\n        vertical-align: top;\n    }\n\n    .dataframe thead th {\n        text-align: right;\n    }\n</style>\n<table border=\"1\" class=\"dataframe\">\n  <thead>\n    <tr style=\"text-align: right;\">\n      <th></th>\n      <th>mole_fraction</th>\n      <th>id</th>\n      <th>iupac_key</th>\n      <th>iupac</th>\n      <th>cas</th>\n      <th>name</th>\n      <th>formula</th>\n      <th>molecular_weight</th>\n      <th>critical_pressure</th>\n      <th>critical_pressure_unit</th>\n      <th>critical_temperature</th>\n      <th>critical_temperature_unit</th>\n      <th>antoine_a</th>\n      <th>antoine_b</th>\n      <th>antoine_c</th>\n    </tr>\n  </thead>\n  <tbody>\n    <tr>\n      <th>0</th>\n      <td>0.90</td>\n      <td>1</td>\n      <td>VNWKTOKETHGBQD-UHFFFAOYSA-N</td>\n      <td>1S/CH4/h1H4</td>\n      <td>74-82-8</td>\n      <td>methane</td>\n      <td>CH4</td>\n      <td>16.0425</td>\n      <td>666.4</td>\n      <td>psi</td>\n      <td>-116.67</td>\n      <td>farenheit</td>\n      <td>3.98950</td>\n      <td>443.028</td>\n      <td>-0.490</td>\n    </tr>\n    <tr>\n      <th>1</th>\n      <td>0.07</td>\n      <td>2</td>\n      <td>OTMSDBZUPAUEDD-UHFFFAOYSA-N</td>\n      <td>1S/C2H6/c1-2/h1-2H3</td>\n      <td>74-84-0</td>\n      <td>ethane</td>\n      <td>C2H6</td>\n      <td>30.0700</td>\n      <td>706.5</td>\n      <td>psi</td>\n      <td>89.92</td>\n      <td>farenheit</td>\n      <td>3.93835</td>\n      <td>659.739</td>\n      <td>-16.719</td>\n    </tr>\n    <tr>\n      <th>2</th>\n      <td>0.02</td>\n      <td>3</td>\n      <td>ATUOYWHBWRKTHZ-UHFFFAOYSA-N</td>\n      <td>1S/C3H8/c1-3-2/h3H2;1-2H3</td>\n      <td>74-98-6</td>\n      <td>propane</td>\n      <td>C3H8</td>\n      <td>44.0970</td>\n      <td>616.0</td>\n      <td>psi</td>\n      <td>206.06</td>\n      <td>farenheit</td>\n      <td>4.53678</td>\n      <td>1149.360</td>\n      <td>24.906</td>\n    </tr>\n    <tr>\n      <th>3</th>\n      <td>0.01</td>\n      <td>4</td>\n      <td>NNPPMTNAJDCUHE-UHFFFAOYSA-N</td>\n      <td>1S/C4H10/c1-4(2)3/h4H;1-3H3</td>\n      <td>75-28-5</td>\n      <td>isobutane</td>\n      <td>C4H10</td>\n      <td>58.1230</td>\n      <td>527.9</td>\n      <td>psi</td>\n      <td>274.46</td>\n      <td>farenheit</td>\n      <td>4.32810</td>\n      <td>1132.108</td>\n      <td>0.918</td>\n    </tr>\n  </tbody>\n</table>\n</div>"
     },
     "metadata": {},
     "execution_count": 3
    }
   ],
   "source": [
    "chr1 = Chromatography(\n",
    "    components = ['methane','ethane','propane','isobutane'],\n",
    "    mole_fraction=[0.90,0.07,0.02,0.01]\n",
    ")\n",
    "\n",
    "chr1.df()"
   ]
  },
  {
   "source": [
    "By default, the mole_fraction provided is normalized to sum 1. "
   ],
   "cell_type": "markdown",
   "metadata": {}
  },
  {
   "cell_type": "code",
   "execution_count": 4,
   "metadata": {},
   "outputs": [
    {
     "output_type": "stream",
     "name": "stdout",
     "text": [
      "   mole_fraction  id                    iupac_key  \\\n0       0.898204   1  VNWKTOKETHGBQD-UHFFFAOYSA-N   \n1       0.069860   2  OTMSDBZUPAUEDD-UHFFFAOYSA-N   \n2       0.019960   3  ATUOYWHBWRKTHZ-UHFFFAOYSA-N   \n3       0.011976   4  NNPPMTNAJDCUHE-UHFFFAOYSA-N   \n\n                         iupac      cas       name formula  molecular_weight  \\\n0                  1S/CH4/h1H4  74-82-8    methane     CH4           16.0425   \n1          1S/C2H6/c1-2/h1-2H3  74-84-0     ethane    C2H6           30.0700   \n2    1S/C3H8/c1-3-2/h3H2;1-2H3  74-98-6    propane    C3H8           44.0970   \n3  1S/C4H10/c1-4(2)3/h4H;1-3H3  75-28-5  isobutane   C4H10           58.1230   \n\n   critical_pressure critical_pressure_unit  critical_temperature  \\\n0              666.4                    psi               -116.67   \n1              706.5                    psi                 89.92   \n2              616.0                    psi                206.06   \n3              527.9                    psi                274.46   \n\n  critical_temperature_unit  antoine_a  antoine_b  antoine_c  \n0                 farenheit    3.98950    443.028     -0.490  \n1                 farenheit    3.93835    659.739    -16.719  \n2                 farenheit    4.53678   1149.360     24.906  \n3                 farenheit    4.32810   1132.108      0.918  \n"
     ]
    }
   ],
   "source": [
    "chr2 = Chromatography(\n",
    "    components = ['methane','ethane','propane','isobutane'],\n",
    "    mole_fraction=[0.90,0.07,0.02,0.012]\n",
    ")\n",
    "\n",
    "print(chr2.df(normalize=True))\n"
   ]
  },
  {
   "source": [
    "chr2.mwa()"
   ],
   "cell_type": "code",
   "metadata": {},
   "execution_count": 5,
   "outputs": [
    {
     "output_type": "execute_result",
     "data": {
      "text/plain": [
       "18.086393213572855"
      ]
     },
     "metadata": {},
     "execution_count": 5
    }
   ]
  },
  {
   "cell_type": "code",
   "execution_count": 6,
   "metadata": {},
   "outputs": [
    {
     "output_type": "execute_result",
     "data": {
      "text/plain": [
       "[Component(name='methane', formula='CH4', iupac_key='VNWKTOKETHGBQD-UHFFFAOYSA-N', cas='74-82-8', molecular_weight=16.0425, critical_pressure=Pressure(value=666.4, unit=<PressureUnits.psi: 'psi'>), critical_temperature=Temperature(value=-116.67, unit=<TemperatureUnits.farenheit: 'farenheit'>), antoine_coefficients=Antoine(a=3.9895, b=443.028, c=-0.49), mole_fraction=0.8982035928143712),\n",
       " Component(name='ethane', formula='C2H6', iupac_key='OTMSDBZUPAUEDD-UHFFFAOYSA-N', cas='74-84-0', molecular_weight=30.07, critical_pressure=Pressure(value=706.5, unit=<PressureUnits.psi: 'psi'>), critical_temperature=Temperature(value=89.92, unit=<TemperatureUnits.farenheit: 'farenheit'>), antoine_coefficients=Antoine(a=3.93835, b=659.739, c=-16.719), mole_fraction=0.06986027944111776),\n",
       " Component(name='propane', formula='C3H8', iupac_key='ATUOYWHBWRKTHZ-UHFFFAOYSA-N', cas='74-98-6', molecular_weight=44.097, critical_pressure=Pressure(value=616.0, unit=<PressureUnits.psi: 'psi'>), critical_temperature=Temperature(value=206.06, unit=<TemperatureUnits.farenheit: 'farenheit'>), antoine_coefficients=Antoine(a=4.53678, b=1149.36, c=24.906), mole_fraction=0.01996007984031936),\n",
       " Component(name='isobutane', formula='C4H10', iupac_key='NNPPMTNAJDCUHE-UHFFFAOYSA-N', cas='75-28-5', molecular_weight=58.123, critical_pressure=Pressure(value=527.9, unit=<PressureUnits.psi: 'psi'>), critical_temperature=Temperature(value=274.46, unit=<TemperatureUnits.farenheit: 'farenheit'>), antoine_coefficients=Antoine(a=4.3281, b=1132.108, c=0.918), mole_fraction=0.011976047904191617)]"
      ]
     },
     "metadata": {},
     "execution_count": 6
    }
   ],
   "source": [
    "chr2.get_components()"
   ]
  }
 ]
}